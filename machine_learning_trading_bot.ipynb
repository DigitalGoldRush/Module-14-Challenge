{
 "cells": [
  {
   "cell_type": "markdown",
   "metadata": {},
   "source": [
    "# Machine Learning Trading Bot\n",
    "\n",
    "In this Challenge, you’ll assume the role of a financial advisor at one of the top five financial advisory firms in the world. Your firm constantly competes with the other major firms to manage and automatically trade assets in a highly dynamic environment. In recent years, your firm has heavily profited by using computer algorithms that can buy and sell faster than human traders.\n",
    "\n",
    "The speed of these transactions gave your firm a competitive advantage early on. But, people still need to specifically program these systems, which limits their ability to adapt to new data. You’re thus planning to improve the existing algorithmic trading systems and maintain the firm’s competitive advantage in the market. To do so, you’ll enhance the existing trading signals with machine learning algorithms that can adapt to new data.\n",
    "\n",
    "## Instructions:\n",
    "\n",
    "Use the starter code file to complete the steps that the instructions outline. The steps for this Challenge are divided into the following sections:\n",
    "\n",
    "* Establish a Baseline Performance\n",
    "\n",
    "* Tune the Baseline Trading Algorithm\n",
    "\n",
    "* Evaluate a New Machine Learning Classifier\n",
    "\n",
    "* Create an Evaluation Report\n",
    "\n",
    "#### Establish a Baseline Performance\n",
    "\n",
    "In this section, you’ll run the provided starter code to establish a baseline performance for the trading algorithm. To do so, complete the following steps.\n",
    "\n",
    "Open the Jupyter notebook. Restart the kernel, run the provided cells that correspond with the first three steps, and then proceed to step four. \n",
    "\n",
    "1. Import the OHLCV dataset into a Pandas DataFrame.\n",
    "\n",
    "2. Generate trading signals using short- and long-window SMA values. \n",
    "\n",
    "3. Split the data into training and testing datasets.\n",
    "\n",
    "4. Use the `SVC` classifier model from SKLearn's support vector machine (SVM) learning method to fit the training data and make predictions based on the testing data. Review the predictions.\n",
    "\n",
    "5. Review the classification report associated with the `SVC` model predictions. \n",
    "\n",
    "6. Create a predictions DataFrame that contains columns for “Predicted” values, “Actual Returns”, and “Strategy Returns”.\n",
    "\n",
    "7. Create a cumulative return plot that shows the actual returns vs. the strategy returns. Save a PNG image of this plot. This will serve as a baseline against which to compare the effects of tuning the trading algorithm.\n",
    "\n",
    "8. Write your conclusions about the performance of the baseline trading algorithm in the `README.md` file that’s associated with your GitHub repository. Support your findings by using the PNG image that you saved in the previous step.\n",
    "\n",
    "#### Tune the Baseline Trading Algorithm\n",
    "\n",
    "In this section, you’ll tune, or adjust, the model’s input features to find the parameters that result in the best trading outcomes. (You’ll choose the best by comparing the cumulative products of the strategy returns.) To do so, complete the following steps:\n",
    "\n",
    "1. Tune the training algorithm by adjusting the size of the training dataset. To do so, slice your data into different periods. Rerun the notebook with the updated parameters, and record the results in your `README.md` file. Answer the following question: What impact resulted from increasing or decreasing the training window?\n",
    "\n",
    "> **Hint** To adjust the size of the training dataset, you can use a different `DateOffset` value&mdash;for example, six months. Be aware that changing the size of the training dataset also affects the size of the testing dataset.\n",
    "\n",
    "2. Tune the trading algorithm by adjusting the SMA input features. Adjust one or both of the windows for the algorithm. Rerun the notebook with the updated parameters, and record the results in your `README.md` file. Answer the following question: What impact resulted from increasing or decreasing either or both of the SMA windows?\n",
    "\n",
    "3. Choose the set of parameters that best improved the trading algorithm returns. Save a PNG image of the cumulative product of the actual returns vs. the strategy returns, and document your conclusion in your `README.md` file.\n",
    "\n",
    "#### Evaluate a New Machine Learning Classifier\n",
    "\n",
    "In this section, you’ll use the original parameters that the starter code provided. But, you’ll apply them to the performance of a second machine learning model. To do so, complete the following steps:\n",
    "\n",
    "1. Import a new classifier, such as `AdaBoost`, `DecisionTreeClassifier`, or `LogisticRegression`. (For the full list of classifiers, refer to the [Supervised learning page](https://scikit-learn.org/stable/supervised_learning.html) in the scikit-learn documentation.)\n",
    "\n",
    "2. Using the original training data as the baseline model, fit another model with the new classifier.\n",
    "\n",
    "3. Backtest the new model to evaluate its performance. Save a PNG image of the cumulative product of the actual returns vs. the strategy returns for this updated trading algorithm, and write your conclusions in your `README.md` file. Answer the following questions: Did this new model perform better or worse than the provided baseline model? Did this new model perform better or worse than your tuned trading algorithm?\n",
    "\n",
    "#### Create an Evaluation Report\n",
    "\n",
    "In the previous sections, you updated your `README.md` file with your conclusions. To accomplish this section, you need to add a summary evaluation report at the end of the `README.md` file. For this report, express your final conclusions and analysis. Support your findings by using the PNG images that you created.\n"
   ]
  },
  {
   "cell_type": "code",
   "execution_count": 63,
   "metadata": {},
   "outputs": [],
   "source": [
    "# Imports\n",
    "import pandas as pd\n",
    "import numpy as np\n",
    "from pathlib import Path\n",
    "import hvplot.pandas\n",
    "import matplotlib.pyplot as plt\n",
    "from sklearn import svm\n",
    "from sklearn.preprocessing import StandardScaler\n",
    "from pandas.tseries.offsets import DateOffset\n",
    "from sklearn.metrics import classification_report"
   ]
  },
  {
   "cell_type": "markdown",
   "metadata": {},
   "source": [
    "---\n",
    "\n",
    "## Establish a Baseline Performance\n",
    "\n",
    "In this section, you’ll run the provided starter code to establish a baseline performance for the trading algorithm. To do so, complete the following steps.\n",
    "\n",
    "Open the Jupyter notebook. Restart the kernel, run the provided cells that correspond with the first three steps, and then proceed to step four. \n"
   ]
  },
  {
   "cell_type": "markdown",
   "metadata": {},
   "source": [
    "### Step 1: mport the OHLCV dataset into a Pandas DataFrame."
   ]
  },
  {
   "cell_type": "code",
   "execution_count": 64,
   "metadata": {},
   "outputs": [
    {
     "data": {
      "text/html": [
       "<div>\n",
       "<style scoped>\n",
       "    .dataframe tbody tr th:only-of-type {\n",
       "        vertical-align: middle;\n",
       "    }\n",
       "\n",
       "    .dataframe tbody tr th {\n",
       "        vertical-align: top;\n",
       "    }\n",
       "\n",
       "    .dataframe thead th {\n",
       "        text-align: right;\n",
       "    }\n",
       "</style>\n",
       "<table border=\"1\" class=\"dataframe\">\n",
       "  <thead>\n",
       "    <tr style=\"text-align: right;\">\n",
       "      <th></th>\n",
       "      <th>open</th>\n",
       "      <th>high</th>\n",
       "      <th>low</th>\n",
       "      <th>close</th>\n",
       "      <th>volume</th>\n",
       "    </tr>\n",
       "    <tr>\n",
       "      <th>date</th>\n",
       "      <th></th>\n",
       "      <th></th>\n",
       "      <th></th>\n",
       "      <th></th>\n",
       "      <th></th>\n",
       "    </tr>\n",
       "  </thead>\n",
       "  <tbody>\n",
       "    <tr>\n",
       "      <th>2015-01-21 09:30:00</th>\n",
       "      <td>23.83</td>\n",
       "      <td>23.83</td>\n",
       "      <td>23.83</td>\n",
       "      <td>23.83</td>\n",
       "      <td>100</td>\n",
       "    </tr>\n",
       "    <tr>\n",
       "      <th>2015-01-21 11:00:00</th>\n",
       "      <td>23.98</td>\n",
       "      <td>23.98</td>\n",
       "      <td>23.98</td>\n",
       "      <td>23.98</td>\n",
       "      <td>100</td>\n",
       "    </tr>\n",
       "    <tr>\n",
       "      <th>2015-01-22 15:00:00</th>\n",
       "      <td>24.42</td>\n",
       "      <td>24.42</td>\n",
       "      <td>24.42</td>\n",
       "      <td>24.42</td>\n",
       "      <td>100</td>\n",
       "    </tr>\n",
       "    <tr>\n",
       "      <th>2015-01-22 15:15:00</th>\n",
       "      <td>24.42</td>\n",
       "      <td>24.44</td>\n",
       "      <td>24.42</td>\n",
       "      <td>24.44</td>\n",
       "      <td>200</td>\n",
       "    </tr>\n",
       "    <tr>\n",
       "      <th>2015-01-22 15:30:00</th>\n",
       "      <td>24.46</td>\n",
       "      <td>24.46</td>\n",
       "      <td>24.46</td>\n",
       "      <td>24.46</td>\n",
       "      <td>200</td>\n",
       "    </tr>\n",
       "  </tbody>\n",
       "</table>\n",
       "</div>"
      ],
      "text/plain": [
       "                      open   high    low  close  volume\n",
       "date                                                   \n",
       "2015-01-21 09:30:00  23.83  23.83  23.83  23.83     100\n",
       "2015-01-21 11:00:00  23.98  23.98  23.98  23.98     100\n",
       "2015-01-22 15:00:00  24.42  24.42  24.42  24.42     100\n",
       "2015-01-22 15:15:00  24.42  24.44  24.42  24.44     200\n",
       "2015-01-22 15:30:00  24.46  24.46  24.46  24.46     200"
      ]
     },
     "execution_count": 64,
     "metadata": {},
     "output_type": "execute_result"
    }
   ],
   "source": [
    "# Import the OHLCV dataset into a Pandas Dataframe\n",
    "ohlcv_df = pd.read_csv(\n",
    "    Path(\"./Resources/emerging_markets_ohlcv.csv\"), \n",
    "    index_col='date', \n",
    "    infer_datetime_format=True, \n",
    "    parse_dates=True\n",
    ")\n",
    "\n",
    "# Review the DataFrame\n",
    "ohlcv_df.head()"
   ]
  },
  {
   "cell_type": "code",
   "execution_count": 65,
   "metadata": {},
   "outputs": [
    {
     "data": {
      "text/html": [
       "<div>\n",
       "<style scoped>\n",
       "    .dataframe tbody tr th:only-of-type {\n",
       "        vertical-align: middle;\n",
       "    }\n",
       "\n",
       "    .dataframe tbody tr th {\n",
       "        vertical-align: top;\n",
       "    }\n",
       "\n",
       "    .dataframe thead th {\n",
       "        text-align: right;\n",
       "    }\n",
       "</style>\n",
       "<table border=\"1\" class=\"dataframe\">\n",
       "  <thead>\n",
       "    <tr style=\"text-align: right;\">\n",
       "      <th></th>\n",
       "      <th>close</th>\n",
       "      <th>Actual Returns</th>\n",
       "    </tr>\n",
       "    <tr>\n",
       "      <th>date</th>\n",
       "      <th></th>\n",
       "      <th></th>\n",
       "    </tr>\n",
       "  </thead>\n",
       "  <tbody>\n",
       "    <tr>\n",
       "      <th>2015-01-21 11:00:00</th>\n",
       "      <td>23.98</td>\n",
       "      <td>0.006295</td>\n",
       "    </tr>\n",
       "    <tr>\n",
       "      <th>2015-01-22 15:00:00</th>\n",
       "      <td>24.42</td>\n",
       "      <td>0.018349</td>\n",
       "    </tr>\n",
       "    <tr>\n",
       "      <th>2015-01-22 15:15:00</th>\n",
       "      <td>24.44</td>\n",
       "      <td>0.000819</td>\n",
       "    </tr>\n",
       "    <tr>\n",
       "      <th>2015-01-22 15:30:00</th>\n",
       "      <td>24.46</td>\n",
       "      <td>0.000818</td>\n",
       "    </tr>\n",
       "    <tr>\n",
       "      <th>2015-01-26 12:30:00</th>\n",
       "      <td>24.33</td>\n",
       "      <td>-0.005315</td>\n",
       "    </tr>\n",
       "  </tbody>\n",
       "</table>\n",
       "</div>"
      ],
      "text/plain": [
       "                     close  Actual Returns\n",
       "date                                      \n",
       "2015-01-21 11:00:00  23.98        0.006295\n",
       "2015-01-22 15:00:00  24.42        0.018349\n",
       "2015-01-22 15:15:00  24.44        0.000819\n",
       "2015-01-22 15:30:00  24.46        0.000818\n",
       "2015-01-26 12:30:00  24.33       -0.005315"
      ]
     },
     "metadata": {},
     "output_type": "display_data"
    },
    {
     "data": {
      "text/html": [
       "<div>\n",
       "<style scoped>\n",
       "    .dataframe tbody tr th:only-of-type {\n",
       "        vertical-align: middle;\n",
       "    }\n",
       "\n",
       "    .dataframe tbody tr th {\n",
       "        vertical-align: top;\n",
       "    }\n",
       "\n",
       "    .dataframe thead th {\n",
       "        text-align: right;\n",
       "    }\n",
       "</style>\n",
       "<table border=\"1\" class=\"dataframe\">\n",
       "  <thead>\n",
       "    <tr style=\"text-align: right;\">\n",
       "      <th></th>\n",
       "      <th>close</th>\n",
       "      <th>Actual Returns</th>\n",
       "    </tr>\n",
       "    <tr>\n",
       "      <th>date</th>\n",
       "      <th></th>\n",
       "      <th></th>\n",
       "    </tr>\n",
       "  </thead>\n",
       "  <tbody>\n",
       "    <tr>\n",
       "      <th>2021-01-22 09:30:00</th>\n",
       "      <td>33.27</td>\n",
       "      <td>-0.006866</td>\n",
       "    </tr>\n",
       "    <tr>\n",
       "      <th>2021-01-22 11:30:00</th>\n",
       "      <td>33.35</td>\n",
       "      <td>0.002405</td>\n",
       "    </tr>\n",
       "    <tr>\n",
       "      <th>2021-01-22 13:45:00</th>\n",
       "      <td>33.42</td>\n",
       "      <td>0.002099</td>\n",
       "    </tr>\n",
       "    <tr>\n",
       "      <th>2021-01-22 14:30:00</th>\n",
       "      <td>33.47</td>\n",
       "      <td>0.001496</td>\n",
       "    </tr>\n",
       "    <tr>\n",
       "      <th>2021-01-22 15:45:00</th>\n",
       "      <td>33.44</td>\n",
       "      <td>-0.000896</td>\n",
       "    </tr>\n",
       "  </tbody>\n",
       "</table>\n",
       "</div>"
      ],
      "text/plain": [
       "                     close  Actual Returns\n",
       "date                                      \n",
       "2021-01-22 09:30:00  33.27       -0.006866\n",
       "2021-01-22 11:30:00  33.35        0.002405\n",
       "2021-01-22 13:45:00  33.42        0.002099\n",
       "2021-01-22 14:30:00  33.47        0.001496\n",
       "2021-01-22 15:45:00  33.44       -0.000896"
      ]
     },
     "metadata": {},
     "output_type": "display_data"
    }
   ],
   "source": [
    "# Filter the date index and close columns\n",
    "signals_df = ohlcv_df.loc[:, [\"close\"]]\n",
    "\n",
    "# Use the pct_change function to generate  returns from close prices\n",
    "signals_df[\"Actual Returns\"] = signals_df[\"close\"].pct_change()\n",
    "\n",
    "# Drop all NaN values from the DataFrame\n",
    "signals_df = signals_df.dropna()\n",
    "\n",
    "# Review the DataFrame\n",
    "display(signals_df.head())\n",
    "display(signals_df.tail())"
   ]
  },
  {
   "cell_type": "markdown",
   "metadata": {},
   "source": [
    "## Step 2: Generate trading signals using short- and long-window SMA values. "
   ]
  },
  {
   "cell_type": "code",
   "execution_count": 66,
   "metadata": {},
   "outputs": [
    {
     "data": {
      "text/html": [
       "<div>\n",
       "<style scoped>\n",
       "    .dataframe tbody tr th:only-of-type {\n",
       "        vertical-align: middle;\n",
       "    }\n",
       "\n",
       "    .dataframe tbody tr th {\n",
       "        vertical-align: top;\n",
       "    }\n",
       "\n",
       "    .dataframe thead th {\n",
       "        text-align: right;\n",
       "    }\n",
       "</style>\n",
       "<table border=\"1\" class=\"dataframe\">\n",
       "  <thead>\n",
       "    <tr style=\"text-align: right;\">\n",
       "      <th></th>\n",
       "      <th>close</th>\n",
       "      <th>Actual Returns</th>\n",
       "      <th>SMA_Fast</th>\n",
       "      <th>SMA_Slow</th>\n",
       "    </tr>\n",
       "    <tr>\n",
       "      <th>date</th>\n",
       "      <th></th>\n",
       "      <th></th>\n",
       "      <th></th>\n",
       "      <th></th>\n",
       "    </tr>\n",
       "  </thead>\n",
       "  <tbody>\n",
       "    <tr>\n",
       "      <th>2015-04-02 14:45:00</th>\n",
       "      <td>24.92</td>\n",
       "      <td>0.000000</td>\n",
       "      <td>24.9175</td>\n",
       "      <td>24.3214</td>\n",
       "    </tr>\n",
       "    <tr>\n",
       "      <th>2015-04-02 15:00:00</th>\n",
       "      <td>24.92</td>\n",
       "      <td>0.000000</td>\n",
       "      <td>24.9200</td>\n",
       "      <td>24.3308</td>\n",
       "    </tr>\n",
       "    <tr>\n",
       "      <th>2015-04-02 15:15:00</th>\n",
       "      <td>24.94</td>\n",
       "      <td>0.000803</td>\n",
       "      <td>24.9250</td>\n",
       "      <td>24.3360</td>\n",
       "    </tr>\n",
       "    <tr>\n",
       "      <th>2015-04-02 15:30:00</th>\n",
       "      <td>24.95</td>\n",
       "      <td>0.000401</td>\n",
       "      <td>24.9325</td>\n",
       "      <td>24.3411</td>\n",
       "    </tr>\n",
       "    <tr>\n",
       "      <th>2015-04-02 15:45:00</th>\n",
       "      <td>24.98</td>\n",
       "      <td>0.001202</td>\n",
       "      <td>24.9475</td>\n",
       "      <td>24.3463</td>\n",
       "    </tr>\n",
       "  </tbody>\n",
       "</table>\n",
       "</div>"
      ],
      "text/plain": [
       "                     close  Actual Returns  SMA_Fast  SMA_Slow\n",
       "date                                                          \n",
       "2015-04-02 14:45:00  24.92        0.000000   24.9175   24.3214\n",
       "2015-04-02 15:00:00  24.92        0.000000   24.9200   24.3308\n",
       "2015-04-02 15:15:00  24.94        0.000803   24.9250   24.3360\n",
       "2015-04-02 15:30:00  24.95        0.000401   24.9325   24.3411\n",
       "2015-04-02 15:45:00  24.98        0.001202   24.9475   24.3463"
      ]
     },
     "metadata": {},
     "output_type": "display_data"
    },
    {
     "data": {
      "text/html": [
       "<div>\n",
       "<style scoped>\n",
       "    .dataframe tbody tr th:only-of-type {\n",
       "        vertical-align: middle;\n",
       "    }\n",
       "\n",
       "    .dataframe tbody tr th {\n",
       "        vertical-align: top;\n",
       "    }\n",
       "\n",
       "    .dataframe thead th {\n",
       "        text-align: right;\n",
       "    }\n",
       "</style>\n",
       "<table border=\"1\" class=\"dataframe\">\n",
       "  <thead>\n",
       "    <tr style=\"text-align: right;\">\n",
       "      <th></th>\n",
       "      <th>close</th>\n",
       "      <th>Actual Returns</th>\n",
       "      <th>SMA_Fast</th>\n",
       "      <th>SMA_Slow</th>\n",
       "    </tr>\n",
       "    <tr>\n",
       "      <th>date</th>\n",
       "      <th></th>\n",
       "      <th></th>\n",
       "      <th></th>\n",
       "      <th></th>\n",
       "    </tr>\n",
       "  </thead>\n",
       "  <tbody>\n",
       "    <tr>\n",
       "      <th>2021-01-22 09:30:00</th>\n",
       "      <td>33.27</td>\n",
       "      <td>-0.006866</td>\n",
       "      <td>33.2025</td>\n",
       "      <td>30.40215</td>\n",
       "    </tr>\n",
       "    <tr>\n",
       "      <th>2021-01-22 11:30:00</th>\n",
       "      <td>33.35</td>\n",
       "      <td>0.002405</td>\n",
       "      <td>33.2725</td>\n",
       "      <td>30.44445</td>\n",
       "    </tr>\n",
       "    <tr>\n",
       "      <th>2021-01-22 13:45:00</th>\n",
       "      <td>33.42</td>\n",
       "      <td>0.002099</td>\n",
       "      <td>33.3850</td>\n",
       "      <td>30.48745</td>\n",
       "    </tr>\n",
       "    <tr>\n",
       "      <th>2021-01-22 14:30:00</th>\n",
       "      <td>33.47</td>\n",
       "      <td>0.001496</td>\n",
       "      <td>33.3775</td>\n",
       "      <td>30.53085</td>\n",
       "    </tr>\n",
       "    <tr>\n",
       "      <th>2021-01-22 15:45:00</th>\n",
       "      <td>33.44</td>\n",
       "      <td>-0.000896</td>\n",
       "      <td>33.4200</td>\n",
       "      <td>30.57495</td>\n",
       "    </tr>\n",
       "  </tbody>\n",
       "</table>\n",
       "</div>"
      ],
      "text/plain": [
       "                     close  Actual Returns  SMA_Fast  SMA_Slow\n",
       "date                                                          \n",
       "2021-01-22 09:30:00  33.27       -0.006866   33.2025  30.40215\n",
       "2021-01-22 11:30:00  33.35        0.002405   33.2725  30.44445\n",
       "2021-01-22 13:45:00  33.42        0.002099   33.3850  30.48745\n",
       "2021-01-22 14:30:00  33.47        0.001496   33.3775  30.53085\n",
       "2021-01-22 15:45:00  33.44       -0.000896   33.4200  30.57495"
      ]
     },
     "metadata": {},
     "output_type": "display_data"
    }
   ],
   "source": [
    "# Set the short window and long window\n",
    "short_window = 4\n",
    "long_window = 100\n",
    "\n",
    "# Generate the fast and slow simple moving averages (4 and 100 days, respectively)\n",
    "signals_df['SMA_Fast'] = signals_df['close'].rolling(window=short_window).mean()\n",
    "signals_df['SMA_Slow'] = signals_df['close'].rolling(window=long_window).mean()\n",
    "\n",
    "signals_df = signals_df.dropna()\n",
    "\n",
    "# Review the DataFrame\n",
    "display(signals_df.head())\n",
    "display(signals_df.tail())"
   ]
  },
  {
   "cell_type": "code",
   "execution_count": 67,
   "metadata": {},
   "outputs": [
    {
     "data": {
      "text/html": [
       "<div>\n",
       "<style scoped>\n",
       "    .dataframe tbody tr th:only-of-type {\n",
       "        vertical-align: middle;\n",
       "    }\n",
       "\n",
       "    .dataframe tbody tr th {\n",
       "        vertical-align: top;\n",
       "    }\n",
       "\n",
       "    .dataframe thead th {\n",
       "        text-align: right;\n",
       "    }\n",
       "</style>\n",
       "<table border=\"1\" class=\"dataframe\">\n",
       "  <thead>\n",
       "    <tr style=\"text-align: right;\">\n",
       "      <th></th>\n",
       "      <th>close</th>\n",
       "      <th>Actual Returns</th>\n",
       "      <th>SMA_Fast</th>\n",
       "      <th>SMA_Slow</th>\n",
       "      <th>Signal</th>\n",
       "    </tr>\n",
       "    <tr>\n",
       "      <th>date</th>\n",
       "      <th></th>\n",
       "      <th></th>\n",
       "      <th></th>\n",
       "      <th></th>\n",
       "      <th></th>\n",
       "    </tr>\n",
       "  </thead>\n",
       "  <tbody>\n",
       "    <tr>\n",
       "      <th>2015-04-02 14:45:00</th>\n",
       "      <td>24.92</td>\n",
       "      <td>0.000000</td>\n",
       "      <td>24.9175</td>\n",
       "      <td>24.3214</td>\n",
       "      <td>1.0</td>\n",
       "    </tr>\n",
       "    <tr>\n",
       "      <th>2015-04-02 15:00:00</th>\n",
       "      <td>24.92</td>\n",
       "      <td>0.000000</td>\n",
       "      <td>24.9200</td>\n",
       "      <td>24.3308</td>\n",
       "      <td>1.0</td>\n",
       "    </tr>\n",
       "    <tr>\n",
       "      <th>2015-04-02 15:15:00</th>\n",
       "      <td>24.94</td>\n",
       "      <td>0.000803</td>\n",
       "      <td>24.9250</td>\n",
       "      <td>24.3360</td>\n",
       "      <td>1.0</td>\n",
       "    </tr>\n",
       "    <tr>\n",
       "      <th>2015-04-02 15:30:00</th>\n",
       "      <td>24.95</td>\n",
       "      <td>0.000401</td>\n",
       "      <td>24.9325</td>\n",
       "      <td>24.3411</td>\n",
       "      <td>1.0</td>\n",
       "    </tr>\n",
       "    <tr>\n",
       "      <th>2015-04-02 15:45:00</th>\n",
       "      <td>24.98</td>\n",
       "      <td>0.001202</td>\n",
       "      <td>24.9475</td>\n",
       "      <td>24.3463</td>\n",
       "      <td>1.0</td>\n",
       "    </tr>\n",
       "  </tbody>\n",
       "</table>\n",
       "</div>"
      ],
      "text/plain": [
       "                     close  Actual Returns  SMA_Fast  SMA_Slow  Signal\n",
       "date                                                                  \n",
       "2015-04-02 14:45:00  24.92        0.000000   24.9175   24.3214     1.0\n",
       "2015-04-02 15:00:00  24.92        0.000000   24.9200   24.3308     1.0\n",
       "2015-04-02 15:15:00  24.94        0.000803   24.9250   24.3360     1.0\n",
       "2015-04-02 15:30:00  24.95        0.000401   24.9325   24.3411     1.0\n",
       "2015-04-02 15:45:00  24.98        0.001202   24.9475   24.3463     1.0"
      ]
     },
     "metadata": {},
     "output_type": "display_data"
    },
    {
     "data": {
      "text/html": [
       "<div>\n",
       "<style scoped>\n",
       "    .dataframe tbody tr th:only-of-type {\n",
       "        vertical-align: middle;\n",
       "    }\n",
       "\n",
       "    .dataframe tbody tr th {\n",
       "        vertical-align: top;\n",
       "    }\n",
       "\n",
       "    .dataframe thead th {\n",
       "        text-align: right;\n",
       "    }\n",
       "</style>\n",
       "<table border=\"1\" class=\"dataframe\">\n",
       "  <thead>\n",
       "    <tr style=\"text-align: right;\">\n",
       "      <th></th>\n",
       "      <th>close</th>\n",
       "      <th>Actual Returns</th>\n",
       "      <th>SMA_Fast</th>\n",
       "      <th>SMA_Slow</th>\n",
       "      <th>Signal</th>\n",
       "    </tr>\n",
       "    <tr>\n",
       "      <th>date</th>\n",
       "      <th></th>\n",
       "      <th></th>\n",
       "      <th></th>\n",
       "      <th></th>\n",
       "      <th></th>\n",
       "    </tr>\n",
       "  </thead>\n",
       "  <tbody>\n",
       "    <tr>\n",
       "      <th>2021-01-22 09:30:00</th>\n",
       "      <td>33.27</td>\n",
       "      <td>-0.006866</td>\n",
       "      <td>33.2025</td>\n",
       "      <td>30.40215</td>\n",
       "      <td>-1.0</td>\n",
       "    </tr>\n",
       "    <tr>\n",
       "      <th>2021-01-22 11:30:00</th>\n",
       "      <td>33.35</td>\n",
       "      <td>0.002405</td>\n",
       "      <td>33.2725</td>\n",
       "      <td>30.44445</td>\n",
       "      <td>1.0</td>\n",
       "    </tr>\n",
       "    <tr>\n",
       "      <th>2021-01-22 13:45:00</th>\n",
       "      <td>33.42</td>\n",
       "      <td>0.002099</td>\n",
       "      <td>33.3850</td>\n",
       "      <td>30.48745</td>\n",
       "      <td>1.0</td>\n",
       "    </tr>\n",
       "    <tr>\n",
       "      <th>2021-01-22 14:30:00</th>\n",
       "      <td>33.47</td>\n",
       "      <td>0.001496</td>\n",
       "      <td>33.3775</td>\n",
       "      <td>30.53085</td>\n",
       "      <td>1.0</td>\n",
       "    </tr>\n",
       "    <tr>\n",
       "      <th>2021-01-22 15:45:00</th>\n",
       "      <td>33.44</td>\n",
       "      <td>-0.000896</td>\n",
       "      <td>33.4200</td>\n",
       "      <td>30.57495</td>\n",
       "      <td>-1.0</td>\n",
       "    </tr>\n",
       "  </tbody>\n",
       "</table>\n",
       "</div>"
      ],
      "text/plain": [
       "                     close  Actual Returns  SMA_Fast  SMA_Slow  Signal\n",
       "date                                                                  \n",
       "2021-01-22 09:30:00  33.27       -0.006866   33.2025  30.40215    -1.0\n",
       "2021-01-22 11:30:00  33.35        0.002405   33.2725  30.44445     1.0\n",
       "2021-01-22 13:45:00  33.42        0.002099   33.3850  30.48745     1.0\n",
       "2021-01-22 14:30:00  33.47        0.001496   33.3775  30.53085     1.0\n",
       "2021-01-22 15:45:00  33.44       -0.000896   33.4200  30.57495    -1.0"
      ]
     },
     "metadata": {},
     "output_type": "display_data"
    }
   ],
   "source": [
    "# Initialize the new Signal column\n",
    "signals_df['Signal'] = 0.0\n",
    "\n",
    "# When Actual Returns are greater than or equal to 0, generate signal to buy stock long\n",
    "signals_df.loc[(signals_df['Actual Returns'] >= 0), 'Signal'] = 1\n",
    "\n",
    "# When Actual Returns are less than 0, generate signal to sell stock short\n",
    "signals_df.loc[(signals_df['Actual Returns'] < 0), 'Signal'] = -1\n",
    "\n",
    "# Review the DataFrame\n",
    "display(signals_df.head())\n",
    "display(signals_df.tail())"
   ]
  },
  {
   "cell_type": "code",
   "execution_count": 68,
   "metadata": {},
   "outputs": [
    {
     "data": {
      "text/plain": [
       " 1.0    2368\n",
       "-1.0    1855\n",
       "Name: Signal, dtype: int64"
      ]
     },
     "execution_count": 68,
     "metadata": {},
     "output_type": "execute_result"
    }
   ],
   "source": [
    "signals_df['Signal'].value_counts()"
   ]
  },
  {
   "cell_type": "code",
   "execution_count": 69,
   "metadata": {},
   "outputs": [
    {
     "data": {
      "text/html": [
       "<div>\n",
       "<style scoped>\n",
       "    .dataframe tbody tr th:only-of-type {\n",
       "        vertical-align: middle;\n",
       "    }\n",
       "\n",
       "    .dataframe tbody tr th {\n",
       "        vertical-align: top;\n",
       "    }\n",
       "\n",
       "    .dataframe thead th {\n",
       "        text-align: right;\n",
       "    }\n",
       "</style>\n",
       "<table border=\"1\" class=\"dataframe\">\n",
       "  <thead>\n",
       "    <tr style=\"text-align: right;\">\n",
       "      <th></th>\n",
       "      <th>close</th>\n",
       "      <th>Actual Returns</th>\n",
       "      <th>SMA_Fast</th>\n",
       "      <th>SMA_Slow</th>\n",
       "      <th>Signal</th>\n",
       "      <th>Strategy Returns</th>\n",
       "    </tr>\n",
       "    <tr>\n",
       "      <th>date</th>\n",
       "      <th></th>\n",
       "      <th></th>\n",
       "      <th></th>\n",
       "      <th></th>\n",
       "      <th></th>\n",
       "      <th></th>\n",
       "    </tr>\n",
       "  </thead>\n",
       "  <tbody>\n",
       "    <tr>\n",
       "      <th>2015-04-02 14:45:00</th>\n",
       "      <td>24.92</td>\n",
       "      <td>0.000000</td>\n",
       "      <td>24.9175</td>\n",
       "      <td>24.3214</td>\n",
       "      <td>1.0</td>\n",
       "      <td>NaN</td>\n",
       "    </tr>\n",
       "    <tr>\n",
       "      <th>2015-04-02 15:00:00</th>\n",
       "      <td>24.92</td>\n",
       "      <td>0.000000</td>\n",
       "      <td>24.9200</td>\n",
       "      <td>24.3308</td>\n",
       "      <td>1.0</td>\n",
       "      <td>0.000000</td>\n",
       "    </tr>\n",
       "    <tr>\n",
       "      <th>2015-04-02 15:15:00</th>\n",
       "      <td>24.94</td>\n",
       "      <td>0.000803</td>\n",
       "      <td>24.9250</td>\n",
       "      <td>24.3360</td>\n",
       "      <td>1.0</td>\n",
       "      <td>0.000803</td>\n",
       "    </tr>\n",
       "    <tr>\n",
       "      <th>2015-04-02 15:30:00</th>\n",
       "      <td>24.95</td>\n",
       "      <td>0.000401</td>\n",
       "      <td>24.9325</td>\n",
       "      <td>24.3411</td>\n",
       "      <td>1.0</td>\n",
       "      <td>0.000401</td>\n",
       "    </tr>\n",
       "    <tr>\n",
       "      <th>2015-04-02 15:45:00</th>\n",
       "      <td>24.98</td>\n",
       "      <td>0.001202</td>\n",
       "      <td>24.9475</td>\n",
       "      <td>24.3463</td>\n",
       "      <td>1.0</td>\n",
       "      <td>0.001202</td>\n",
       "    </tr>\n",
       "  </tbody>\n",
       "</table>\n",
       "</div>"
      ],
      "text/plain": [
       "                     close  Actual Returns  SMA_Fast  SMA_Slow  Signal  \\\n",
       "date                                                                     \n",
       "2015-04-02 14:45:00  24.92        0.000000   24.9175   24.3214     1.0   \n",
       "2015-04-02 15:00:00  24.92        0.000000   24.9200   24.3308     1.0   \n",
       "2015-04-02 15:15:00  24.94        0.000803   24.9250   24.3360     1.0   \n",
       "2015-04-02 15:30:00  24.95        0.000401   24.9325   24.3411     1.0   \n",
       "2015-04-02 15:45:00  24.98        0.001202   24.9475   24.3463     1.0   \n",
       "\n",
       "                     Strategy Returns  \n",
       "date                                   \n",
       "2015-04-02 14:45:00               NaN  \n",
       "2015-04-02 15:00:00          0.000000  \n",
       "2015-04-02 15:15:00          0.000803  \n",
       "2015-04-02 15:30:00          0.000401  \n",
       "2015-04-02 15:45:00          0.001202  "
      ]
     },
     "metadata": {},
     "output_type": "display_data"
    },
    {
     "data": {
      "text/html": [
       "<div>\n",
       "<style scoped>\n",
       "    .dataframe tbody tr th:only-of-type {\n",
       "        vertical-align: middle;\n",
       "    }\n",
       "\n",
       "    .dataframe tbody tr th {\n",
       "        vertical-align: top;\n",
       "    }\n",
       "\n",
       "    .dataframe thead th {\n",
       "        text-align: right;\n",
       "    }\n",
       "</style>\n",
       "<table border=\"1\" class=\"dataframe\">\n",
       "  <thead>\n",
       "    <tr style=\"text-align: right;\">\n",
       "      <th></th>\n",
       "      <th>close</th>\n",
       "      <th>Actual Returns</th>\n",
       "      <th>SMA_Fast</th>\n",
       "      <th>SMA_Slow</th>\n",
       "      <th>Signal</th>\n",
       "      <th>Strategy Returns</th>\n",
       "    </tr>\n",
       "    <tr>\n",
       "      <th>date</th>\n",
       "      <th></th>\n",
       "      <th></th>\n",
       "      <th></th>\n",
       "      <th></th>\n",
       "      <th></th>\n",
       "      <th></th>\n",
       "    </tr>\n",
       "  </thead>\n",
       "  <tbody>\n",
       "    <tr>\n",
       "      <th>2021-01-22 09:30:00</th>\n",
       "      <td>33.27</td>\n",
       "      <td>-0.006866</td>\n",
       "      <td>33.2025</td>\n",
       "      <td>30.40215</td>\n",
       "      <td>-1.0</td>\n",
       "      <td>-0.006866</td>\n",
       "    </tr>\n",
       "    <tr>\n",
       "      <th>2021-01-22 11:30:00</th>\n",
       "      <td>33.35</td>\n",
       "      <td>0.002405</td>\n",
       "      <td>33.2725</td>\n",
       "      <td>30.44445</td>\n",
       "      <td>1.0</td>\n",
       "      <td>-0.002405</td>\n",
       "    </tr>\n",
       "    <tr>\n",
       "      <th>2021-01-22 13:45:00</th>\n",
       "      <td>33.42</td>\n",
       "      <td>0.002099</td>\n",
       "      <td>33.3850</td>\n",
       "      <td>30.48745</td>\n",
       "      <td>1.0</td>\n",
       "      <td>0.002099</td>\n",
       "    </tr>\n",
       "    <tr>\n",
       "      <th>2021-01-22 14:30:00</th>\n",
       "      <td>33.47</td>\n",
       "      <td>0.001496</td>\n",
       "      <td>33.3775</td>\n",
       "      <td>30.53085</td>\n",
       "      <td>1.0</td>\n",
       "      <td>0.001496</td>\n",
       "    </tr>\n",
       "    <tr>\n",
       "      <th>2021-01-22 15:45:00</th>\n",
       "      <td>33.44</td>\n",
       "      <td>-0.000896</td>\n",
       "      <td>33.4200</td>\n",
       "      <td>30.57495</td>\n",
       "      <td>-1.0</td>\n",
       "      <td>-0.000896</td>\n",
       "    </tr>\n",
       "  </tbody>\n",
       "</table>\n",
       "</div>"
      ],
      "text/plain": [
       "                     close  Actual Returns  SMA_Fast  SMA_Slow  Signal  \\\n",
       "date                                                                     \n",
       "2021-01-22 09:30:00  33.27       -0.006866   33.2025  30.40215    -1.0   \n",
       "2021-01-22 11:30:00  33.35        0.002405   33.2725  30.44445     1.0   \n",
       "2021-01-22 13:45:00  33.42        0.002099   33.3850  30.48745     1.0   \n",
       "2021-01-22 14:30:00  33.47        0.001496   33.3775  30.53085     1.0   \n",
       "2021-01-22 15:45:00  33.44       -0.000896   33.4200  30.57495    -1.0   \n",
       "\n",
       "                     Strategy Returns  \n",
       "date                                   \n",
       "2021-01-22 09:30:00         -0.006866  \n",
       "2021-01-22 11:30:00         -0.002405  \n",
       "2021-01-22 13:45:00          0.002099  \n",
       "2021-01-22 14:30:00          0.001496  \n",
       "2021-01-22 15:45:00         -0.000896  "
      ]
     },
     "metadata": {},
     "output_type": "display_data"
    }
   ],
   "source": [
    "# Calculate the strategy returns and add them to the signals_df DataFrame\n",
    "signals_df['Strategy Returns'] = signals_df['Actual Returns'] * signals_df['Signal'].shift()\n",
    "\n",
    "# Review the DataFrame\n",
    "display(signals_df.head())\n",
    "display(signals_df.tail())"
   ]
  },
  {
   "cell_type": "code",
   "execution_count": 70,
   "metadata": {},
   "outputs": [
    {
     "data": {
      "text/plain": [
       "<AxesSubplot:xlabel='date'>"
      ]
     },
     "execution_count": 70,
     "metadata": {},
     "output_type": "execute_result"
    },
    {
     "data": {
      "image/png": "[encoded data removed]",
      "image/svg+xml": "<?xml version=\"1.0\" encoding=\"utf-8\" standalone=\"no\"?>\n<!DOCTYPE svg PUBLIC \"-//W3C//DTD SVG 1.1//EN\"\n  \"http://www.w3.org/Graphics/SVG/1.1/DTD/svg11.dtd\">\n<svg xmlns:xlink=\"http://www.w3.org/1999/xlink\" width=\"374.003031pt\" height=\"252.024627pt\" viewBox=\"0 0 374.003031 252.024627\" xmlns=\"http://www.w3.org/2000/svg\" version=\"1.1\">\n <metadata>\n  <rdf:RDF xmlns:dc=\"http://purl.org/dc/elements/1.1/\" xmlns:cc=\"http://creativecommons.org/ns#\" xmlns:rdf=\"http://www.w3.org/1999/02/22-rdf-syntax-ns#\">\n   <cc:Work>\n    <dc:type rdf:resource=\"http://purl.org/dc/dcmitype/StillImage\"/>\n    <dc:date>2022-09-16T21:23:08.232106</dc:date>\n    <dc:format>image/svg+xml</dc:format>\n    <dc:creator>\n     <cc:Agent>\n      <dc:title>Matplotlib v3.5.1, https://matplotlib.org/</dc:title>\n     </cc:Agent>\n    </dc:creator>\n   </cc:Work>\n  </rdf:RDF>\n </metadata>\n <defs>\n  <style type=\"text/css\">*{stroke-linejoin: round; stroke-linecap: butt}</style>\n </defs>\n <g id=\"figure_1\">\n  <g id=\"patch_1\">\n   <path d=\"M 0 252.024627 \nL 374.003031 252.024627 \nL 374.003031 0 \nL 0 0 \nL 0 252.024627 \nz\n\" style=\"fill: none\"/>\n  </g>\n  <g id=\"axes_1\">\n   <g id=\"patch_2\">\n    <path d=\"M 32.003031 203.04 \nL 366.803031 203.04 \nL 366.803031 7.2 \nL 32.003031 7.2 \nz\n\" style=\"fill: #ffffff\"/>\n   </g>\n   <g id=\"matplotlib.axis_1\">\n    <g id=\"xtick_1\">\n     <g id=\"line2d_1\">\n      <defs>\n       <path id=\"maa8ccec286\" d=\"M 0 0 \nL 0 3.5 \n\" style=\"stroke: #000000; stroke-width: 0.8\"/>\n      </defs>\n      <g>\n       <use xlink:href=\"#maa8ccec286\" x=\"34.079409\" y=\"203.04\" style=\"stroke: #000000; stroke-width: 0.8\"/>\n      </g>\n     </g>\n     <g id=\"text_1\">\n      <!-- 2015 -->\n      <g transform=\"translate(10.999219 229.34544)rotate(-30)scale(0.1 -0.1)\">\n       <defs>\n        <path id=\"DejaVuSans-32\" d=\"M 1228 531 \nL 3431 531 \nL 3431 0 \nL 469 0 \nL 469 531 \nQ 828 903 1448 1529 \nQ 2069 2156 2228 2338 \nQ 2531 2678 2651 2914 \nQ 2772 3150 2772 3378 \nQ 2772 3750 2511 3984 \nQ 2250 4219 1831 4219 \nQ 1534 4219 1204 4116 \nQ 875 4013 500 3803 \nL 500 4441 \nQ 881 4594 1212 4672 \nQ 1544 4750 1819 4750 \nQ 2544 4750 2975 4387 \nQ 3406 4025 3406 3419 \nQ 3406 3131 3298 2873 \nQ 3191 2616 2906 2266 \nQ 2828 2175 2409 1742 \nQ 1991 1309 1228 531 \nz\n\" transform=\"scale(0.015625)\"/>\n        <path id=\"DejaVuSans-30\" d=\"M 2034 4250 \nQ 1547 4250 1301 3770 \nQ 1056 3291 1056 2328 \nQ 1056 1369 1301 889 \nQ 1547 409 2034 409 \nQ 2525 409 2770 889 \nQ 3016 1369 3016 2328 \nQ 3016 3291 2770 3770 \nQ 2525 4250 2034 4250 \nz\nM 2034 4750 \nQ 2819 4750 3233 4129 \nQ 3647 3509 3647 2328 \nQ 3647 1150 3233 529 \nQ 2819 -91 2034 -91 \nQ 1250 -91 836 529 \nQ 422 1150 422 2328 \nQ 422 3509 836 4129 \nQ 1250 4750 2034 4750 \nz\n\" transform=\"scale(0.015625)\"/>\n        <path id=\"DejaVuSans-31\" d=\"M 794 531 \nL 1825 531 \nL 1825 4091 \nL 703 3866 \nL 703 4441 \nL 1819 4666 \nL 2450 4666 \nL 2450 531 \nL 3481 531 \nL 3481 0 \nL 794 0 \nL 794 531 \nz\n\" transform=\"scale(0.015625)\"/>\n        <path id=\"DejaVuSans-35\" d=\"M 691 4666 \nL 3169 4666 \nL 3169 4134 \nL 1269 4134 \nL 1269 2991 \nQ 1406 3038 1543 3061 \nQ 1681 3084 1819 3084 \nQ 2600 3084 3056 2656 \nQ 3513 2228 3513 1497 \nQ 3513 744 3044 326 \nQ 2575 -91 1722 -91 \nQ 1428 -91 1123 -41 \nQ 819 9 494 109 \nL 494 744 \nQ 775 591 1075 516 \nQ 1375 441 1709 441 \nQ 2250 441 2565 725 \nQ 2881 1009 2881 1497 \nQ 2881 1984 2565 2268 \nQ 2250 2553 1709 2553 \nQ 1456 2553 1204 2497 \nQ 953 2441 691 2322 \nL 691 4666 \nz\n\" transform=\"scale(0.015625)\"/>\n       </defs>\n       <use xlink:href=\"#DejaVuSans-32\"/>\n       <use xlink:href=\"#DejaVuSans-30\" x=\"63.623047\"/>\n       <use xlink:href=\"#DejaVuSans-31\" x=\"127.246094\"/>\n       <use xlink:href=\"#DejaVuSans-35\" x=\"190.869141\"/>\n      </g>\n     </g>\n    </g>\n    <g id=\"xtick_2\">\n     <g id=\"line2d_2\">\n      <g>\n       <use xlink:href=\"#maa8ccec286\" x=\"86.431478\" y=\"203.04\" style=\"stroke: #000000; stroke-width: 0.8\"/>\n      </g>\n     </g>\n     <g id=\"text_2\">\n      <!-- 2016 -->\n      <g transform=\"translate(63.351288 229.34544)rotate(-30)scale(0.1 -0.1)\">\n       <defs>\n        <path id=\"DejaVuSans-36\" d=\"M 2113 2584 \nQ 1688 2584 1439 2293 \nQ 1191 2003 1191 1497 \nQ 1191 994 1439 701 \nQ 1688 409 2113 409 \nQ 2538 409 2786 701 \nQ 3034 994 3034 1497 \nQ 3034 2003 2786 2293 \nQ 2538 2584 2113 2584 \nz\nM 3366 4563 \nL 3366 3988 \nQ 3128 4100 2886 4159 \nQ 2644 4219 2406 4219 \nQ 1781 4219 1451 3797 \nQ 1122 3375 1075 2522 \nQ 1259 2794 1537 2939 \nQ 1816 3084 2150 3084 \nQ 2853 3084 3261 2657 \nQ 3669 2231 3669 1497 \nQ 3669 778 3244 343 \nQ 2819 -91 2113 -91 \nQ 1303 -91 875 529 \nQ 447 1150 447 2328 \nQ 447 3434 972 4092 \nQ 1497 4750 2381 4750 \nQ 2619 4750 2861 4703 \nQ 3103 4656 3366 4563 \nz\n\" transform=\"scale(0.015625)\"/>\n       </defs>\n       <use xlink:href=\"#DejaVuSans-32\"/>\n       <use xlink:href=\"#DejaVuSans-30\" x=\"63.623047\"/>\n       <use xlink:href=\"#DejaVuSans-31\" x=\"127.246094\"/>\n       <use xlink:href=\"#DejaVuSans-36\" x=\"190.869141\"/>\n      </g>\n     </g>\n    </g>\n    <g id=\"xtick_3\">\n     <g id=\"line2d_3\">\n      <g>\n       <use xlink:href=\"#maa8ccec286\" x=\"138.926978\" y=\"203.04\" style=\"stroke: #000000; stroke-width: 0.8\"/>\n      </g>\n     </g>\n     <g id=\"text_3\">\n      <!-- 2017 -->\n      <g transform=\"translate(115.846788 229.34544)rotate(-30)scale(0.1 -0.1)\">\n       <defs>\n        <path id=\"DejaVuSans-37\" d=\"M 525 4666 \nL 3525 4666 \nL 3525 4397 \nL 1831 0 \nL 1172 0 \nL 2766 4134 \nL 525 4134 \nL 525 4666 \nz\n\" transform=\"scale(0.015625)\"/>\n       </defs>\n       <use xlink:href=\"#DejaVuSans-32\"/>\n       <use xlink:href=\"#DejaVuSans-30\" x=\"63.623047\"/>\n       <use xlink:href=\"#DejaVuSans-31\" x=\"127.246094\"/>\n       <use xlink:href=\"#DejaVuSans-37\" x=\"190.869141\"/>\n      </g>\n     </g>\n    </g>\n    <g id=\"xtick_4\">\n     <g id=\"line2d_4\">\n      <g>\n       <use xlink:href=\"#maa8ccec286\" x=\"191.279048\" y=\"203.04\" style=\"stroke: #000000; stroke-width: 0.8\"/>\n      </g>\n     </g>\n     <g id=\"text_4\">\n      <!-- 2018 -->\n      <g transform=\"translate(168.198857 229.34544)rotate(-30)scale(0.1 -0.1)\">\n       <defs>\n        <path id=\"DejaVuSans-38\" d=\"M 2034 2216 \nQ 1584 2216 1326 1975 \nQ 1069 1734 1069 1313 \nQ 1069 891 1326 650 \nQ 1584 409 2034 409 \nQ 2484 409 2743 651 \nQ 3003 894 3003 1313 \nQ 3003 1734 2745 1975 \nQ 2488 2216 2034 2216 \nz\nM 1403 2484 \nQ 997 2584 770 2862 \nQ 544 3141 544 3541 \nQ 544 4100 942 4425 \nQ 1341 4750 2034 4750 \nQ 2731 4750 3128 4425 \nQ 3525 4100 3525 3541 \nQ 3525 3141 3298 2862 \nQ 3072 2584 2669 2484 \nQ 3125 2378 3379 2068 \nQ 3634 1759 3634 1313 \nQ 3634 634 3220 271 \nQ 2806 -91 2034 -91 \nQ 1263 -91 848 271 \nQ 434 634 434 1313 \nQ 434 1759 690 2068 \nQ 947 2378 1403 2484 \nz\nM 1172 3481 \nQ 1172 3119 1398 2916 \nQ 1625 2713 2034 2713 \nQ 2441 2713 2670 2916 \nQ 2900 3119 2900 3481 \nQ 2900 3844 2670 4047 \nQ 2441 4250 2034 4250 \nQ 1625 4250 1398 4047 \nQ 1172 3844 1172 3481 \nz\n\" transform=\"scale(0.015625)\"/>\n       </defs>\n       <use xlink:href=\"#DejaVuSans-32\"/>\n       <use xlink:href=\"#DejaVuSans-30\" x=\"63.623047\"/>\n       <use xlink:href=\"#DejaVuSans-31\" x=\"127.246094\"/>\n       <use xlink:href=\"#DejaVuSans-38\" x=\"190.869141\"/>\n      </g>\n     </g>\n    </g>\n    <g id=\"xtick_5\">\n     <g id=\"line2d_5\">\n      <g>\n       <use xlink:href=\"#maa8ccec286\" x=\"243.631117\" y=\"203.04\" style=\"stroke: #000000; stroke-width: 0.8\"/>\n      </g>\n     </g>\n     <g id=\"text_5\">\n      <!-- 2019 -->\n      <g transform=\"translate(220.550927 229.34544)rotate(-30)scale(0.1 -0.1)\">\n       <defs>\n        <path id=\"DejaVuSans-39\" d=\"M 703 97 \nL 703 672 \nQ 941 559 1184 500 \nQ 1428 441 1663 441 \nQ 2288 441 2617 861 \nQ 2947 1281 2994 2138 \nQ 2813 1869 2534 1725 \nQ 2256 1581 1919 1581 \nQ 1219 1581 811 2004 \nQ 403 2428 403 3163 \nQ 403 3881 828 4315 \nQ 1253 4750 1959 4750 \nQ 2769 4750 3195 4129 \nQ 3622 3509 3622 2328 \nQ 3622 1225 3098 567 \nQ 2575 -91 1691 -91 \nQ 1453 -91 1209 -44 \nQ 966 3 703 97 \nz\nM 1959 2075 \nQ 2384 2075 2632 2365 \nQ 2881 2656 2881 3163 \nQ 2881 3666 2632 3958 \nQ 2384 4250 1959 4250 \nQ 1534 4250 1286 3958 \nQ 1038 3666 1038 3163 \nQ 1038 2656 1286 2365 \nQ 1534 2075 1959 2075 \nz\n\" transform=\"scale(0.015625)\"/>\n       </defs>\n       <use xlink:href=\"#DejaVuSans-32\"/>\n       <use xlink:href=\"#DejaVuSans-30\" x=\"63.623047\"/>\n       <use xlink:href=\"#DejaVuSans-31\" x=\"127.246094\"/>\n       <use xlink:href=\"#DejaVuSans-39\" x=\"190.869141\"/>\n      </g>\n     </g>\n    </g>\n    <g id=\"xtick_6\">\n     <g id=\"line2d_6\">\n      <g>\n       <use xlink:href=\"#maa8ccec286\" x=\"295.983186\" y=\"203.04\" style=\"stroke: #000000; stroke-width: 0.8\"/>\n      </g>\n     </g>\n     <g id=\"text_6\">\n      <!-- 2020 -->\n      <g transform=\"translate(272.902996 229.34544)rotate(-30)scale(0.1 -0.1)\">\n       <use xlink:href=\"#DejaVuSans-32\"/>\n       <use xlink:href=\"#DejaVuSans-30\" x=\"63.623047\"/>\n       <use xlink:href=\"#DejaVuSans-32\" x=\"127.246094\"/>\n       <use xlink:href=\"#DejaVuSans-30\" x=\"190.869141\"/>\n      </g>\n     </g>\n    </g>\n    <g id=\"xtick_7\">\n     <g id=\"line2d_7\">\n      <g>\n       <use xlink:href=\"#maa8ccec286\" x=\"348.478686\" y=\"203.04\" style=\"stroke: #000000; stroke-width: 0.8\"/>\n      </g>\n     </g>\n     <g id=\"text_7\">\n      <!-- 2021 -->\n      <g transform=\"translate(325.398496 229.34544)rotate(-30)scale(0.1 -0.1)\">\n       <use xlink:href=\"#DejaVuSans-32\"/>\n       <use xlink:href=\"#DejaVuSans-30\" x=\"63.623047\"/>\n       <use xlink:href=\"#DejaVuSans-32\" x=\"127.246094\"/>\n       <use xlink:href=\"#DejaVuSans-31\" x=\"190.869141\"/>\n      </g>\n     </g>\n    </g>\n    <g id=\"text_8\">\n     <!-- date -->\n     <g transform=\"translate(188.128031 242.74494)scale(0.1 -0.1)\">\n      <defs>\n       <path id=\"DejaVuSans-64\" d=\"M 2906 2969 \nL 2906 4863 \nL 3481 4863 \nL 3481 0 \nL 2906 0 \nL 2906 525 \nQ 2725 213 2448 61 \nQ 2172 -91 1784 -91 \nQ 1150 -91 751 415 \nQ 353 922 353 1747 \nQ 353 2572 751 3078 \nQ 1150 3584 1784 3584 \nQ 2172 3584 2448 3432 \nQ 2725 3281 2906 2969 \nz\nM 947 1747 \nQ 947 1113 1208 752 \nQ 1469 391 1925 391 \nQ 2381 391 2643 752 \nQ 2906 1113 2906 1747 \nQ 2906 2381 2643 2742 \nQ 2381 3103 1925 3103 \nQ 1469 3103 1208 2742 \nQ 947 2381 947 1747 \nz\n\" transform=\"scale(0.015625)\"/>\n       <path id=\"DejaVuSans-61\" d=\"M 2194 1759 \nQ 1497 1759 1228 1600 \nQ 959 1441 959 1056 \nQ 959 750 1161 570 \nQ 1363 391 1709 391 \nQ 2188 391 2477 730 \nQ 2766 1069 2766 1631 \nL 2766 1759 \nL 2194 1759 \nz\nM 3341 1997 \nL 3341 0 \nL 2766 0 \nL 2766 531 \nQ 2569 213 2275 61 \nQ 1981 -91 1556 -91 \nQ 1019 -91 701 211 \nQ 384 513 384 1019 \nQ 384 1609 779 1909 \nQ 1175 2209 1959 2209 \nL 2766 2209 \nL 2766 2266 \nQ 2766 2663 2505 2880 \nQ 2244 3097 1772 3097 \nQ 1472 3097 1187 3025 \nQ 903 2953 641 2809 \nL 641 3341 \nQ 956 3463 1253 3523 \nQ 1550 3584 1831 3584 \nQ 2591 3584 2966 3190 \nQ 3341 2797 3341 1997 \nz\n\" transform=\"scale(0.015625)\"/>\n       <path id=\"DejaVuSans-74\" d=\"M 1172 4494 \nL 1172 3500 \nL 2356 3500 \nL 2356 3053 \nL 1172 3053 \nL 1172 1153 \nQ 1172 725 1289 603 \nQ 1406 481 1766 481 \nL 2356 481 \nL 2356 0 \nL 1766 0 \nQ 1100 0 847 248 \nQ 594 497 594 1153 \nL 594 3053 \nL 172 3053 \nL 172 3500 \nL 594 3500 \nL 594 4494 \nL 1172 4494 \nz\n\" transform=\"scale(0.015625)\"/>\n       <path id=\"DejaVuSans-65\" d=\"M 3597 1894 \nL 3597 1613 \nL 953 1613 \nQ 991 1019 1311 708 \nQ 1631 397 2203 397 \nQ 2534 397 2845 478 \nQ 3156 559 3463 722 \nL 3463 178 \nQ 3153 47 2828 -22 \nQ 2503 -91 2169 -91 \nQ 1331 -91 842 396 \nQ 353 884 353 1716 \nQ 353 2575 817 3079 \nQ 1281 3584 2069 3584 \nQ 2775 3584 3186 3129 \nQ 3597 2675 3597 1894 \nz\nM 3022 2063 \nQ 3016 2534 2758 2815 \nQ 2500 3097 2075 3097 \nQ 1594 3097 1305 2825 \nQ 1016 2553 972 2059 \nL 3022 2063 \nz\n\" transform=\"scale(0.015625)\"/>\n      </defs>\n      <use xlink:href=\"#DejaVuSans-64\"/>\n      <use xlink:href=\"#DejaVuSans-61\" x=\"63.476562\"/>\n      <use xlink:href=\"#DejaVuSans-74\" x=\"124.755859\"/>\n      <use xlink:href=\"#DejaVuSans-65\" x=\"163.964844\"/>\n     </g>\n    </g>\n   </g>\n   <g id=\"matplotlib.axis_2\">\n    <g id=\"ytick_1\">\n     <g id=\"line2d_8\">\n      <defs>\n       <path id=\"mece7146984\" d=\"M 0 0 \nL -3.5 0 \n\" style=\"stroke: #000000; stroke-width: 0.8\"/>\n      </defs>\n      <g>\n       <use xlink:href=\"#mece7146984\" x=\"32.003031\" y=\"168.402198\" style=\"stroke: #000000; stroke-width: 0.8\"/>\n      </g>\n     </g>\n     <g id=\"text_9\">\n      <!-- 0.6 -->\n      <g transform=\"translate(9.099906 172.201417)scale(0.1 -0.1)\">\n       <defs>\n        <path id=\"DejaVuSans-2e\" d=\"M 684 794 \nL 1344 794 \nL 1344 0 \nL 684 0 \nL 684 794 \nz\n\" transform=\"scale(0.015625)\"/>\n       </defs>\n       <use xlink:href=\"#DejaVuSans-30\"/>\n       <use xlink:href=\"#DejaVuSans-2e\" x=\"63.623047\"/>\n       <use xlink:href=\"#DejaVuSans-36\" x=\"95.410156\"/>\n      </g>\n     </g>\n    </g>\n    <g id=\"ytick_2\">\n     <g id=\"line2d_9\">\n      <g>\n       <use xlink:href=\"#mece7146984\" x=\"32.003031\" y=\"132.055372\" style=\"stroke: #000000; stroke-width: 0.8\"/>\n      </g>\n     </g>\n     <g id=\"text_10\">\n      <!-- 0.7 -->\n      <g transform=\"translate(9.099906 135.854591)scale(0.1 -0.1)\">\n       <use xlink:href=\"#DejaVuSans-30\"/>\n       <use xlink:href=\"#DejaVuSans-2e\" x=\"63.623047\"/>\n       <use xlink:href=\"#DejaVuSans-37\" x=\"95.410156\"/>\n      </g>\n     </g>\n    </g>\n    <g id=\"ytick_3\">\n     <g id=\"line2d_10\">\n      <g>\n       <use xlink:href=\"#mece7146984\" x=\"32.003031\" y=\"95.708546\" style=\"stroke: #000000; stroke-width: 0.8\"/>\n      </g>\n     </g>\n     <g id=\"text_11\">\n      <!-- 0.8 -->\n      <g transform=\"translate(9.099906 99.507765)scale(0.1 -0.1)\">\n       <use xlink:href=\"#DejaVuSans-30\"/>\n       <use xlink:href=\"#DejaVuSans-2e\" x=\"63.623047\"/>\n       <use xlink:href=\"#DejaVuSans-38\" x=\"95.410156\"/>\n      </g>\n     </g>\n    </g>\n    <g id=\"ytick_4\">\n     <g id=\"line2d_11\">\n      <g>\n       <use xlink:href=\"#mece7146984\" x=\"32.003031\" y=\"59.36172\" style=\"stroke: #000000; stroke-width: 0.8\"/>\n      </g>\n     </g>\n     <g id=\"text_12\">\n      <!-- 0.9 -->\n      <g transform=\"translate(9.099906 63.160939)scale(0.1 -0.1)\">\n       <use xlink:href=\"#DejaVuSans-30\"/>\n       <use xlink:href=\"#DejaVuSans-2e\" x=\"63.623047\"/>\n       <use xlink:href=\"#DejaVuSans-39\" x=\"95.410156\"/>\n      </g>\n     </g>\n    </g>\n    <g id=\"ytick_5\">\n     <g id=\"line2d_12\">\n      <g>\n       <use xlink:href=\"#mece7146984\" x=\"32.003031\" y=\"23.014894\" style=\"stroke: #000000; stroke-width: 0.8\"/>\n      </g>\n     </g>\n     <g id=\"text_13\">\n      <!-- 1.0 -->\n      <g transform=\"translate(9.099906 26.814113)scale(0.1 -0.1)\">\n       <use xlink:href=\"#DejaVuSans-31\"/>\n       <use xlink:href=\"#DejaVuSans-2e\" x=\"63.623047\"/>\n       <use xlink:href=\"#DejaVuSans-30\" x=\"95.410156\"/>\n      </g>\n     </g>\n    </g>\n   </g>\n   <g id=\"line2d_13\">\n    <path d=\"M 47.221213 23.014894 \nL 47.225695 22.13977 \nL 47.766547 19.222689 \nL 47.775511 18.785127 \nL 47.78597 19.514397 \nL 47.790452 19.223152 \nL 47.920436 19.805642 \nL 47.942847 19.07753 \nL 48.214767 37.853786 \nL 48.222237 37.448246 \nL 48.33728 37.313066 \nL 48.347738 39.337628 \nL 48.373138 38.665907 \nL 48.766077 42.427545 \nL 48.7855 44.005583 \nL 48.798946 43.478998 \nL 49.221767 38.032626 \nL 49.230731 38.432226 \nL 49.37715 33.366758 \nL 50.789042 42.529491 \nL 50.790536 43.183396 \nL 51.080385 37.298257 \nL 51.210369 37.027571 \nL 51.213357 36.214253 \nL 51.238756 38.657459 \nL 51.806501 33.112803 \nL 52.072445 40.550756 \nL 52.075433 40.145049 \nL 55.955522 31.198546 \nL 56.240889 38.875374 \nL 56.835527 36.464386 \nL 57.096988 29.641265 \nL 57.22996 29.348891 \nL 57.376379 32.271426 \nL 57.380861 31.106734 \nL 57.385343 32.718751 \nL 57.80667 37.075456 \nL 57.982969 37.511126 \nL 58.384873 40.553223 \nL 58.40579 41.410901 \nL 58.411766 40.124385 \nL 58.843551 44.732901 \nL 58.961583 40.666115 \nL 59.099037 39.684477 \nL 59.270854 46.678838 \nL 59.381415 46.957252 \nL 59.385897 46.262357 \nL 59.409802 48.76398 \nL 59.970077 45.150524 \nL 59.980536 43.020745 \nL 59.986512 43.588686 \nL 60.274867 44.441069 \nL 60.277855 44.157569 \nL 60.817213 35.354506 \nL 60.842612 41.284303 \nL 60.844106 39.958315 \nL 61.138437 23.393188 \nL 61.969137 40.818512 \nL 61.993042 40.082116 \nL 62.261974 38.464793 \nL 62.403911 39.935086 \nL 62.859601 39.493998 \nL 63.84419 23.931267 \nL 63.85166 22.965321 \nL 63.863613 24.26013 \nL 64.001067 22.81381 \nL 64.113122 23.295916 \nL 64.11611 24.742237 \nL 64.138521 22.350825 \nL 64.262528 23.9451 \nL 64.264023 22.988535 \nL 64.413429 27.796665 \nL 64.830274 32.791429 \nL 64.839238 32.170819 \nL 64.845214 31.233485 \nL 64.867625 32.483264 \nL 65.263553 40.227578 \nL 65.276999 39.309939 \nL 65.415947 37.772414 \nL 65.439852 38.082655 \nL 65.992657 39.011723 \nL 66.133099 33.25601 \nL 66.157004 33.745095 \nL 66.269059 36.124174 \nL 66.29147 34.704439 \nL 66.41996 34.862187 \nL 66.442371 33.757953 \nL 66.445359 34.391212 \nL 67.41949 16.343334 \nL 67.42696 18.097551 \nL 67.449371 24.05055 \nL 67.993211 24.225132 \nL 68.01861 21.248468 \nL 68.023092 16.101818 \nL 68.278578 34.092828 \nL 68.308459 30.442834 \nL 68.427984 30.94149 \nL 68.447407 33.427795 \nL 68.453383 33.097219 \nL 68.989753 41.6922 \nL 68.994235 40.039319 \nL 69.012164 38.203634 \nL 69.027105 39.046273 \nL 69.430502 37.534217 \nL 69.431997 37.702223 \nL 69.451419 33.98731 \nL 70.452444 47.360826 \nL 70.461408 46.564764 \nL 70.860324 47.679251 \nL 70.863312 47.520038 \nL 70.876758 46.563866 \nL 70.891699 48.003224 \nL 71.006742 51.671951 \nL 71.035129 50.735416 \nL 71.320496 44.804029 \nL 71.32199 46.521009 \nL 73.04166 25.605065 \nL 73.180608 32.314148 \nL 73.442069 30.272828 \nL 73.471951 20.916779 \nL 73.473445 21.937439 \nL 73.867878 26.870629 \nL 73.896265 26.705061 \nL 73.89776 25.713482 \nL 73.903736 26.539798 \nL 74.012803 27.696641 \nL 74.190596 38.371496 \nL 74.298169 37.430654 \nL 74.308628 37.776026 \nL 74.334027 34.332778 \nL 74.906254 36.680447 \nL 75.037732 34.176267 \nL 75.051178 35.60261 \nL 75.175186 35.919575 \nL 75.311146 34.021216 \nL 75.89682 31.648268 \nL 75.91176 30.857285 \nL 76.162763 30.857285 \nL 76.174716 31.806464 \nL 76.198621 29.749909 \nL 76.891868 35.191331 \nL 77.038286 40.927097 \nL 77.04725 39.23017 \nL 77.056215 40.943846 \nL 77.059203 40.789587 \nL 77.177234 40.172553 \nL 77.202633 44.029018 \nL 77.334111 41.56088 \nL 77.346064 42.811305 \nL 77.473059 43.747741 \nL 78.03931 36.276669 \nL 78.042298 36.432317 \nL 78.187223 45.32807 \nL 78.199175 44.42034 \nL 78.203657 45.938055 \nL 78.315712 45.786769 \nL 78.339617 49.426292 \nL 78.348582 48.695505 \nL 78.901386 39.39365 \nL 78.904374 40.027456 \nL 79.349606 45.063909 \nL 79.354088 43.65114 \nL 80.041359 46.183602 \nL 80.048829 47.275305 \nL 80.06377 45.871399 \nL 80.07124 46.812316 \nL 80.323737 50.105523 \nL 80.332701 47.952214 \nL 80.341666 50.266074 \nL 80.900446 48.586515 \nL 80.919869 53.302983 \nL 80.92734 53.001189 \nL 81.19926 50.883011 \nL 81.218682 51.342038 \nL 81.483132 47.514584 \nL 82.06283 49.38965 \nL 82.068806 49.235307 \nL 82.074782 50.783025 \nL 82.360149 34.856212 \nL 82.366125 35.027237 \nL 83.048913 41.007284 \nL 83.050407 40.836425 \nL 83.06983 45.261916 \nL 83.083277 44.421718 \nL 83.192344 44.421718 \nL 83.201308 44.253546 \nL 83.202802 44.758061 \nL 83.207284 39.712908 \nL 83.226707 46.736802 \nL 83.500121 55.805661 \nL 83.504603 55.638568 \nL 83.513568 63.460356 \nL 83.906507 61.821478 \nL 83.937882 67.850814 \nL 83.943859 65.42714 \nL 84.063384 58.156118 \nL 84.087289 59.955245 \nL 84.365185 69.099461 \nL 84.37415 67.703493 \nL 84.480228 66.296423 \nL 84.513098 71.148325 \nL 84.51758 69.905168 \nL 85.230249 60.682043 \nL 85.231744 60.838829 \nL 85.34081 58.800612 \nL 85.348281 60.232827 \nL 85.360233 61.332067 \nL 85.914532 52.5442 \nL 85.951883 65.748194 \nL 86.057962 66.849295 \nL 86.06842 66.062794 \nL 86.071409 65.43049 \nL 86.095314 68.278972 \nL 86.923026 82.536274 \nL 86.92452 83.626248 \nL 86.940955 80.978547 \nL 86.955896 83.004853 \nL 87.063468 84.71942 \nL 87.096338 81.786766 \nL 87.099326 83.033605 \nL 87.230804 86.436062 \nL 87.51617 103.162709 \nL 87.529617 101.199888 \nL 87.92405 101.963086 \nL 87.925544 101.811261 \nL 87.944967 104.999586 \nL 87.959908 102.876327 \nL 88.068975 101.511374 \nL 88.233322 105.747211 \nL 88.234816 105.59652 \nL 88.240792 104.087999 \nL 88.367788 106.985142 \nL 88.388705 105.939452 \nL 88.50823 96.217989 \nL 88.520183 95.417919 \nL 88.532135 96.38189 \nL 88.533629 95.901855 \nL 89.071493 90.301444 \nL 89.075975 90.621468 \nL 89.104362 90.61868 \nL 89.223888 100.909075 \nL 89.249287 98.846654 \nL 89.234346 100.923701 \nL 89.250781 99.006098 \nL 89.356859 99.165542 \nL 89.534653 111.479525 \nL 89.537641 111.182545 \nL 90.076999 113.706877 \nL 90.111363 115.933534 \nL 90.221924 117.246881 \nL 90.254793 122.449698 \nL 90.368342 125.737608 \nL 90.398223 125.050018 \nL 90.541654 119.478478 \nL 90.940569 121.841351 \nL 90.958498 120.308039 \nL 91.085494 123.260853 \nL 91.257311 121.854751 \nL 91.376837 119.042547 \nL 91.385801 119.745598 \nL 91.509808 120.59015 \nL 92.119387 131.779756 \nL 92.232936 128.305896 \nL 92.262818 132.057664 \nL 92.54669 123.44304 \nL 93.120411 114.266322 \nL 93.1234 116.13628 \nL 93.372909 121.263572 \nL 93.377391 121.263572 \nL 93.378885 121.953889 \nL 93.390837 120.572112 \nL 93.41026 120.988611 \nL 93.951112 117.37644 \nL 93.975017 116.403933 \nL 94.381403 129.353098 \nL 94.962595 126.110259 \nL 94.967077 126.380496 \nL 94.987994 124.623958 \nL 95.097061 130.23914 \nL 95.131424 129.058292 \nL 95.410815 124.3349 \nL 95.974077 120.923561 \nL 95.992006 121.710793 \nL 96.256456 117.087067 \nL 96.413333 118.693005 \nL 96.53734 122.440194 \nL 96.565727 121.789521 \nL 96.994524 121.399118 \nL 97.25001 126.474364 \nL 97.25748 126.215649 \nL 97.263456 125.956934 \nL 97.270927 126.862437 \nL 97.282879 130.225735 \nL 97.391946 129.091295 \nL 97.39344 129.973637 \nL 97.394934 130.603882 \nL 97.417345 128.094406 \nL 97.426309 128.345757 \nL 97.542847 126.462459 \nL 97.56974 126.713565 \nL 97.965667 124.957518 \nL 98.000031 125.333814 \nL 98.127026 125.08295 \nL 98.138979 123.700545 \nL 98.141967 124.335592 \nL 98.265974 126.989931 \nL 98.406417 124.328884 \nL 98.430322 126.522104 \nL 98.968185 125.507127 \nL 99.004043 127.53609 \nL 99.286421 134.184185 \nL 99.434334 131.754936 \nL 99.541907 127.197419 \nL 99.982656 130.516685 \nL 99.991621 129.658071 \nL 100.273999 134.374225 \nL 101.298928 145.065768 \nL 101.407995 143.462528 \nL 101.437876 143.931265 \nL 101.442359 145.081891 \nL 101.56786 144.851656 \nL 101.576825 144.159411 \nL 101.582801 144.507244 \nL 101.999645 142.657452 \nL 102.007116 142.773064 \nL 102.014586 143.1199 \nL 114.04331 141.732556 \nL 114.047793 142.434183 \nL 114.20467 140.108799 \nL 114.207658 140.225069 \nL 114.614044 141.154456 \nL 114.62002 141.038953 \nL 114.637949 141.617013 \nL 115.030888 141.271806 \nL 115.03537 140.581394 \nL 115.21167 141.041669 \nL 115.49106 137.934815 \nL 116.182813 140.378408 \nL 116.338196 141.861654 \nL 116.471168 141.861654 \nL 116.49059 142.432133 \nL 116.502543 141.519367 \nL 117.076264 142.774421 \nL 117.192801 141.747558 \nL 117.219695 141.86262 \nL 117.333244 142.552339 \nL 117.47518 145.077018 \nL 117.636539 143.161096 \nL 117.642515 143.386498 \nL 118.068324 144.626213 \nL 118.220719 143.956867 \nL 118.329786 143.287521 \nL 118.477698 145.853346 \nL 118.501603 145.083155 \nL 119.084289 142.662553 \nL 119.226225 144.422991 \nL 119.357703 143.872854 \nL 119.371149 144.976535 \nL 119.493663 146.290564 \nL 119.498145 146.0729 \nL 119.620658 145.200663 \nL 119.649046 146.408723 \nL 119.656516 146.082535 \nL 120.213803 149.454238 \nL 120.228743 150.208421 \nL 120.231731 149.67031 \nL 120.369186 149.237379 \nL 120.375162 148.479751 \nL 120.48124 149.237379 \nL 120.505146 148.912484 \nL 120.624671 147.825106 \nL 121.216321 147.389797 \nL 121.222297 147.607451 \nL 121.231262 147.280771 \nL 121.379174 145.316518 \nL 121.501687 145.42745 \nL 121.633165 149.088213 \nL 122.205393 146.828334 \nL 122.519146 146.720721 \nL 122.652118 150.487186 \nL 122.655106 149.94912 \nL 123.082409 147.999771 \nL 123.09735 146.689422 \nL 123.100338 147.126205 \nL 123.354329 152.908301 \nL 123.373752 153.177272 \nL 123.37674 152.047592 \nL 123.382716 152.536452 \nL 123.524653 149.669591 \nL 124.071481 148.263206 \nL 124.072975 148.479573 \nL 124.353859 145.875616 \nL 124.379258 147.520608 \nL 124.498784 142.067332 \nL 124.500278 142.176398 \nL 125.094916 137.377515 \nL 125.218923 138.057616 \nL 125.221912 136.812605 \nL 125.381777 141.108699 \nL 125.519231 140.552799 \nL 125.650709 138.662737 \nL 125.68059 139.678857 \nL 127.088 135.983512 \nL 127.09547 136.095492 \nL 127.104435 136.879353 \nL 127.385319 142.665977 \nL 127.392789 142.555201 \nL 127.654251 143.219855 \nL 127.657239 142.998203 \nL 128.118905 141.555494 \nL 128.513339 144.812212 \nL 128.662745 144.484152 \nL 129.231984 143.718678 \nL 129.264854 143.937385 \nL 129.520339 142.297084 \nL 129.524821 141.521187 \nL 129.548726 142.189569 \nL 130.095555 142.523303 \nL 130.123942 144.411535 \nL 130.382415 147.169871 \nL 130.702145 142.204865 \nL 131.098073 148.530339 \nL 131.116002 148.093528 \nL 131.117496 147.0015 \nL 131.248973 147.656717 \nL 131.275867 149.614715 \nL 131.384933 144.491437 \nL 131.419297 145.505791 \nL 132.257468 139.45052 \nL 132.399404 143.891031 \nL 132.535364 140.050483 \nL 132.54134 140.341912 \nL 132.560763 139.231381 \nL 133.106097 137.584604 \nL 133.113568 138.055112 \nL 133.128508 137.937485 \nL 134.142979 140.880944 \nL 134.280433 140.19105 \nL 134.286409 140.765962 \nL 134.538907 140.19105 \nL 134.57327 140.891326 \nL 134.559824 139.500088 \nL 134.574764 140.313735 \nL 134.710724 141.699954 \nL 134.712218 141.584436 \nL 135.112628 142.856336 \nL 135.121592 142.627471 \nL 135.397994 141.139849 \nL 135.408453 141.712011 \nL 135.544413 140.003511 \nL 135.560848 140.915976 \nL 135.574294 140.349892 \nL 135.716231 140.123459 \nL 135.722207 140.463109 \nL 136.119628 138.085557 \nL 136.407983 142.176867 \nL 136.690361 145.583731 \nL 136.726219 145.356681 \nL 137.120652 145.697898 \nL 137.144558 146.493853 \nL 137.155016 145.131992 \nL 137.413489 146.274215 \nL 137.565884 143.18446 \nL 137.576343 144.234169 \nL 137.721267 143.769422 \nL 138.268095 142.49137 \nL 138.272577 141.445691 \nL 138.290506 142.026624 \nL 138.410031 141.214861 \nL 138.447383 143.418217 \nL 138.729761 138.315989 \nL 138.734244 138.550552 \nL 139.421514 133.049759 \nL 139.451395 133.403004 \nL 139.557474 133.520606 \nL 139.560462 133.403113 \nL 139.594826 131.993197 \nL 139.702398 132.463169 \nL 139.730786 133.049441 \nL 139.738256 132.815106 \nL 140.137172 132.346435 \nL 140.158088 134.917318 \nL 140.165559 134.859488 \nL 140.421044 132.362415 \nL 140.424032 132.594701 \nL 140.435985 135.717409 \nL 140.449431 134.799273 \nL 140.561486 134.569739 \nL 140.59585 138.116582 \nL 140.706411 138.230355 \nL 140.713881 138.116686 \nL 140.716869 137.66201 \nL 140.742268 139.478426 \nL 141.280132 140.152995 \nL 141.281626 140.040567 \nL 141.29059 141.611896 \nL 141.31599 140.939173 \nL 141.442985 143.412384 \nL 141.598368 142.078367 \nL 141.60285 142.415632 \nL 141.719387 142.079296 \nL 141.720881 142.191408 \nL 141.725364 141.855073 \nL 141.732834 142.754544 \nL 142.140714 144.101219 \nL 142.427575 148.306437 \nL 142.581463 150.127816 \nL 142.606862 150.021685 \nL 143.149208 152.039999 \nL 143.150702 152.464523 \nL 143.17909 151.453769 \nL 143.288157 151.293631 \nL 143.289651 151.613907 \nL 143.319532 151.079725 \nL 143.455492 149.153898 \nL 143.582488 149.905279 \nL 143.598922 149.529588 \nL 143.604899 148.829657 \nL 143.606393 148.883817 \nL 144.157703 146.989086 \nL 144.160691 147.097356 \nL 144.183102 147.746978 \nL 144.184596 147.530438 \nL 144.307109 147.692843 \nL 144.308604 147.584573 \nL 144.732918 150.765844 \nL 144.750847 150.34492 \nL 145.187114 149.608304 \nL 145.467999 152.239077 \nL 145.618899 152.239077 \nL 145.724978 151.822644 \nL 146.304676 150.781559 \nL 146.44213 151.40621 \nL 146.45707 152.446468 \nL 146.606477 152.13644 \nL 146.72899 149.024637 \nL 146.733473 149.768451 \nL 146.751401 149.66268 \nL 146.763354 149.768546 \nL 147.3057 150.085857 \nL 147.480505 155.884723 \nL 147.589572 156.906879 \nL 147.59256 156.702448 \nL 147.613477 154.751019 \nL 147.619454 155.06179 \nL 148.164788 154.9582 \nL 148.166282 154.854609 \nL 148.175246 155.890329 \nL 148.315688 156.717568 \nL 148.450154 156.101575 \nL 148.457625 156.306906 \nL 148.471071 156.922899 \nL 148.487506 156.717568 \nL 148.602549 155.168347 \nL 148.604043 154.855618 \nL 148.774367 156.942514 \nL 149.1688 154.778008 \nL 149.186729 154.88108 \nL 149.330159 154.674937 \nL 149.455661 155.293367 \nL 149.602079 150.758213 \nL 149.618514 151.583416 \nL 149.63196 151.993722 \nL 149.634949 151.891145 \nL 149.761944 151.891145 \nL 149.778379 151.685813 \nL 150.177294 150.96715 \nL 150.181777 150.094489 \nL 150.20867 150.45382 \nL 150.322219 151.273722 \nL 150.462661 149.53143 \nL 150.476108 150.259552 \nL 150.606091 151.293354 \nL 150.613562 150.469211 \nL 150.621032 150.057139 \nL 150.638961 150.263175 \nL 150.745039 151.088037 \nL 151.179813 149.020059 \nL 151.184295 149.964455 \nL 151.2082 148.402932 \nL 151.323243 148.715237 \nL 151.60861 151.094184 \nL 151.613092 152.531361 \nL 151.622056 152.429332 \nL 151.781921 153.449619 \nL 152.191295 153.551648 \nL 152.203248 153.449619 \nL 152.322773 152.021217 \nL 152.349666 152.225275 \nL 152.476662 153.549702 \nL 152.502061 152.6402 \nL 152.503555 152.334656 \nL 152.609634 152.641 \nL 152.611128 152.641 \nL 152.617104 153.04839 \nL 152.776969 153.04839 \nL 153.205766 154.167738 \nL 153.347702 153.557185 \nL 153.353679 153.862461 \nL 153.492627 155.894524 \nL 153.616634 156.551904 \nL 153.618128 156.501447 \nL 153.650998 158.816441 \nL 154.215755 161.220707 \nL 154.217249 161.516845 \nL 154.483192 164.665795 \nL 154.507097 163.833759 \nL 154.510086 162.994031 \nL 154.626623 164.784331 \nL 154.628117 164.39281 \nL 154.761089 164.588571 \nL 154.787982 165.077455 \nL 155.194368 167.517994 \nL 155.487205 164.366729 \nL 155.496169 164.844193 \nL 155.802453 165.512973 \nL 156.199874 165.322317 \nL 156.225273 164.273709 \nL 156.226767 164.464365 \nL 156.371692 166.079069 \nL 156.78256 170.127245 \nL 157.209863 167.98879 \nL 157.378692 163.864515 \nL 157.631189 164.990748 \nL 157.643142 164.803915 \nL 157.77462 163.866581 \nL 157.808983 164.522399 \nL 157.810477 164.42902 \nL 158.204911 164.242263 \nL 158.240768 163.215099 \nL 158.354317 163.962128 \nL 158.384198 165.034224 \nL 158.657613 162.469765 \nL 159.24478 159.499528 \nL 159.355341 158.349758 \nL 159.388211 158.446055 \nL 159.495784 158.254749 \nL 159.500266 158.876294 \nL 159.528653 158.158533 \nL 159.531641 158.254387 \nL 159.793103 161.49086 \nL 159.818502 161.303834 \nL 160.386247 160.742057 \nL 160.520713 158.665185 \nL 160.535653 159.526641 \nL 160.649202 160.005048 \nL 160.819526 157.623074 \nL 160.82102 157.813632 \nL 161.225912 157.813632 \nL 161.379801 157.527795 \nL 161.384283 157.718353 \nL 161.514267 157.718353 \nL 161.675626 156.479726 \nL 161.683096 156.575005 \nL 161.825032 154.383589 \nL 162.37186 154.577815 \nL 162.376343 154.093063 \nL 162.389789 154.577977 \nL 162.50782 153.609284 \nL 162.512303 154.481108 \nL 162.793187 149.385699 \nL 162.81261 151.292111 \nL 162.830539 151.292111 \nL 163.229454 148.428744 \nL 163.248877 149.119902 \nL 163.386331 148.823691 \nL 163.399778 148.22979 \nL 163.818116 149.916645 \nL 164.231972 148.344774 \nL 164.233466 147.902686 \nL 164.26036 148.148291 \nL 164.524809 147.754674 \nL 164.533774 148.3464 \nL 164.551703 148.149592 \nL 164.669734 149.920858 \nL 164.680192 147.854382 \nL 164.813164 150.658245 \nL 164.835575 150.071372 \nL 165.522845 148.310755 \nL 165.533304 149.246055 \nL 165.548244 147.922352 \nL 165.699145 151.452228 \nL 165.809706 150.471707 \nL 166.239997 151.460443 \nL 166.399862 148.617031 \nL 166.401356 148.617031 \nL 166.407332 147.930124 \nL 166.416297 148.322643 \nL 166.532834 152.025508 \nL 166.559727 151.355902 \nL 166.668794 150.97327 \nL 166.670288 151.355902 \nL 166.677758 152.168995 \nL 166.679252 151.931498 \nL 166.828659 150.601517 \nL 166.842106 149.746529 \nL 167.276879 151.266508 \nL 167.382957 149.841528 \nL 167.390428 151.185855 \nL 167.409851 152.041328 \nL 167.420309 151.757271 \nL 167.536846 153.935043 \nL 167.699699 153.842098 \nL 167.819225 155.143326 \nL 168.40191 156.99629 \nL 168.406393 156.446621 \nL 168.421333 156.538672 \nL 168.687277 154.423788 \nL 168.693253 155.619023 \nL 168.697735 153.958428 \nL 168.711182 155.077681 \nL 169.280421 155.539568 \nL 169.284903 155.44719 \nL 169.402935 153.692019 \nL 169.677843 154.338661 \nL 169.715194 153.228214 \nL 170.414417 148.335732 \nL 170.417405 147.728808 \nL 170.424876 148.104208 \nL 170.545895 146.508758 \nL 170.568306 147.459453 \nL 170.681855 149.546013 \nL 170.719207 146.492921 \nL 170.83425 146.784762 \nL 170.852178 146.299542 \nL 170.855167 146.49363 \nL 171.25707 148.819261 \nL 171.258564 148.723928 \nL 171.292928 150.812707 \nL 171.422912 151.001244 \nL 171.715749 153.719403 \nL 172.273035 155.398661 \nL 172.287976 155.950395 \nL 172.700338 159.812531 \nL 172.716773 159.012203 \nL 172.839286 157.767249 \nL 172.866179 160.343375 \nL 173.275553 161.84029 \nL 173.408525 163.334393 \nL 173.710327 161.312959 \nL 173.713315 161.576624 \nL 173.731243 161.928453 \nL 173.855251 161.226994 \nL 173.870192 161.665406 \nL 174.414032 160.085129 \nL 174.415526 160.262557 \nL 174.433454 158.488277 \nL 174.442419 159.11824 \nL 174.874204 164.950279 \nL 175.271625 167.908691 \nL 175.305989 167.569816 \nL 175.418044 167.315659 \nL 175.419538 167.485097 \nL 175.42402 167.823776 \nL 175.710881 167.063144 \nL 175.852817 166.808793 \nL 175.878216 165.960957 \nL 176.293567 164.265285 \nL 176.420562 164.943554 \nL 176.45642 165.70544 \nL 176.711905 166.380085 \nL 176.74328 167.138159 \nL 176.861312 165.376689 \nL 177.282638 163.325687 \nL 177.284132 163.412249 \nL 177.317002 161.407107 \nL 177.427563 161.143757 \nL 177.432045 161.407107 \nL 177.451468 161.845749 \nL 177.566511 162.020769 \nL 177.568005 161.845749 \nL 177.603862 160.350358 \nL 178.289639 156.360654 \nL 178.291133 156.449401 \nL 178.437551 158.401848 \nL 178.606381 158.314595 \nL 178.737858 160.844953 \nL 178.894735 162.638863 \nL 179.325026 163.064746 \nL 179.5835 161.113123 \nL 179.728424 160.434298 \nL 180.294675 158.652381 \nL 180.305133 157.887055 \nL 180.448564 156.858178 \nL 180.459022 157.117154 \nL 180.578548 155.911324 \nL 180.586018 156.341978 \nL 180.747377 160.033371 \nL 180.892301 163.694692 \nL 181.300181 165.280078 \nL 181.439129 165.196636 \nL 181.476481 166.030107 \nL 181.745413 165.530968 \nL 181.761848 165.196509 \nL 181.763342 165.531792 \nL 181.870915 166.202357 \nL 181.873903 165.952417 \nL 181.906772 164.619401 \nL 182.304194 164.869342 \nL 182.316146 164.032921 \nL 182.337063 165.875121 \nL 182.464059 164.626396 \nL 182.467047 165.126449 \nL 182.594042 168.200323 \nL 182.623924 166.818968 \nL 182.877915 167.311489 \nL 182.90929 168.376075 \nL 183.31717 169.350313 \nL 183.339581 170.316301 \nL 183.450142 170.316301 \nL 183.451636 170.636786 \nL 183.484506 170.0757 \nL 183.734015 169.754024 \nL 183.738497 169.995281 \nL 183.763896 168.46732 \nL 183.883421 168.46732 \nL 184.307736 168.304196 \nL 184.313712 169.038256 \nL 184.463119 171.069692 \nL 184.488518 170.663159 \nL 184.627466 168.461726 \nL 184.631948 168.793128 \nL 184.742509 171.774049 \nL 184.770896 171.048952 \nL 185.313242 169.840458 \nL 185.316231 169.518193 \nL 185.322207 169.921025 \nL 185.3491 169.599238 \nL 185.491036 166.783609 \nL 185.607573 167.185842 \nL 185.626996 166.944502 \nL 185.635961 166.863878 \nL 185.88547 166.137731 \nL 185.886964 166.381386 \nL 186.317255 168.488398 \nL 186.327713 168.164243 \nL 186.459191 166.781641 \nL 186.490566 168.329408 \nL 186.610092 170.679504 \nL 186.633997 170.359018 \nL 186.889482 173.284914 \nL 186.910399 171.822983 \nL 187.325749 175.018759 \nL 187.339196 173.971015 \nL 187.342184 173.768853 \nL 187.345172 173.89015 \nL 187.470674 173.607124 \nL 187.47665 173.688204 \nL 187.494579 175.106027 \nL 187.640997 172.01042 \nL 187.750064 172.259132 \nL 187.787416 173.953402 \nL 187.911423 170.427711 \nL 187.930846 170.551179 \nL 188.341714 171.786163 \nL 188.346196 171.296732 \nL 188.618116 171.215161 \nL 188.760052 171.459876 \nL 188.774993 171.704406 \nL 188.783957 171.133836 \nL 188.928882 171.379669 \nL 188.933364 171.870213 \nL 189.758088 175.27316 \nL 189.935882 173.597523 \nL 190.487193 174.235861 \nL 190.50811 174.475237 \nL 190.629129 174.156788 \nL 190.633611 174.395625 \nL 190.929436 171.262391 \nL 191.482241 169.238878 \nL 191.494193 169.56258 \nL 191.495687 169.80522 \nL 191.500169 169.482423 \nL 191.513616 169.482423 \nL 191.797488 166.173865 \nL 191.940919 168.025908 \nL 192.339834 168.343779 \nL 192.360751 169.45633 \nL 192.375692 169.141684 \nL 192.502688 170.006732 \nL 192.511652 170.360081 \nL 192.520616 170.320921 \nL 192.628189 168.519569 \nL 192.664047 169.554138 \nL 192.771619 169.791478 \nL 192.925508 167.498863 \nL 192.938955 167.656975 \nL 193.511182 170.102391 \nL 193.515664 169.439575 \nL 193.524629 169.0087 \nL 193.644154 170.975015 \nL 193.663577 170.048098 \nL 193.775632 170.048098 \nL 193.789078 170.666541 \nL 193.799537 170.512055 \nL 193.950437 172.363472 \nL 194.352341 172.591582 \nL 194.380728 173.350332 \nL 194.503242 171.387366 \nL 194.528641 172.142353 \nL 194.643684 171.390016 \nL 194.78562 174.166132 \nL 194.788608 173.86856 \nL 194.790102 173.273418 \nL 194.793091 173.347811 \nL 195.354859 173.570989 \nL 195.644708 179.222463 \nL 195.676084 179.155024 \nL 195.813538 177.317455 \nL 195.959956 173.670082 \nL 196.355884 172.359752 \nL 196.358872 173.218118 \nL 196.393235 165.443796 \nL 196.529195 169.447664 \nL 196.536665 167.771406 \nL 196.644238 164.562092 \nL 196.929605 155.422081 \nL 196.96098 156.130585 \nL 197.506314 162.095822 \nL 197.527231 161.503771 \nL 197.790187 153.468793 \nL 197.791681 152.369269 \nL 197.796163 155.412871 \nL 197.827538 154.567884 \nL 197.970969 157.423844 \nL 198.511821 154.832678 \nL 198.516303 155.855042 \nL 198.526761 155.005019 \nL 198.677662 152.284747 \nL 198.804658 155.855104 \nL 198.810634 155.855104 \nL 198.946594 159.132599 \nL 198.954064 158.967613 \nL 198.971993 158.142684 \nL 199.372403 157.895205 \nL 199.375391 158.555149 \nL 199.692133 152.368178 \nL 199.819128 154.885105 \nL 199.826599 152.996083 \nL 199.943136 150.211295 \nL 199.974511 154.111915 \nL 199.978993 152.898488 \nL 200.391356 153.071835 \nL 200.546738 154.978649 \nL 200.811188 152.844738 \nL 200.81567 152.586669 \nL 200.832105 153.361254 \nL 200.839575 153.189841 \nL 200.950136 155.59139 \nL 200.957607 154.751173 \nL 201.526846 152.566607 \nL 201.6643 156.176457 \nL 202.52787 154.350602 \nL 202.560739 155.443159 \nL 202.668312 155.107832 \nL 202.822201 149.55886 \nL 202.8476 151.404014 \nL 202.986548 148.396679 \nL 203.403392 153.935268 \nL 203.410863 155.234868 \nL 203.421321 154.029553 \nL 203.540846 153.685177 \nL 203.561763 156.612371 \nL 203.564752 155.663399 \nL 203.676806 154.010913 \nL 203.7037 154.62665 \nL 203.823225 159.232717 \nL 203.842648 160.677465 \nL 203.844142 160.509643 \nL 204.393958 163.614366 \nL 204.411887 161.51658 \nL 204.70323 165.415852 \nL 204.712194 163.750561 \nL 204.837696 162.168535 \nL 205.411417 164.000355 \nL 205.427852 162.917916 \nL 205.716206 166.60747 \nL 205.825273 166.688876 \nL 205.826767 166.933092 \nL 205.852166 166.608193 \nL 205.983644 168.801257 \nL 206.003067 168.397324 \nL 206.3975 169.049543 \nL 206.4229 169.701762 \nL 206.563342 168.648245 \nL 206.56633 169.053444 \nL 206.688843 170.269041 \nL 206.717231 169.70807 \nL 206.859167 170.589595 \nL 206.996621 168.421774 \nL 207.007079 168.585055 \nL 207.407489 168.829976 \nL 207.550919 168.178015 \nL 207.561378 169.970741 \nL 207.580801 169.489292 \nL 207.833298 172.675572 \nL 207.83778 171.950801 \nL 207.858697 171.306559 \nL 207.984198 170.984439 \nL 208.002127 170.259667 \nL 208.005115 170.581788 \nL 208.410007 171.948291 \nL 208.57286 167.506769 \nL 208.690892 167.177357 \nL 208.695374 166.600887 \nL 208.728243 169.470491 \nL 208.838804 167.41677 \nL 208.849263 165.830414 \nL 208.868685 167.843102 \nL 208.98074 169.002118 \nL 208.994187 171.071789 \nL 209.411031 170.665659 \nL 209.440913 171.560768 \nL 209.445395 171.317184 \nL 209.584343 172.456489 \nL 209.585837 171.973359 \nL 209.841322 169.396665 \nL 209.862239 168.430405 \nL 209.999693 168.994057 \nL 210.004176 169.557708 \nL 210.555486 171.560344 \nL 210.558474 170.518973 \nL 210.579391 171.247546 \nL 210.875216 171.488392 \nL 211.006694 169.879678 \nL 211.422044 172.799767 \nL 211.425032 173.038786 \nL 211.429514 172.401401 \nL 211.450431 172.401401 \nL 211.59685 172.0808 \nL 211.711893 173.683808 \nL 211.731316 172.641852 \nL 212.56351 176.944247 \nL 212.599368 180.501895 \nL 213.007248 176.409031 \nL 213.029659 177.279394 \nL 213.573499 175.553032 \nL 213.597404 176.415804 \nL 214.018731 172.498099 \nL 214.581994 172.498099 \nL 214.601416 172.897772 \nL 214.717954 172.897772 \nL 214.876325 173.856988 \nL 214.894253 173.697299 \nL 215.448552 178.500592 \nL 215.611405 174.536463 \nL 215.612899 174.126825 \nL 215.872866 176.175015 \nL 215.890795 175.765377 \nL 216.032732 173.873687 \nL 216.04319 174.778408 \nL 216.581054 172.475482 \nL 216.584042 172.643595 \nL 216.58703 172.979292 \nL 216.757353 169.761274 \nL 216.760342 169.501831 \nL 217.020309 175.263778 \nL 217.047202 174.850109 \nL 217.444624 172.16126 \nL 217.465541 172.203692 \nL 217.888361 173.643644 \nL 217.889855 173.559083 \nL 217.907784 173.305199 \nL 218.025815 175.510781 \nL 218.030298 175.012225 \nL 218.477023 172.851815 \nL 218.480011 172.934907 \nL 218.875939 171.605424 \nL 218.896856 172.53024 \nL 218.902832 172.196329 \nL 219.457131 174.116436 \nL 219.628948 177.350915 \nL 219.760426 175.635917 \nL 219.878457 176.948585 \nL 219.912821 176.20905 \nL 219.915809 176.788577 \nL 220.030852 174.487852 \nL 220.059239 174.487852 \nL 220.458155 176.049058 \nL 220.613538 180.068719 \nL 220.615032 179.910122 \nL 220.743521 180.781921 \nL 220.748004 181.177196 \nL 220.919821 182.203578 \nL 221.475614 181.419696 \nL 221.61008 181.972641 \nL 221.611574 181.579805 \nL 221.747534 181.894074 \nL 222.049335 176.809097 \nL 222.067264 176.971635 \nL 222.615586 178.843727 \nL 223.056335 182.28173 \nL 223.471686 183.558987 \nL 223.474674 184.116471 \nL 223.48065 183.479346 \nL 223.501567 184.040352 \nL 223.610634 185.076476 \nL 223.633045 184.439366 \nL 223.782451 178.307173 \nL 224.055865 182.978016 \nL 224.075288 181.178534 \nL 224.468228 180.605971 \nL 224.498109 181.505712 \nL 224.505579 181.424372 \nL 224.755088 178.740144 \nL 224.789452 179.87687 \nL 224.79244 179.634943 \nL 225.505109 175.925384 \nL 225.509592 176.167745 \nL 225.763583 176.571267 \nL 225.766571 176.32934 \nL 225.796452 175.603559 \nL 226.627153 181.651731 \nL 226.657034 181.33139 \nL 226.772077 184.806781 \nL 226.773571 184.645505 \nL 226.912519 185.008958 \nL 226.91999 185.411343 \nL 226.942401 184.40364 \nL 226.943895 184.72645 \nL 227.061926 185.089613 \nL 227.087325 186.739754 \nL 227.486241 185.858769 \nL 227.495205 185.535572 \nL 227.51164 185.981402 \nL 227.916532 182.618774 \nL 227.943425 182.944953 \nL 228.488759 183.916496 \nL 228.633683 182.168508 \nL 228.781596 179.599795 \nL 228.808489 180.57938 \nL 228.922038 181.714797 \nL 228.948931 181.232611 \nL 229.06248 180.428653 \nL 229.066962 180.750236 \nL 229.090868 182.19235 \nL 229.093856 181.872771 \nL 229.631719 182.751613 \nL 229.633213 182.671719 \nL 229.669071 182.192038 \nL 230.078445 179.629883 \nL 230.097868 179.874293 \nL 230.099362 180.282934 \nL 230.501266 178.980446 \nL 230.525171 179.061851 \nL 230.928569 172.449377 \nL 230.936039 171.495418 \nL 230.953968 172.107919 \nL 231.529183 173.853645 \nL 231.677096 175.944287 \nL 231.963956 169.332833 \nL 232.104398 173.561698 \nL 232.107387 172.939899 \nL 232.537678 176.140722 \nL 232.646744 174.457274 \nL 232.648238 174.634479 \nL 232.824538 180.058637 \nL 232.936593 178.068019 \nL 232.956016 175.599481 \nL 232.959004 176.050859 \nL 233.522267 172.814822 \nL 233.801657 177.938547 \nL 233.827056 176.590198 \nL 234.084036 174.222642 \nL 234.115411 177.455491 \nL 234.514327 179.092783 \nL 234.539726 181.612105 \nL 234.67718 183.229366 \nL 234.68465 182.16335 \nL 234.828081 177.455111 \nL 234.94163 176.922102 \nL 234.952088 173.724053 \nL 235.083566 169.548823 \nL 235.119423 170.98171 \nL 235.528798 170.98171 \nL 235.546726 170.267538 \nL 235.54822 170.35681 \nL 235.681192 170.267538 \nL 235.800718 168.214668 \nL 235.824623 167.856704 \nL 235.947136 169.914997 \nL 235.971041 168.750726 \nL 236.096543 164.832931 \nL 236.123436 167.545811 \nL 236.541774 170.505201 \nL 236.679228 176.17088 \nL 236.697157 175.375737 \nL 236.813694 175.286511 \nL 237.112507 170.557563 \nL 237.12446 171.449817 \nL 237.813224 176.4094 \nL 238.094109 178.610508 \nL 238.097097 178.346375 \nL 238.561751 180.641352 \nL 238.690241 180.123294 \nL 238.972619 176.842258 \nL 239.099615 177.44666 \nL 239.105591 177.361818 \nL 239.532894 182.118507 \nL 239.671842 182.283784 \nL 239.67483 181.622677 \nL 239.709194 185.274088 \nL 239.973644 191.818848 \nL 239.991572 190.421342 \nL 240.118568 189.188249 \nL 240.12305 189.27073 \nL 240.129026 190.75415 \nL 240.535412 188.852376 \nL 240.569776 189.104456 \nL 240.686313 187.512016 \nL 240.689301 188.517767 \nL 240.693783 190.103494 \nL 240.710218 189.02494 \nL 240.84319 185.955212 \nL 240.853648 186.288042 \nL 240.983632 186.454663 \nL 241.136027 184.359995 \nL 241.545401 184.445064 \nL 241.560342 185.550026 \nL 241.573788 184.185455 \nL 241.717219 187.604415 \nL 241.972704 186.601169 \nL 241.995115 184.724244 \nL 242.113146 186.11869 \nL 242.146015 185.781454 \nL 242.540449 184.311428 \nL 242.549413 186.127342 \nL 242.559872 185.782875 \nL 242.828804 186.13086 \nL 242.848226 184.483654 \nL 242.858685 185.177215 \nL 242.975222 186.042302 \nL 242.997633 185.350606 \nL 242.999127 185.002926 \nL 243.120146 185.090147 \nL 243.132099 183.870112 \nL 243.148534 184.653521 \nL 243.550437 185.175494 \nL 243.574342 186.992975 \nL 243.581813 186.906428 \nL 243.837298 186.906428 \nL 243.867179 185.34566 \nL 244.140593 178.731159 \nL 244.149558 179.706898 \nL 244.558932 179.884085 \nL 244.576861 181.120755 \nL 244.696386 180.945381 \nL 244.729255 181.823748 \nL 244.862227 177.991827 \nL 244.863721 178.68854 \nL 245.004164 179.64652 \nL 245.014622 179.128781 \nL 245.152076 179.64652 \nL 245.159546 179.301145 \nL 245.585355 178.087597 \nL 245.86624 173.178004 \nL 246.00967 173.353636 \nL 246.012658 173.706062 \nL 246.014152 172.388829 \nL 246.020128 172.915722 \nL 246.163559 170.808149 \nL 246.717857 168.343292 \nL 246.734292 167.078713 \nL 246.73728 168.62375 \nL 247.581427 171.327839 \nL 247.590392 170.800282 \nL 247.717387 170.184799 \nL 247.739798 170.36108 \nL 248.171583 165.360663 \nL 248.567511 165.27239 \nL 248.570499 165.537419 \nL 248.601874 164.656104 \nL 248.873794 161.833109 \nL 249.174101 157.890654 \nL 249.571523 158.07478 \nL 249.855396 156.604143 \nL 249.865854 157.155632 \nL 250.001814 155.868824 \nL 250.027213 157.449011 \nL 251.032719 156.623828 \nL 251.162703 153.414783 \nL 251.182126 154.790088 \nL 251.606441 152.139556 \nL 251.72746 153.236328 \nL 251.864914 152.137042 \nL 251.869396 151.952518 \nL 251.87089 152.137333 \nL 251.876867 152.137333 \nL 252.044202 154.724747 \nL 252.582066 156.847054 \nL 252.585054 156.756613 \nL 252.588042 157.302282 \nL 252.611947 154.829914 \nL 252.617923 155.290714 \nL 252.876397 153.822825 \nL 252.885361 154.28154 \nL 253.036262 157.396191 \nL 253.155787 154.54982 \nL 253.190151 155.113906 \nL 253.596537 151.079487 \nL 254.028322 150.798016 \nL 254.052227 150.610368 \nL 254.179222 147.514186 \nL 254.195657 147.983304 \nL 254.625948 145.262417 \nL 254.876951 146.669773 \nL 254.882927 146.482125 \nL 254.90982 148.917698 \nL 255.186223 144.727689 \nL 255.199669 143.865987 \nL 256.178282 147.236033 \nL 256.194717 147.705698 \nL 256.896928 142.746761 \nL 257.049323 145.037481 \nL 257.050817 144.805456 \nL 257.059781 145.269507 \nL 257.611092 144.251727 \nL 257.62902 143.60405 \nL 257.779921 144.80688 \nL 258.604645 146.006037 \nL 258.637515 145.544823 \nL 258.748076 147.674562 \nL 258.783933 147.492612 \nL 259.617622 146.582865 \nL 259.634057 146.766205 \nL 259.902989 147.498445 \nL 259.905977 147.224065 \nL 259.926894 148.047204 \nL 260.201802 148.047204 \nL 260.20479 147.864284 \nL 260.219731 148.687143 \nL 260.763571 149.369941 \nL 260.784488 148.961452 \nL 260.766559 149.370571 \nL 260.793452 149.052282 \nL 260.915965 148.506464 \nL 260.927918 147.050949 \nL 260.929412 147.505797 \nL 261.065372 145.413495 \nL 261.069854 145.506071 \nL 261.640587 149.57603 \nL 261.648058 148.931008 \nL 261.649552 148.378133 \nL 261.654034 148.746716 \nL 261.79597 143.756269 \nL 261.797464 144.236726 \nL 261.928942 143.758167 \nL 262.6446 155.98082 \nL 262.658046 154.939344 \nL 262.7955 151.322959 \nL 262.801477 151.608463 \nL 262.912037 151.227791 \nL 262.944907 151.800961 \nL 263.056962 151.515691 \nL 263.065926 150.85006 \nL 263.079373 152.276179 \nL 263.085349 151.991217 \nL 263.200392 149.231369 \nL 263.64413 147.672425 \nL 263.769631 148.462208 \nL 263.948919 148.462208 \nL 264.207393 155.205996 \nL 264.802031 157.516236 \nL 264.952932 158.94016 \nL 265.063492 157.815102 \nL 265.789608 156.315024 \nL 265.797079 156.408779 \nL 265.919592 157.437795 \nL 265.927062 155.842714 \nL 265.956944 157.539941 \nL 266.066011 157.446074 \nL 266.932569 152.37722 \nL 266.953486 152.752691 \nL 267.092434 152.470861 \nL 267.240346 150.962999 \nL 267.805103 156.106237 \nL 268.100928 151.899275 \nL 268.677638 153.819845 \nL 268.679132 153.545478 \nL 268.819574 151.528701 \nL 269.254347 154.420161 \nL 269.67418 151.690008 \nL 269.950582 154.693177 \nL 270.253877 156.191232 \nL 270.833575 158.140937 \nL 270.9531 156.055206 \nL 271.098025 157.143413 \nL 271.117447 156.780462 \nL 271.686687 158.236004 \nL 271.819658 158.236004 \nL 271.973547 159.134261 \nL 272.254432 160.120646 \nL 272.267878 159.316515 \nL 272.666794 159.676098 \nL 272.690699 159.138428 \nL 272.813212 159.4079 \nL 272.814706 159.139066 \nL 272.819189 159.318289 \nL 273.236033 159.139066 \nL 273.811248 156.446479 \nL 273.835153 156.814097 \nL 273.844118 157.317958 \nL 274.095121 160.200251 \nL 274.117532 159.74605 \nL 274.132472 164.923941 \nL 274.679301 158.63607 \nL 274.833189 159.982003 \nL 274.849624 159.506958 \nL 274.973632 158.555833 \nL 274.987078 157.026761 \nL 275.133497 155.115421 \nL 275.279915 157.600163 \nL 275.710206 158.933647 \nL 275.982126 155.287921 \nL 276.104639 156.763007 \nL 276.277951 154.23861 \nL 276.699278 152.296766 \nL 276.705254 152.976412 \nL 276.851672 153.753149 \nL 276.969704 153.270907 \nL 277.131063 155.392772 \nL 277.141521 155.296565 \nL 277.689843 153.372415 \nL 277.704784 154.251178 \nL 277.852697 155.127892 \nL 278.005091 153.967732 \nL 279.009104 149.037052 \nL 279.116676 146.233332 \nL 279.690398 145.846612 \nL 279.697868 145.459892 \nL 279.705338 145.749932 \nL 279.853251 145.846612 \nL 280.155052 143.528154 \nL 280.299977 142.465528 \nL 281.01414 145.460202 \nL 282.732316 143.141745 \nL 282.881722 141.664561 \nL 283.017682 138.967249 \nL 283.297073 141.718558 \nL 283.719893 142.117198 \nL 283.722882 142.017538 \nL 283.74081 141.967667 \nL 284.166619 143.115159 \nL 284.311543 138.864621 \nL 285.00479 137.233601 \nL 285.021225 137.381875 \nL 285.022719 137.579418 \nL 285.176608 138.073275 \nL 285.311074 139.155456 \nL 285.320038 138.564549 \nL 286.034201 140.541571 \nL 286.312098 139.082266 \nL 286.318074 139.27684 \nL 286.897772 138.984979 \nL 287.030743 139.568701 \nL 287.314616 142.487311 \nL 287.90029 138.401711 \nL 288.030274 139.351851 \nL 288.757884 138.591739 \nL 288.762366 139.260204 \nL 288.881891 138.686896 \nL 289.17174 136.568429 \nL 289.192657 136.86107 \nL 289.761896 138.903253 \nL 289.766378 138.615815 \nL 291.896916 134.294223 \nL 291.907375 134.49311 \nL 291.916339 135.287405 \nL 296.186379 119.649529 \nL 296.358197 124.08691 \nL 296.794464 125.759477 \nL 296.903531 125.66109 \nL 296.919966 124.874 \nL 296.931918 125.267545 \nL 297.055926 125.464318 \nL 297.19338 123.597792 \nL 297.221767 123.69603 \nL 297.363703 127.403192 \nL 297.767101 129.421997 \nL 297.795488 127.529057 \nL 298.077867 131.407784 \nL 298.085337 131.124892 \nL 298.203368 129.517081 \nL 298.216815 129.611658 \nL 298.363233 131.408623 \nL 298.92799 136.44483 \nL 298.944425 137.745245 \nL 298.945919 137.652537 \nL 299.087855 138.857135 \nL 299.089349 138.673231 \nL 299.214851 142.812101 \nL 299.23278 140.884033 \nL 299.37621 143.087539 \nL 299.794548 136.568833 \nL 299.797537 136.762565 \nL 299.91258 137.342861 \nL 299.915568 138.116589 \nL 299.948437 136.674832 \nL 300.05601 135.377252 \nL 300.060492 136.578715 \nL 300.093362 137.825289 \nL 300.209899 133.400685 \nL 300.236792 135.774337 \nL 300.377234 141.129283 \nL 300.810513 138.021079 \nL 301.097374 145.312733 \nL 301.37527 143.471035 \nL 301.382741 143.845043 \nL 301.804067 144.591335 \nL 301.948992 141.53176 \nL 302.379283 141.902618 \nL 302.953004 141.439046 \nL 302.95898 141.06678 \nL 302.961968 141.532113 \nL 303.375824 142.833067 \nL 303.82255 152.126183 \nL 303.95851 148.503281 \nL 303.965981 149.261858 \nL 304.095964 150.39463 \nL 304.101941 149.740127 \nL 304.103435 149.459404 \nL 304.104929 149.83459 \nL 304.106423 149.55409 \nL 304.243877 153.480866 \nL 304.790705 157.591572 \nL 305.076071 165.5188 \nL 305.088024 165.078982 \nL 305.232948 164.815091 \nL 305.247889 167.100669 \nL 305.255359 165.872127 \nL 306.101001 141.255943 \nL 306.115941 142.849457 \nL 306.371427 167.191467 \nL 306.378897 161.654116 \nL 306.404296 161.821051 \nL 306.815164 179.222388 \nL 306.825623 183.183593 \nL 306.834587 181.558422 \nL 307.084096 191.402782 \nL 307.121448 189.156732 \nL 307.22902 189.97003 \nL 307.264878 194.138182 \nL 307.40532 184.881458 \nL 307.408308 185.135877 \nL 307.801248 183.558479 \nL 307.814694 179.57474 \nL 307.838599 184.339944 \nL 308.119484 163.980594 \nL 308.12546 165.73665 \nL 308.252456 170.157341 \nL 308.442202 162.075057 \nL 308.80526 159.064311 \nL 308.842612 157.451412 \nL 308.980066 156.268619 \nL 309.129472 164.011368 \nL 309.251986 158.860068 \nL 309.265432 159.611299 \nL 309.387946 160.795165 \nL 309.392428 163.244823 \nL 309.416333 161.533905 \nL 309.958679 148.898056 \nL 309.990054 151.14144 \nL 310.129002 152.476788 \nL 310.130496 152.423977 \nL 310.276915 152.740844 \nL 310.835696 151.895865 \nL 310.84466 152.534198 \nL 310.992572 147.032006 \nL 311.101639 151.899329 \nL 311.118074 151.582063 \nL 311.257022 148.399121 \nL 311.280927 149.247905 \nL 311.833732 145.110081 \nL 312.141509 147.762533 \nL 312.405959 146.064964 \nL 313.002091 139.930749 \nL 313.145521 134.44224 \nL 314.139075 149.347307 \nL 314.142063 149.190229 \nL 314.149534 148.666635 \nL 314.436394 142.991826 \nL 314.836804 143.832538 \nL 314.853239 144.463073 \nL 314.975752 143.940351 \nL 314.984717 142.685819 \nL 315.005633 144.983635 \nL 315.010116 143.731616 \nL 315.125159 144.889581 \nL 315.140099 147.287791 \nL 315.296976 147.809141 \nL 315.870698 141.787787 \nL 315.987235 142.410685 \nL 316.014128 140.749622 \nL 316.300989 144.406125 \nL 316.427984 139.934794 \nL 316.444419 140.797606 \nL 317.009176 134.346345 \nL 317.14663 137.56976 \nL 317.161571 137.248305 \nL 317.278108 135.53535 \nL 317.863782 129.325891 \nL 318.022153 124.079969 \nL 318.165583 118.941106 \nL 318.434515 115.836376 \nL 318.444973 116.692853 \nL 319.166607 116.906972 \nL 319.454962 124.389261 \nL 320.021213 125.24438 \nL 320.030177 125.775353 \nL 320.142232 122.809153 \nL 320.155679 123.232896 \nL 320.173607 123.12696 \nL 320.297615 123.869107 \nL 320.426105 121.338904 \nL 320.878807 120.917203 \nL 320.889265 121.86603 \nL 321.146244 122.182305 \nL 321.32105 124.1806 \nL 321.451034 125.743165 \nL 321.461492 124.805626 \nL 322.322074 131.887917 \nL 323.291723 118.618948 \nL 323.468023 121.203167 \nL 323.899808 120.805595 \nL 324.177704 122.297239 \nL 324.573632 118.834127 \nL 324.599031 124.171276 \nL 324.602019 123.574208 \nL 324.89635 120.588868 \nL 325.044262 117.404505 \nL 325.162294 119.792777 \nL 325.186199 118.399618 \nL 325.579138 116.585355 \nL 325.58362 117.807614 \nL 325.59109 117.504216 \nL 325.897374 115.077786 \nL 326.049769 116.390197 \nL 326.336629 123.06572 \nL 326.475577 120.009188 \nL 326.48006 120.81182 \nL 327.052287 116.224402 \nL 327.186753 112.235343 \nL 327.345124 111.537258 \nL 327.912869 115.72577 \nL 328.47165 117.42112 \nL 329.202248 117.224149 \nL 329.205236 116.436266 \nL 329.341196 119.095371 \nL 330.177873 126.284803 \nL 330.179367 125.911492 \nL 330.500591 125.53818 \nL 330.920424 132.444449 \nL 330.930882 131.887753 \nL 331.074312 127.990885 \nL 331.480698 134.949578 \nL 332.075336 133.55784 \nL 332.202332 134.589805 \nL 333.080843 130.123281 \nL 333.369198 133.749714 \nL 334.50917 123.953208 \nL 335.362281 131.804076 \nL 335.36527 131.523077 \nL 335.377222 131.897743 \nL 335.484795 133.768319 \nL 335.5087 133.394203 \nL 336.37974 140.476567 \nL 336.517194 139.545227 \nL 338.065047 138.569539 \nL 338.075505 139.189766 \nL 338.088952 137.863559 \nL 338.209971 138.836111 \nL 338.214453 138.571625 \nL 338.23537 139.62982 \nL 338.242841 139.453748 \nL 338.386271 139.18964 \nL 338.49982 139.981965 \nL 339.069059 139.365712 \nL 339.070553 139.454189 \nL 339.245359 144.493663 \nL 339.521761 142.286536 \nL 339.929641 145.972862 \nL 339.931135 145.798389 \nL 340.096976 144.6207 \nL 340.099964 145.013263 \nL 340.216502 149.113366 \nL 340.250865 145.993408 \nL 340.933653 136.80218 \nL 341.077084 141.439955 \nL 341.081566 139.669168 \nL 341.247407 141.722387 \nL 341.375897 141.049274 \nL 341.380379 141.218189 \nL 341.383367 142.060156 \nL 341.399802 140.367121 \nL 341.401296 140.537976 \nL 341.526797 137.978713 \nL 341.942148 134.736979 \nL 342.234985 138.490565 \nL 342.249925 137.816901 \nL 342.25889 137.479427 \nL 342.261878 138.661941 \nL 342.527822 140.604643 \nL 342.547244 140.355189 \nL 342.941678 138.110103 \nL 342.967077 139.024768 \nL 343.94569 137.444892 \nL 344.984066 144.4135 \nL 345.130484 144.253718 \nL 345.417345 145.853648 \nL 346.109098 148.932151 \nL 346.134497 149.795973 \nL 346.384006 147.301247 \nL 346.421357 148.002888 \nL 346.980138 150.410211 \nL 347.280445 147.445596 \nL 347.281939 147.52402 \nL 347.961739 144.30862 \nL 347.963233 144.711438 \nL 348.138039 149.339852 \nL 348.139533 149.261972 \nL 348.2486 146.614067 \nL 348.96874 142.252811 \nL 349.116652 147.787434 \nL 349.396043 148.921995 \nL 350.122159 157.597548 \nL 350.150546 159.347973 \nL 350.256625 158.162799 \nL 350.279036 158.85996 \nL 350.437406 160.254283 \nL 351.117206 158.188266 \nL 351.135135 158.050531 \nL 351.262131 161.722636 \nL 351.55945 163.802509 \nL 351.584849 163.201572 \n\" clip-path=\"url(#p553c1b2992)\" style=\"fill: none; stroke: #1f77b4; stroke-width: 1.5; stroke-linecap: square\"/>\n   </g>\n   <g id=\"patch_3\">\n    <path d=\"M 32.003031 203.04 \nL 32.003031 7.2 \n\" style=\"fill: none; stroke: #000000; stroke-width: 0.8; stroke-linejoin: miter; stroke-linecap: square\"/>\n   </g>\n   <g id=\"patch_4\">\n    <path d=\"M 366.803031 203.04 \nL 366.803031 7.2 \n\" style=\"fill: none; stroke: #000000; stroke-width: 0.8; stroke-linejoin: miter; stroke-linecap: square\"/>\n   </g>\n   <g id=\"patch_5\">\n    <path d=\"M 32.003031 203.04 \nL 366.803031 203.04 \n\" style=\"fill: none; stroke: #000000; stroke-width: 0.8; stroke-linejoin: miter; stroke-linecap: square\"/>\n   </g>\n   <g id=\"patch_6\">\n    <path d=\"M 32.003031 7.2 \nL 366.803031 7.2 \n\" style=\"fill: none; stroke: #000000; stroke-width: 0.8; stroke-linejoin: miter; stroke-linecap: square\"/>\n   </g>\n  </g>\n </g>\n <defs>\n  <clipPath id=\"p553c1b2992\">\n   <rect x=\"32.003031\" y=\"7.2\" width=\"334.8\" height=\"195.84\"/>\n  </clipPath>\n </defs>\n</svg>\n",
      "text/plain": [
       "<Figure size 432x288 with 1 Axes>"
      ]
     },
     "metadata": {
      "needs_background": "light"
     },
     "output_type": "display_data"
    }
   ],
   "source": [
    "# Plot Strategy Returns to examine performance\n",
    "(1 + signals_df['Strategy Returns']).cumprod().plot()"
   ]
  },
  {
   "cell_type": "markdown",
   "metadata": {},
   "source": [
    "### Step 3: Split the data into training and testing datasets."
   ]
  },
  {
   "cell_type": "code",
   "execution_count": 71,
   "metadata": {},
   "outputs": [
    {
     "data": {
      "text/html": [
       "<div>\n",
       "<style scoped>\n",
       "    .dataframe tbody tr th:only-of-type {\n",
       "        vertical-align: middle;\n",
       "    }\n",
       "\n",
       "    .dataframe tbody tr th {\n",
       "        vertical-align: top;\n",
       "    }\n",
       "\n",
       "    .dataframe thead th {\n",
       "        text-align: right;\n",
       "    }\n",
       "</style>\n",
       "<table border=\"1\" class=\"dataframe\">\n",
       "  <thead>\n",
       "    <tr style=\"text-align: right;\">\n",
       "      <th></th>\n",
       "      <th>SMA_Fast</th>\n",
       "      <th>SMA_Slow</th>\n",
       "    </tr>\n",
       "    <tr>\n",
       "      <th>date</th>\n",
       "      <th></th>\n",
       "      <th></th>\n",
       "    </tr>\n",
       "  </thead>\n",
       "  <tbody>\n",
       "    <tr>\n",
       "      <th>2015-04-02 15:00:00</th>\n",
       "      <td>24.9175</td>\n",
       "      <td>24.3214</td>\n",
       "    </tr>\n",
       "    <tr>\n",
       "      <th>2015-04-02 15:15:00</th>\n",
       "      <td>24.9200</td>\n",
       "      <td>24.3308</td>\n",
       "    </tr>\n",
       "    <tr>\n",
       "      <th>2015-04-02 15:30:00</th>\n",
       "      <td>24.9250</td>\n",
       "      <td>24.3360</td>\n",
       "    </tr>\n",
       "    <tr>\n",
       "      <th>2015-04-02 15:45:00</th>\n",
       "      <td>24.9325</td>\n",
       "      <td>24.3411</td>\n",
       "    </tr>\n",
       "    <tr>\n",
       "      <th>2015-04-06 09:30:00</th>\n",
       "      <td>24.9475</td>\n",
       "      <td>24.3463</td>\n",
       "    </tr>\n",
       "  </tbody>\n",
       "</table>\n",
       "</div>"
      ],
      "text/plain": [
       "                     SMA_Fast  SMA_Slow\n",
       "date                                   \n",
       "2015-04-02 15:00:00   24.9175   24.3214\n",
       "2015-04-02 15:15:00   24.9200   24.3308\n",
       "2015-04-02 15:30:00   24.9250   24.3360\n",
       "2015-04-02 15:45:00   24.9325   24.3411\n",
       "2015-04-06 09:30:00   24.9475   24.3463"
      ]
     },
     "execution_count": 71,
     "metadata": {},
     "output_type": "execute_result"
    }
   ],
   "source": [
    "# Assign a copy of the sma_fast and sma_slow columns to a features DataFrame called X\n",
    "X = signals_df[['SMA_Fast', 'SMA_Slow']].shift().dropna()\n",
    "\n",
    "# Review the DataFrame\n",
    "X.head()"
   ]
  },
  {
   "cell_type": "code",
   "execution_count": 72,
   "metadata": {},
   "outputs": [
    {
     "data": {
      "text/plain": [
       " 1.0    2368\n",
       "-1.0    1855\n",
       "Name: Signal, dtype: int64"
      ]
     },
     "execution_count": 72,
     "metadata": {},
     "output_type": "execute_result"
    }
   ],
   "source": [
    "# Create the target set selecting the Signal column and assigning it to y\n",
    "y = signals_df['Signal']\n",
    "\n",
    "# Review the value counts\n",
    "y.value_counts()"
   ]
  },
  {
   "cell_type": "code",
   "execution_count": 73,
   "metadata": {},
   "outputs": [
    {
     "name": "stdout",
     "output_type": "stream",
     "text": [
      "2015-04-02 15:00:00\n"
     ]
    }
   ],
   "source": [
    "# Select the start of the training period\n",
    "training_begin = X.index.min()\n",
    "\n",
    "# Display the training begin date\n",
    "print(training_begin)"
   ]
  },
  {
   "cell_type": "code",
   "execution_count": 74,
   "metadata": {},
   "outputs": [
    {
     "name": "stdout",
     "output_type": "stream",
     "text": [
      "2015-07-02 15:00:00\n"
     ]
    }
   ],
   "source": [
    "# Select the ending period for the training data with an offset of 3 months\n",
    "training_end = X.index.min() + DateOffset(months=3)\n",
    "\n",
    "# Display the training end date\n",
    "print(training_end)"
   ]
  },
  {
   "cell_type": "code",
   "execution_count": 75,
   "metadata": {},
   "outputs": [
    {
     "data": {
      "text/html": [
       "<div>\n",
       "<style scoped>\n",
       "    .dataframe tbody tr th:only-of-type {\n",
       "        vertical-align: middle;\n",
       "    }\n",
       "\n",
       "    .dataframe tbody tr th {\n",
       "        vertical-align: top;\n",
       "    }\n",
       "\n",
       "    .dataframe thead th {\n",
       "        text-align: right;\n",
       "    }\n",
       "</style>\n",
       "<table border=\"1\" class=\"dataframe\">\n",
       "  <thead>\n",
       "    <tr style=\"text-align: right;\">\n",
       "      <th></th>\n",
       "      <th>SMA_Fast</th>\n",
       "      <th>SMA_Slow</th>\n",
       "    </tr>\n",
       "    <tr>\n",
       "      <th>date</th>\n",
       "      <th></th>\n",
       "      <th></th>\n",
       "    </tr>\n",
       "  </thead>\n",
       "  <tbody>\n",
       "    <tr>\n",
       "      <th>2015-04-02 15:00:00</th>\n",
       "      <td>24.9175</td>\n",
       "      <td>24.3214</td>\n",
       "    </tr>\n",
       "    <tr>\n",
       "      <th>2015-04-02 15:15:00</th>\n",
       "      <td>24.9200</td>\n",
       "      <td>24.3308</td>\n",
       "    </tr>\n",
       "    <tr>\n",
       "      <th>2015-04-02 15:30:00</th>\n",
       "      <td>24.9250</td>\n",
       "      <td>24.3360</td>\n",
       "    </tr>\n",
       "    <tr>\n",
       "      <th>2015-04-02 15:45:00</th>\n",
       "      <td>24.9325</td>\n",
       "      <td>24.3411</td>\n",
       "    </tr>\n",
       "    <tr>\n",
       "      <th>2015-04-06 09:30:00</th>\n",
       "      <td>24.9475</td>\n",
       "      <td>24.3463</td>\n",
       "    </tr>\n",
       "  </tbody>\n",
       "</table>\n",
       "</div>"
      ],
      "text/plain": [
       "                     SMA_Fast  SMA_Slow\n",
       "date                                   \n",
       "2015-04-02 15:00:00   24.9175   24.3214\n",
       "2015-04-02 15:15:00   24.9200   24.3308\n",
       "2015-04-02 15:30:00   24.9250   24.3360\n",
       "2015-04-02 15:45:00   24.9325   24.3411\n",
       "2015-04-06 09:30:00   24.9475   24.3463"
      ]
     },
     "execution_count": 75,
     "metadata": {},
     "output_type": "execute_result"
    }
   ],
   "source": [
    "# Generate the X_train and y_train DataFrames\n",
    "X_train = X.loc[training_begin:training_end]\n",
    "y_train = y.loc[training_begin:training_end]\n",
    "\n",
    "# Review the X_train DataFrame\n",
    "X_train.head()"
   ]
  },
  {
   "cell_type": "code",
   "execution_count": 76,
   "metadata": {},
   "outputs": [
    {
     "data": {
      "text/html": [
       "<div>\n",
       "<style scoped>\n",
       "    .dataframe tbody tr th:only-of-type {\n",
       "        vertical-align: middle;\n",
       "    }\n",
       "\n",
       "    .dataframe tbody tr th {\n",
       "        vertical-align: top;\n",
       "    }\n",
       "\n",
       "    .dataframe thead th {\n",
       "        text-align: right;\n",
       "    }\n",
       "</style>\n",
       "<table border=\"1\" class=\"dataframe\">\n",
       "  <thead>\n",
       "    <tr style=\"text-align: right;\">\n",
       "      <th></th>\n",
       "      <th>SMA_Fast</th>\n",
       "      <th>SMA_Slow</th>\n",
       "    </tr>\n",
       "    <tr>\n",
       "      <th>date</th>\n",
       "      <th></th>\n",
       "      <th></th>\n",
       "    </tr>\n",
       "  </thead>\n",
       "  <tbody>\n",
       "    <tr>\n",
       "      <th>2015-04-02 15:00:00</th>\n",
       "      <td>24.9175</td>\n",
       "      <td>24.3214</td>\n",
       "    </tr>\n",
       "    <tr>\n",
       "      <th>2015-04-02 15:15:00</th>\n",
       "      <td>24.9200</td>\n",
       "      <td>24.3308</td>\n",
       "    </tr>\n",
       "    <tr>\n",
       "      <th>2015-04-02 15:30:00</th>\n",
       "      <td>24.9250</td>\n",
       "      <td>24.3360</td>\n",
       "    </tr>\n",
       "    <tr>\n",
       "      <th>2015-04-02 15:45:00</th>\n",
       "      <td>24.9325</td>\n",
       "      <td>24.3411</td>\n",
       "    </tr>\n",
       "    <tr>\n",
       "      <th>2015-04-06 09:30:00</th>\n",
       "      <td>24.9475</td>\n",
       "      <td>24.3463</td>\n",
       "    </tr>\n",
       "  </tbody>\n",
       "</table>\n",
       "</div>"
      ],
      "text/plain": [
       "                     SMA_Fast  SMA_Slow\n",
       "date                                   \n",
       "2015-04-02 15:00:00   24.9175   24.3214\n",
       "2015-04-02 15:15:00   24.9200   24.3308\n",
       "2015-04-02 15:30:00   24.9250   24.3360\n",
       "2015-04-02 15:45:00   24.9325   24.3411\n",
       "2015-04-06 09:30:00   24.9475   24.3463"
      ]
     },
     "execution_count": 76,
     "metadata": {},
     "output_type": "execute_result"
    }
   ],
   "source": [
    "# Generate the X_test and y_test DataFrames\n",
    "X_test = X.loc[training_end+DateOffset(hours=1):]\n",
    "y_test = y.loc[training_end+DateOffset(hours=1):]\n",
    "\n",
    "# Review the X_test DataFrame\n",
    "X_train.head()"
   ]
  },
  {
   "cell_type": "code",
   "execution_count": 77,
   "metadata": {},
   "outputs": [],
   "source": [
    "# Scale the features DataFrames\n",
    " \n",
    "# Create a StandardScaler instance\n",
    "scaler = StandardScaler()\n",
    "\n",
    "# Apply the scaler model to fit the X-train data\n",
    "X_scaler = scaler.fit(X_train)\n",
    "\n",
    "# Transform the X_train and X_test DataFrames using the X_scaler\n",
    "X_train_scaled = X_scaler.transform(X_train)\n",
    "X_test_scaled = X_scaler.transform(X_test)"
   ]
  },
  {
   "cell_type": "markdown",
   "metadata": {},
   "source": [
    "### Step 4: Use the `SVC` classifier model from SKLearn's support vector machine (SVM) learning method to fit the training data and make predictions based on the testing data. Review the predictions."
   ]
  },
  {
   "cell_type": "code",
   "execution_count": 78,
   "metadata": {},
   "outputs": [
    {
     "data": {
      "text/plain": [
       "array([1., 1., 1., 1., 1., 1., 1., 1., 1., 1.])"
      ]
     },
     "execution_count": 78,
     "metadata": {},
     "output_type": "execute_result"
    }
   ],
   "source": [
    "# From SVM, instantiate SVC classifier model instance\n",
    "svm_model =  svm.SVC()\n",
    " \n",
    "# Fit the model to the data using the training data\n",
    "svm_model =  svm_model.fit(X_train_scaled, y_train)\n",
    " \n",
    "# Use the testing data to make the model predictions\n",
    "svm_pred =  svm_model.predict(X_test_scaled)\n",
    "\n",
    "# Review the model's predicted values\n",
    "svm_pred[:10]\n",
    "\n"
   ]
  },
  {
   "cell_type": "markdown",
   "metadata": {},
   "source": [
    "### Step 5: Review the classification report associated with the `SVC` model predictions. "
   ]
  },
  {
   "cell_type": "code",
   "execution_count": 79,
   "metadata": {},
   "outputs": [
    {
     "name": "stdout",
     "output_type": "stream",
     "text": [
      "              precision    recall  f1-score   support\n",
      "\n",
      "        -1.0       0.43      0.04      0.07      1804\n",
      "         1.0       0.56      0.96      0.71      2288\n",
      "\n",
      "    accuracy                           0.55      4092\n",
      "   macro avg       0.49      0.50      0.39      4092\n",
      "weighted avg       0.50      0.55      0.43      4092\n",
      "\n"
     ]
    }
   ],
   "source": [
    "# Use a classification report to evaluate the model using the predictions and testing data\n",
    "svm_testing_report =  classification_report(y_test, svm_pred)\n",
    "\n",
    "# Print the classification report\n",
    "print(svm_testing_report)\n",
    "\n"
   ]
  },
  {
   "cell_type": "markdown",
   "metadata": {},
   "source": [
    "### Step 6: Create a predictions DataFrame that contains columns for “Predicted” values, “Actual Returns”, and “Strategy Returns”."
   ]
  },
  {
   "cell_type": "code",
   "execution_count": 80,
   "metadata": {},
   "outputs": [
    {
     "data": {
      "text/html": [
       "<div>\n",
       "<style scoped>\n",
       "    .dataframe tbody tr th:only-of-type {\n",
       "        vertical-align: middle;\n",
       "    }\n",
       "\n",
       "    .dataframe tbody tr th {\n",
       "        vertical-align: top;\n",
       "    }\n",
       "\n",
       "    .dataframe thead th {\n",
       "        text-align: right;\n",
       "    }\n",
       "</style>\n",
       "<table border=\"1\" class=\"dataframe\">\n",
       "  <thead>\n",
       "    <tr style=\"text-align: right;\">\n",
       "      <th></th>\n",
       "      <th>Predicted</th>\n",
       "      <th>Actual Returns</th>\n",
       "      <th>SVM Strategy Returns</th>\n",
       "    </tr>\n",
       "    <tr>\n",
       "      <th>date</th>\n",
       "      <th></th>\n",
       "      <th></th>\n",
       "      <th></th>\n",
       "    </tr>\n",
       "  </thead>\n",
       "  <tbody>\n",
       "    <tr>\n",
       "      <th>2015-07-06 10:00:00</th>\n",
       "      <td>1.0</td>\n",
       "      <td>-0.025715</td>\n",
       "      <td>-0.025715</td>\n",
       "    </tr>\n",
       "    <tr>\n",
       "      <th>2015-07-06 10:45:00</th>\n",
       "      <td>1.0</td>\n",
       "      <td>0.007237</td>\n",
       "      <td>0.007237</td>\n",
       "    </tr>\n",
       "    <tr>\n",
       "      <th>2015-07-06 14:15:00</th>\n",
       "      <td>1.0</td>\n",
       "      <td>-0.009721</td>\n",
       "      <td>-0.009721</td>\n",
       "    </tr>\n",
       "    <tr>\n",
       "      <th>2015-07-06 14:30:00</th>\n",
       "      <td>1.0</td>\n",
       "      <td>-0.003841</td>\n",
       "      <td>-0.003841</td>\n",
       "    </tr>\n",
       "    <tr>\n",
       "      <th>2015-07-07 11:30:00</th>\n",
       "      <td>1.0</td>\n",
       "      <td>-0.018423</td>\n",
       "      <td>-0.018423</td>\n",
       "    </tr>\n",
       "  </tbody>\n",
       "</table>\n",
       "</div>"
      ],
      "text/plain": [
       "                     Predicted  Actual Returns  SVM Strategy Returns\n",
       "date                                                                \n",
       "2015-07-06 10:00:00        1.0       -0.025715             -0.025715\n",
       "2015-07-06 10:45:00        1.0        0.007237              0.007237\n",
       "2015-07-06 14:15:00        1.0       -0.009721             -0.009721\n",
       "2015-07-06 14:30:00        1.0       -0.003841             -0.003841\n",
       "2015-07-07 11:30:00        1.0       -0.018423             -0.018423"
      ]
     },
     "metadata": {},
     "output_type": "display_data"
    },
    {
     "data": {
      "text/html": [
       "<div>\n",
       "<style scoped>\n",
       "    .dataframe tbody tr th:only-of-type {\n",
       "        vertical-align: middle;\n",
       "    }\n",
       "\n",
       "    .dataframe tbody tr th {\n",
       "        vertical-align: top;\n",
       "    }\n",
       "\n",
       "    .dataframe thead th {\n",
       "        text-align: right;\n",
       "    }\n",
       "</style>\n",
       "<table border=\"1\" class=\"dataframe\">\n",
       "  <thead>\n",
       "    <tr style=\"text-align: right;\">\n",
       "      <th></th>\n",
       "      <th>Predicted</th>\n",
       "      <th>Actual Returns</th>\n",
       "      <th>SVM Strategy Returns</th>\n",
       "    </tr>\n",
       "    <tr>\n",
       "      <th>date</th>\n",
       "      <th></th>\n",
       "      <th></th>\n",
       "      <th></th>\n",
       "    </tr>\n",
       "  </thead>\n",
       "  <tbody>\n",
       "    <tr>\n",
       "      <th>2021-01-22 09:30:00</th>\n",
       "      <td>1.0</td>\n",
       "      <td>-0.006866</td>\n",
       "      <td>-0.006866</td>\n",
       "    </tr>\n",
       "    <tr>\n",
       "      <th>2021-01-22 11:30:00</th>\n",
       "      <td>1.0</td>\n",
       "      <td>0.002405</td>\n",
       "      <td>0.002405</td>\n",
       "    </tr>\n",
       "    <tr>\n",
       "      <th>2021-01-22 13:45:00</th>\n",
       "      <td>1.0</td>\n",
       "      <td>0.002099</td>\n",
       "      <td>0.002099</td>\n",
       "    </tr>\n",
       "    <tr>\n",
       "      <th>2021-01-22 14:30:00</th>\n",
       "      <td>1.0</td>\n",
       "      <td>0.001496</td>\n",
       "      <td>0.001496</td>\n",
       "    </tr>\n",
       "    <tr>\n",
       "      <th>2021-01-22 15:45:00</th>\n",
       "      <td>1.0</td>\n",
       "      <td>-0.000896</td>\n",
       "      <td>-0.000896</td>\n",
       "    </tr>\n",
       "  </tbody>\n",
       "</table>\n",
       "</div>"
      ],
      "text/plain": [
       "                     Predicted  Actual Returns  SVM Strategy Returns\n",
       "date                                                                \n",
       "2021-01-22 09:30:00        1.0       -0.006866             -0.006866\n",
       "2021-01-22 11:30:00        1.0        0.002405              0.002405\n",
       "2021-01-22 13:45:00        1.0        0.002099              0.002099\n",
       "2021-01-22 14:30:00        1.0        0.001496              0.001496\n",
       "2021-01-22 15:45:00        1.0       -0.000896             -0.000896"
      ]
     },
     "metadata": {},
     "output_type": "display_data"
    }
   ],
   "source": [
    "# Create a new empty predictions DataFrame.\n",
    "\n",
    "# Create a predictions DataFrame\n",
    "predictions_df =  pd.DataFrame(index=X_test.index)\n",
    "\n",
    "# Add the SVM model predictions to the DataFrame\n",
    "predictions_df['Predicted'] = svm_pred\n",
    "\n",
    "# Add the actual returns to the DataFrame\n",
    "predictions_df['Actual Returns'] =  signals_df['Actual Returns']\n",
    "\n",
    "# Add the strategy returns to the DataFrame\n",
    "predictions_df['SVM Strategy Returns'] = predictions_df['Actual Returns'] * predictions_df['Predicted']\n",
    "# Review the DataFrame\n",
    "display(predictions_df.head())\n",
    "display(predictions_df.tail())\n"
   ]
  },
  {
   "cell_type": "markdown",
   "metadata": {},
   "source": [
    "### Step 7: Create a cumulative return plot that shows the actual returns vs. the strategy returns. Save a PNG image of this plot. This will serve as a baseline against which to compare the effects of tuning the trading algorithm."
   ]
  },
  {
   "cell_type": "code",
   "execution_count": 81,
   "metadata": {},
   "outputs": [
    {
     "data": {
      "text/plain": [
       "<AxesSubplot:xlabel='date'>"
      ]
     },
     "execution_count": 81,
     "metadata": {},
     "output_type": "execute_result"
    },
    {
     "data": {
      "image/png": "[encoded data removed]",
      "image/svg+xml": "<?xml version=\"1.0\" encoding=\"utf-8\" standalone=\"no\"?>\n<!DOCTYPE svg PUBLIC \"-//W3C//DTD SVG 1.1//EN\"\n  \"http://www.w3.org/Graphics/SVG/1.1/DTD/svg11.dtd\">\n<svg xmlns:xlink=\"http://www.w3.org/1999/xlink\" width=\"372.103125pt\" height=\"252.024627pt\" viewBox=\"0 0 372.103125 252.024627\" xmlns=\"http://www.w3.org/2000/svg\" version=\"1.1\">\n <metadata>\n  <rdf:RDF xmlns:dc=\"http://purl.org/dc/elements/1.1/\" xmlns:cc=\"http://creativecommons.org/ns#\" xmlns:rdf=\"http://www.w3.org/1999/02/22-rdf-syntax-ns#\">\n   <cc:Work>\n    <dc:type rdf:resource=\"http://purl.org/dc/dcmitype/StillImage\"/>\n    <dc:date>2022-09-16T21:23:09.042518</dc:date>\n    <dc:format>image/svg+xml</dc:format>\n    <dc:creator>\n     <cc:Agent>\n      <dc:title>Matplotlib v3.5.1, https://matplotlib.org/</dc:title>\n     </cc:Agent>\n    </dc:creator>\n   </cc:Work>\n  </rdf:RDF>\n </metadata>\n <defs>\n  <style type=\"text/css\">*{stroke-linejoin: round; stroke-linecap: butt}</style>\n </defs>\n <g id=\"figure_1\">\n  <g id=\"patch_1\">\n   <path d=\"M 0 252.024627 \nL 372.103125 252.024627 \nL 372.103125 0 \nL 0 0 \nL 0 252.024627 \nz\n\" style=\"fill: none\"/>\n  </g>\n  <g id=\"axes_1\">\n   <g id=\"patch_2\">\n    <path d=\"M 30.103125 203.04 \nL 364.903125 203.04 \nL 364.903125 7.2 \nL 30.103125 7.2 \nz\n\" style=\"fill: #ffffff\"/>\n   </g>\n   <g id=\"matplotlib.axis_1\">\n    <g id=\"xtick_1\">\n     <g id=\"line2d_1\">\n      <defs>\n       <path id=\"m419e5cd30e\" d=\"M 0 0 \nL 0 3.5 \n\" style=\"stroke: #000000; stroke-width: 0.8\"/>\n      </defs>\n      <g>\n       <use xlink:href=\"#m419e5cd30e\" x=\"72.13327\" y=\"203.04\" style=\"stroke: #000000; stroke-width: 0.8\"/>\n      </g>\n     </g>\n     <g id=\"text_1\">\n      <!-- 2016 -->\n      <g transform=\"translate(49.05308 229.34544)rotate(-30)scale(0.1 -0.1)\">\n       <defs>\n        <path id=\"DejaVuSans-32\" d=\"M 1228 531 \nL 3431 531 \nL 3431 0 \nL 469 0 \nL 469 531 \nQ 828 903 1448 1529 \nQ 2069 2156 2228 2338 \nQ 2531 2678 2651 2914 \nQ 2772 3150 2772 3378 \nQ 2772 3750 2511 3984 \nQ 2250 4219 1831 4219 \nQ 1534 4219 1204 4116 \nQ 875 4013 500 3803 \nL 500 4441 \nQ 881 4594 1212 4672 \nQ 1544 4750 1819 4750 \nQ 2544 4750 2975 4387 \nQ 3406 4025 3406 3419 \nQ 3406 3131 3298 2873 \nQ 3191 2616 2906 2266 \nQ 2828 2175 2409 1742 \nQ 1991 1309 1228 531 \nz\n\" transform=\"scale(0.015625)\"/>\n        <path id=\"DejaVuSans-30\" d=\"M 2034 4250 \nQ 1547 4250 1301 3770 \nQ 1056 3291 1056 2328 \nQ 1056 1369 1301 889 \nQ 1547 409 2034 409 \nQ 2525 409 2770 889 \nQ 3016 1369 3016 2328 \nQ 3016 3291 2770 3770 \nQ 2525 4250 2034 4250 \nz\nM 2034 4750 \nQ 2819 4750 3233 4129 \nQ 3647 3509 3647 2328 \nQ 3647 1150 3233 529 \nQ 2819 -91 2034 -91 \nQ 1250 -91 836 529 \nQ 422 1150 422 2328 \nQ 422 3509 836 4129 \nQ 1250 4750 2034 4750 \nz\n\" transform=\"scale(0.015625)\"/>\n        <path id=\"DejaVuSans-31\" d=\"M 794 531 \nL 1825 531 \nL 1825 4091 \nL 703 3866 \nL 703 4441 \nL 1819 4666 \nL 2450 4666 \nL 2450 531 \nL 3481 531 \nL 3481 0 \nL 794 0 \nL 794 531 \nz\n\" transform=\"scale(0.015625)\"/>\n        <path id=\"DejaVuSans-36\" d=\"M 2113 2584 \nQ 1688 2584 1439 2293 \nQ 1191 2003 1191 1497 \nQ 1191 994 1439 701 \nQ 1688 409 2113 409 \nQ 2538 409 2786 701 \nQ 3034 994 3034 1497 \nQ 3034 2003 2786 2293 \nQ 2538 2584 2113 2584 \nz\nM 3366 4563 \nL 3366 3988 \nQ 3128 4100 2886 4159 \nQ 2644 4219 2406 4219 \nQ 1781 4219 1451 3797 \nQ 1122 3375 1075 2522 \nQ 1259 2794 1537 2939 \nQ 1816 3084 2150 3084 \nQ 2853 3084 3261 2657 \nQ 3669 2231 3669 1497 \nQ 3669 778 3244 343 \nQ 2819 -91 2113 -91 \nQ 1303 -91 875 529 \nQ 447 1150 447 2328 \nQ 447 3434 972 4092 \nQ 1497 4750 2381 4750 \nQ 2619 4750 2861 4703 \nQ 3103 4656 3366 4563 \nz\n\" transform=\"scale(0.015625)\"/>\n       </defs>\n       <use xlink:href=\"#DejaVuSans-32\"/>\n       <use xlink:href=\"#DejaVuSans-30\" x=\"63.623047\"/>\n       <use xlink:href=\"#DejaVuSans-31\" x=\"127.246094\"/>\n       <use xlink:href=\"#DejaVuSans-36\" x=\"190.869141\"/>\n      </g>\n     </g>\n    </g>\n    <g id=\"xtick_2\">\n     <g id=\"line2d_2\">\n      <g>\n       <use xlink:href=\"#m419e5cd30e\" x=\"127.083406\" y=\"203.04\" style=\"stroke: #000000; stroke-width: 0.8\"/>\n      </g>\n     </g>\n     <g id=\"text_2\">\n      <!-- 2017 -->\n      <g transform=\"translate(104.003216 229.34544)rotate(-30)scale(0.1 -0.1)\">\n       <defs>\n        <path id=\"DejaVuSans-37\" d=\"M 525 4666 \nL 3525 4666 \nL 3525 4397 \nL 1831 0 \nL 1172 0 \nL 2766 4134 \nL 525 4134 \nL 525 4666 \nz\n\" transform=\"scale(0.015625)\"/>\n       </defs>\n       <use xlink:href=\"#DejaVuSans-32\"/>\n       <use xlink:href=\"#DejaVuSans-30\" x=\"63.623047\"/>\n       <use xlink:href=\"#DejaVuSans-31\" x=\"127.246094\"/>\n       <use xlink:href=\"#DejaVuSans-37\" x=\"190.869141\"/>\n      </g>\n     </g>\n    </g>\n    <g id=\"xtick_3\">\n     <g id=\"line2d_3\">\n      <g>\n       <use xlink:href=\"#m419e5cd30e\" x=\"181.883405\" y=\"203.04\" style=\"stroke: #000000; stroke-width: 0.8\"/>\n      </g>\n     </g>\n     <g id=\"text_3\">\n      <!-- 2018 -->\n      <g transform=\"translate(158.803215 229.34544)rotate(-30)scale(0.1 -0.1)\">\n       <defs>\n        <path id=\"DejaVuSans-38\" d=\"M 2034 2216 \nQ 1584 2216 1326 1975 \nQ 1069 1734 1069 1313 \nQ 1069 891 1326 650 \nQ 1584 409 2034 409 \nQ 2484 409 2743 651 \nQ 3003 894 3003 1313 \nQ 3003 1734 2745 1975 \nQ 2488 2216 2034 2216 \nz\nM 1403 2484 \nQ 997 2584 770 2862 \nQ 544 3141 544 3541 \nQ 544 4100 942 4425 \nQ 1341 4750 2034 4750 \nQ 2731 4750 3128 4425 \nQ 3525 4100 3525 3541 \nQ 3525 3141 3298 2862 \nQ 3072 2584 2669 2484 \nQ 3125 2378 3379 2068 \nQ 3634 1759 3634 1313 \nQ 3634 634 3220 271 \nQ 2806 -91 2034 -91 \nQ 1263 -91 848 271 \nQ 434 634 434 1313 \nQ 434 1759 690 2068 \nQ 947 2378 1403 2484 \nz\nM 1172 3481 \nQ 1172 3119 1398 2916 \nQ 1625 2713 2034 2713 \nQ 2441 2713 2670 2916 \nQ 2900 3119 2900 3481 \nQ 2900 3844 2670 4047 \nQ 2441 4250 2034 4250 \nQ 1625 4250 1398 4047 \nQ 1172 3844 1172 3481 \nz\n\" transform=\"scale(0.015625)\"/>\n       </defs>\n       <use xlink:href=\"#DejaVuSans-32\"/>\n       <use xlink:href=\"#DejaVuSans-30\" x=\"63.623047\"/>\n       <use xlink:href=\"#DejaVuSans-31\" x=\"127.246094\"/>\n       <use xlink:href=\"#DejaVuSans-38\" x=\"190.869141\"/>\n      </g>\n     </g>\n    </g>\n    <g id=\"xtick_4\">\n     <g id=\"line2d_4\">\n      <g>\n       <use xlink:href=\"#m419e5cd30e\" x=\"236.683404\" y=\"203.04\" style=\"stroke: #000000; stroke-width: 0.8\"/>\n      </g>\n     </g>\n     <g id=\"text_4\">\n      <!-- 2019 -->\n      <g transform=\"translate(213.603214 229.34544)rotate(-30)scale(0.1 -0.1)\">\n       <defs>\n        <path id=\"DejaVuSans-39\" d=\"M 703 97 \nL 703 672 \nQ 941 559 1184 500 \nQ 1428 441 1663 441 \nQ 2288 441 2617 861 \nQ 2947 1281 2994 2138 \nQ 2813 1869 2534 1725 \nQ 2256 1581 1919 1581 \nQ 1219 1581 811 2004 \nQ 403 2428 403 3163 \nQ 403 3881 828 4315 \nQ 1253 4750 1959 4750 \nQ 2769 4750 3195 4129 \nQ 3622 3509 3622 2328 \nQ 3622 1225 3098 567 \nQ 2575 -91 1691 -91 \nQ 1453 -91 1209 -44 \nQ 966 3 703 97 \nz\nM 1959 2075 \nQ 2384 2075 2632 2365 \nQ 2881 2656 2881 3163 \nQ 2881 3666 2632 3958 \nQ 2384 4250 1959 4250 \nQ 1534 4250 1286 3958 \nQ 1038 3666 1038 3163 \nQ 1038 2656 1286 2365 \nQ 1534 2075 1959 2075 \nz\n\" transform=\"scale(0.015625)\"/>\n       </defs>\n       <use xlink:href=\"#DejaVuSans-32\"/>\n       <use xlink:href=\"#DejaVuSans-30\" x=\"63.623047\"/>\n       <use xlink:href=\"#DejaVuSans-31\" x=\"127.246094\"/>\n       <use xlink:href=\"#DejaVuSans-39\" x=\"190.869141\"/>\n      </g>\n     </g>\n    </g>\n    <g id=\"xtick_5\">\n     <g id=\"line2d_5\">\n      <g>\n       <use xlink:href=\"#m419e5cd30e\" x=\"291.483403\" y=\"203.04\" style=\"stroke: #000000; stroke-width: 0.8\"/>\n      </g>\n     </g>\n     <g id=\"text_5\">\n      <!-- 2020 -->\n      <g transform=\"translate(268.403213 229.34544)rotate(-30)scale(0.1 -0.1)\">\n       <use xlink:href=\"#DejaVuSans-32\"/>\n       <use xlink:href=\"#DejaVuSans-30\" x=\"63.623047\"/>\n       <use xlink:href=\"#DejaVuSans-32\" x=\"127.246094\"/>\n       <use xlink:href=\"#DejaVuSans-30\" x=\"190.869141\"/>\n      </g>\n     </g>\n    </g>\n    <g id=\"xtick_6\">\n     <g id=\"line2d_6\">\n      <g>\n       <use xlink:href=\"#m419e5cd30e\" x=\"346.433539\" y=\"203.04\" style=\"stroke: #000000; stroke-width: 0.8\"/>\n      </g>\n     </g>\n     <g id=\"text_6\">\n      <!-- 2021 -->\n      <g transform=\"translate(323.353349 229.34544)rotate(-30)scale(0.1 -0.1)\">\n       <use xlink:href=\"#DejaVuSans-32\"/>\n       <use xlink:href=\"#DejaVuSans-30\" x=\"63.623047\"/>\n       <use xlink:href=\"#DejaVuSans-32\" x=\"127.246094\"/>\n       <use xlink:href=\"#DejaVuSans-31\" x=\"190.869141\"/>\n      </g>\n     </g>\n    </g>\n    <g id=\"text_7\">\n     <!-- date -->\n     <g transform=\"translate(186.228125 242.74494)scale(0.1 -0.1)\">\n      <defs>\n       <path id=\"DejaVuSans-64\" d=\"M 2906 2969 \nL 2906 4863 \nL 3481 4863 \nL 3481 0 \nL 2906 0 \nL 2906 525 \nQ 2725 213 2448 61 \nQ 2172 -91 1784 -91 \nQ 1150 -91 751 415 \nQ 353 922 353 1747 \nQ 353 2572 751 3078 \nQ 1150 3584 1784 3584 \nQ 2172 3584 2448 3432 \nQ 2725 3281 2906 2969 \nz\nM 947 1747 \nQ 947 1113 1208 752 \nQ 1469 391 1925 391 \nQ 2381 391 2643 752 \nQ 2906 1113 2906 1747 \nQ 2906 2381 2643 2742 \nQ 2381 3103 1925 3103 \nQ 1469 3103 1208 2742 \nQ 947 2381 947 1747 \nz\n\" transform=\"scale(0.015625)\"/>\n       <path id=\"DejaVuSans-61\" d=\"M 2194 1759 \nQ 1497 1759 1228 1600 \nQ 959 1441 959 1056 \nQ 959 750 1161 570 \nQ 1363 391 1709 391 \nQ 2188 391 2477 730 \nQ 2766 1069 2766 1631 \nL 2766 1759 \nL 2194 1759 \nz\nM 3341 1997 \nL 3341 0 \nL 2766 0 \nL 2766 531 \nQ 2569 213 2275 61 \nQ 1981 -91 1556 -91 \nQ 1019 -91 701 211 \nQ 384 513 384 1019 \nQ 384 1609 779 1909 \nQ 1175 2209 1959 2209 \nL 2766 2209 \nL 2766 2266 \nQ 2766 2663 2505 2880 \nQ 2244 3097 1772 3097 \nQ 1472 3097 1187 3025 \nQ 903 2953 641 2809 \nL 641 3341 \nQ 956 3463 1253 3523 \nQ 1550 3584 1831 3584 \nQ 2591 3584 2966 3190 \nQ 3341 2797 3341 1997 \nz\n\" transform=\"scale(0.015625)\"/>\n       <path id=\"DejaVuSans-74\" d=\"M 1172 4494 \nL 1172 3500 \nL 2356 3500 \nL 2356 3053 \nL 1172 3053 \nL 1172 1153 \nQ 1172 725 1289 603 \nQ 1406 481 1766 481 \nL 2356 481 \nL 2356 0 \nL 1766 0 \nQ 1100 0 847 248 \nQ 594 497 594 1153 \nL 594 3053 \nL 172 3053 \nL 172 3500 \nL 594 3500 \nL 594 4494 \nL 1172 4494 \nz\n\" transform=\"scale(0.015625)\"/>\n       <path id=\"DejaVuSans-65\" d=\"M 3597 1894 \nL 3597 1613 \nL 953 1613 \nQ 991 1019 1311 708 \nQ 1631 397 2203 397 \nQ 2534 397 2845 478 \nQ 3156 559 3463 722 \nL 3463 178 \nQ 3153 47 2828 -22 \nQ 2503 -91 2169 -91 \nQ 1331 -91 842 396 \nQ 353 884 353 1716 \nQ 353 2575 817 3079 \nQ 1281 3584 2069 3584 \nQ 2775 3584 3186 3129 \nQ 3597 2675 3597 1894 \nz\nM 3022 2063 \nQ 3016 2534 2758 2815 \nQ 2500 3097 2075 3097 \nQ 1594 3097 1305 2825 \nQ 1016 2553 972 2059 \nL 3022 2063 \nz\n\" transform=\"scale(0.015625)\"/>\n      </defs>\n      <use xlink:href=\"#DejaVuSans-64\"/>\n      <use xlink:href=\"#DejaVuSans-61\" x=\"63.476562\"/>\n      <use xlink:href=\"#DejaVuSans-74\" x=\"124.755859\"/>\n      <use xlink:href=\"#DejaVuSans-65\" x=\"163.964844\"/>\n     </g>\n    </g>\n   </g>\n   <g id=\"matplotlib.axis_2\">\n    <g id=\"ytick_1\">\n     <g id=\"line2d_7\">\n      <defs>\n       <path id=\"m0b9f38b600\" d=\"M 0 0 \nL -3.5 0 \n\" style=\"stroke: #000000; stroke-width: 0.8\"/>\n      </defs>\n      <g>\n       <use xlink:href=\"#m0b9f38b600\" x=\"30.103125\" y=\"202.261049\" style=\"stroke: #000000; stroke-width: 0.8\"/>\n      </g>\n     </g>\n     <g id=\"text_8\">\n      <!-- 0.7 -->\n      <g transform=\"translate(7.2 206.060268)scale(0.1 -0.1)\">\n       <defs>\n        <path id=\"DejaVuSans-2e\" d=\"M 684 794 \nL 1344 794 \nL 1344 0 \nL 684 0 \nL 684 794 \nz\n\" transform=\"scale(0.015625)\"/>\n       </defs>\n       <use xlink:href=\"#DejaVuSans-30\"/>\n       <use xlink:href=\"#DejaVuSans-2e\" x=\"63.623047\"/>\n       <use xlink:href=\"#DejaVuSans-37\" x=\"95.410156\"/>\n      </g>\n     </g>\n    </g>\n    <g id=\"ytick_2\">\n     <g id=\"line2d_8\">\n      <g>\n       <use xlink:href=\"#m0b9f38b600\" x=\"30.103125\" y=\"179.567847\" style=\"stroke: #000000; stroke-width: 0.8\"/>\n      </g>\n     </g>\n     <g id=\"text_9\">\n      <!-- 0.8 -->\n      <g transform=\"translate(7.2 183.367066)scale(0.1 -0.1)\">\n       <use xlink:href=\"#DejaVuSans-30\"/>\n       <use xlink:href=\"#DejaVuSans-2e\" x=\"63.623047\"/>\n       <use xlink:href=\"#DejaVuSans-38\" x=\"95.410156\"/>\n      </g>\n     </g>\n    </g>\n    <g id=\"ytick_3\">\n     <g id=\"line2d_9\">\n      <g>\n       <use xlink:href=\"#m0b9f38b600\" x=\"30.103125\" y=\"156.874645\" style=\"stroke: #000000; stroke-width: 0.8\"/>\n      </g>\n     </g>\n     <g id=\"text_10\">\n      <!-- 0.9 -->\n      <g transform=\"translate(7.2 160.673864)scale(0.1 -0.1)\">\n       <use xlink:href=\"#DejaVuSans-30\"/>\n       <use xlink:href=\"#DejaVuSans-2e\" x=\"63.623047\"/>\n       <use xlink:href=\"#DejaVuSans-39\" x=\"95.410156\"/>\n      </g>\n     </g>\n    </g>\n    <g id=\"ytick_4\">\n     <g id=\"line2d_10\">\n      <g>\n       <use xlink:href=\"#m0b9f38b600\" x=\"30.103125\" y=\"134.181443\" style=\"stroke: #000000; stroke-width: 0.8\"/>\n      </g>\n     </g>\n     <g id=\"text_11\">\n      <!-- 1.0 -->\n      <g transform=\"translate(7.2 137.980662)scale(0.1 -0.1)\">\n       <use xlink:href=\"#DejaVuSans-31\"/>\n       <use xlink:href=\"#DejaVuSans-2e\" x=\"63.623047\"/>\n       <use xlink:href=\"#DejaVuSans-30\" x=\"95.410156\"/>\n      </g>\n     </g>\n    </g>\n    <g id=\"ytick_5\">\n     <g id=\"line2d_11\">\n      <g>\n       <use xlink:href=\"#m0b9f38b600\" x=\"30.103125\" y=\"111.488241\" style=\"stroke: #000000; stroke-width: 0.8\"/>\n      </g>\n     </g>\n     <g id=\"text_12\">\n      <!-- 1.1 -->\n      <g transform=\"translate(7.2 115.28746)scale(0.1 -0.1)\">\n       <use xlink:href=\"#DejaVuSans-31\"/>\n       <use xlink:href=\"#DejaVuSans-2e\" x=\"63.623047\"/>\n       <use xlink:href=\"#DejaVuSans-31\" x=\"95.410156\"/>\n      </g>\n     </g>\n    </g>\n    <g id=\"ytick_6\">\n     <g id=\"line2d_12\">\n      <g>\n       <use xlink:href=\"#m0b9f38b600\" x=\"30.103125\" y=\"88.795039\" style=\"stroke: #000000; stroke-width: 0.8\"/>\n      </g>\n     </g>\n     <g id=\"text_13\">\n      <!-- 1.2 -->\n      <g transform=\"translate(7.2 92.594257)scale(0.1 -0.1)\">\n       <use xlink:href=\"#DejaVuSans-31\"/>\n       <use xlink:href=\"#DejaVuSans-2e\" x=\"63.623047\"/>\n       <use xlink:href=\"#DejaVuSans-32\" x=\"95.410156\"/>\n      </g>\n     </g>\n    </g>\n    <g id=\"ytick_7\">\n     <g id=\"line2d_13\">\n      <g>\n       <use xlink:href=\"#m0b9f38b600\" x=\"30.103125\" y=\"66.101837\" style=\"stroke: #000000; stroke-width: 0.8\"/>\n      </g>\n     </g>\n     <g id=\"text_14\">\n      <!-- 1.3 -->\n      <g transform=\"translate(7.2 69.901055)scale(0.1 -0.1)\">\n       <defs>\n        <path id=\"DejaVuSans-33\" d=\"M 2597 2516 \nQ 3050 2419 3304 2112 \nQ 3559 1806 3559 1356 \nQ 3559 666 3084 287 \nQ 2609 -91 1734 -91 \nQ 1441 -91 1130 -33 \nQ 819 25 488 141 \nL 488 750 \nQ 750 597 1062 519 \nQ 1375 441 1716 441 \nQ 2309 441 2620 675 \nQ 2931 909 2931 1356 \nQ 2931 1769 2642 2001 \nQ 2353 2234 1838 2234 \nL 1294 2234 \nL 1294 2753 \nL 1863 2753 \nQ 2328 2753 2575 2939 \nQ 2822 3125 2822 3475 \nQ 2822 3834 2567 4026 \nQ 2313 4219 1838 4219 \nQ 1578 4219 1281 4162 \nQ 984 4106 628 3988 \nL 628 4550 \nQ 988 4650 1302 4700 \nQ 1616 4750 1894 4750 \nQ 2613 4750 3031 4423 \nQ 3450 4097 3450 3541 \nQ 3450 3153 3228 2886 \nQ 3006 2619 2597 2516 \nz\n\" transform=\"scale(0.015625)\"/>\n       </defs>\n       <use xlink:href=\"#DejaVuSans-31\"/>\n       <use xlink:href=\"#DejaVuSans-2e\" x=\"63.623047\"/>\n       <use xlink:href=\"#DejaVuSans-33\" x=\"95.410156\"/>\n      </g>\n     </g>\n    </g>\n    <g id=\"ytick_8\">\n     <g id=\"line2d_14\">\n      <g>\n       <use xlink:href=\"#m0b9f38b600\" x=\"30.103125\" y=\"43.408634\" style=\"stroke: #000000; stroke-width: 0.8\"/>\n      </g>\n     </g>\n     <g id=\"text_15\">\n      <!-- 1.4 -->\n      <g transform=\"translate(7.2 47.207853)scale(0.1 -0.1)\">\n       <defs>\n        <path id=\"DejaVuSans-34\" d=\"M 2419 4116 \nL 825 1625 \nL 2419 1625 \nL 2419 4116 \nz\nM 2253 4666 \nL 3047 4666 \nL 3047 1625 \nL 3713 1625 \nL 3713 1100 \nL 3047 1100 \nL 3047 0 \nL 2419 0 \nL 2419 1100 \nL 313 1100 \nL 313 1709 \nL 2253 4666 \nz\n\" transform=\"scale(0.015625)\"/>\n       </defs>\n       <use xlink:href=\"#DejaVuSans-31\"/>\n       <use xlink:href=\"#DejaVuSans-2e\" x=\"63.623047\"/>\n       <use xlink:href=\"#DejaVuSans-34\" x=\"95.410156\"/>\n      </g>\n     </g>\n    </g>\n    <g id=\"ytick_9\">\n     <g id=\"line2d_15\">\n      <g>\n       <use xlink:href=\"#m0b9f38b600\" x=\"30.103125\" y=\"20.715432\" style=\"stroke: #000000; stroke-width: 0.8\"/>\n      </g>\n     </g>\n     <g id=\"text_16\">\n      <!-- 1.5 -->\n      <g transform=\"translate(7.2 24.514651)scale(0.1 -0.1)\">\n       <defs>\n        <path id=\"DejaVuSans-35\" d=\"M 691 4666 \nL 3169 4666 \nL 3169 4134 \nL 1269 4134 \nL 1269 2991 \nQ 1406 3038 1543 3061 \nQ 1681 3084 1819 3084 \nQ 2600 3084 3056 2656 \nQ 3513 2228 3513 1497 \nQ 3513 744 3044 326 \nQ 2575 -91 1722 -91 \nQ 1428 -91 1123 -41 \nQ 819 9 494 109 \nL 494 744 \nQ 775 591 1075 516 \nQ 1375 441 1709 441 \nQ 2250 441 2565 725 \nQ 2881 1009 2881 1497 \nQ 2881 1984 2565 2268 \nQ 2250 2553 1709 2553 \nQ 1456 2553 1204 2497 \nQ 953 2441 691 2322 \nL 691 4666 \nz\n\" transform=\"scale(0.015625)\"/>\n       </defs>\n       <use xlink:href=\"#DejaVuSans-31\"/>\n       <use xlink:href=\"#DejaVuSans-2e\" x=\"63.623047\"/>\n       <use xlink:href=\"#DejaVuSans-35\" x=\"95.410156\"/>\n      </g>\n     </g>\n    </g>\n   </g>\n   <g id=\"line2d_16\">\n    <path d=\"M 45.321307 140.017107 \nL 45.325999 138.417005 \nL 45.349458 141.428961 \nL 45.657551 149.994209 \nL 46.552117 139.358241 \nL 46.833624 138.322882 \nL 46.982197 139.264118 \nL 47.459195 139.546489 \nL 48.497642 149.711838 \nL 48.510154 148.95885 \nL 48.654035 148.111737 \nL 48.77133 148.394108 \nL 48.797916 146.135141 \nL 48.929286 147.641119 \nL 49.085679 144.817411 \nL 49.526706 148.394108 \nL 49.531398 147.641119 \nL 49.537654 147.076377 \nL 49.561113 147.829366 \nL 49.831672 145.099782 \nL 49.855131 145.85277 \nL 50.135074 149.523591 \nL 50.160097 149.335344 \nL 50.73875 149.900086 \nL 50.885759 153.382659 \nL 50.910782 151.782558 \nL 51.023384 152.62967 \nL 51.028076 152.064929 \nL 51.051535 151.217816 \nL 51.186033 151.31194 \nL 51.189161 151.876681 \nL 51.21262 151.782558 \nL 52.255759 163.736256 \nL 52.262014 165.995223 \nL 52.263578 165.712852 \nL 52.832848 165.806976 \nL 52.859435 167.407077 \nL 52.864126 170.136662 \nL 53.148761 158.182963 \nL 53.287951 159.218323 \nL 53.305154 160.347806 \nL 53.314537 159.877188 \nL 53.880679 165.712852 \nL 53.899446 166.748212 \nL 53.915085 166.465841 \nL 54.337345 165.618728 \nL 54.338909 165.712852 \nL 54.35924 167.783571 \nL 55.416455 160.159559 \nL 55.837151 160.912548 \nL 55.851227 161.47729 \nL 55.866866 161.383166 \nL 56.017003 158.653581 \nL 56.315713 155.076884 \nL 56.317277 156.112244 \nL 58.117357 168.724807 \nL 58.262802 165.14811 \nL 58.536489 164.018627 \nL 58.567768 158.841828 \nL 58.569332 159.40657 \nL 59.011923 156.206367 \nL 59.013487 155.641626 \nL 59.019743 156.112244 \nL 59.133909 155.453379 \nL 59.16988 156.771109 \nL 59.28561 150.370704 \nL 59.320017 152.159052 \nL 59.434183 151.406063 \nL 59.438875 151.594311 \nL 59.440439 152.912041 \nL 59.470154 149.335344 \nL 60.069138 150.747198 \nL 60.220839 152.723794 \nL 60.350644 152.535547 \nL 60.492962 151.406063 \nL 61.106021 149.994209 \nL 61.12166 149.523591 \nL 61.3844 149.523591 \nL 61.421934 151.31194 \nL 62.147596 148.111737 \nL 62.294606 150.653074 \nL 62.310245 151.31194 \nL 62.322756 150.182456 \nL 62.446307 149.805962 \nL 62.472893 152.159052 \nL 62.748144 154.135648 \nL 62.755964 153.853277 \nL 63.348692 149.335344 \nL 63.35182 149.429468 \nL 63.365896 147.829366 \nL 63.373715 148.676479 \nL 63.487882 147.452872 \nL 63.492574 147.92349 \nL 63.51916 149.429468 \nL 63.520724 149.24122 \nL 63.638019 149.147097 \nL 63.644275 150.182456 \nL 63.659914 148.299984 \nL 63.672425 148.855314 \nL 64.251078 154.70039 \nL 64.254206 154.135648 \nL 64.571683 155.923997 \nL 64.712437 155.547502 \nL 64.724948 157.241727 \nL 65.444354 155.735749 \nL 65.475633 157.241727 \nL 65.739937 155.265131 \nL 65.758704 153.853277 \nL 66.343612 152.817917 \nL 66.356124 153.759154 \nL 66.36238 152.723794 \nL 66.371763 153.476783 \nL 66.676729 154.888637 \nL 66.953544 157.241727 \nL 67.544708 156.300491 \nL 67.55722 156.488738 \nL 67.560348 156.488738 \nL 67.561911 156.771109 \nL 67.571295 156.01812 \nL 67.572859 156.206367 \nL 67.871569 167.595324 \nL 67.877825 167.5012 \nL 68.594103 170.88965 \nL 68.600359 169.383673 \nL 68.62851 169.666043 \nL 68.75206 169.57192 \nL 68.758316 172.677999 \nL 68.778647 170.701403 \nL 69.071101 176.537067 \nL 69.078921 175.595831 \nL 69.490233 174.654595 \nL 69.51682 175.784078 \nL 69.529332 174.089853 \nL 69.671649 170.983774 \nL 69.679469 171.642639 \nL 69.942208 167.689448 \nL 69.970359 168.348313 \nL 70.090781 170.042538 \nL 70.092345 168.724807 \nL 70.128316 170.513156 \nL 70.129879 170.513156 \nL 70.841466 165.901099 \nL 70.849286 165.995223 \nL 70.85085 166.654088 \nL 70.875873 165.524605 \nL 70.877437 165.618728 \nL 70.991603 166.842335 \nL 70.993167 165.806976 \nL 71.008806 165.618728 \nL 71.011934 166.089346 \nL 71.592151 171.360268 \nL 71.598407 172.019134 \nL 71.631249 169.195425 \nL 71.753236 170.324909 \nL 71.779822 170.795527 \nL 71.781386 169.948414 \nL 72.652494 178.419539 \nL 72.660313 177.854797 \nL 72.666569 176.631191 \nL 72.682208 177.854797 \nL 72.824526 175.972325 \nL 72.832345 176.34882 \nL 72.966843 178.607786 \nL 72.969971 178.231292 \nL 73.132619 184.349326 \nL 73.243658 183.031596 \nL 73.268681 183.972832 \nL 73.282756 185.196439 \nL 73.697197 184.631697 \nL 73.715964 186.514169 \nL 73.733167 185.102315 \nL 73.847334 184.255203 \nL 73.870793 185.290563 \nL 73.883304 184.725821 \nL 74.02093 185.855304 \nL 74.027185 186.79654 \nL 74.177322 183.878708 \nL 74.183578 185.196439 \nL 74.31964 190.843856 \nL 74.333715 190.18499 \nL 74.896729 186.890664 \nL 74.90142 187.078911 \nL 75.053121 193.385193 \nL 75.056249 193.291069 \nL 75.065633 194.138182 \nL 75.082836 191.314474 \nL 75.0844 191.408597 \nL 75.195439 191.314474 \nL 75.198567 191.596844 \nL 75.20795 189.149631 \nL 75.234537 190.937979 \nL 75.384674 186.608293 \nL 75.949252 188.208394 \nL 75.985222 186.608293 \nL 76.100952 187.455406 \nL 76.116592 185.47881 \nL 76.135359 187.267158 \nL 76.435633 180.302011 \nL 76.853201 181.902113 \nL 76.871968 182.937472 \nL 77.004902 184.914068 \nL 77.184754 183.972832 \nL 77.309868 182.09036 \nL 77.319251 182.749225 \nL 77.449057 182.184483 \nL 78.077756 189.149631 \nL 78.08714 188.584889 \nL 78.205998 186.231799 \nL 78.362391 191.596844 \nL 78.367083 191.502721 \nL 78.387414 189.902619 \nL 78.50158 189.620249 \nL 78.534423 188.490765 \nL 79.127151 182.749225 \nL 79.138098 183.502214 \nL 79.258521 180.772629 \nL 79.285108 180.866753 \nL 79.403966 180.302011 \nL 79.40553 180.772629 \nL 79.411786 181.525618 \nL 79.438372 181.243247 \nL 80.004514 178.796034 \nL 80.029537 178.137168 \nL 80.303224 184.631697 \nL 80.454925 181.996236 \nL 81.063293 179.73727 \nL 81.067984 179.925517 \nL 81.089879 181.149124 \nL 81.240016 176.442943 \nL 81.532471 173.054493 \nL 82.122071 170.60728 \nL 82.267516 173.525111 \nL 82.290975 172.96037 \nL 82.417653 171.642639 \nL 82.581866 172.772123 \nL 82.741386 169.666043 \nL 83.190233 169.383673 \nL 83.338806 172.489752 \nL 83.47174 171.548516 \nL 83.47956 172.207381 \nL 83.606238 168.913055 \nL 83.607802 169.57192 \nL 83.632824 167.595324 \nL 83.642208 167.595324 \nL 83.792345 166.18347 \nL 84.206786 164.865739 \nL 84.521135 167.877695 \nL 84.668144 169.854291 \nL 84.693167 168.254189 \nL 85.256181 167.5012 \nL 85.260872 168.348313 \nL 85.293715 168.065942 \nL 85.564274 163.83038 \nL 85.589297 164.583369 \nL 85.744126 166.465841 \nL 85.856729 169.948414 \nL 86.327471 166.851748 \nL 86.623053 170.419032 \nL 87.691215 162.418526 \nL 87.695907 162.512649 \nL 87.810073 163.83038 \nL 87.813201 162.983267 \nL 87.816329 162.324402 \nL 87.846044 163.642133 \nL 87.977413 163.83038 \nL 87.986797 164.395121 \nL 87.993053 164.112751 \nL 88.429388 162.606773 \nL 88.437208 162.700896 \nL 88.445028 162.983267 \nL 101.036203 164.112751 \nL 101.040895 163.548009 \nL 101.205107 161.665537 \nL 101.208235 161.75966 \nL 101.632059 161.100795 \nL 101.639879 161.289042 \nL 101.658646 160.818424 \nL 102.069959 160.536053 \nL 102.074651 159.971312 \nL 102.259194 160.347806 \nL 102.382744 158.747705 \nL 102.409331 158.935952 \nL 102.551648 160.065435 \nL 103.275746 158.08884 \nL 103.438395 159.312446 \nL 103.577584 159.312446 \nL 103.597915 159.783065 \nL 103.610427 159.030076 \nL 104.210975 160.065435 \nL 104.47997 161.383166 \nL 104.797447 157.900592 \nL 104.803703 158.08884 \nL 105.408943 156.488738 \nL 105.410507 156.01812 \nL 105.523109 155.923997 \nL 105.54344 156.676985 \nL 105.702961 154.606266 \nL 106.312893 152.535547 \nL 106.599091 154.512142 \nL 106.602219 153.759154 \nL 106.613167 153.947401 \nL 106.738281 153.100288 \nL 106.7461 153.570906 \nL 106.874342 154.323895 \nL 106.911877 153.006165 \nL 107.363851 155.076884 \nL 107.495221 154.041524 \nL 107.510861 154.70039 \nL 107.512424 155.265131 \nL 107.513988 155.171008 \nL 107.65787 154.794513 \nL 107.664125 154.135648 \nL 107.804879 155.359255 \nL 107.811135 154.98276 \nL 107.925301 154.70039 \nL 108.544616 154.323895 \nL 108.715084 156.488738 \nL 108.843326 156.582862 \nL 108.980952 153.476783 \nL 109.579936 151.500187 \nL 109.908361 151.406063 \nL 110.050678 155.171008 \nL 110.483886 156.488738 \nL 110.487013 156.206367 \nL 110.5136 154.418019 \nL 110.516728 154.606266 \nL 110.630895 158.182963 \nL 110.782596 156.771109 \nL 110.802927 157.006418 \nL 110.806055 157.994716 \nL 110.81231 157.57116 \nL 110.960883 155.076884 \nL 111.533281 153.853277 \nL 111.534845 154.041524 \nL 111.702185 156.01812 \nL 111.705313 155.453379 \nL 111.828863 154.606266 \nL 111.84763 155.453379 \nL 111.85545 154.888637 \nL 111.980564 150.182456 \nL 111.982128 150.27658 \nL 112.604571 154.418019 \nL 112.732813 153.947401 \nL 112.734376 154.041524 \nL 112.737504 155.076884 \nL 112.91892 151.876681 \nL 113.186351 154.512142 \nL 113.21763 153.66503 \nL 114.690849 150.558951 \nL 114.698669 150.653074 \nL 114.708052 149.994209 \nL 114.989559 154.418019 \nL 115.00989 153.853277 \nL 115.286705 154.606266 \nL 115.769959 155.829873 \nL 116.182835 153.100288 \nL 116.339228 152.817917 \nL 116.935084 152.159052 \nL 117.266637 154.418019 \nL 117.839034 154.135648 \nL 117.862493 155.359255 \nL 117.868749 154.606266 \nL 118.139308 156.959356 \nL 118.473988 161.194919 \nL 119.072972 153.476783 \nL 119.074536 154.888637 \nL 119.188703 159.312446 \nL 119.224673 158.841828 \nL 120.102036 163.924503 \nL 120.119239 162.136155 \nL 120.259993 164.677492 \nL 120.275632 163.83038 \nL 120.392927 162.136155 \nL 120.419513 163.265638 \nL 120.990347 161.947908 \nL 121.013806 162.418526 \nL 122.219593 159.500694 \nL 122.225849 159.971312 \nL 122.490153 160.44193 \nL 122.502664 159.877188 \nL 122.519867 161.383166 \nL 122.527687 160.536053 \nL 122.671568 161.75966 \nL 123.276808 159.971312 \nL 123.426945 157.524098 \nL 123.541111 157.57116 \nL 123.542675 157.712345 \nL 123.573954 156.488738 \nL 123.722527 156.300491 \nL 123.728783 156.582862 \nL 124.144787 158.559458 \nL 124.291796 157.147603 \nL 124.312127 157.241727 \nL 124.446625 158.182963 \nL 124.779742 161.571413 \nL 125.192618 161.853784 \nL 125.214513 161.383166 \nL 125.228589 162.700896 \nL 125.345883 161.75966 \nL 125.375598 162.512649 \nL 125.499148 162.606773 \nL 125.658668 165.14811 \nL 125.669616 164.865739 \nL 125.821317 164.489245 \nL 126.393714 163.453885 \nL 126.398406 162.606773 \nL 126.417173 162.700896 \nL 126.542287 162.042031 \nL 126.579821 163.736256 \nL 126.581385 163.642133 \nL 126.726831 160.536053 \nL 126.731522 160.724301 \nL 126.851945 161.289042 \nL 126.876968 161.947908 \nL 126.881659 161.75966 \nL 127.446237 158.08884 \nL 127.450929 158.653581 \nL 127.474388 159.40657 \nL 127.482207 159.030076 \nL 127.596374 158.182963 \nL 127.632344 158.559458 \nL 127.746511 158.37121 \nL 127.782481 157.241727 \nL 127.924799 157.524098 \nL 127.932618 157.335851 \nL 128.350187 156.959356 \nL 128.362698 157.618222 \nL 128.354878 156.865233 \nL 128.379901 157.194665 \nL 128.647333 155.171008 \nL 128.650461 155.359255 \nL 128.659844 156.01812 \nL 128.677047 154.70039 \nL 128.794342 154.512142 \nL 128.830312 155.641626 \nL 128.953862 155.453379 \nL 128.983577 154.323895 \nL 129.548155 154.98276 \nL 129.549719 154.606266 \nL 129.584125 156.112244 \nL 129.695164 154.70039 \nL 129.717059 155.171008 \nL 129.879707 156.488738 \nL 129.884399 156.206367 \nL 130.006385 155.923997 \nL 130.007949 156.01812 \nL 130.017333 156.959356 \nL 130.020461 156.865233 \nL 130.445849 155.829873 \nL 130.447413 155.923997 \nL 130.630392 152.441423 \nL 130.747687 152.535547 \nL 130.902515 151.31194 \nL 130.935358 151.594311 \nL 131.504627 153.570906 \nL 131.526522 154.229772 \nL 131.534342 153.900339 \nL 131.648509 153.759154 \nL 131.664148 154.135648 \nL 131.681351 153.759154 \nL 131.797082 152.723794 \nL 131.823668 153.006165 \nL 131.973805 153.994463 \nL 131.980061 154.606266 \nL 131.981625 154.559204 \nL 132.558714 152.912041 \nL 132.561842 153.006165 \nL 132.585301 153.570906 \nL 132.586865 153.382659 \nL 132.716671 153.617968 \nL 133.179593 149.900086 \nL 133.63626 149.24122 \nL 133.786397 150.464827 \nL 133.930278 149.335344 \nL 134.088235 149.335344 \nL 134.199273 148.95885 \nL 134.806077 148.017613 \nL 134.949958 148.582355 \nL 134.960906 147.735243 \nL 134.965598 147.829366 \nL 135.12199 148.111737 \nL 135.250232 150.935445 \nL 135.25336 150.370704 \nL 135.286203 150.464827 \nL 135.853908 150.747198 \nL 135.889878 152.253176 \nL 136.036887 148.770602 \nL 136.154182 149.900086 \nL 136.163566 151.217816 \nL 136.182333 150.841322 \nL 136.753166 150.747198 \nL 136.75473 150.653074 \nL 136.759422 151.31194 \nL 136.764113 151.217816 \nL 137.051876 149.900086 \nL 137.059696 150.088333 \nL 137.212961 152.535547 \nL 137.355278 151.31194 \nL 137.367789 151.594311 \nL 137.375609 152.253176 \nL 137.386556 151.500187 \nL 137.391248 151.500187 \nL 137.804125 149.523591 \nL 137.822892 149.617715 \nL 137.973029 149.429468 \nL 138.104399 149.994209 \nL 138.274867 145.5704 \nL 138.288942 145.946894 \nL 138.29207 146.041018 \nL 138.425004 146.041018 \nL 138.442207 145.85277 \nL 138.859776 145.193905 \nL 138.892618 144.346793 \nL 139.158486 146.699883 \nL 139.307059 146.605759 \nL 139.324262 145.099782 \nL 139.343029 145.476276 \nL 139.454068 146.229265 \nL 139.909171 148.111737 \nL 139.938885 145.85277 \nL 140.059307 146.135141 \nL 140.212572 144.440916 \nL 140.242287 144.629163 \nL 140.359581 145.946894 \nL 140.372093 145.193905 \nL 140.539433 146.135141 \nL 140.967949 146.229265 \nL 140.98046 146.135141 \nL 141.265095 143.970298 \nL 141.266659 144.158545 \nL 141.29481 145.288029 \nL 141.407412 145.005658 \nL 141.413668 145.193905 \nL 141.581008 145.193905 \nL 142.029855 146.229265 \nL 142.178428 145.664523 \nL 142.189376 145.758647 \nL 142.195632 146.229265 \nL 142.31449 146.323388 \nL 142.316054 146.229265 \nL 142.32231 146.982254 \nL 142.330129 146.511636 \nL 142.464627 146.88813 \nL 142.466191 146.135141 \nL 142.495906 147.829366 \nL 143.068303 145.946894 \nL 143.08707 146.323388 \nL 143.088634 146.041018 \nL 143.392036 148.817664 \nL 143.395164 149.617715 \nL 143.518714 147.546995 \nL 143.657903 147.735243 \nL 143.661031 147.452872 \nL 143.686054 147.641119 \nL 144.111442 145.288029 \nL 144.417972 142.18195 \nL 144.427355 142.840815 \nL 144.591568 143.123186 \nL 144.708862 142.840815 \nL 144.74796 142.934939 \nL 145.163965 142.746691 \nL 145.190552 141.711332 \nL 145.192116 141.899579 \nL 145.335997 140.817157 \nL 145.343817 141.240714 \nL 145.467367 142.652568 \nL 145.478314 141.711332 \nL 145.609684 141.240714 \nL 145.642527 143.217309 \nL 145.773896 142.087826 \nL 146.210232 140.205354 \nL 146.218052 140.393601 \nL 146.24933 141.334837 \nL 146.518326 137.852264 \nL 146.668463 138.7935 \nL 146.685666 138.228758 \nL 146.691922 137.852264 \nL 146.699741 137.899325 \nL 146.849878 137.287522 \nL 147.262755 137.099275 \nL 147.300289 136.063915 \nL 147.419148 136.816904 \nL 147.434787 135.969791 \nL 147.450426 136.2051 \nL 147.736625 141.052466 \nL 148.351248 138.134634 \nL 148.613988 136.534533 \nL 148.639011 137.381646 \nL 148.651522 137.005151 \nL 148.918953 134.463814 \nL 148.951796 134.746185 \nL 149.546088 135.310926 \nL 149.702481 137.852264 \nL 149.821339 137.381646 \nL 149.999627 135.028555 \nL 150.001191 135.216803 \nL 150.425015 135.216803 \nL 150.5861 134.934432 \nL 150.590791 135.122679 \nL 150.726853 135.122679 \nL 150.895757 133.899072 \nL 150.903577 133.993196 \nL 151.05215 136.158039 \nL 151.624547 135.969791 \nL 151.629239 135.499173 \nL 151.643314 135.781544 \nL 151.766864 134.840308 \nL 151.771556 135.687421 \nL 151.918565 138.981747 \nL 152.065574 138.699376 \nL 152.104673 136.911028 \nL 152.522241 134.181443 \nL 152.542572 134.840308 \nL 152.686453 135.122679 \nL 152.700529 135.687421 \nL 152.96796 134.463814 \nL 152.972652 134.652061 \nL 153.138428 134.463814 \nL 153.571636 132.957836 \nL 153.5732 132.53428 \nL 153.601351 133.146083 \nL 153.878166 133.522578 \nL 153.906316 133.146083 \nL 154.029867 134.840308 \nL 154.040814 136.816904 \nL 154.203462 133.616701 \nL 154.625723 132.769589 \nL 154.638234 132.863712 \nL 154.924433 133.85201 \nL 154.949456 132.110724 \nL 155.223143 136.44041 \nL 155.673554 135.499173 \nL 155.822127 132.769589 \nL 155.823691 132.863712 \nL 155.842458 132.957836 \nL 155.844022 132.675465 \nL 155.9707 130.228251 \nL 155.980083 130.416499 \nL 156.122401 129.381139 \nL 156.123965 129.757633 \nL 156.133348 128.722274 \nL 156.289741 127.404543 \nL 156.303816 126.557431 \nL 156.758919 128.063408 \nL 156.869958 129.475262 \nL 156.877778 128.534026 \nL 156.904364 127.498667 \nL 156.909056 127.781037 \nL 157.031042 125.616194 \nL 157.20151 125.522071 \nL 157.326625 126.839801 \nL 157.80675 125.333824 \nL 157.936556 125.333824 \nL 157.941248 125.898565 \nL 157.956887 125.804442 \nL 158.235266 123.545475 \nL 158.246214 126.463307 \nL 158.260289 125.333824 \nL 158.856145 125.804442 \nL 158.860837 125.710318 \nL 158.984387 123.92197 \nL 159.27215 124.580835 \nL 159.295609 125.710318 \nL 159.311248 125.522071 \nL 160.040038 120.721767 \nL 160.046293 121.663003 \nL 160.20425 124.392588 \nL 160.208942 124.110217 \nL 160.355951 127.875161 \nL 160.362207 128.910521 \nL 160.482629 128.62815 \nL 160.501396 128.157532 \nL 160.504524 128.345779 \nL 160.934604 125.710318 \nL 160.962755 125.804442 \nL 161.098816 125.992689 \nL 161.227058 124.769082 \nL 161.405346 126.27506 \nL 161.988691 124.580835 \nL 162.00433 125.145576 \nL 162.581419 119.027542 \nL 162.60957 119.309913 \nL 163.03183 120.910014 \nL 163.038086 120.53352 \nL 163.177275 122.133621 \nL 163.644889 119.309913 \nL 163.660529 119.780531 \nL 164.22667 121.286508 \nL 164.228234 121.192385 \nL 164.229798 120.910014 \nL 164.250129 122.980733 \nL 164.259513 122.88661 \nL 164.528508 120.157025 \nL 164.545711 120.81589 \nL 164.562914 120.627643 \nL 164.711487 121.474756 \nL 165.283885 117.521564 \nL 165.287013 117.615688 \nL 165.440277 118.274553 \nL 165.466864 117.992182 \nL 165.73586 117.239193 \nL 165.762446 116.297957 \nL 166.197218 114.415485 \nL 166.334844 115.168474 \nL 166.367686 114.697856 \nL 166.635118 115.450845 \nL 166.647629 114.791979 \nL 166.66796 114.980227 \nL 166.79151 116.956822 \nL 167.235665 118.839295 \nL 167.26538 120.439396 \nL 167.268508 119.780531 \nL 167.384239 119.49816 \nL 167.392058 119.686407 \nL 167.393622 119.780531 \nL 167.40457 119.309913 \nL 167.409261 119.49816 \nL 167.531248 119.874654 \nL 167.542195 120.674705 \nL 167.559398 119.780531 \nL 167.568782 119.968778 \nL 167.707971 120.721767 \nL 167.712663 120.627643 \nL 168.286624 117.050946 \nL 168.288188 117.14507 \nL 168.441453 115.07435 \nL 168.618177 114.980227 \nL 168.619741 115.121412 \nL 168.755802 112.533013 \nL 168.880917 114.038991 \nL 168.920015 113.75662 \nL 169.370426 113.286002 \nL 169.640985 111.121159 \nL 169.792686 110.36817 \nL 170.382286 108.485698 \nL 170.385414 108.768068 \nL 170.396362 109.615181 \nL 170.546499 110.744664 \nL 170.557446 110.462293 \nL 170.68256 109.144563 \nL 170.69038 109.615181 \nL 170.721659 109.144563 \nL 170.859284 112.72126 \nL 171.010985 109.803428 \nL 171.437937 111.591777 \nL 171.583382 111.6859 \nL 171.606841 111.215282 \nL 171.62248 111.6859 \nL 171.903987 112.250642 \nL 171.922754 113.003631 \nL 172.038485 111.968271 \nL 172.072891 110.462293 \nL 172.488896 110.744664 \nL 172.518611 112.156518 \nL 172.523302 111.6859 \nL 172.642161 110.462293 \nL 172.659364 110.838788 \nL 172.784478 107.638585 \nL 172.79699 108.109203 \nL 172.823576 109.521057 \nL 172.934615 109.238687 \nL 173.089444 109.521057 \nL 173.112903 108.485698 \nL 173.122286 108.673945 \nL 173.539855 107.732709 \nL 173.546111 107.826832 \nL 173.572697 107.167967 \nL 173.688428 107.167967 \nL 173.699375 108.109203 \nL 173.724398 107.826832 \nL 173.985574 107.450338 \nL 174.016853 109.521057 \nL 174.141967 109.521057 \nL 174.586122 109.33281 \nL 174.587686 109.709305 \nL 174.592378 109.238687 \nL 174.88796 114.415485 \nL 174.925494 113.662496 \nL 175.070939 109.426934 \nL 175.638645 108.01508 \nL 175.676179 107.356214 \nL 175.824752 104.061888 \nL 176.237629 105.756113 \nL 176.239193 105.473742 \nL 176.700551 108.29745 \nL 176.709935 108.956316 \nL 176.72401 108.579821 \nL 176.838177 107.262091 \nL 176.871019 107.732709 \nL 177.166601 112.438889 \nL 177.174421 112.062395 \nL 177.310483 115.733216 \nL 177.738999 112.815384 \nL 177.75151 114.227238 \nL 177.765585 113.662496 \nL 177.896955 113.991929 \nL 177.903211 113.897805 \nL 178.064295 118.368677 \nL 178.075243 117.615688 \nL 178.18941 117.898059 \nL 178.339547 114.180176 \nL 178.34111 114.368423 \nL 178.345802 115.027288 \nL 178.358314 113.897805 \nL 178.378645 114.509609 \nL 178.813416 112.815384 \nL 179.098051 112.72126 \nL 179.24506 112.909507 \nL 179.246624 112.815384 \nL 179.248188 112.438889 \nL 179.271647 113.75662 \nL 179.423348 113.474249 \nL 179.42804 114.038991 \nL 179.864375 111.6859 \nL 179.870631 111.780024 \nL 180.028588 112.909507 \nL 180.291327 111.968271 \nL 180.477435 109.991675 \nL 181.054524 110.744664 \nL 181.203097 110.085799 \nL 181.207789 110.36817 \nL 181.37982 112.438889 \nL 181.517446 110.838788 \nL 182.128941 108.01508 \nL 182.408884 104.250135 \nL 182.410448 104.344259 \nL 182.426088 104.909001 \nL 182.576225 102.367663 \nL 182.993793 102.744158 \nL 183.031327 101.049933 \nL 183.164261 101.708798 \nL 183.173645 101.379365 \nL 183.181464 101.23818 \nL 183.183028 101.332303 \nL 183.328473 103.779517 \nL 183.333165 103.026528 \nL 183.444204 103.214776 \nL 183.445768 103.120652 \nL 183.606852 100.391067 \nL 183.620928 100.579315 \nL 184.196453 98.132101 \nL 184.199581 98.414471 \nL 184.233987 100.861685 \nL 184.377868 97.284988 \nL 184.496727 97.379112 \nL 184.509238 98.414471 \nL 184.52175 97.943853 \nL 184.676578 95.873134 \nL 184.679706 96.061381 \nL 185.100403 95.77901 \nL 185.122298 96.061381 \nL 185.130117 95.402516 \nL 185.405368 92.014066 \nL 185.421008 93.237673 \nL 185.431955 92.202313 \nL 185.546122 92.955302 \nL 185.553941 92.484684 \nL 185.558633 91.355201 \nL 185.561761 91.449324 \nL 186.149798 91.166954 \nL 186.296807 95.214269 \nL 186.299935 96.626123 \nL 186.31401 95.026022 \nL 186.335905 95.308392 \nL 186.446944 92.390561 \nL 186.471967 94.178909 \nL 186.783188 101.23818 \nL 187.197629 102.838281 \nL 187.20232 100.108696 \nL 187.236727 109.050439 \nL 187.383736 103.967764 \nL 187.3853 103.120652 \nL 187.386864 103.214776 \nL 187.499466 106.97972 \nL 187.685574 116.392081 \nL 187.831019 116.297957 \nL 188.250151 111.6859 \nL 188.251715 112.438889 \nL 188.287686 112.909507 \nL 188.423747 110.744664 \nL 188.698998 101.802921 \nL 188.700562 100.579315 \nL 188.706818 103.779517 \nL 188.738097 102.838281 \nL 188.866339 101.144056 \nL 188.888234 102.650034 \nL 189.452811 105.379619 \nL 189.454375 105.191371 \nL 189.457503 106.038484 \nL 189.465323 104.720753 \nL 189.470014 104.814877 \nL 189.627971 101.802921 \nL 189.638919 104.156012 \nL 189.767161 102.55591 \nL 189.789055 104.156012 \nL 189.936065 100.579315 \nL 190.355197 100.296944 \nL 190.358325 101.049933 \nL 190.689877 108.109203 \nL 190.814992 105.097248 \nL 190.822811 106.509102 \nL 190.830631 108.579821 \nL 190.952617 111.591777 \nL 190.990151 107.450338 \nL 191.421795 107.638585 \nL 191.584444 105.567866 \nL 191.851875 103.873641 \nL 191.853439 104.344259 \nL 191.880026 105.567866 \nL 191.890973 105.097248 \nL 192.014523 101.520551 \nL 192.61038 99.073337 \nL 192.630711 101.23818 \nL 192.752697 99.638078 \nL 192.754261 99.920449 \nL 193.658211 101.991169 \nL 193.670722 101.049933 \nL 193.692617 101.708798 \nL 193.80522 102.085292 \nL 194.138336 112.156518 \nL 194.554341 107.732709 \nL 194.559033 108.862192 \nL 194.56998 109.897552 \nL 194.591875 106.97972 \nL 194.593439 106.97972 \nL 194.718553 106.603225 \nL 194.86087 112.627136 \nL 195.004752 110.179923 \nL 194.889021 112.909507 \nL 195.006316 110.462293 \nL 195.03603 107.638585 \nL 195.611555 111.121159 \nL 195.630323 113.474249 \nL 195.758565 111.215282 \nL 195.929033 112.250642 \nL 195.944672 109.33281 \nL 196.076042 107.544462 \nL 196.67659 109.615181 \nL 196.693793 110.838788 \nL 196.994067 106.697349 \nL 196.995631 106.885596 \nL 197.109797 106.97972 \nL 197.137948 106.320855 \nL 197.294341 109.709305 \nL 197.295905 109.33281 \nL 197.708781 110.085799 \nL 197.882377 108.109203 \nL 197.885505 108.579821 \nL 198.043462 106.509102 \nL 198.192035 107.544462 \nL 198.318713 110.085799 \nL 198.346864 109.897552 \nL 198.765996 109.615181 \nL 198.911441 108.862192 \nL 198.913005 109.426934 \nL 198.941156 111.591777 \nL 198.920825 108.956316 \nL 198.947412 111.121159 \nL 199.06627 113.003631 \nL 199.388439 108.391574 \nL 199.391567 108.768068 \nL 199.813827 107.450338 \nL 199.815391 107.732709 \nL 199.973348 112.674198 \nL 199.985859 110.838788 \nL 200.109409 110.462293 \nL 200.118793 109.615181 \nL 200.148507 111.027035 \nL 200.264238 113.380125 \nL 200.270494 114.886103 \nL 200.284569 112.344766 \nL 200.295517 112.533013 \nL 200.412811 113.850743 \nL 200.426886 111.497653 \nL 200.863222 111.027035 \nL 200.899192 112.250642 \nL 201.312069 107.544462 \nL 201.335528 106.226731 \nL 201.479409 106.885596 \nL 201.484101 106.226731 \nL 202.06119 108.579821 \nL 202.064318 109.803428 \nL 202.086213 108.768068 \nL 202.39587 109.050439 \nL 202.533496 110.932911 \nL 202.963576 108.29745 \nL 202.968268 108.673945 \nL 202.997982 109.709305 \nL 203.146555 109.521057 \nL 203.151247 109.33281 \nL 203.271669 111.215282 \nL 203.292 109.991675 \nL 203.43901 110.744664 \nL 203.575071 109.521057 \nL 204.163108 112.627136 \nL 204.166236 112.062395 \nL 204.199078 115.262598 \nL 204.200642 114.791979 \nL 204.651053 110.179923 \nL 205.220322 108.109203 \nL 205.240653 108.862192 \nL 205.245345 108.768068 \nL 205.397046 106.414978 \nL 205.514341 106.603225 \nL 205.686373 109.144563 \nL 206.275973 109.144563 \nL 206.296304 109.615181 \nL 206.41829 109.615181 \nL 206.588758 111.027035 \nL 206.602834 110.932911 \nL 207.315984 118.933418 \nL 207.32224 119.968778 \nL 207.355083 117.14507 \nL 207.645973 119.968778 \nL 207.794546 117.803935 \nL 207.805494 118.839295 \nL 208.374763 121.663003 \nL 208.542103 124.251402 \nL 208.556178 125.522071 \nL 208.851761 120.157025 \nL 208.856452 120.345272 \nL 209.417902 123.827846 \nL 209.436669 123.451351 \nL 209.738507 124.298464 \nL 209.757274 124.580835 \nL 209.885516 121.568879 \nL 210.35313 119.121665 \nL 210.356258 119.215789 \nL 210.770699 120.721767 \nL 210.79103 119.780531 \nL 210.79885 120.251149 \nL 210.948987 119.780531 \nL 210.956806 119.874654 \nL 211.379067 121.474756 \nL 211.408781 120.81589 \nL 211.521384 121.192385 \nL 211.549535 118.839295 \nL 211.558918 118.933418 \nL 211.857628 121.757127 \nL 211.859192 120.910014 \nL 212.009329 118.274553 \nL 212.445665 120.157025 \nL 212.45974 120.439396 \nL 212.578598 115.733216 \nL 212.59111 116.297957 \nL 212.720916 115.733216 \nL 212.725608 116.203834 \nL 212.730299 116.674452 \nL 212.880436 115.639092 \nL 212.910151 115.827339 \nL 213.491932 116.768575 \nL 213.634249 115.639092 \nL 213.776567 116.015586 \nL 213.939215 120.157025 \nL 214.09248 118.274553 \nL 214.111247 118.839295 \nL 214.685208 116.674452 \nL 215.129363 120.53352 \nL 215.146566 120.345272 \nL 215.573519 121.568879 \nL 215.581338 121.286508 \nL 215.590722 122.698363 \nL 215.612617 122.039497 \nL 215.725219 123.168981 \nL 215.750242 122.321868 \nL 215.759626 121.757127 \nL 215.762754 121.945374 \nL 215.906635 128.816397 \nL 216.041133 125.710318 \nL 216.0599 126.463307 \nL 216.177194 128.063408 \nL 216.192834 126.933925 \nL 216.213165 124.863206 \nL 216.624477 124.20434 \nL 216.635425 124.580835 \nL 216.663576 123.827846 \nL 216.804329 120.81589 \nL 216.924751 120.721767 \nL 216.926315 120.910014 \nL 216.96385 119.686407 \nL 217.697331 115.450845 \nL 217.714534 115.827339 \nL 217.978838 116.203834 \nL 217.981966 116.015586 \nL 218.014808 114.980227 \nL 218.899991 122.698363 \nL 218.91563 122.227745 \nL 219.037617 125.898565 \nL 219.183062 125.475009 \nL 219.195573 126.369183 \nL 219.21434 125.427947 \nL 219.215904 125.804442 \nL 219.339455 125.380885 \nL 219.350402 127.028049 \nL 219.366041 126.369183 \nL 219.78361 127.404543 \nL 219.808633 128.251656 \nL 219.810197 128.204594 \nL 220.229329 124.392588 \nL 220.262171 124.486711 \nL 220.833005 125.616194 \nL 220.859591 126.463307 \nL 221.133279 123.074857 \nL 221.148918 121.945374 \nL 221.167685 122.321868 \nL 221.446064 119.49816 \nL 221.457012 120.439396 \nL 221.463267 120.439396 \nL 221.466395 120.062902 \nL 222.030973 121.192385 \nL 222.032537 121.474756 \nL 222.068507 120.81589 \nL 222.206133 119.874654 \nL 222.21708 120.157025 \nL 222.517354 123.168981 \nL 222.518918 122.698363 \nL 222.939614 121.192385 \nL 222.964637 121.286508 \nL 223.386897 128.816397 \nL 223.397845 130.228251 \nL 223.413484 129.94588 \nL 223.987445 131.734229 \nL 224.015596 131.640105 \nL 224.142274 132.769589 \nL 224.151658 132.298971 \nL 224.165733 131.922476 \nL 224.170425 132.957836 \nL 224.470699 140.017107 \nL 224.620836 134.840308 \nL 225.03684 138.417005 \nL 225.071247 137.664016 \nL 225.21982 133.993196 \nL 225.509146 141.240714 \nL 225.512274 140.770096 \nL 226.101875 137.381646 \nL 226.689911 146.605759 \nL 226.702422 144.064422 \nL 226.722753 144.817411 \nL 227.140322 143.123186 \nL 227.166909 147.076377 \nL 227.31861 144.629163 \nL 227.468747 139.640612 \nL 227.587605 139.075871 \nL 227.598553 135.687421 \nL 227.736178 131.263611 \nL 227.742434 133.240207 \nL 227.754945 135.499173 \nL 227.773712 133.899072 \nL 228.202228 133.899072 \nL 228.220995 133.146083 \nL 228.222559 133.240207 \nL 228.361749 133.33433 \nL 228.368005 134.36969 \nL 228.37426 133.522578 \nL 228.511886 131.169487 \nL 228.669843 135.687421 \nL 228.813724 139.546489 \nL 228.824671 138.322882 \nL 229.248495 140.675972 \nL 229.262571 140.205354 \nL 229.403324 136.816904 \nL 229.273518 140.770096 \nL 229.40958 137.75814 \nL 229.423655 138.981747 \nL 229.425219 138.417005 \nL 229.547206 138.322882 \nL 229.872502 132.581342 \nL 230.890619 139.169994 \nL 231.511498 136.158039 \nL 231.80708 132.581342 \nL 231.943142 133.804948 \nL 231.946269 133.522578 \nL 232.393552 128.345779 \nL 232.538998 128.534026 \nL 232.576532 132.675465 \nL 232.578096 132.487218 \nL 232.853347 139.169994 \nL 232.873678 136.628657 \nL 232.9941 135.40505 \nL 233.011304 135.875668 \nL 233.017559 137.569893 \nL 233.442947 139.734736 \nL 233.478918 139.452365 \nL 233.625927 137.099275 \nL 233.765116 133.616701 \nL 233.776064 134.934432 \nL 233.912126 135.122679 \nL 234.071646 137.475769 \nL 234.500162 137.381646 \nL 234.506418 137.24046 \nL 234.518929 139.358241 \nL 234.529877 140.11123 \nL 234.642479 137.75814 \nL 234.680014 139.075871 \nL 234.947445 140.195942 \nL 234.970904 143.217309 \nL 235.097582 141.240714 \nL 235.122605 142.370197 \nL 235.127297 143.029062 \nL 235.128861 142.652568 \nL 235.541737 141.052466 \nL 235.562068 143.970298 \nL 235.843575 143.593804 \nL 235.863906 141.805455 \nL 235.874854 142.558444 \nL 235.995276 142.087826 \nL 236.021863 143.687927 \nL 236.148541 143.593804 \nL 236.176692 142.18195 \nL 236.178256 142.746691 \nL 236.598952 142.18195 \nL 236.631794 144.252669 \nL 236.899226 144.252669 \nL 236.921121 143.217309 \nL 236.930504 143.687927 \nL 237.080641 147.358748 \nL 237.082205 146.794007 \nL 237.216703 140.770096 \nL 237.226087 141.428961 \nL 237.654603 141.240714 \nL 237.656167 141.428961 \nL 237.668678 140.487725 \nL 237.67337 140.675972 \nL 237.798484 140.864219 \nL 237.97208 135.781544 \nL 237.973644 136.534533 \nL 238.1316 134.934432 \nL 238.708689 137.193398 \nL 238.716509 137.005151 \nL 238.72902 136.816904 \nL 239.023039 132.487218 \nL 239.033986 133.05196 \nL 239.173176 133.428454 \nL 239.310801 130.134128 \nL 239.317057 129.94588 \nL 239.33426 130.510622 \nL 239.914477 133.146083 \nL 239.93168 134.463814 \nL 239.934808 133.616701 \nL 240.818427 130.792993 \nL 240.82781 130.228251 \nL 240.984203 129.192892 \nL 241.271966 124.110217 \nL 241.286041 124.580835 \nL 241.436178 125.333824 \nL 241.850619 125.427947 \nL 241.886589 124.20434 \nL 242.147765 122.133621 \nL 242.160276 122.604239 \nL 242.322924 126.086813 \nL 242.485573 127.404543 \nL 242.901577 127.216296 \nL 243.198724 125.710318 \nL 243.209671 126.27506 \nL 243.351988 127.59279 \nL 243.378575 125.992689 \nL 244.431098 125.145576 \nL 244.56716 121.85125 \nL 244.587491 122.510115 \nL 245.031646 119.780531 \nL 245.314717 122.415992 \nL 245.489876 125.051453 \nL 246.051326 123.074857 \nL 246.05289 123.263104 \nL 246.066965 125.475009 \nL 246.090424 123.92197 \nL 246.360984 122.415992 \nL 246.390698 122.604239 \nL 246.653438 129.192892 \nL 246.689408 129.004644 \nL 247.114797 124.957329 \nL 247.566771 124.674958 \nL 247.591794 124.486711 \nL 247.724728 121.380632 \nL 247.741931 121.85125 \nL 248.186086 119.592284 \nL 248.192342 119.121665 \nL 248.461338 120.721767 \nL 248.484797 118.745171 \nL 248.489488 119.215789 \nL 248.778815 123.451351 \nL 248.79289 124.298464 \nL 249.834465 120.910014 \nL 250.569511 115.921463 \nL 250.594534 117.14507 \nL 250.739979 115.733216 \nL 251.317068 114.697856 \nL 251.335835 114.038991 \nL 251.48128 114.886103 \nL 251.493792 114.509609 \nL 252.35708 115.733216 \nL 252.391486 116.203834 \nL 252.543187 113.380125 \nL 252.544751 113.850743 \nL 253.417422 114.791979 \nL 253.434625 114.603732 \nL 253.714568 115.262598 \nL 253.716132 115.168474 \nL 253.71926 114.886103 \nL 253.741155 115.733216 \nL 254.028917 115.733216 \nL 254.033609 116.015586 \nL 254.047685 115.262598 \nL 254.616954 115.968525 \nL 254.618518 116.250895 \nL 254.638849 115.168474 \nL 254.648232 115.450845 \nL 254.776474 114.886103 \nL 254.788986 113.380125 \nL 254.79055 113.850743 \nL 254.932867 116.015586 \nL 254.937559 115.921463 \nL 255.509956 119.592284 \nL 255.514648 119.121665 \nL 255.544363 117.898059 \nL 255.533415 119.215789 \nL 255.549054 118.274553 \nL 255.697627 123.357228 \nL 255.699191 122.88661 \nL 255.836817 122.415992 \nL 256.121452 127.310419 \nL 256.129271 126.463307 \nL 256.573427 132.675465 \nL 256.600013 132.110724 \nL 256.743895 128.534026 \nL 256.75015 128.816397 \nL 256.865881 129.192892 \nL 256.870573 128.722274 \nL 256.900287 128.816397 \nL 257.017582 128.534026 \nL 257.026965 127.875161 \nL 257.047296 129.192892 \nL 257.167719 131.922476 \nL 257.632205 133.428454 \nL 257.763575 132.675465 \nL 257.951246 132.675465 \nL 258.096691 135.969791 \nL 258.213986 134.181443 \nL 258.221805 135.593297 \nL 258.820789 133.710825 \nL 258.844248 134.087319 \nL 259.117936 131.545982 \nL 259.878004 130.040004 \nL 259.885824 130.134128 \nL 259.896771 129.66351 \nL 260.014066 130.228251 \nL 260.032833 131.828353 \nL 260.053164 131.545982 \nL 260.167331 131.451858 \nL 261.074408 126.369183 \nL 261.080664 126.839801 \nL 261.396577 128.722274 \nL 261.978358 123.827846 \nL 261.987741 124.016093 \nL 262.297399 119.686407 \nL 262.902639 121.945374 \nL 263.049648 124.016093 \nL 263.944214 118.274553 \nL 264.230413 121.098261 \nL 264.233541 120.81589 \nL 264.549454 122.227745 \nL 264.551018 122.086559 \nL 265.157821 124.110217 \nL 265.282935 121.945374 \nL 265.454967 123.451351 \nL 266.050824 121.945374 \nL 266.190013 121.945374 \nL 266.351098 122.88661 \nL 266.629477 122.133621 \nL 266.659191 123.263104 \nL 267.07676 122.88661 \nL 267.083015 122.510115 \nL 267.101782 122.88661 \nL 267.230024 122.604239 \nL 267.231588 122.321868 \nL 267.23628 122.510115 \nL 267.672616 122.698363 \nL 268.301314 125.522071 \nL 268.309134 125.380885 \nL 268.460835 127.498667 \nL 268.595333 126.180936 \nL 268.610972 131.545982 \nL 269.183369 138.040511 \nL 269.355401 136.063915 \nL 269.361657 136.252162 \nL 269.488335 137.005151 \nL 269.491463 136.628657 \nL 269.505538 135.122679 \nL 269.658803 133.240207 \nL 269.791737 135.310926 \nL 269.812068 134.934432 \nL 270.262479 136.252162 \nL 270.547113 139.828859 \nL 270.856771 135.969791 \nL 271.297798 134.087319 \nL 271.304054 134.746185 \nL 271.580869 133.522578 \nL 271.743518 135.310926 \nL 271.760721 134.934432 \nL 272.334682 136.816904 \nL 272.347193 136.346286 \nL 272.350321 136.72278 \nL 272.664671 134.746185 \nL 273.715629 129.94588 \nL 273.828232 127.216296 \nL 274.42878 126.839801 \nL 274.4366 126.463307 \nL 274.444419 126.745678 \nL 274.599248 126.651554 \nL 274.915161 124.392588 \nL 275.066862 123.357228 \nL 275.814419 126.27506 \nL 277.612935 128.534026 \nL 277.769328 129.94588 \nL 277.911645 132.487218 \nL 278.2041 129.94588 \nL 278.668586 130.46356 \nL 279.114305 129.381139 \nL 279.266006 125.333824 \nL 280.17152 123.451351 \nL 280.321657 125.051453 \nL 281.222479 122.510115 \nL 281.355412 121.945374 \nL 281.360104 121.757127 \nL 281.36636 121.945374 \nL 281.973164 121.663003 \nL 282.112353 122.227745 \nL 282.409499 119.404036 \nL 283.022558 115.356721 \nL 283.15862 116.297957 \nL 283.920253 117.050946 \nL 283.921816 116.862699 \nL 283.924944 117.333317 \nL 284.050058 117.898059 \nL 284.35346 119.968778 \nL 284.373791 119.592284 \nL 284.375355 119.686407 \nL 284.968084 117.803935 \nL 284.971211 117.898059 \nL 284.975903 118.180429 \nL 287.223266 122.604239 \nL 287.226394 122.227745 \nL 291.696097 107.356214 \nL 291.711736 107.262091 \nL 291.849362 109.33281 \nL 291.858746 109.144563 \nL 291.872821 110.085799 \nL 291.875949 110.085799 \nL 292.332615 111.6859 \nL 292.446782 111.591777 \nL 292.463985 110.838788 \nL 292.476497 111.215282 \nL 292.606303 111.027035 \nL 292.922216 107.073844 \nL 292.928472 107.450338 \nL 293.350732 105.473742 \nL 293.380446 103.59127 \nL 293.682284 107.167967 \nL 293.683848 106.97972 \nL 293.974739 103.685394 \nL 294.58467 108.673945 \nL 294.734807 107.450338 \nL 294.859921 111.780024 \nL 294.884944 109.33281 \nL 295.596531 118.651047 \nL 295.634065 116.486204 \nL 295.746668 115.215536 \nL 295.77951 115.639092 \nL 295.917136 120.627643 \nL 295.935903 118.745171 \nL 296.073529 123.639599 \nL 296.082912 123.357228 \nL 296.52394 120.53352 \nL 296.536451 121.098261 \nL 296.833597 114.321361 \nL 296.836725 114.603732 \nL 297.127615 116.486204 \nL 297.135435 116.297957 \nL 297.576462 115.544968 \nL 297.728163 112.438889 \nL 298.779122 113.286002 \nL 298.785378 112.909507 \nL 298.788506 113.003631 \nL 299.221713 114.321361 \nL 299.673688 123.168981 \nL 299.689328 122.415992 \nL 299.800366 120.721767 \nL 299.80975 122.133621 \nL 299.831645 124.769082 \nL 299.839465 124.580835 \nL 299.986474 122.604239 \nL 300.130355 126.369183 \nL 300.702752 130.510622 \nL 301.013974 124.20434 \nL 301.165675 123.92197 \nL 301.189134 127.122172 \nL 301.778734 145.099782 \nL 301.791245 143.687927 \nL 301.910104 138.699376 \nL 301.930435 140.017107 \nL 302.074316 144.53504 \nL 302.089955 143.593804 \nL 302.236965 167.877695 \nL 302.391793 154.323895 \nL 302.828129 171.548516 \nL 302.829693 171.454392 \nL 302.842204 173.242741 \nL 302.957935 170.136662 \nL 303.131531 179.454899 \nL 303.255081 179.172528 \nL 303.403654 168.254189 \nL 303.405218 170.513156 \nL 303.442752 174.889904 \nL 303.854065 176.34882 \nL 303.86814 180.866753 \nL 303.877524 175.784078 \nL 303.893163 177.101809 \nL 304.018277 166.559964 \nL 304.040172 167.783571 \nL 304.157467 164.395121 \nL 304.187181 158.37121 \nL 304.193437 159.971312 \nL 304.315423 156.488738 \nL 304.326371 157.05348 \nL 304.52499 164.677492 \nL 304.905024 162.042031 \nL 304.944122 160.630177 \nL 305.088003 159.594817 \nL 305.241268 166.371717 \nL 305.244396 165.995223 \nL 305.372638 161.47729 \nL 305.386713 162.700896 \nL 305.514955 161.665537 \nL 305.533722 164.583369 \nL 305.54467 163.642133 \nL 306.112375 151.782558 \nL 306.145218 153.759154 \nL 306.292227 152.535547 \nL 306.445492 152.817917 \nL 307.030401 153.570906 \nL 307.194613 148.111737 \nL 307.313471 152.770856 \nL 307.325983 152.723794 \nL 307.471428 149.900086 \nL 307.496451 150.653074 \nL 308.075104 146.982254 \nL 308.674088 150.841322 \nL 309.298095 145.476276 \nL 309.448232 140.675972 \nL 310.183277 150.841322 \nL 310.494499 147.641119 \nL 310.49919 148.111737 \nL 310.799464 143.029062 \nL 311.218597 143.782051 \nL 311.2358 143.217309 \nL 311.364042 142.746691 \nL 311.373426 141.617208 \nL 311.400012 144.064422 \nL 311.520435 143.029062 \nL 311.536074 145.193905 \nL 311.700286 144.723287 \nL 312.300834 139.264118 \nL 312.422821 139.828859 \nL 312.450971 141.334837 \nL 312.601108 139.075871 \nL 312.898254 146.417512 \nL 312.901382 146.041018 \nL 313.492547 140.393601 \nL 313.634864 142.558444 \nL 313.652067 141.993702 \nL 313.774053 140.487725 \nL 314.387113 135.028555 \nL 314.552889 130.416499 \nL 314.703026 125.898565 \nL 314.984533 123.168981 \nL 314.99548 123.92197 \nL 315.750857 123.733722 \nL 316.052695 130.322375 \nL 316.645423 129.569386 \nL 316.646987 129.287015 \nL 316.653243 129.757633 \nL 316.654807 129.475262 \nL 316.772101 126.839801 \nL 316.804944 127.310419 \nL 316.955081 126.086813 \nL 317.069247 124.392588 \nL 317.543117 124.016093 \nL 317.554065 124.863206 \nL 317.82306 124.580835 \nL 317.852775 125.2397 \nL 318.00604 124.110217 \nL 318.153049 126.369183 \nL 319.053871 120.01584 \nL 320.068859 107.450338 \nL 320.253403 109.897552 \nL 320.705377 110.274046 \nL 320.969681 109.33281 \nL 320.996268 109.803428 \nL 321.410709 113.097754 \nL 321.412272 111.874148 \nL 321.435731 113.75662 \nL 321.440423 112.438889 \nL 321.748517 109.615181 \nL 321.903345 106.603225 \nL 322.051919 110.179923 \nL 322.463231 111.874148 \nL 322.466359 110.697602 \nL 322.475743 110.838788 \nL 322.796348 108.203327 \nL 322.955868 109.050439 \nL 323.102877 105.473742 \nL 323.401587 111.121159 \nL 323.406279 110.36817 \nL 324.005263 106.038484 \nL 324.146017 102.273539 \nL 324.311793 101.614674 \nL 324.906085 105.567866 \nL 325.490994 103.967764 \nL 326.255754 103.779517 \nL 326.258882 103.026528 \nL 326.401199 105.567866 \nL 327.278562 98.320348 \nL 327.614807 97.943853 \nL 328.037067 104.156012 \nL 328.05427 103.403023 \nL 328.215355 98.88509 \nL 328.640743 105.94436 \nL 329.263186 107.356214 \nL 329.396119 106.320855 \nL 330.315708 101.802921 \nL 330.767683 105.191371 \nL 331.810822 113.75662 \nL 332.719464 104.909001 \nL 332.85709 107.167967 \nL 333.91274 99.073337 \nL 335.532969 98.037977 \nL 335.53766 98.085039 \nL 335.557991 96.437876 \nL 335.683106 97.096741 \nL 335.686233 96.626123 \nL 335.689361 96.437876 \nL 335.703437 97.473235 \nL 335.719076 97.002617 \nL 335.869213 96.720247 \nL 335.988071 97.567359 \nL 336.583927 98.226224 \nL 336.585491 98.132101 \nL 336.755959 103.214776 \nL 336.768471 103.120652 \nL 337.057797 105.473742 \nL 337.659909 100.155758 \nL 337.663037 100.579315 \nL 337.820994 92.672931 \nL 338.535708 82.413458 \nL 338.690537 89.566852 \nL 338.995503 86.743144 \nL 338.997067 86.931391 \nL 339.023653 89.943347 \nL 339.025217 89.755099 \nL 339.156587 86.931391 \nL 339.591359 83.354694 \nL 339.736804 85.707784 \nL 339.905708 83.354694 \nL 339.922911 83.637065 \nL 339.926039 84.954795 \nL 340.637626 79.966244 \nL 340.664213 81.001604 \nL 341.688585 82.789952 \nL 342.741108 75.448311 \nL 342.775514 75.918929 \nL 342.928779 76.107176 \nL 343.229053 74.224704 \nL 343.810834 77.048412 \nL 343.948459 76.295423 \nL 343.953151 76.389547 \nL 343.979738 75.354187 \nL 344.280012 72.059861 \nL 344.86492 74.977693 \nL 344.999418 76.766041 \nL 345.002546 76.295423 \nL 345.17145 73.942333 \nL 345.180834 74.318828 \nL 345.931519 78.742637 \nL 346.192694 71.212749 \nL 346.946507 65.941826 \nL 346.973094 68.765535 \nL 347.096644 64.341725 \nL 347.101336 64.529972 \nL 347.273368 63.400489 \nL 347.39379 63.68286 \nL 348.153859 53.423386 \nL 348.169498 55.117611 \nL 348.183573 54.458746 \nL 348.294612 52.858645 \nL 348.318071 53.799881 \nL 348.483847 51.917409 \nL 349.195434 49.0937 \nL 349.214201 50.787925 \nL 349.347135 45.799374 \nL 349.645845 47.964217 \nL 349.677124 46.081745 \nL 349.684943 46.364116 \n\" clip-path=\"url(#p21cceb0e26)\" style=\"fill: none; stroke: #1f77b4; stroke-width: 1.5; stroke-linecap: square\"/>\n   </g>\n   <g id=\"line2d_17\">\n    <path d=\"M 45.321307 140.017107 \nL 45.325999 138.417005 \nL 45.349458 141.428961 \nL 45.657551 149.994209 \nL 46.552117 139.358241 \nL 46.833624 138.322882 \nL 46.982197 139.264118 \nL 47.459195 139.546489 \nL 48.497642 149.711838 \nL 48.510154 148.95885 \nL 48.654035 148.111737 \nL 48.77133 148.394108 \nL 48.797916 146.135141 \nL 48.929286 147.641119 \nL 49.085679 144.817411 \nL 49.526706 148.394108 \nL 49.531398 147.641119 \nL 49.537654 147.076377 \nL 49.561113 147.829366 \nL 49.831672 145.099782 \nL 49.855131 145.85277 \nL 50.135074 149.523591 \nL 50.160097 149.335344 \nL 50.73875 149.900086 \nL 50.885759 153.382659 \nL 50.910782 151.782558 \nL 51.023384 152.62967 \nL 51.028076 152.064929 \nL 51.051535 151.217816 \nL 51.186033 151.31194 \nL 51.189161 151.876681 \nL 51.21262 151.782558 \nL 52.255759 163.736256 \nL 52.262014 165.995223 \nL 52.263578 165.712852 \nL 52.832848 165.806976 \nL 52.859435 167.407077 \nL 52.864126 170.136662 \nL 53.148761 158.182963 \nL 53.287951 159.218323 \nL 53.305154 160.347806 \nL 53.314537 159.877188 \nL 53.880679 165.712852 \nL 53.899446 166.748212 \nL 53.915085 166.465841 \nL 54.337345 165.618728 \nL 54.338909 165.712852 \nL 54.35924 167.783571 \nL 55.416455 160.159559 \nL 55.837151 160.912548 \nL 55.851227 161.47729 \nL 55.866866 161.383166 \nL 56.017003 158.653581 \nL 56.315713 155.076884 \nL 56.317277 156.112244 \nL 58.117357 168.724807 \nL 58.262802 165.14811 \nL 58.536489 164.018627 \nL 58.567768 158.841828 \nL 58.569332 159.40657 \nL 59.011923 156.206367 \nL 59.013487 155.641626 \nL 59.019743 156.112244 \nL 59.133909 155.453379 \nL 59.16988 156.771109 \nL 59.28561 150.370704 \nL 59.320017 152.159052 \nL 59.434183 151.406063 \nL 59.438875 151.594311 \nL 59.440439 152.912041 \nL 59.470154 149.335344 \nL 60.069138 150.747198 \nL 60.220839 152.723794 \nL 60.350644 152.535547 \nL 60.492962 151.406063 \nL 61.106021 149.994209 \nL 61.12166 149.523591 \nL 61.3844 149.523591 \nL 61.421934 151.31194 \nL 62.147596 148.111737 \nL 62.294606 150.653074 \nL 62.310245 151.31194 \nL 62.322756 150.182456 \nL 62.446307 149.805962 \nL 62.472893 152.159052 \nL 62.748144 154.135648 \nL 62.755964 153.853277 \nL 63.348692 149.335344 \nL 63.35182 149.429468 \nL 63.365896 147.829366 \nL 63.373715 148.676479 \nL 63.487882 147.452872 \nL 63.492574 147.92349 \nL 63.51916 149.429468 \nL 63.520724 149.24122 \nL 63.638019 149.147097 \nL 63.644275 150.182456 \nL 63.659914 148.299984 \nL 63.672425 148.855314 \nL 64.251078 154.70039 \nL 64.254206 154.135648 \nL 64.571683 155.923997 \nL 64.712437 155.547502 \nL 64.724948 157.241727 \nL 65.444354 155.735749 \nL 65.475633 157.241727 \nL 65.739937 155.265131 \nL 65.758704 153.853277 \nL 66.343612 152.817917 \nL 66.356124 153.759154 \nL 66.36238 152.723794 \nL 66.371763 153.476783 \nL 66.676729 154.888637 \nL 66.953544 157.241727 \nL 67.544708 156.300491 \nL 67.55722 156.488738 \nL 67.560348 156.488738 \nL 67.561911 156.771109 \nL 67.571295 156.01812 \nL 67.572859 156.206367 \nL 67.871569 167.595324 \nL 67.877825 167.5012 \nL 68.594103 170.88965 \nL 68.600359 169.383673 \nL 68.62851 169.666043 \nL 68.75206 169.57192 \nL 68.758316 172.677999 \nL 68.778647 170.701403 \nL 69.071101 176.537067 \nL 69.078921 175.595831 \nL 69.490233 174.654595 \nL 69.51682 175.784078 \nL 69.529332 174.089853 \nL 69.671649 170.983774 \nL 69.679469 171.642639 \nL 69.942208 167.689448 \nL 69.970359 168.348313 \nL 70.090781 170.042538 \nL 70.092345 168.724807 \nL 70.128316 170.513156 \nL 70.129879 170.513156 \nL 70.841466 165.901099 \nL 70.849286 165.995223 \nL 70.85085 166.654088 \nL 70.875873 165.524605 \nL 70.877437 165.618728 \nL 70.991603 166.842335 \nL 70.993167 165.806976 \nL 71.008806 165.618728 \nL 71.011934 166.089346 \nL 71.592151 171.360268 \nL 71.598407 172.019134 \nL 71.631249 169.195425 \nL 71.753236 170.324909 \nL 71.779822 170.795527 \nL 71.781386 169.948414 \nL 72.652494 178.419539 \nL 72.660313 177.854797 \nL 72.666569 176.631191 \nL 72.682208 177.854797 \nL 72.824526 175.972325 \nL 72.832345 176.34882 \nL 72.966843 178.607786 \nL 72.969971 178.231292 \nL 73.132619 184.349326 \nL 73.243658 183.031596 \nL 73.268681 183.972832 \nL 73.282756 185.196439 \nL 73.697197 184.631697 \nL 73.715964 186.514169 \nL 73.733167 185.102315 \nL 73.847334 184.255203 \nL 73.870793 185.290563 \nL 73.883304 184.725821 \nL 74.02093 185.855304 \nL 74.027185 186.79654 \nL 74.177322 183.878708 \nL 74.183578 185.196439 \nL 74.31964 190.843856 \nL 74.333715 190.18499 \nL 74.896729 186.890664 \nL 74.90142 187.078911 \nL 75.053121 193.385193 \nL 75.056249 193.291069 \nL 75.065633 194.138182 \nL 75.082836 191.314474 \nL 75.0844 191.408597 \nL 75.195439 191.314474 \nL 75.198567 191.596844 \nL 75.20795 189.149631 \nL 75.234537 190.937979 \nL 75.384674 186.608293 \nL 75.949252 188.208394 \nL 75.985222 186.608293 \nL 76.100952 187.455406 \nL 76.116592 185.47881 \nL 76.135359 187.267158 \nL 76.435633 180.302011 \nL 76.853201 181.902113 \nL 76.871968 182.937472 \nL 77.004902 184.914068 \nL 77.184754 183.972832 \nL 77.309868 182.09036 \nL 77.319251 182.749225 \nL 77.449057 182.184483 \nL 78.077756 189.149631 \nL 78.08714 188.584889 \nL 78.205998 186.231799 \nL 78.362391 191.596844 \nL 78.367083 191.502721 \nL 78.387414 189.902619 \nL 78.50158 189.620249 \nL 78.534423 188.490765 \nL 79.127151 182.749225 \nL 79.138098 183.502214 \nL 79.258521 180.772629 \nL 79.285108 180.866753 \nL 79.403966 180.302011 \nL 79.40553 180.772629 \nL 79.411786 181.525618 \nL 79.438372 181.243247 \nL 80.004514 178.796034 \nL 80.029537 178.137168 \nL 80.303224 184.631697 \nL 80.454925 181.996236 \nL 81.063293 179.73727 \nL 81.067984 179.925517 \nL 81.089879 181.149124 \nL 81.240016 176.442943 \nL 81.532471 173.054493 \nL 82.122071 170.60728 \nL 82.267516 173.525111 \nL 82.290975 172.96037 \nL 82.417653 171.642639 \nL 82.581866 172.772123 \nL 82.741386 169.666043 \nL 83.190233 169.383673 \nL 83.338806 172.489752 \nL 83.47174 171.548516 \nL 83.47956 172.207381 \nL 83.606238 168.913055 \nL 83.607802 169.57192 \nL 83.632824 167.595324 \nL 83.642208 167.595324 \nL 83.792345 166.18347 \nL 84.206786 164.865739 \nL 84.521135 167.877695 \nL 84.668144 169.854291 \nL 84.693167 168.254189 \nL 85.256181 167.5012 \nL 85.260872 168.348313 \nL 85.293715 168.065942 \nL 85.564274 163.83038 \nL 85.589297 164.583369 \nL 85.744126 166.465841 \nL 85.856729 169.948414 \nL 86.327471 166.851748 \nL 86.623053 170.419032 \nL 87.691215 162.418526 \nL 87.695907 162.512649 \nL 87.810073 163.83038 \nL 87.813201 162.983267 \nL 87.816329 162.324402 \nL 87.846044 163.642133 \nL 87.977413 163.83038 \nL 87.986797 164.395121 \nL 87.993053 164.112751 \nL 88.429388 162.606773 \nL 88.437208 162.700896 \nL 88.445028 162.983267 \nL 101.036203 164.112751 \nL 101.040895 163.548009 \nL 101.205107 161.665537 \nL 101.208235 161.75966 \nL 101.632059 161.100795 \nL 101.639879 161.289042 \nL 101.658646 160.818424 \nL 102.069959 160.536053 \nL 102.074651 159.971312 \nL 102.259194 160.347806 \nL 102.382744 158.747705 \nL 102.409331 158.935952 \nL 102.551648 160.065435 \nL 103.275746 158.08884 \nL 103.438395 159.312446 \nL 103.577584 159.312446 \nL 103.597915 159.783065 \nL 103.610427 159.030076 \nL 104.210975 160.065435 \nL 104.47997 161.383166 \nL 104.797447 157.900592 \nL 104.803703 158.08884 \nL 105.408943 156.488738 \nL 105.410507 156.01812 \nL 105.523109 155.923997 \nL 105.54344 156.676985 \nL 105.702961 154.606266 \nL 106.312893 152.535547 \nL 106.599091 154.512142 \nL 106.602219 153.759154 \nL 106.613167 153.947401 \nL 106.738281 153.100288 \nL 106.7461 153.570906 \nL 106.874342 154.323895 \nL 106.911877 153.006165 \nL 107.363851 155.076884 \nL 107.495221 154.041524 \nL 107.510861 154.70039 \nL 107.512424 155.265131 \nL 107.513988 155.171008 \nL 107.65787 154.794513 \nL 107.664125 154.135648 \nL 107.804879 155.359255 \nL 107.811135 154.98276 \nL 107.925301 154.70039 \nL 108.544616 154.323895 \nL 108.715084 156.488738 \nL 108.843326 156.582862 \nL 108.980952 153.476783 \nL 109.579936 151.500187 \nL 109.908361 151.406063 \nL 110.050678 155.171008 \nL 110.483886 156.488738 \nL 110.487013 156.206367 \nL 110.5136 154.418019 \nL 110.516728 154.606266 \nL 110.630895 158.182963 \nL 110.782596 156.771109 \nL 110.802927 157.006418 \nL 110.806055 157.994716 \nL 110.81231 157.57116 \nL 110.960883 155.076884 \nL 111.533281 153.853277 \nL 111.534845 154.041524 \nL 111.702185 156.01812 \nL 111.705313 155.453379 \nL 111.828863 154.606266 \nL 111.84763 155.453379 \nL 111.85545 154.888637 \nL 111.980564 150.182456 \nL 111.982128 150.27658 \nL 112.604571 154.418019 \nL 112.732813 153.947401 \nL 112.734376 154.041524 \nL 112.737504 155.076884 \nL 112.91892 151.876681 \nL 113.186351 154.512142 \nL 113.21763 153.66503 \nL 114.690849 150.558951 \nL 114.698669 150.653074 \nL 114.708052 149.994209 \nL 114.989559 154.418019 \nL 115.00989 153.853277 \nL 115.286705 154.606266 \nL 115.769959 155.829873 \nL 116.182835 153.100288 \nL 116.339228 152.817917 \nL 116.935084 152.159052 \nL 117.266637 154.418019 \nL 117.839034 154.135648 \nL 117.862493 155.359255 \nL 117.868749 154.606266 \nL 118.139308 156.959356 \nL 118.473988 161.194919 \nL 119.072972 153.476783 \nL 119.074536 154.888637 \nL 119.188703 159.312446 \nL 119.224673 158.841828 \nL 120.102036 163.924503 \nL 120.119239 162.136155 \nL 120.259993 164.677492 \nL 120.275632 163.83038 \nL 120.392927 162.136155 \nL 120.419513 163.265638 \nL 120.990347 161.947908 \nL 121.013806 162.418526 \nL 122.219593 159.500694 \nL 122.225849 159.971312 \nL 122.490153 160.44193 \nL 122.502664 159.877188 \nL 122.519867 161.383166 \nL 122.527687 160.536053 \nL 122.671568 161.75966 \nL 123.276808 159.971312 \nL 123.426945 157.524098 \nL 123.541111 157.57116 \nL 123.542675 157.712345 \nL 123.573954 156.488738 \nL 123.722527 156.300491 \nL 123.728783 156.582862 \nL 124.144787 158.559458 \nL 124.291796 157.147603 \nL 124.312127 157.241727 \nL 124.446625 158.182963 \nL 124.779742 161.571413 \nL 125.192618 161.853784 \nL 125.214513 161.383166 \nL 125.228589 162.700896 \nL 125.345883 161.75966 \nL 125.375598 162.512649 \nL 125.499148 162.606773 \nL 125.658668 165.14811 \nL 125.669616 164.865739 \nL 125.821317 164.489245 \nL 126.393714 163.453885 \nL 126.398406 162.606773 \nL 126.417173 162.700896 \nL 126.542287 162.042031 \nL 126.579821 163.736256 \nL 126.581385 163.642133 \nL 126.726831 160.536053 \nL 126.731522 160.724301 \nL 126.851945 161.289042 \nL 126.876968 161.947908 \nL 126.881659 161.75966 \nL 127.446237 158.08884 \nL 127.450929 158.653581 \nL 127.474388 159.40657 \nL 127.482207 159.030076 \nL 127.596374 158.182963 \nL 127.632344 158.559458 \nL 127.746511 158.37121 \nL 127.782481 157.241727 \nL 127.924799 157.524098 \nL 127.932618 157.335851 \nL 128.350187 156.959356 \nL 128.362698 157.618222 \nL 128.354878 156.865233 \nL 128.379901 157.194665 \nL 128.647333 155.171008 \nL 128.650461 155.359255 \nL 128.659844 156.01812 \nL 128.677047 154.70039 \nL 128.794342 154.512142 \nL 128.830312 155.641626 \nL 128.953862 155.453379 \nL 128.983577 154.323895 \nL 129.548155 154.98276 \nL 129.549719 154.606266 \nL 129.584125 156.112244 \nL 129.695164 154.70039 \nL 129.717059 155.171008 \nL 129.879707 156.488738 \nL 129.884399 156.206367 \nL 130.006385 155.923997 \nL 130.007949 156.01812 \nL 130.017333 156.959356 \nL 130.020461 156.865233 \nL 130.445849 155.829873 \nL 130.447413 155.923997 \nL 130.630392 152.441423 \nL 130.747687 152.535547 \nL 130.902515 151.31194 \nL 130.935358 151.594311 \nL 131.504627 153.570906 \nL 131.526522 154.229772 \nL 131.534342 153.900339 \nL 131.648509 153.759154 \nL 131.664148 154.135648 \nL 131.681351 153.759154 \nL 131.797082 152.723794 \nL 131.823668 153.006165 \nL 131.973805 153.994463 \nL 131.980061 154.606266 \nL 131.981625 154.559204 \nL 132.558714 152.912041 \nL 132.561842 153.006165 \nL 132.585301 153.570906 \nL 132.586865 153.382659 \nL 132.716671 153.617968 \nL 133.179593 149.900086 \nL 133.63626 149.24122 \nL 133.786397 150.464827 \nL 133.930278 149.335344 \nL 134.088235 149.335344 \nL 134.199273 148.95885 \nL 134.806077 148.017613 \nL 134.949958 148.582355 \nL 134.960906 147.735243 \nL 134.965598 147.829366 \nL 135.12199 148.111737 \nL 135.250232 150.935445 \nL 135.25336 150.370704 \nL 135.286203 150.464827 \nL 135.853908 150.747198 \nL 135.889878 152.253176 \nL 136.036887 148.770602 \nL 136.154182 149.900086 \nL 136.163566 151.217816 \nL 136.182333 150.841322 \nL 136.753166 150.747198 \nL 136.75473 150.653074 \nL 136.759422 151.31194 \nL 136.764113 151.217816 \nL 137.051876 149.900086 \nL 137.059696 150.088333 \nL 137.212961 152.535547 \nL 137.355278 151.31194 \nL 137.367789 151.594311 \nL 137.375609 152.253176 \nL 137.386556 151.500187 \nL 137.391248 151.500187 \nL 137.804125 149.523591 \nL 137.822892 149.617715 \nL 137.973029 149.429468 \nL 138.104399 149.994209 \nL 138.274867 145.5704 \nL 138.288942 145.946894 \nL 138.29207 146.041018 \nL 138.425004 146.041018 \nL 138.442207 145.85277 \nL 138.859776 145.193905 \nL 138.892618 144.346793 \nL 139.158486 146.699883 \nL 139.307059 146.605759 \nL 139.324262 145.099782 \nL 139.343029 145.476276 \nL 139.454068 146.229265 \nL 139.909171 148.111737 \nL 139.938885 145.85277 \nL 140.059307 146.135141 \nL 140.212572 144.440916 \nL 140.242287 144.629163 \nL 140.359581 145.946894 \nL 140.372093 145.193905 \nL 140.539433 146.135141 \nL 140.967949 146.229265 \nL 140.98046 146.135141 \nL 141.265095 143.970298 \nL 141.266659 144.158545 \nL 141.29481 145.288029 \nL 141.407412 145.005658 \nL 141.413668 145.193905 \nL 141.581008 145.193905 \nL 142.029855 146.229265 \nL 142.178428 145.664523 \nL 142.189376 145.758647 \nL 142.195632 146.229265 \nL 142.31449 146.323388 \nL 142.316054 146.229265 \nL 142.32231 146.982254 \nL 142.330129 146.511636 \nL 142.464627 146.88813 \nL 142.466191 146.135141 \nL 142.495906 147.829366 \nL 143.068303 145.946894 \nL 143.08707 146.323388 \nL 143.088634 146.041018 \nL 143.392036 148.817664 \nL 143.395164 149.617715 \nL 143.518714 147.546995 \nL 143.657903 147.735243 \nL 143.661031 147.452872 \nL 143.686054 147.641119 \nL 144.111442 145.288029 \nL 144.417972 142.18195 \nL 144.427355 142.840815 \nL 144.591568 143.123186 \nL 144.708862 142.840815 \nL 144.74796 142.934939 \nL 145.163965 142.746691 \nL 145.190552 141.711332 \nL 145.192116 141.899579 \nL 145.335997 140.817157 \nL 145.343817 141.240714 \nL 145.467367 142.652568 \nL 145.478314 141.711332 \nL 145.609684 141.240714 \nL 145.642527 143.217309 \nL 145.773896 142.087826 \nL 146.210232 140.205354 \nL 146.218052 140.393601 \nL 146.24933 141.334837 \nL 146.518326 137.852264 \nL 146.668463 138.7935 \nL 146.685666 138.228758 \nL 146.691922 137.852264 \nL 146.699741 137.899325 \nL 146.849878 137.287522 \nL 147.262755 137.099275 \nL 147.300289 136.063915 \nL 147.419148 136.816904 \nL 147.434787 135.969791 \nL 147.450426 136.2051 \nL 147.736625 141.052466 \nL 148.351248 138.134634 \nL 148.613988 136.534533 \nL 148.639011 137.381646 \nL 148.651522 137.005151 \nL 148.918953 134.463814 \nL 148.951796 134.746185 \nL 149.546088 135.310926 \nL 149.702481 137.852264 \nL 149.821339 137.381646 \nL 149.999627 135.028555 \nL 150.001191 135.216803 \nL 150.425015 135.216803 \nL 150.5861 134.934432 \nL 150.590791 135.122679 \nL 150.726853 135.122679 \nL 150.895757 133.899072 \nL 150.903577 133.993196 \nL 151.05215 136.158039 \nL 151.624547 135.969791 \nL 151.629239 135.499173 \nL 151.643314 135.781544 \nL 151.766864 134.840308 \nL 151.771556 135.687421 \nL 151.918565 138.981747 \nL 152.065574 138.699376 \nL 152.104673 136.911028 \nL 152.522241 134.181443 \nL 152.542572 134.840308 \nL 152.686453 135.122679 \nL 152.700529 135.687421 \nL 152.96796 134.463814 \nL 152.972652 134.652061 \nL 153.138428 134.463814 \nL 153.571636 132.957836 \nL 153.5732 132.53428 \nL 153.601351 133.146083 \nL 153.878166 133.522578 \nL 153.906316 133.146083 \nL 154.029867 134.840308 \nL 154.040814 136.816904 \nL 154.203462 133.616701 \nL 154.625723 132.769589 \nL 154.638234 132.863712 \nL 154.924433 133.85201 \nL 154.949456 132.110724 \nL 155.223143 136.44041 \nL 155.673554 135.499173 \nL 155.822127 132.769589 \nL 155.823691 132.863712 \nL 155.842458 132.957836 \nL 155.844022 132.675465 \nL 155.9707 130.228251 \nL 155.980083 130.416499 \nL 156.122401 129.381139 \nL 156.123965 129.757633 \nL 156.133348 128.722274 \nL 156.289741 127.404543 \nL 156.303816 126.557431 \nL 156.758919 128.063408 \nL 156.869958 129.475262 \nL 156.877778 128.534026 \nL 156.904364 127.498667 \nL 156.909056 127.781037 \nL 157.031042 125.616194 \nL 157.20151 125.522071 \nL 157.326625 126.839801 \nL 157.80675 125.333824 \nL 157.936556 125.333824 \nL 157.941248 125.898565 \nL 157.956887 125.804442 \nL 158.235266 123.545475 \nL 158.246214 126.463307 \nL 158.260289 125.333824 \nL 158.856145 125.804442 \nL 158.860837 125.710318 \nL 158.984387 123.92197 \nL 159.27215 124.580835 \nL 159.295609 125.710318 \nL 159.311248 125.522071 \nL 160.040038 120.721767 \nL 160.046293 121.663003 \nL 160.20425 124.392588 \nL 160.208942 124.110217 \nL 160.355951 127.875161 \nL 160.362207 128.910521 \nL 160.482629 128.62815 \nL 160.501396 128.157532 \nL 160.504524 128.345779 \nL 160.934604 125.710318 \nL 160.962755 125.804442 \nL 161.098816 125.992689 \nL 161.227058 124.769082 \nL 161.405346 126.27506 \nL 161.988691 124.580835 \nL 162.00433 125.145576 \nL 162.581419 119.027542 \nL 162.60957 119.309913 \nL 163.03183 120.910014 \nL 163.038086 120.53352 \nL 163.177275 122.133621 \nL 163.644889 119.309913 \nL 163.660529 119.780531 \nL 164.22667 121.286508 \nL 164.228234 121.192385 \nL 164.229798 120.910014 \nL 164.250129 122.980733 \nL 164.259513 122.88661 \nL 164.528508 120.157025 \nL 164.545711 120.81589 \nL 164.562914 120.627643 \nL 164.711487 121.474756 \nL 165.283885 117.521564 \nL 165.287013 117.615688 \nL 165.440277 118.274553 \nL 165.466864 117.992182 \nL 165.73586 117.239193 \nL 165.762446 116.297957 \nL 166.197218 114.415485 \nL 166.367686 115.263892 \nL 166.635118 114.512633 \nL 166.647629 115.174015 \nL 166.66796 114.986059 \nL 166.79151 113.00951 \nL 167.232538 110.708077 \nL 167.235665 111.096604 \nL 167.26538 112.747842 \nL 167.268508 112.067921 \nL 167.384239 111.776526 \nL 167.392058 111.970789 \nL 167.393622 112.067921 \nL 167.40457 111.582262 \nL 167.409261 111.776526 \nL 167.531248 112.165052 \nL 167.542195 112.990671 \nL 167.559398 112.067921 \nL 167.568782 112.262184 \nL 167.707971 113.039237 \nL 167.712663 112.942105 \nL 168.286624 109.251103 \nL 168.288188 109.348234 \nL 168.441453 107.211338 \nL 168.618177 107.114207 \nL 168.755802 109.931024 \nL 168.880917 108.409283 \nL 168.920015 108.698381 \nL 169.370426 109.178622 \nL 169.640985 111.370672 \nL 169.792686 112.12291 \nL 170.382286 113.992208 \nL 170.385414 113.715855 \nL 170.396362 112.884799 \nL 170.546499 111.76756 \nL 170.557446 112.048777 \nL 170.68256 113.354803 \nL 170.69038 112.892049 \nL 170.721659 113.356535 \nL 170.859284 109.839627 \nL 170.998474 112.875377 \nL 171.010985 111.848443 \nL 171.437937 113.622239 \nL 171.583382 113.715596 \nL 171.606841 113.248808 \nL 171.62248 113.715596 \nL 171.903987 114.275742 \nL 171.922754 115.022604 \nL 172.038485 113.995669 \nL 172.072891 112.501946 \nL 172.488896 112.782019 \nL 172.518611 114.182385 \nL 172.523302 113.715596 \nL 172.642161 112.501946 \nL 172.659364 112.875377 \nL 172.784478 109.701216 \nL 172.79699 110.168004 \nL 172.823576 111.56837 \nL 172.934615 111.288296 \nL 173.089444 111.56837 \nL 173.112903 110.541435 \nL 173.122286 110.72815 \nL 173.539855 109.794574 \nL 173.546111 109.887931 \nL 173.572697 109.234427 \nL 173.688428 109.234427 \nL 173.699375 110.168004 \nL 173.724398 109.887931 \nL 173.985574 109.5145 \nL 174.016853 111.56837 \nL 174.141967 111.56837 \nL 174.586122 111.381654 \nL 174.587686 111.755085 \nL 174.592378 111.288296 \nL 174.88796 116.422969 \nL 174.925494 115.676108 \nL 175.070939 111.475012 \nL 175.638645 110.074647 \nL 175.676179 109.421143 \nL 175.824752 106.153624 \nL 176.237629 107.834062 \nL 176.239193 107.553989 \nL 176.700551 110.35472 \nL 176.709935 111.008223 \nL 176.72401 110.634793 \nL 176.838177 109.327785 \nL 176.871019 109.794574 \nL 177.166601 114.462458 \nL 177.174421 114.089027 \nL 177.310483 117.729977 \nL 177.738999 114.835889 \nL 177.75151 116.236254 \nL 177.765585 115.676108 \nL 177.896955 116.00286 \nL 177.903211 115.909502 \nL 178.064295 120.343992 \nL 178.075243 119.597131 \nL 178.18941 119.877204 \nL 178.339547 116.189575 \nL 178.34111 116.37629 \nL 178.345802 117.029794 \nL 178.358314 115.909502 \nL 178.378645 116.516327 \nL 178.813416 114.835889 \nL 179.098051 114.742531 \nL 179.24506 114.929246 \nL 179.246624 114.835889 \nL 179.248188 114.462458 \nL 179.271647 115.769465 \nL 179.423348 115.489392 \nL 179.42804 116.049538 \nL 179.864375 113.715596 \nL 179.870631 113.808954 \nL 180.028588 114.929246 \nL 180.291327 113.995669 \nL 180.477435 112.035158 \nL 181.054524 112.782019 \nL 181.203097 112.128516 \nL 181.207789 112.408589 \nL 181.37982 114.462458 \nL 181.517446 112.875377 \nL 182.128941 110.074647 \nL 182.408884 106.340339 \nL 182.410448 106.433697 \nL 182.426088 106.993843 \nL 182.576225 104.473185 \nL 182.993793 104.846616 \nL 183.031327 103.166178 \nL 183.164261 103.819682 \nL 183.173645 103.49293 \nL 183.181464 103.352893 \nL 183.183028 103.446251 \nL 183.328473 105.873551 \nL 183.333165 105.126689 \nL 183.444204 105.313405 \nL 183.445768 105.220047 \nL 183.606852 102.512674 \nL 183.620928 102.699389 \nL 184.196453 100.27209 \nL 184.199581 100.552163 \nL 184.233987 102.979462 \nL 184.377868 99.43187 \nL 184.496727 99.525228 \nL 184.509238 100.552163 \nL 184.52175 100.085374 \nL 184.676578 98.031505 \nL 184.679706 98.21822 \nL 185.100403 97.938147 \nL 185.122298 98.21822 \nL 185.130117 97.564717 \nL 185.405368 94.20384 \nL 185.421008 95.41749 \nL 185.431955 94.390555 \nL 185.546122 95.137417 \nL 185.553941 94.670628 \nL 185.558633 93.550336 \nL 185.561761 93.643694 \nL 186.149798 93.363621 \nL 186.296807 97.378001 \nL 186.299935 98.778367 \nL 186.31401 97.191286 \nL 186.335905 97.471359 \nL 186.446944 94.577271 \nL 186.471967 96.351067 \nL 186.783188 103.352893 \nL 187.197629 104.939974 \nL 187.20232 102.232601 \nL 187.236727 111.101581 \nL 187.383736 106.060266 \nL 187.3853 105.220047 \nL 187.386864 105.313405 \nL 187.499466 109.047712 \nL 187.685574 118.383481 \nL 187.831019 118.290123 \nL 188.250151 113.715596 \nL 188.251715 114.462458 \nL 188.287686 114.929246 \nL 188.423747 112.782019 \nL 188.698998 103.913039 \nL 188.700562 102.699389 \nL 188.706818 105.873551 \nL 188.738097 104.939974 \nL 188.866339 103.259536 \nL 188.888234 104.753258 \nL 189.452811 107.460631 \nL 189.454375 107.273916 \nL 189.457503 108.114135 \nL 189.465323 106.807128 \nL 189.470014 106.900485 \nL 189.627971 103.913039 \nL 189.638919 106.246981 \nL 189.767161 104.659901 \nL 189.789055 106.246981 \nL 189.936065 102.699389 \nL 190.355197 102.419316 \nL 190.358325 103.166178 \nL 190.689877 110.168004 \nL 190.814992 107.180558 \nL 190.822811 108.580924 \nL 190.830631 110.634793 \nL 190.952617 113.622239 \nL 190.990151 109.5145 \nL 191.421795 109.701216 \nL 191.584444 107.647347 \nL 191.851875 105.966908 \nL 191.853439 106.433697 \nL 191.880026 107.647347 \nL 191.890973 107.180558 \nL 192.014523 103.632966 \nL 192.61038 101.205666 \nL 192.630711 103.352893 \nL 192.752697 101.765813 \nL 192.754261 102.045886 \nL 193.658211 104.099755 \nL 193.670722 103.166178 \nL 193.692617 103.819682 \nL 193.80522 104.193112 \nL 194.138336 114.182385 \nL 194.554341 109.794574 \nL 194.559033 110.914866 \nL 194.56998 111.9418 \nL 194.591875 109.047712 \nL 194.593439 109.047712 \nL 194.718553 108.674281 \nL 194.86087 114.649173 \nL 195.004752 112.221873 \nL 194.889021 114.929246 \nL 195.006316 112.501946 \nL 195.03603 109.701216 \nL 195.611555 113.15545 \nL 195.630323 115.489392 \nL 195.758565 113.248808 \nL 195.929033 114.275742 \nL 195.944672 111.381654 \nL 196.076042 109.607858 \nL 196.67659 111.661727 \nL 196.693793 112.875377 \nL 196.994067 108.767639 \nL 196.995631 108.954354 \nL 197.109797 109.047712 \nL 197.137948 108.394208 \nL 197.294341 111.755085 \nL 197.295905 111.381654 \nL 197.708781 112.128516 \nL 197.882377 110.168004 \nL 197.885505 110.634793 \nL 198.043462 108.580924 \nL 198.192035 109.607858 \nL 198.318713 112.128516 \nL 198.346864 111.9418 \nL 198.765996 111.661727 \nL 198.911441 110.914866 \nL 198.913005 111.475012 \nL 198.941156 113.622239 \nL 198.920825 111.008223 \nL 198.947412 113.15545 \nL 199.06627 115.022604 \nL 199.388439 110.448077 \nL 199.391567 110.821508 \nL 199.813827 109.5145 \nL 199.815391 109.794574 \nL 199.973348 114.695852 \nL 199.985859 112.875377 \nL 200.109409 112.501946 \nL 200.118793 111.661727 \nL 200.148507 113.062093 \nL 200.264238 115.396035 \nL 200.270494 116.889758 \nL 200.284569 114.3691 \nL 200.295517 114.555816 \nL 200.412811 115.862823 \nL 200.426886 113.528881 \nL 200.863222 113.062093 \nL 200.899192 114.275742 \nL 201.312069 109.607858 \nL 201.335528 108.300851 \nL 201.479409 108.954354 \nL 201.484101 108.300851 \nL 202.06119 110.634793 \nL 202.064318 111.848443 \nL 202.086213 110.821508 \nL 202.39587 111.101581 \nL 202.533496 112.968735 \nL 202.963576 110.35472 \nL 202.968268 110.72815 \nL 202.997982 111.755085 \nL 203.146555 111.56837 \nL 203.151247 111.381654 \nL 203.271669 113.248808 \nL 203.292 112.035158 \nL 203.43901 112.782019 \nL 203.575071 111.56837 \nL 204.163108 114.649173 \nL 204.166236 114.089027 \nL 204.199078 117.263188 \nL 204.200642 116.7964 \nL 204.651053 112.221873 \nL 205.220322 110.168004 \nL 205.240653 110.914866 \nL 205.245345 110.821508 \nL 205.397046 108.487566 \nL 205.514341 108.674281 \nL 205.686373 111.194939 \nL 206.275973 111.194939 \nL 206.296304 111.661727 \nL 206.41829 111.661727 \nL 206.588758 113.062093 \nL 206.602834 112.968735 \nL 207.315984 120.904138 \nL 207.32224 121.931073 \nL 207.355083 119.130342 \nL 207.645973 121.931073 \nL 207.794546 119.783846 \nL 207.805494 120.81078 \nL 208.374763 123.611511 \nL 208.542103 126.178847 \nL 208.556178 127.439176 \nL 208.851761 122.117788 \nL 208.856452 122.304503 \nL 209.417902 125.758738 \nL 209.436669 125.385307 \nL 209.738507 126.225526 \nL 209.757274 126.505599 \nL 209.885516 123.518153 \nL 210.35313 121.090854 \nL 210.356258 121.184211 \nL 210.770699 122.677934 \nL 210.79103 121.744357 \nL 210.79885 122.211146 \nL 210.948987 121.744357 \nL 210.956806 121.837715 \nL 211.379067 123.424796 \nL 211.408781 122.771292 \nL 211.521384 123.144723 \nL 211.549535 120.81078 \nL 211.558918 120.904138 \nL 211.857628 123.704869 \nL 211.859192 122.86465 \nL 212.009329 120.250634 \nL 212.445665 122.117788 \nL 212.45974 122.397861 \nL 212.578598 117.729977 \nL 212.59111 118.290123 \nL 212.720916 117.729977 \nL 212.725608 118.196765 \nL 212.730299 118.663554 \nL 212.880436 117.636619 \nL 212.910151 117.823335 \nL 213.491932 118.756911 \nL 213.634249 117.636619 \nL 213.776567 118.01005 \nL 213.939215 122.117788 \nL 214.09248 120.250634 \nL 214.111247 120.81078 \nL 214.685208 118.663554 \nL 215.129363 122.491219 \nL 215.146566 122.304503 \nL 215.573519 123.518153 \nL 215.581338 123.23808 \nL 215.590722 124.638446 \nL 215.612617 123.984942 \nL 215.725219 125.105234 \nL 215.750242 124.265015 \nL 215.759626 123.704869 \nL 215.762754 123.891584 \nL 215.906635 130.706695 \nL 216.041133 127.625892 \nL 216.0599 128.372753 \nL 216.177194 129.959834 \nL 216.192834 128.839541 \nL 216.213165 126.785672 \nL 216.624477 126.132169 \nL 216.635425 126.505599 \nL 216.663576 125.758738 \nL 216.804329 122.771292 \nL 216.924751 122.677934 \nL 216.926315 122.86465 \nL 216.96385 121.651 \nL 217.708279 117.26326 \nL 217.709843 116.982758 \nL 217.714534 117.076546 \nL 217.981966 116.514104 \nL 217.986658 116.044444 \nL 218.014808 116.607532 \nL 218.881224 109.776642 \nL 218.884352 109.974234 \nL 219.037617 114.222458 \nL 219.183062 113.777877 \nL 219.195573 114.716438 \nL 219.21434 113.728479 \nL 219.215904 114.123663 \nL 219.339455 113.679081 \nL 219.350402 115.40801 \nL 219.366041 114.716438 \nL 219.78361 115.803193 \nL 219.808633 116.692356 \nL 219.810197 116.642959 \nL 220.229329 112.641724 \nL 220.262171 112.74052 \nL 220.833005 113.926071 \nL 220.859591 114.815234 \nL 221.133279 111.258581 \nL 221.148918 110.07303 \nL 221.167685 110.468213 \nL 221.446064 107.504336 \nL 221.457012 108.492295 \nL 221.463267 108.492295 \nL 221.466395 108.097111 \nL 222.030973 109.282662 \nL 222.032537 109.57905 \nL 222.068507 108.887479 \nL 222.206133 107.89952 \nL 222.21708 108.195907 \nL 222.517354 111.357377 \nL 222.518918 110.863397 \nL 222.939614 109.282662 \nL 222.964637 109.381458 \nL 223.386897 117.285132 \nL 223.397845 118.767071 \nL 223.413484 118.470683 \nL 223.987445 120.347806 \nL 224.015596 120.24901 \nL 224.142274 121.434561 \nL 224.151658 120.940581 \nL 224.165733 120.545397 \nL 224.170425 121.632153 \nL 224.470699 129.041847 \nL 224.620836 123.608071 \nL 225.03684 127.362316 \nL 225.071247 126.571949 \nL 225.21982 122.718908 \nL 225.509146 130.326194 \nL 225.512274 129.832214 \nL 226.101875 126.275561 \nL 226.689911 135.957561 \nL 226.702422 133.290071 \nL 226.722753 134.080439 \nL 227.140322 132.302112 \nL 227.166909 136.451541 \nL 227.31861 133.882847 \nL 227.468747 128.646663 \nL 227.587605 128.053887 \nL 227.598553 124.497234 \nL 227.736178 119.853826 \nL 227.742434 121.92854 \nL 227.754945 124.299642 \nL 227.773712 122.620112 \nL 228.202228 122.620112 \nL 228.220995 121.829744 \nL 228.222559 121.92854 \nL 228.361749 122.027336 \nL 228.368005 123.114091 \nL 228.37426 122.224928 \nL 228.511886 119.75503 \nL 228.669843 124.497234 \nL 228.813724 128.547867 \nL 228.824671 127.26352 \nL 229.248495 129.733418 \nL 229.262571 129.239438 \nL 229.403324 125.682785 \nL 229.273518 129.832214 \nL 229.40958 126.670744 \nL 229.423655 127.955091 \nL 229.425219 127.362316 \nL 229.547206 127.26352 \nL 229.872502 121.236969 \nL 230.890619 128.152683 \nL 231.511498 124.991214 \nL 231.80708 121.236969 \nL 231.943142 122.521316 \nL 231.946269 122.224928 \nL 232.393552 116.791152 \nL 232.538998 116.988744 \nL 232.576532 121.335765 \nL 232.578096 121.138173 \nL 232.853347 128.152683 \nL 232.873678 125.485193 \nL 232.9941 124.200846 \nL 233.011304 124.694826 \nL 233.017559 126.473153 \nL 233.442947 128.745459 \nL 233.478918 128.449071 \nL 233.625927 125.979173 \nL 233.765116 122.323724 \nL 233.776064 123.706867 \nL 233.912126 123.904459 \nL 234.071646 126.374357 \nL 234.500162 126.275561 \nL 234.506418 126.127367 \nL 234.518929 128.350275 \nL 234.529877 129.140642 \nL 234.642479 126.670744 \nL 234.680014 128.053887 \nL 234.947445 129.229559 \nL 234.970904 132.400908 \nL 235.097582 130.326194 \nL 235.122605 131.511745 \nL 235.127297 132.203316 \nL 235.128861 131.808132 \nL 235.541737 130.128602 \nL 235.562068 133.191275 \nL 235.843575 132.796092 \nL 235.863906 130.918969 \nL 235.874854 131.709336 \nL 235.995276 131.215357 \nL 236.021863 132.894887 \nL 236.148541 132.796092 \nL 236.176692 131.314153 \nL 236.178256 131.906928 \nL 236.598952 131.314153 \nL 236.631794 133.487663 \nL 236.899226 133.487663 \nL 236.921121 132.400908 \nL 236.930504 132.894887 \nL 237.080641 136.747928 \nL 237.082205 136.155153 \nL 237.216703 129.832214 \nL 237.226087 130.523785 \nL 237.654603 130.326194 \nL 237.656167 130.523785 \nL 237.668678 129.535826 \nL 237.67337 129.733418 \nL 237.798484 129.93101 \nL 237.97208 124.59603 \nL 237.973644 125.386398 \nL 238.1316 123.706867 \nL 238.708689 126.077969 \nL 238.716509 125.880377 \nL 238.72902 125.682785 \nL 239.023039 121.138173 \nL 239.033986 121.730948 \nL 239.173176 122.126132 \nL 239.310801 118.668275 \nL 239.317057 118.470683 \nL 239.33426 119.063459 \nL 239.914477 121.829744 \nL 239.93168 123.212887 \nL 239.934808 122.323724 \nL 240.818427 119.359846 \nL 240.82781 118.767071 \nL 240.984203 117.680316 \nL 241.271966 112.345336 \nL 241.286041 112.839316 \nL 241.436178 113.629683 \nL 241.850619 113.728479 \nL 241.886589 112.444132 \nL 242.147765 110.270622 \nL 242.160276 110.764601 \nL 242.322924 114.42005 \nL 242.485573 115.803193 \nL 242.901577 115.605601 \nL 243.198724 114.024867 \nL 243.209671 114.617642 \nL 243.351988 116.000785 \nL 243.378575 114.321254 \nL 244.431098 113.432091 \nL 244.56716 109.974234 \nL 244.587491 110.665805 \nL 245.031646 107.800724 \nL 245.314717 110.567009 \nL 245.489876 113.333295 \nL 246.051326 111.258581 \nL 246.05289 111.456173 \nL 246.066965 113.777877 \nL 246.090424 112.147744 \nL 246.360984 110.567009 \nL 246.390698 110.764601 \nL 246.653438 117.680316 \nL 246.689408 117.482724 \nL 247.114797 113.234499 \nL 247.566771 112.938112 \nL 247.591794 112.74052 \nL 247.724728 109.480254 \nL 247.741931 109.974234 \nL 248.186086 107.603132 \nL 248.192342 107.109152 \nL 248.461338 108.788683 \nL 248.484797 106.713969 \nL 248.489488 107.207948 \nL 248.778815 111.653765 \nL 248.79289 112.542928 \nL 249.834465 108.986275 \nL 250.569511 103.750091 \nL 250.594534 105.034438 \nL 250.739979 103.552499 \nL 251.317068 102.465744 \nL 251.335835 101.774172 \nL 251.48128 100.885009 \nL 251.493792 101.282912 \nL 252.35708 99.993676 \nL 252.391486 99.492871 \nL 252.543187 102.496466 \nL 252.544751 102.005172 \nL 253.417422 101.018845 \nL 253.434625 101.217618 \nL 253.714568 100.522974 \nL 253.716132 100.622741 \nL 253.71926 100.921812 \nL 253.741155 100.026657 \nL 254.028917 100.026657 \nL 254.033609 99.72698 \nL 254.047685 100.529085 \nL 254.616954 99.780852 \nL 254.618518 99.479836 \nL 254.638849 100.632637 \nL 254.648232 100.333654 \nL 254.776474 100.933148 \nL 254.788986 102.524465 \nL 254.79055 102.033225 \nL 254.932867 99.764917 \nL 254.937559 99.865281 \nL 255.514648 95.437401 \nL 255.544363 94.094037 \nL 255.533415 95.540737 \nL 255.549054 94.50738 \nL 255.697627 100.087507 \nL 255.699191 99.570829 \nL 255.836817 99.05415 \nL 256.121452 104.427606 \nL 256.129271 103.497585 \nL 256.573427 110.317741 \nL 256.600013 109.697727 \nL 256.743895 105.77097 \nL 256.75015 106.080977 \nL 256.865881 106.49432 \nL 256.870573 105.977642 \nL 256.900287 106.080977 \nL 257.017582 105.77097 \nL 257.026965 105.04762 \nL 257.047296 106.49432 \nL 257.167719 109.491055 \nL 257.632205 111.144426 \nL 257.763575 110.317741 \nL 257.951246 110.317741 \nL 258.096691 113.93449 \nL 258.213986 111.971112 \nL 258.221805 113.521147 \nL 258.820789 111.454433 \nL 258.844248 111.867776 \nL 259.117936 109.077712 \nL 259.878004 107.424341 \nL 259.885824 107.527677 \nL 259.896771 107.010999 \nL 260.014066 107.631013 \nL 260.032833 109.38772 \nL 260.053164 109.077712 \nL 260.167331 108.974377 \nL 261.074408 103.394249 \nL 261.080664 103.910928 \nL 261.396577 105.977642 \nL 261.978358 100.604186 \nL 261.987741 100.810857 \nL 262.297399 96.057415 \nL 262.902639 98.537472 \nL 263.049648 100.810857 \nL 263.944214 94.50738 \nL 264.230413 97.607451 \nL 264.233541 97.297444 \nL 264.549454 98.847479 \nL 264.551018 98.692475 \nL 265.157821 100.914193 \nL 265.282935 98.537472 \nL 265.454967 100.190843 \nL 266.050824 98.537472 \nL 266.190013 98.537472 \nL 266.351098 99.570829 \nL 266.629477 98.744143 \nL 266.659191 99.984172 \nL 267.07676 99.570829 \nL 267.083015 99.157486 \nL 267.101782 99.570829 \nL 267.230024 99.260822 \nL 267.231588 98.950815 \nL 267.23628 99.157486 \nL 267.672616 99.364157 \nL 268.301314 102.464228 \nL 268.309134 102.309225 \nL 268.460835 104.634278 \nL 268.595333 103.187578 \nL 268.610972 109.077712 \nL 269.183369 116.207875 \nL 269.355401 114.037826 \nL 269.361657 114.244497 \nL 269.488335 115.071183 \nL 269.491463 114.65784 \nL 269.505538 113.004469 \nL 269.658803 110.937755 \nL 269.791737 113.21114 \nL 269.812068 112.797797 \nL 270.262479 114.244497 \nL 270.547113 118.171253 \nL 270.856771 113.93449 \nL 271.297798 111.867776 \nL 271.304054 112.591126 \nL 271.580869 111.247762 \nL 271.743518 113.21114 \nL 271.760721 112.797797 \nL 272.334682 114.864511 \nL 272.347193 114.347833 \nL 272.350321 114.761175 \nL 272.664671 112.591126 \nL 273.715629 107.321006 \nL 273.828232 104.324271 \nL 274.42878 103.910928 \nL 274.4366 103.497585 \nL 274.444419 103.807592 \nL 274.599248 103.704256 \nL 274.915161 101.2242 \nL 275.066862 100.087507 \nL 275.814419 103.290914 \nL 277.612935 105.77097 \nL 277.769328 107.321006 \nL 277.911645 110.111069 \nL 278.2041 107.321006 \nL 278.668586 107.889352 \nL 279.114305 106.700992 \nL 279.266006 102.257557 \nL 280.17152 100.190843 \nL 280.321657 101.94755 \nL 281.222479 99.157486 \nL 281.355412 98.537472 \nL 281.360104 98.330801 \nL 281.36636 98.537472 \nL 281.973164 98.227465 \nL 282.112353 98.847479 \nL 282.409499 95.747408 \nL 283.022558 91.303973 \nL 283.15862 92.33733 \nL 283.920253 93.164016 \nL 283.921816 92.957345 \nL 283.924944 93.474023 \nL 284.050058 94.094037 \nL 284.35346 96.367422 \nL 284.373791 95.95408 \nL 284.375355 96.057415 \nL 284.968084 93.990701 \nL 284.971211 94.094037 \nL 284.975903 94.404044 \nL 287.223266 99.260822 \nL 287.226394 98.847479 \nL 291.696097 82.52044 \nL 291.707045 83.037118 \nL 291.711736 82.417104 \nL 291.875949 79.305005 \nL 292.332615 77.508701 \nL 292.446782 77.615721 \nL 292.463985 78.470033 \nL 292.476497 78.044845 \nL 292.606303 78.258079 \nL 292.922216 82.698288 \nL 292.928472 82.285668 \nL 293.350732 84.458352 \nL 293.380446 86.488408 \nL 293.807398 81.510719 \nL 293.821474 81.613628 \nL 293.974739 79.658364 \nL 294.58467 85.112521 \nL 294.734807 83.774709 \nL 294.859921 88.508506 \nL 294.884944 85.832882 \nL 295.596531 96.020836 \nL 295.634065 93.653938 \nL 295.746668 92.264671 \nL 295.77951 92.72776 \nL 295.917136 98.181917 \nL 295.935903 96.123745 \nL 296.073529 101.474993 \nL 296.082912 101.166267 \nL 296.52394 98.079009 \nL 296.536451 98.69646 \nL 296.833597 91.287039 \nL 296.836725 91.595765 \nL 297.127615 93.653938 \nL 297.135435 93.44812 \nL 297.576462 92.624851 \nL 297.728163 89.228867 \nL 298.779122 90.155044 \nL 298.785378 89.74341 \nL 298.788506 89.846318 \nL 299.221713 91.287039 \nL 299.673688 100.96045 \nL 299.689328 100.137181 \nL 299.800366 98.284826 \nL 299.80975 99.828455 \nL 299.831645 102.709897 \nL 299.839465 102.50408 \nL 299.986474 100.342998 \nL 300.130355 104.459344 \nL 300.702752 108.987323 \nL 301.013974 102.092445 \nL 301.165675 101.783719 \nL 301.189134 105.282613 \nL 301.778734 124.938161 \nL 301.791245 123.394531 \nL 301.910104 117.940374 \nL 301.930435 119.381095 \nL 302.074316 124.320709 \nL 302.089955 123.291623 \nL 302.236965 149.842049 \nL 302.391793 135.023206 \nL 302.828129 153.855485 \nL 302.829693 153.752577 \nL 302.842204 155.707841 \nL 302.957935 152.311856 \nL 303.131531 162.49981 \nL 303.255081 162.191084 \nL 303.403654 150.253683 \nL 303.405218 152.723491 \nL 303.442752 157.508742 \nL 303.854065 159.103826 \nL 303.86814 164.04344 \nL 303.877524 158.486374 \nL 303.893163 159.927095 \nL 304.018277 148.401328 \nL 304.040172 149.73914 \nL 304.157467 146.03443 \nL 304.187181 139.448277 \nL 304.193437 141.197724 \nL 304.315423 137.390105 \nL 304.326371 138.007557 \nL 304.52499 146.343156 \nL 304.905024 143.461714 \nL 304.944122 141.918085 \nL 305.088003 140.78609 \nL 305.241268 148.195511 \nL 305.244396 147.783876 \nL 305.372638 142.844262 \nL 305.386713 144.182074 \nL 305.514955 143.050079 \nL 305.533722 146.240247 \nL 305.54467 145.211161 \nL 306.112375 132.244673 \nL 306.145218 134.405755 \nL 306.292227 133.067942 \nL 306.445492 133.376668 \nL 307.030401 134.199937 \nL 307.194613 128.231237 \nL 307.313471 133.325214 \nL 307.325983 133.27376 \nL 307.471428 130.186501 \nL 307.496451 131.00977 \nL 308.075104 126.996333 \nL 308.674088 131.215587 \nL 309.298095 125.349795 \nL 309.448232 120.101455 \nL 310.183277 131.215587 \nL 310.494499 127.716694 \nL 310.49919 128.231237 \nL 310.799464 122.674171 \nL 311.218597 123.49744 \nL 311.2358 122.879988 \nL 311.364042 122.365445 \nL 311.373426 121.130541 \nL 311.400012 123.806166 \nL 311.520435 122.674171 \nL 311.536074 125.041069 \nL 311.700286 124.526526 \nL 312.300834 118.557826 \nL 312.422821 119.175278 \nL 312.450971 120.821816 \nL 312.601108 118.352009 \nL 312.898254 126.378882 \nL 312.901382 125.967247 \nL 313.492547 119.792729 \nL 313.634864 122.159628 \nL 313.652067 121.542176 \nL 313.774053 119.895638 \nL 314.387113 113.926937 \nL 314.552889 108.884415 \nL 314.703026 103.9448 \nL 314.984533 100.96045 \nL 314.99548 101.783719 \nL 315.750857 101.577902 \nL 316.052695 108.781506 \nL 316.645423 107.958237 \nL 316.646987 107.649511 \nL 316.653243 108.164054 \nL 316.654807 107.855328 \nL 316.772101 104.973887 \nL 316.804944 105.48843 \nL 316.955081 104.150618 \nL 317.069247 102.298262 \nL 317.543117 101.886628 \nL 317.554065 102.812806 \nL 317.82306 102.50408 \nL 317.852775 103.22444 \nL 318.00604 101.989537 \nL 318.153049 104.459344 \nL 319.053871 97.513011 \nL 320.068859 83.774709 \nL 320.253403 86.450334 \nL 320.705377 86.861968 \nL 320.969681 85.832882 \nL 320.996268 86.347425 \nL 321.410709 89.949227 \nL 321.412272 88.611415 \nL 321.435731 90.669587 \nL 321.440423 89.228867 \nL 321.748517 86.141608 \nL 321.903345 89.433485 \nL 322.051919 85.590304 \nL 322.463231 83.725693 \nL 322.466359 85.033814 \nL 322.475743 84.878511 \nL 322.796348 87.77432 \nL 322.955868 86.858024 \nL 323.102877 90.749625 \nL 323.381256 86.134033 \nL 323.401587 87.575873 \nL 323.406279 86.751964 \nL 324.005263 82.014491 \nL 324.146017 77.894949 \nL 324.311793 77.174029 \nL 324.906085 81.499548 \nL 325.490994 79.748743 \nL 326.255754 79.542766 \nL 326.258882 78.718857 \nL 326.401199 81.499548 \nL 327.278562 73.56943 \nL 327.614807 73.157475 \nL 328.037067 79.95472 \nL 328.05427 79.130811 \nL 328.215355 74.187361 \nL 328.640743 81.911502 \nL 329.263186 83.456331 \nL 329.396119 82.323456 \nL 330.315708 77.380006 \nL 330.767683 81.087594 \nL 331.810822 90.459552 \nL 332.719464 80.778628 \nL 332.85709 83.250353 \nL 333.91274 74.393338 \nL 335.532969 73.260464 \nL 335.53766 73.311958 \nL 335.557991 71.509659 \nL 335.683106 72.230578 \nL 335.686233 71.715636 \nL 335.689361 71.509659 \nL 335.703437 72.642533 \nL 335.719076 72.12759 \nL 335.869213 71.818624 \nL 335.988071 72.745521 \nL 336.583927 73.466441 \nL 336.585491 73.363453 \nL 336.755959 78.924834 \nL 336.768471 78.821846 \nL 337.057797 81.39656 \nL 337.659909 75.577706 \nL 337.663037 76.041155 \nL 337.820994 67.390117 \nL 338.535708 56.164365 \nL 338.690537 63.991494 \nL 338.995503 60.901838 \nL 338.997067 61.107815 \nL 339.023653 64.403449 \nL 339.025217 64.197472 \nL 339.156587 61.107815 \nL 339.591359 57.19425 \nL 339.736804 59.768964 \nL 339.905708 57.19425 \nL 339.922911 57.503216 \nL 339.926039 58.945055 \nL 340.637626 53.486662 \nL 340.664213 54.619536 \nL 341.688585 56.576319 \nL 342.741108 48.543212 \nL 342.775514 49.058155 \nL 342.928779 49.264132 \nL 343.229053 47.204361 \nL 343.810834 50.294017 \nL 343.948459 49.470109 \nL 343.953151 49.573097 \nL 343.979738 48.440223 \nL 344.280012 44.835624 \nL 344.86492 48.028269 \nL 344.999418 49.985051 \nL 345.002546 49.470109 \nL 345.17145 46.895395 \nL 345.180834 47.307349 \nL 345.931519 52.147811 \nL 346.192694 43.908727 \nL 346.946507 38.141368 \nL 346.973094 41.231025 \nL 347.096644 36.390563 \nL 347.101336 36.59654 \nL 347.273368 35.360677 \nL 347.39379 35.669643 \nL 348.153859 24.443891 \nL 348.169498 26.297685 \nL 348.183573 25.576765 \nL 348.294612 23.82596 \nL 348.318071 24.855845 \nL 348.483847 22.796074 \nL 349.195434 19.706417 \nL 349.214201 21.560211 \nL 349.347135 16.101818 \nL 349.645845 18.470555 \nL 349.677124 16.410784 \nL 349.684943 16.719749 \n\" clip-path=\"url(#p21cceb0e26)\" style=\"fill: none; stroke: #ff7f0e; stroke-width: 1.5; stroke-linecap: square\"/>\n   </g>\n   <g id=\"patch_3\">\n    <path d=\"M 30.103125 203.04 \nL 30.103125 7.2 \n\" style=\"fill: none; stroke: #000000; stroke-width: 0.8; stroke-linejoin: miter; stroke-linecap: square\"/>\n   </g>\n   <g id=\"patch_4\">\n    <path d=\"M 364.903125 203.04 \nL 364.903125 7.2 \n\" style=\"fill: none; stroke: #000000; stroke-width: 0.8; stroke-linejoin: miter; stroke-linecap: square\"/>\n   </g>\n   <g id=\"patch_5\">\n    <path d=\"M 30.103125 203.04 \nL 364.903125 203.04 \n\" style=\"fill: none; stroke: #000000; stroke-width: 0.8; stroke-linejoin: miter; stroke-linecap: square\"/>\n   </g>\n   <g id=\"patch_6\">\n    <path d=\"M 30.103125 7.2 \nL 364.903125 7.2 \n\" style=\"fill: none; stroke: #000000; stroke-width: 0.8; stroke-linejoin: miter; stroke-linecap: square\"/>\n   </g>\n   <g id=\"legend_1\">\n    <g id=\"patch_7\">\n     <path d=\"M 37.103125 44.55625 \nL 178.517188 44.55625 \nQ 180.517188 44.55625 180.517188 42.55625 \nL 180.517188 14.2 \nQ 180.517188 12.2 178.517188 12.2 \nL 37.103125 12.2 \nQ 35.103125 12.2 35.103125 14.2 \nL 35.103125 42.55625 \nQ 35.103125 44.55625 37.103125 44.55625 \nz\n\" style=\"fill: #ffffff; opacity: 0.8; stroke: #cccccc; stroke-linejoin: miter\"/>\n    </g>\n    <g id=\"line2d_18\">\n     <path d=\"M 39.103125 20.298437 \nL 49.103125 20.298437 \nL 59.103125 20.298437 \n\" style=\"fill: none; stroke: #1f77b4; stroke-width: 1.5; stroke-linecap: square\"/>\n    </g>\n    <g id=\"text_17\">\n     <!-- Actual Returns -->\n     <g transform=\"translate(67.103125 23.798437)scale(0.1 -0.1)\">\n      <defs>\n       <path id=\"DejaVuSans-41\" d=\"M 2188 4044 \nL 1331 1722 \nL 3047 1722 \nL 2188 4044 \nz\nM 1831 4666 \nL 2547 4666 \nL 4325 0 \nL 3669 0 \nL 3244 1197 \nL 1141 1197 \nL 716 0 \nL 50 0 \nL 1831 4666 \nz\n\" transform=\"scale(0.015625)\"/>\n       <path id=\"DejaVuSans-63\" d=\"M 3122 3366 \nL 3122 2828 \nQ 2878 2963 2633 3030 \nQ 2388 3097 2138 3097 \nQ 1578 3097 1268 2742 \nQ 959 2388 959 1747 \nQ 959 1106 1268 751 \nQ 1578 397 2138 397 \nQ 2388 397 2633 464 \nQ 2878 531 3122 666 \nL 3122 134 \nQ 2881 22 2623 -34 \nQ 2366 -91 2075 -91 \nQ 1284 -91 818 406 \nQ 353 903 353 1747 \nQ 353 2603 823 3093 \nQ 1294 3584 2113 3584 \nQ 2378 3584 2631 3529 \nQ 2884 3475 3122 3366 \nz\n\" transform=\"scale(0.015625)\"/>\n       <path id=\"DejaVuSans-75\" d=\"M 544 1381 \nL 544 3500 \nL 1119 3500 \nL 1119 1403 \nQ 1119 906 1312 657 \nQ 1506 409 1894 409 \nQ 2359 409 2629 706 \nQ 2900 1003 2900 1516 \nL 2900 3500 \nL 3475 3500 \nL 3475 0 \nL 2900 0 \nL 2900 538 \nQ 2691 219 2414 64 \nQ 2138 -91 1772 -91 \nQ 1169 -91 856 284 \nQ 544 659 544 1381 \nz\nM 1991 3584 \nL 1991 3584 \nz\n\" transform=\"scale(0.015625)\"/>\n       <path id=\"DejaVuSans-6c\" d=\"M 603 4863 \nL 1178 4863 \nL 1178 0 \nL 603 0 \nL 603 4863 \nz\n\" transform=\"scale(0.015625)\"/>\n       <path id=\"DejaVuSans-20\" transform=\"scale(0.015625)\"/>\n       <path id=\"DejaVuSans-52\" d=\"M 2841 2188 \nQ 3044 2119 3236 1894 \nQ 3428 1669 3622 1275 \nL 4263 0 \nL 3584 0 \nL 2988 1197 \nQ 2756 1666 2539 1819 \nQ 2322 1972 1947 1972 \nL 1259 1972 \nL 1259 0 \nL 628 0 \nL 628 4666 \nL 2053 4666 \nQ 2853 4666 3247 4331 \nQ 3641 3997 3641 3322 \nQ 3641 2881 3436 2590 \nQ 3231 2300 2841 2188 \nz\nM 1259 4147 \nL 1259 2491 \nL 2053 2491 \nQ 2509 2491 2742 2702 \nQ 2975 2913 2975 3322 \nQ 2975 3731 2742 3939 \nQ 2509 4147 2053 4147 \nL 1259 4147 \nz\n\" transform=\"scale(0.015625)\"/>\n       <path id=\"DejaVuSans-72\" d=\"M 2631 2963 \nQ 2534 3019 2420 3045 \nQ 2306 3072 2169 3072 \nQ 1681 3072 1420 2755 \nQ 1159 2438 1159 1844 \nL 1159 0 \nL 581 0 \nL 581 3500 \nL 1159 3500 \nL 1159 2956 \nQ 1341 3275 1631 3429 \nQ 1922 3584 2338 3584 \nQ 2397 3584 2469 3576 \nQ 2541 3569 2628 3553 \nL 2631 2963 \nz\n\" transform=\"scale(0.015625)\"/>\n       <path id=\"DejaVuSans-6e\" d=\"M 3513 2113 \nL 3513 0 \nL 2938 0 \nL 2938 2094 \nQ 2938 2591 2744 2837 \nQ 2550 3084 2163 3084 \nQ 1697 3084 1428 2787 \nQ 1159 2491 1159 1978 \nL 1159 0 \nL 581 0 \nL 581 3500 \nL 1159 3500 \nL 1159 2956 \nQ 1366 3272 1645 3428 \nQ 1925 3584 2291 3584 \nQ 2894 3584 3203 3211 \nQ 3513 2838 3513 2113 \nz\n\" transform=\"scale(0.015625)\"/>\n       <path id=\"DejaVuSans-73\" d=\"M 2834 3397 \nL 2834 2853 \nQ 2591 2978 2328 3040 \nQ 2066 3103 1784 3103 \nQ 1356 3103 1142 2972 \nQ 928 2841 928 2578 \nQ 928 2378 1081 2264 \nQ 1234 2150 1697 2047 \nL 1894 2003 \nQ 2506 1872 2764 1633 \nQ 3022 1394 3022 966 \nQ 3022 478 2636 193 \nQ 2250 -91 1575 -91 \nQ 1294 -91 989 -36 \nQ 684 19 347 128 \nL 347 722 \nQ 666 556 975 473 \nQ 1284 391 1588 391 \nQ 1994 391 2212 530 \nQ 2431 669 2431 922 \nQ 2431 1156 2273 1281 \nQ 2116 1406 1581 1522 \nL 1381 1569 \nQ 847 1681 609 1914 \nQ 372 2147 372 2553 \nQ 372 3047 722 3315 \nQ 1072 3584 1716 3584 \nQ 2034 3584 2315 3537 \nQ 2597 3491 2834 3397 \nz\n\" transform=\"scale(0.015625)\"/>\n      </defs>\n      <use xlink:href=\"#DejaVuSans-41\"/>\n      <use xlink:href=\"#DejaVuSans-63\" x=\"66.658203\"/>\n      <use xlink:href=\"#DejaVuSans-74\" x=\"121.638672\"/>\n      <use xlink:href=\"#DejaVuSans-75\" x=\"160.847656\"/>\n      <use xlink:href=\"#DejaVuSans-61\" x=\"224.226562\"/>\n      <use xlink:href=\"#DejaVuSans-6c\" x=\"285.505859\"/>\n      <use xlink:href=\"#DejaVuSans-20\" x=\"313.289062\"/>\n      <use xlink:href=\"#DejaVuSans-52\" x=\"345.076172\"/>\n      <use xlink:href=\"#DejaVuSans-65\" x=\"410.058594\"/>\n      <use xlink:href=\"#DejaVuSans-74\" x=\"471.582031\"/>\n      <use xlink:href=\"#DejaVuSans-75\" x=\"510.791016\"/>\n      <use xlink:href=\"#DejaVuSans-72\" x=\"574.169922\"/>\n      <use xlink:href=\"#DejaVuSans-6e\" x=\"613.533203\"/>\n      <use xlink:href=\"#DejaVuSans-73\" x=\"676.912109\"/>\n     </g>\n    </g>\n    <g id=\"line2d_19\">\n     <path d=\"M 39.103125 34.976562 \nL 49.103125 34.976562 \nL 59.103125 34.976562 \n\" style=\"fill: none; stroke: #ff7f0e; stroke-width: 1.5; stroke-linecap: square\"/>\n    </g>\n    <g id=\"text_18\">\n     <!-- SVM Strategy Returns -->\n     <g transform=\"translate(67.103125 38.476562)scale(0.1 -0.1)\">\n      <defs>\n       <path id=\"DejaVuSans-53\" d=\"M 3425 4513 \nL 3425 3897 \nQ 3066 4069 2747 4153 \nQ 2428 4238 2131 4238 \nQ 1616 4238 1336 4038 \nQ 1056 3838 1056 3469 \nQ 1056 3159 1242 3001 \nQ 1428 2844 1947 2747 \nL 2328 2669 \nQ 3034 2534 3370 2195 \nQ 3706 1856 3706 1288 \nQ 3706 609 3251 259 \nQ 2797 -91 1919 -91 \nQ 1588 -91 1214 -16 \nQ 841 59 441 206 \nL 441 856 \nQ 825 641 1194 531 \nQ 1563 422 1919 422 \nQ 2459 422 2753 634 \nQ 3047 847 3047 1241 \nQ 3047 1584 2836 1778 \nQ 2625 1972 2144 2069 \nL 1759 2144 \nQ 1053 2284 737 2584 \nQ 422 2884 422 3419 \nQ 422 4038 858 4394 \nQ 1294 4750 2059 4750 \nQ 2388 4750 2728 4690 \nQ 3069 4631 3425 4513 \nz\n\" transform=\"scale(0.015625)\"/>\n       <path id=\"DejaVuSans-56\" d=\"M 1831 0 \nL 50 4666 \nL 709 4666 \nL 2188 738 \nL 3669 4666 \nL 4325 4666 \nL 2547 0 \nL 1831 0 \nz\n\" transform=\"scale(0.015625)\"/>\n       <path id=\"DejaVuSans-4d\" d=\"M 628 4666 \nL 1569 4666 \nL 2759 1491 \nL 3956 4666 \nL 4897 4666 \nL 4897 0 \nL 4281 0 \nL 4281 4097 \nL 3078 897 \nL 2444 897 \nL 1241 4097 \nL 1241 0 \nL 628 0 \nL 628 4666 \nz\n\" transform=\"scale(0.015625)\"/>\n       <path id=\"DejaVuSans-67\" d=\"M 2906 1791 \nQ 2906 2416 2648 2759 \nQ 2391 3103 1925 3103 \nQ 1463 3103 1205 2759 \nQ 947 2416 947 1791 \nQ 947 1169 1205 825 \nQ 1463 481 1925 481 \nQ 2391 481 2648 825 \nQ 2906 1169 2906 1791 \nz\nM 3481 434 \nQ 3481 -459 3084 -895 \nQ 2688 -1331 1869 -1331 \nQ 1566 -1331 1297 -1286 \nQ 1028 -1241 775 -1147 \nL 775 -588 \nQ 1028 -725 1275 -790 \nQ 1522 -856 1778 -856 \nQ 2344 -856 2625 -561 \nQ 2906 -266 2906 331 \nL 2906 616 \nQ 2728 306 2450 153 \nQ 2172 0 1784 0 \nQ 1141 0 747 490 \nQ 353 981 353 1791 \nQ 353 2603 747 3093 \nQ 1141 3584 1784 3584 \nQ 2172 3584 2450 3431 \nQ 2728 3278 2906 2969 \nL 2906 3500 \nL 3481 3500 \nL 3481 434 \nz\n\" transform=\"scale(0.015625)\"/>\n       <path id=\"DejaVuSans-79\" d=\"M 2059 -325 \nQ 1816 -950 1584 -1140 \nQ 1353 -1331 966 -1331 \nL 506 -1331 \nL 506 -850 \nL 844 -850 \nQ 1081 -850 1212 -737 \nQ 1344 -625 1503 -206 \nL 1606 56 \nL 191 3500 \nL 800 3500 \nL 1894 763 \nL 2988 3500 \nL 3597 3500 \nL 2059 -325 \nz\n\" transform=\"scale(0.015625)\"/>\n      </defs>\n      <use xlink:href=\"#DejaVuSans-53\"/>\n      <use xlink:href=\"#DejaVuSans-56\" x=\"63.476562\"/>\n      <use xlink:href=\"#DejaVuSans-4d\" x=\"131.884766\"/>\n      <use xlink:href=\"#DejaVuSans-20\" x=\"218.164062\"/>\n      <use xlink:href=\"#DejaVuSans-53\" x=\"249.951172\"/>\n      <use xlink:href=\"#DejaVuSans-74\" x=\"313.427734\"/>\n      <use xlink:href=\"#DejaVuSans-72\" x=\"352.636719\"/>\n      <use xlink:href=\"#DejaVuSans-61\" x=\"393.75\"/>\n      <use xlink:href=\"#DejaVuSans-74\" x=\"455.029297\"/>\n      <use xlink:href=\"#DejaVuSans-65\" x=\"494.238281\"/>\n      <use xlink:href=\"#DejaVuSans-67\" x=\"555.761719\"/>\n      <use xlink:href=\"#DejaVuSans-79\" x=\"619.238281\"/>\n      <use xlink:href=\"#DejaVuSans-20\" x=\"678.417969\"/>\n      <use xlink:href=\"#DejaVuSans-52\" x=\"710.205078\"/>\n      <use xlink:href=\"#DejaVuSans-65\" x=\"775.1875\"/>\n      <use xlink:href=\"#DejaVuSans-74\" x=\"836.710938\"/>\n      <use xlink:href=\"#DejaVuSans-75\" x=\"875.919922\"/>\n      <use xlink:href=\"#DejaVuSans-72\" x=\"939.298828\"/>\n      <use xlink:href=\"#DejaVuSans-6e\" x=\"978.662109\"/>\n      <use xlink:href=\"#DejaVuSans-73\" x=\"1042.041016\"/>\n     </g>\n    </g>\n   </g>\n  </g>\n </g>\n <defs>\n  <clipPath id=\"p21cceb0e26\">\n   <rect x=\"30.103125\" y=\"7.2\" width=\"334.8\" height=\"195.84\"/>\n  </clipPath>\n </defs>\n</svg>\n",
      "text/plain": [
       "<Figure size 432x288 with 1 Axes>"
      ]
     },
     "metadata": {
      "needs_background": "light"
     },
     "output_type": "display_data"
    }
   ],
   "source": [
    "# Plot the actual returns versus the strategy returns\n",
    "(1 + predictions_df[['Actual Returns', 'SVM Strategy Returns']]).cumprod().plot()\n"
   ]
  },
  {
   "cell_type": "markdown",
   "metadata": {},
   "source": [
    "---\n",
    "\n",
    "## Tune the Baseline Trading Algorithm"
   ]
  },
  {
   "cell_type": "markdown",
   "metadata": {},
   "source": [
    "## Step 6: Use an Alternative ML Model and Evaluate Strategy Returns"
   ]
  },
  {
   "cell_type": "markdown",
   "metadata": {},
   "source": [
    "In this section, you’ll tune, or adjust, the model’s input features to find the parameters that result in the best trading outcomes. You’ll choose the best by comparing the cumulative products of the strategy returns."
   ]
  },
  {
   "cell_type": "markdown",
   "metadata": {},
   "source": [
    "### Step 1: Tune the training algorithm by adjusting the size of the training dataset. \n",
    "\n",
    "To do so, slice your data into different periods. Rerun the notebook with the updated parameters, and record the results in your `README.md` file. \n",
    "\n",
    "Answer the following question: What impact resulted from increasing or decreasing the training window?"
   ]
  },
  {
   "cell_type": "markdown",
   "metadata": {},
   "source": [
    "### Step 2: Tune the trading algorithm by adjusting the SMA input features. \n",
    "\n",
    "Adjust one or both of the windows for the algorithm. Rerun the notebook with the updated parameters, and record the results in your `README.md` file. \n",
    "\n",
    "Answer the following question: What impact resulted from increasing or decreasing either or both of the SMA windows?"
   ]
  },
  {
   "cell_type": "markdown",
   "metadata": {},
   "source": [
    "### Step 3: Choose the set of parameters that best improved the trading algorithm returns. \n",
    "\n",
    "Save a PNG image of the cumulative product of the actual returns vs. the strategy returns, and document your conclusion in your `README.md` file."
   ]
  },
  {
   "cell_type": "markdown",
   "metadata": {},
   "source": [
    "---\n",
    "\n",
    "## Evaluate a New Machine Learning Classifier\n",
    "\n",
    "In this section, you’ll use the original parameters that the starter code provided. But, you’ll apply them to the performance of a second machine learning model. "
   ]
  },
  {
   "cell_type": "markdown",
   "metadata": {},
   "source": [
    "### Step 1:  Import a new classifier  `DecisionTreeClassifier`"
   ]
  },
  {
   "cell_type": "code",
   "execution_count": 82,
   "metadata": {},
   "outputs": [],
   "source": [
    "# Import a new classifier from SKLearn\n",
    "from sklearn.tree import DecisionTreeClassifier\n",
    "\n",
    "# Initiate the model instance\n",
    "dt_model = DecisionTreeClassifier()\n"
   ]
  },
  {
   "cell_type": "markdown",
   "metadata": {},
   "source": [
    "### Step 2: Using the original training data as the baseline model, fit another model with the new classifier."
   ]
  },
  {
   "cell_type": "code",
   "execution_count": 83,
   "metadata": {},
   "outputs": [
    {
     "data": {
      "text/plain": [
       "array([ 1., -1., -1., -1., -1., -1., -1., -1., -1., -1.])"
      ]
     },
     "execution_count": 83,
     "metadata": {},
     "output_type": "execute_result"
    }
   ],
   "source": [
    "# Fit the model using the training data\n",
    "model =  dt_model.fit(X_train_scaled, y_train)\n",
    "\n",
    "# Use the testing dataset to generate the predictions for the new model\n",
    "pred =  model.predict(X_test_scaled)\n",
    "\n",
    "# Review the model's predicted values\n",
    "pred[:10]\n",
    "\n"
   ]
  },
  {
   "cell_type": "markdown",
   "metadata": {},
   "source": [
    "### Step 3: Backtest the new model to evaluate its performance. \n",
    "\n",
    "Save a PNG image of the cumulative product of the actual returns vs. the strategy returns for this updated trading algorithm, and write your conclusions in your `README.md` file. \n",
    "\n",
    "Answer the following questions: \n",
    "Did this new model perform better or worse than the provided baseline model? \n",
    "Did this new model perform better or worse than your tuned trading algorithm?"
   ]
  },
  {
   "cell_type": "code",
   "execution_count": 84,
   "metadata": {},
   "outputs": [
    {
     "name": "stdout",
     "output_type": "stream",
     "text": [
      "              precision    recall  f1-score   support\n",
      "\n",
      "        -1.0       0.44      0.92      0.60      1804\n",
      "         1.0       0.57      0.08      0.15      2288\n",
      "\n",
      "    accuracy                           0.45      4092\n",
      "   macro avg       0.51      0.50      0.37      4092\n",
      "weighted avg       0.51      0.45      0.34      4092\n",
      "\n"
     ]
    }
   ],
   "source": [
    "# Use a classification report to evaluate the model using the predictions and testing data\n",
    "dt_training_report =  classification_report(y_test, pred)\n",
    "\n",
    "# Print the classification report\n",
    "print (dt_training_report)\n"
   ]
  },
  {
   "cell_type": "code",
   "execution_count": 85,
   "metadata": {},
   "outputs": [
    {
     "data": {
      "text/html": [
       "<div>\n",
       "<style scoped>\n",
       "    .dataframe tbody tr th:only-of-type {\n",
       "        vertical-align: middle;\n",
       "    }\n",
       "\n",
       "    .dataframe tbody tr th {\n",
       "        vertical-align: top;\n",
       "    }\n",
       "\n",
       "    .dataframe thead th {\n",
       "        text-align: right;\n",
       "    }\n",
       "</style>\n",
       "<table border=\"1\" class=\"dataframe\">\n",
       "  <thead>\n",
       "    <tr style=\"text-align: right;\">\n",
       "      <th></th>\n",
       "      <th>Predicted</th>\n",
       "      <th>DT Predicted</th>\n",
       "      <th>Actual Returns</th>\n",
       "      <th>DT Strategy Returns</th>\n",
       "    </tr>\n",
       "    <tr>\n",
       "      <th>date</th>\n",
       "      <th></th>\n",
       "      <th></th>\n",
       "      <th></th>\n",
       "      <th></th>\n",
       "    </tr>\n",
       "  </thead>\n",
       "  <tbody>\n",
       "    <tr>\n",
       "      <th>2015-07-06 10:00:00</th>\n",
       "      <td>1.0</td>\n",
       "      <td>1.0</td>\n",
       "      <td>-0.025715</td>\n",
       "      <td>-0.025715</td>\n",
       "    </tr>\n",
       "    <tr>\n",
       "      <th>2015-07-06 10:45:00</th>\n",
       "      <td>-1.0</td>\n",
       "      <td>1.0</td>\n",
       "      <td>0.007237</td>\n",
       "      <td>-0.007237</td>\n",
       "    </tr>\n",
       "    <tr>\n",
       "      <th>2015-07-06 14:15:00</th>\n",
       "      <td>-1.0</td>\n",
       "      <td>1.0</td>\n",
       "      <td>-0.009721</td>\n",
       "      <td>0.009721</td>\n",
       "    </tr>\n",
       "    <tr>\n",
       "      <th>2015-07-06 14:30:00</th>\n",
       "      <td>-1.0</td>\n",
       "      <td>1.0</td>\n",
       "      <td>-0.003841</td>\n",
       "      <td>0.003841</td>\n",
       "    </tr>\n",
       "    <tr>\n",
       "      <th>2015-07-07 11:30:00</th>\n",
       "      <td>-1.0</td>\n",
       "      <td>1.0</td>\n",
       "      <td>-0.018423</td>\n",
       "      <td>0.018423</td>\n",
       "    </tr>\n",
       "  </tbody>\n",
       "</table>\n",
       "</div>"
      ],
      "text/plain": [
       "                     Predicted  DT Predicted  Actual Returns  \\\n",
       "date                                                           \n",
       "2015-07-06 10:00:00        1.0           1.0       -0.025715   \n",
       "2015-07-06 10:45:00       -1.0           1.0        0.007237   \n",
       "2015-07-06 14:15:00       -1.0           1.0       -0.009721   \n",
       "2015-07-06 14:30:00       -1.0           1.0       -0.003841   \n",
       "2015-07-07 11:30:00       -1.0           1.0       -0.018423   \n",
       "\n",
       "                     DT Strategy Returns  \n",
       "date                                      \n",
       "2015-07-06 10:00:00            -0.025715  \n",
       "2015-07-06 10:45:00            -0.007237  \n",
       "2015-07-06 14:15:00             0.009721  \n",
       "2015-07-06 14:30:00             0.003841  \n",
       "2015-07-07 11:30:00             0.018423  "
      ]
     },
     "execution_count": 85,
     "metadata": {},
     "output_type": "execute_result"
    }
   ],
   "source": [
    "# Create a new empty predictions DataFrame.\n",
    "predictions_dt =  pd.DataFrame(index=X_test.index)\n",
    "\n",
    "# Create a predictions DataFrame\n",
    "predictions_dt['Predicted'] = pred\n",
    "\n",
    "# Add the SVM model predictions to the DataFrame\n",
    "predictions_dt['DT Predicted'] = svm_pred\n",
    "\n",
    "# Add the actual returns to the DataFrame\n",
    "predictions_dt['Actual Returns'] =  signals_df['Actual Returns']\n",
    "\n",
    "# Add the strategy returns to the DataFrame\n",
    "predictions_dt['DT Strategy Returns'] = predictions_dt['Actual Returns'] * predictions_dt['Predicted']\n",
    "\n",
    "# Review the DataFrame\n",
    "predictions_dt.head()\n",
    "\n"
   ]
  },
  {
   "cell_type": "code",
   "execution_count": 86,
   "metadata": {},
   "outputs": [
    {
     "data": {
      "text/plain": [
       "<AxesSubplot:xlabel='date'>"
      ]
     },
     "execution_count": 86,
     "metadata": {},
     "output_type": "execute_result"
    },
    {
     "data": {
      "image/png": "[encoded data removed]",
      "image/svg+xml": "<?xml version=\"1.0\" encoding=\"utf-8\" standalone=\"no\"?>\n<!DOCTYPE svg PUBLIC \"-//W3C//DTD SVG 1.1//EN\"\n  \"http://www.w3.org/Graphics/SVG/1.1/DTD/svg11.dtd\">\n<svg xmlns:xlink=\"http://www.w3.org/1999/xlink\" width=\"372.103125pt\" height=\"252.024627pt\" viewBox=\"0 0 372.103125 252.024627\" xmlns=\"http://www.w3.org/2000/svg\" version=\"1.1\">\n <metadata>\n  <rdf:RDF xmlns:dc=\"http://purl.org/dc/elements/1.1/\" xmlns:cc=\"http://creativecommons.org/ns#\" xmlns:rdf=\"http://www.w3.org/1999/02/22-rdf-syntax-ns#\">\n   <cc:Work>\n    <dc:type rdf:resource=\"http://purl.org/dc/dcmitype/StillImage\"/>\n    <dc:date>2022-09-16T21:23:09.528579</dc:date>\n    <dc:format>image/svg+xml</dc:format>\n    <dc:creator>\n     <cc:Agent>\n      <dc:title>Matplotlib v3.5.1, https://matplotlib.org/</dc:title>\n     </cc:Agent>\n    </dc:creator>\n   </cc:Work>\n  </rdf:RDF>\n </metadata>\n <defs>\n  <style type=\"text/css\">*{stroke-linejoin: round; stroke-linecap: butt}</style>\n </defs>\n <g id=\"figure_1\">\n  <g id=\"patch_1\">\n   <path d=\"M 0 252.024627 \nL 372.103125 252.024627 \nL 372.103125 0 \nL 0 0 \nL 0 252.024627 \nz\n\" style=\"fill: none\"/>\n  </g>\n  <g id=\"axes_1\">\n   <g id=\"patch_2\">\n    <path d=\"M 30.103125 203.04 \nL 364.903125 203.04 \nL 364.903125 7.2 \nL 30.103125 7.2 \nz\n\" style=\"fill: #ffffff\"/>\n   </g>\n   <g id=\"matplotlib.axis_1\">\n    <g id=\"xtick_1\">\n     <g id=\"line2d_1\">\n      <defs>\n       <path id=\"m96597494b1\" d=\"M 0 0 \nL 0 3.5 \n\" style=\"stroke: #000000; stroke-width: 0.8\"/>\n      </defs>\n      <g>\n       <use xlink:href=\"#m96597494b1\" x=\"72.13327\" y=\"203.04\" style=\"stroke: #000000; stroke-width: 0.8\"/>\n      </g>\n     </g>\n     <g id=\"text_1\">\n      <!-- 2016 -->\n      <g transform=\"translate(49.05308 229.34544)rotate(-30)scale(0.1 -0.1)\">\n       <defs>\n        <path id=\"DejaVuSans-32\" d=\"M 1228 531 \nL 3431 531 \nL 3431 0 \nL 469 0 \nL 469 531 \nQ 828 903 1448 1529 \nQ 2069 2156 2228 2338 \nQ 2531 2678 2651 2914 \nQ 2772 3150 2772 3378 \nQ 2772 3750 2511 3984 \nQ 2250 4219 1831 4219 \nQ 1534 4219 1204 4116 \nQ 875 4013 500 3803 \nL 500 4441 \nQ 881 4594 1212 4672 \nQ 1544 4750 1819 4750 \nQ 2544 4750 2975 4387 \nQ 3406 4025 3406 3419 \nQ 3406 3131 3298 2873 \nQ 3191 2616 2906 2266 \nQ 2828 2175 2409 1742 \nQ 1991 1309 1228 531 \nz\n\" transform=\"scale(0.015625)\"/>\n        <path id=\"DejaVuSans-30\" d=\"M 2034 4250 \nQ 1547 4250 1301 3770 \nQ 1056 3291 1056 2328 \nQ 1056 1369 1301 889 \nQ 1547 409 2034 409 \nQ 2525 409 2770 889 \nQ 3016 1369 3016 2328 \nQ 3016 3291 2770 3770 \nQ 2525 4250 2034 4250 \nz\nM 2034 4750 \nQ 2819 4750 3233 4129 \nQ 3647 3509 3647 2328 \nQ 3647 1150 3233 529 \nQ 2819 -91 2034 -91 \nQ 1250 -91 836 529 \nQ 422 1150 422 2328 \nQ 422 3509 836 4129 \nQ 1250 4750 2034 4750 \nz\n\" transform=\"scale(0.015625)\"/>\n        <path id=\"DejaVuSans-31\" d=\"M 794 531 \nL 1825 531 \nL 1825 4091 \nL 703 3866 \nL 703 4441 \nL 1819 4666 \nL 2450 4666 \nL 2450 531 \nL 3481 531 \nL 3481 0 \nL 794 0 \nL 794 531 \nz\n\" transform=\"scale(0.015625)\"/>\n        <path id=\"DejaVuSans-36\" d=\"M 2113 2584 \nQ 1688 2584 1439 2293 \nQ 1191 2003 1191 1497 \nQ 1191 994 1439 701 \nQ 1688 409 2113 409 \nQ 2538 409 2786 701 \nQ 3034 994 3034 1497 \nQ 3034 2003 2786 2293 \nQ 2538 2584 2113 2584 \nz\nM 3366 4563 \nL 3366 3988 \nQ 3128 4100 2886 4159 \nQ 2644 4219 2406 4219 \nQ 1781 4219 1451 3797 \nQ 1122 3375 1075 2522 \nQ 1259 2794 1537 2939 \nQ 1816 3084 2150 3084 \nQ 2853 3084 3261 2657 \nQ 3669 2231 3669 1497 \nQ 3669 778 3244 343 \nQ 2819 -91 2113 -91 \nQ 1303 -91 875 529 \nQ 447 1150 447 2328 \nQ 447 3434 972 4092 \nQ 1497 4750 2381 4750 \nQ 2619 4750 2861 4703 \nQ 3103 4656 3366 4563 \nz\n\" transform=\"scale(0.015625)\"/>\n       </defs>\n       <use xlink:href=\"#DejaVuSans-32\"/>\n       <use xlink:href=\"#DejaVuSans-30\" x=\"63.623047\"/>\n       <use xlink:href=\"#DejaVuSans-31\" x=\"127.246094\"/>\n       <use xlink:href=\"#DejaVuSans-36\" x=\"190.869141\"/>\n      </g>\n     </g>\n    </g>\n    <g id=\"xtick_2\">\n     <g id=\"line2d_2\">\n      <g>\n       <use xlink:href=\"#m96597494b1\" x=\"127.083406\" y=\"203.04\" style=\"stroke: #000000; stroke-width: 0.8\"/>\n      </g>\n     </g>\n     <g id=\"text_2\">\n      <!-- 2017 -->\n      <g transform=\"translate(104.003216 229.34544)rotate(-30)scale(0.1 -0.1)\">\n       <defs>\n        <path id=\"DejaVuSans-37\" d=\"M 525 4666 \nL 3525 4666 \nL 3525 4397 \nL 1831 0 \nL 1172 0 \nL 2766 4134 \nL 525 4134 \nL 525 4666 \nz\n\" transform=\"scale(0.015625)\"/>\n       </defs>\n       <use xlink:href=\"#DejaVuSans-32\"/>\n       <use xlink:href=\"#DejaVuSans-30\" x=\"63.623047\"/>\n       <use xlink:href=\"#DejaVuSans-31\" x=\"127.246094\"/>\n       <use xlink:href=\"#DejaVuSans-37\" x=\"190.869141\"/>\n      </g>\n     </g>\n    </g>\n    <g id=\"xtick_3\">\n     <g id=\"line2d_3\">\n      <g>\n       <use xlink:href=\"#m96597494b1\" x=\"181.883405\" y=\"203.04\" style=\"stroke: #000000; stroke-width: 0.8\"/>\n      </g>\n     </g>\n     <g id=\"text_3\">\n      <!-- 2018 -->\n      <g transform=\"translate(158.803215 229.34544)rotate(-30)scale(0.1 -0.1)\">\n       <defs>\n        <path id=\"DejaVuSans-38\" d=\"M 2034 2216 \nQ 1584 2216 1326 1975 \nQ 1069 1734 1069 1313 \nQ 1069 891 1326 650 \nQ 1584 409 2034 409 \nQ 2484 409 2743 651 \nQ 3003 894 3003 1313 \nQ 3003 1734 2745 1975 \nQ 2488 2216 2034 2216 \nz\nM 1403 2484 \nQ 997 2584 770 2862 \nQ 544 3141 544 3541 \nQ 544 4100 942 4425 \nQ 1341 4750 2034 4750 \nQ 2731 4750 3128 4425 \nQ 3525 4100 3525 3541 \nQ 3525 3141 3298 2862 \nQ 3072 2584 2669 2484 \nQ 3125 2378 3379 2068 \nQ 3634 1759 3634 1313 \nQ 3634 634 3220 271 \nQ 2806 -91 2034 -91 \nQ 1263 -91 848 271 \nQ 434 634 434 1313 \nQ 434 1759 690 2068 \nQ 947 2378 1403 2484 \nz\nM 1172 3481 \nQ 1172 3119 1398 2916 \nQ 1625 2713 2034 2713 \nQ 2441 2713 2670 2916 \nQ 2900 3119 2900 3481 \nQ 2900 3844 2670 4047 \nQ 2441 4250 2034 4250 \nQ 1625 4250 1398 4047 \nQ 1172 3844 1172 3481 \nz\n\" transform=\"scale(0.015625)\"/>\n       </defs>\n       <use xlink:href=\"#DejaVuSans-32\"/>\n       <use xlink:href=\"#DejaVuSans-30\" x=\"63.623047\"/>\n       <use xlink:href=\"#DejaVuSans-31\" x=\"127.246094\"/>\n       <use xlink:href=\"#DejaVuSans-38\" x=\"190.869141\"/>\n      </g>\n     </g>\n    </g>\n    <g id=\"xtick_4\">\n     <g id=\"line2d_4\">\n      <g>\n       <use xlink:href=\"#m96597494b1\" x=\"236.683404\" y=\"203.04\" style=\"stroke: #000000; stroke-width: 0.8\"/>\n      </g>\n     </g>\n     <g id=\"text_4\">\n      <!-- 2019 -->\n      <g transform=\"translate(213.603214 229.34544)rotate(-30)scale(0.1 -0.1)\">\n       <defs>\n        <path id=\"DejaVuSans-39\" d=\"M 703 97 \nL 703 672 \nQ 941 559 1184 500 \nQ 1428 441 1663 441 \nQ 2288 441 2617 861 \nQ 2947 1281 2994 2138 \nQ 2813 1869 2534 1725 \nQ 2256 1581 1919 1581 \nQ 1219 1581 811 2004 \nQ 403 2428 403 3163 \nQ 403 3881 828 4315 \nQ 1253 4750 1959 4750 \nQ 2769 4750 3195 4129 \nQ 3622 3509 3622 2328 \nQ 3622 1225 3098 567 \nQ 2575 -91 1691 -91 \nQ 1453 -91 1209 -44 \nQ 966 3 703 97 \nz\nM 1959 2075 \nQ 2384 2075 2632 2365 \nQ 2881 2656 2881 3163 \nQ 2881 3666 2632 3958 \nQ 2384 4250 1959 4250 \nQ 1534 4250 1286 3958 \nQ 1038 3666 1038 3163 \nQ 1038 2656 1286 2365 \nQ 1534 2075 1959 2075 \nz\n\" transform=\"scale(0.015625)\"/>\n       </defs>\n       <use xlink:href=\"#DejaVuSans-32\"/>\n       <use xlink:href=\"#DejaVuSans-30\" x=\"63.623047\"/>\n       <use xlink:href=\"#DejaVuSans-31\" x=\"127.246094\"/>\n       <use xlink:href=\"#DejaVuSans-39\" x=\"190.869141\"/>\n      </g>\n     </g>\n    </g>\n    <g id=\"xtick_5\">\n     <g id=\"line2d_5\">\n      <g>\n       <use xlink:href=\"#m96597494b1\" x=\"291.483403\" y=\"203.04\" style=\"stroke: #000000; stroke-width: 0.8\"/>\n      </g>\n     </g>\n     <g id=\"text_5\">\n      <!-- 2020 -->\n      <g transform=\"translate(268.403213 229.34544)rotate(-30)scale(0.1 -0.1)\">\n       <use xlink:href=\"#DejaVuSans-32\"/>\n       <use xlink:href=\"#DejaVuSans-30\" x=\"63.623047\"/>\n       <use xlink:href=\"#DejaVuSans-32\" x=\"127.246094\"/>\n       <use xlink:href=\"#DejaVuSans-30\" x=\"190.869141\"/>\n      </g>\n     </g>\n    </g>\n    <g id=\"xtick_6\">\n     <g id=\"line2d_6\">\n      <g>\n       <use xlink:href=\"#m96597494b1\" x=\"346.433539\" y=\"203.04\" style=\"stroke: #000000; stroke-width: 0.8\"/>\n      </g>\n     </g>\n     <g id=\"text_6\">\n      <!-- 2021 -->\n      <g transform=\"translate(323.353349 229.34544)rotate(-30)scale(0.1 -0.1)\">\n       <use xlink:href=\"#DejaVuSans-32\"/>\n       <use xlink:href=\"#DejaVuSans-30\" x=\"63.623047\"/>\n       <use xlink:href=\"#DejaVuSans-32\" x=\"127.246094\"/>\n       <use xlink:href=\"#DejaVuSans-31\" x=\"190.869141\"/>\n      </g>\n     </g>\n    </g>\n    <g id=\"text_7\">\n     <!-- date -->\n     <g transform=\"translate(186.228125 242.74494)scale(0.1 -0.1)\">\n      <defs>\n       <path id=\"DejaVuSans-64\" d=\"M 2906 2969 \nL 2906 4863 \nL 3481 4863 \nL 3481 0 \nL 2906 0 \nL 2906 525 \nQ 2725 213 2448 61 \nQ 2172 -91 1784 -91 \nQ 1150 -91 751 415 \nQ 353 922 353 1747 \nQ 353 2572 751 3078 \nQ 1150 3584 1784 3584 \nQ 2172 3584 2448 3432 \nQ 2725 3281 2906 2969 \nz\nM 947 1747 \nQ 947 1113 1208 752 \nQ 1469 391 1925 391 \nQ 2381 391 2643 752 \nQ 2906 1113 2906 1747 \nQ 2906 2381 2643 2742 \nQ 2381 3103 1925 3103 \nQ 1469 3103 1208 2742 \nQ 947 2381 947 1747 \nz\n\" transform=\"scale(0.015625)\"/>\n       <path id=\"DejaVuSans-61\" d=\"M 2194 1759 \nQ 1497 1759 1228 1600 \nQ 959 1441 959 1056 \nQ 959 750 1161 570 \nQ 1363 391 1709 391 \nQ 2188 391 2477 730 \nQ 2766 1069 2766 1631 \nL 2766 1759 \nL 2194 1759 \nz\nM 3341 1997 \nL 3341 0 \nL 2766 0 \nL 2766 531 \nQ 2569 213 2275 61 \nQ 1981 -91 1556 -91 \nQ 1019 -91 701 211 \nQ 384 513 384 1019 \nQ 384 1609 779 1909 \nQ 1175 2209 1959 2209 \nL 2766 2209 \nL 2766 2266 \nQ 2766 2663 2505 2880 \nQ 2244 3097 1772 3097 \nQ 1472 3097 1187 3025 \nQ 903 2953 641 2809 \nL 641 3341 \nQ 956 3463 1253 3523 \nQ 1550 3584 1831 3584 \nQ 2591 3584 2966 3190 \nQ 3341 2797 3341 1997 \nz\n\" transform=\"scale(0.015625)\"/>\n       <path id=\"DejaVuSans-74\" d=\"M 1172 4494 \nL 1172 3500 \nL 2356 3500 \nL 2356 3053 \nL 1172 3053 \nL 1172 1153 \nQ 1172 725 1289 603 \nQ 1406 481 1766 481 \nL 2356 481 \nL 2356 0 \nL 1766 0 \nQ 1100 0 847 248 \nQ 594 497 594 1153 \nL 594 3053 \nL 172 3053 \nL 172 3500 \nL 594 3500 \nL 594 4494 \nL 1172 4494 \nz\n\" transform=\"scale(0.015625)\"/>\n       <path id=\"DejaVuSans-65\" d=\"M 3597 1894 \nL 3597 1613 \nL 953 1613 \nQ 991 1019 1311 708 \nQ 1631 397 2203 397 \nQ 2534 397 2845 478 \nQ 3156 559 3463 722 \nL 3463 178 \nQ 3153 47 2828 -22 \nQ 2503 -91 2169 -91 \nQ 1331 -91 842 396 \nQ 353 884 353 1716 \nQ 353 2575 817 3079 \nQ 1281 3584 2069 3584 \nQ 2775 3584 3186 3129 \nQ 3597 2675 3597 1894 \nz\nM 3022 2063 \nQ 3016 2534 2758 2815 \nQ 2500 3097 2075 3097 \nQ 1594 3097 1305 2825 \nQ 1016 2553 972 2059 \nL 3022 2063 \nz\n\" transform=\"scale(0.015625)\"/>\n      </defs>\n      <use xlink:href=\"#DejaVuSans-64\"/>\n      <use xlink:href=\"#DejaVuSans-61\" x=\"63.476562\"/>\n      <use xlink:href=\"#DejaVuSans-74\" x=\"124.755859\"/>\n      <use xlink:href=\"#DejaVuSans-65\" x=\"163.964844\"/>\n     </g>\n    </g>\n   </g>\n   <g id=\"matplotlib.axis_2\">\n    <g id=\"ytick_1\">\n     <g id=\"line2d_7\">\n      <defs>\n       <path id=\"m9e0a8dedf5\" d=\"M 0 0 \nL -3.5 0 \n\" style=\"stroke: #000000; stroke-width: 0.8\"/>\n      </defs>\n      <g>\n       <use xlink:href=\"#m9e0a8dedf5\" x=\"30.103125\" y=\"181.416301\" style=\"stroke: #000000; stroke-width: 0.8\"/>\n      </g>\n     </g>\n     <g id=\"text_8\">\n      <!-- 0.7 -->\n      <g transform=\"translate(7.2 185.21552)scale(0.1 -0.1)\">\n       <defs>\n        <path id=\"DejaVuSans-2e\" d=\"M 684 794 \nL 1344 794 \nL 1344 0 \nL 684 0 \nL 684 794 \nz\n\" transform=\"scale(0.015625)\"/>\n       </defs>\n       <use xlink:href=\"#DejaVuSans-30\"/>\n       <use xlink:href=\"#DejaVuSans-2e\" x=\"63.623047\"/>\n       <use xlink:href=\"#DejaVuSans-37\" x=\"95.410156\"/>\n      </g>\n     </g>\n    </g>\n    <g id=\"ytick_2\">\n     <g id=\"line2d_8\">\n      <g>\n       <use xlink:href=\"#m9e0a8dedf5\" x=\"30.103125\" y=\"157.439088\" style=\"stroke: #000000; stroke-width: 0.8\"/>\n      </g>\n     </g>\n     <g id=\"text_9\">\n      <!-- 0.8 -->\n      <g transform=\"translate(7.2 161.238306)scale(0.1 -0.1)\">\n       <use xlink:href=\"#DejaVuSans-30\"/>\n       <use xlink:href=\"#DejaVuSans-2e\" x=\"63.623047\"/>\n       <use xlink:href=\"#DejaVuSans-38\" x=\"95.410156\"/>\n      </g>\n     </g>\n    </g>\n    <g id=\"ytick_3\">\n     <g id=\"line2d_9\">\n      <g>\n       <use xlink:href=\"#m9e0a8dedf5\" x=\"30.103125\" y=\"133.461874\" style=\"stroke: #000000; stroke-width: 0.8\"/>\n      </g>\n     </g>\n     <g id=\"text_10\">\n      <!-- 0.9 -->\n      <g transform=\"translate(7.2 137.261093)scale(0.1 -0.1)\">\n       <use xlink:href=\"#DejaVuSans-30\"/>\n       <use xlink:href=\"#DejaVuSans-2e\" x=\"63.623047\"/>\n       <use xlink:href=\"#DejaVuSans-39\" x=\"95.410156\"/>\n      </g>\n     </g>\n    </g>\n    <g id=\"ytick_4\">\n     <g id=\"line2d_10\">\n      <g>\n       <use xlink:href=\"#m9e0a8dedf5\" x=\"30.103125\" y=\"109.484661\" style=\"stroke: #000000; stroke-width: 0.8\"/>\n      </g>\n     </g>\n     <g id=\"text_11\">\n      <!-- 1.0 -->\n      <g transform=\"translate(7.2 113.28388)scale(0.1 -0.1)\">\n       <use xlink:href=\"#DejaVuSans-31\"/>\n       <use xlink:href=\"#DejaVuSans-2e\" x=\"63.623047\"/>\n       <use xlink:href=\"#DejaVuSans-30\" x=\"95.410156\"/>\n      </g>\n     </g>\n    </g>\n    <g id=\"ytick_5\">\n     <g id=\"line2d_11\">\n      <g>\n       <use xlink:href=\"#m9e0a8dedf5\" x=\"30.103125\" y=\"85.507448\" style=\"stroke: #000000; stroke-width: 0.8\"/>\n      </g>\n     </g>\n     <g id=\"text_12\">\n      <!-- 1.1 -->\n      <g transform=\"translate(7.2 89.306666)scale(0.1 -0.1)\">\n       <use xlink:href=\"#DejaVuSans-31\"/>\n       <use xlink:href=\"#DejaVuSans-2e\" x=\"63.623047\"/>\n       <use xlink:href=\"#DejaVuSans-31\" x=\"95.410156\"/>\n      </g>\n     </g>\n    </g>\n    <g id=\"ytick_6\">\n     <g id=\"line2d_12\">\n      <g>\n       <use xlink:href=\"#m9e0a8dedf5\" x=\"30.103125\" y=\"61.530234\" style=\"stroke: #000000; stroke-width: 0.8\"/>\n      </g>\n     </g>\n     <g id=\"text_13\">\n      <!-- 1.2 -->\n      <g transform=\"translate(7.2 65.329453)scale(0.1 -0.1)\">\n       <use xlink:href=\"#DejaVuSans-31\"/>\n       <use xlink:href=\"#DejaVuSans-2e\" x=\"63.623047\"/>\n       <use xlink:href=\"#DejaVuSans-32\" x=\"95.410156\"/>\n      </g>\n     </g>\n    </g>\n    <g id=\"ytick_7\">\n     <g id=\"line2d_13\">\n      <g>\n       <use xlink:href=\"#m9e0a8dedf5\" x=\"30.103125\" y=\"37.553021\" style=\"stroke: #000000; stroke-width: 0.8\"/>\n      </g>\n     </g>\n     <g id=\"text_14\">\n      <!-- 1.3 -->\n      <g transform=\"translate(7.2 41.352239)scale(0.1 -0.1)\">\n       <defs>\n        <path id=\"DejaVuSans-33\" d=\"M 2597 2516 \nQ 3050 2419 3304 2112 \nQ 3559 1806 3559 1356 \nQ 3559 666 3084 287 \nQ 2609 -91 1734 -91 \nQ 1441 -91 1130 -33 \nQ 819 25 488 141 \nL 488 750 \nQ 750 597 1062 519 \nQ 1375 441 1716 441 \nQ 2309 441 2620 675 \nQ 2931 909 2931 1356 \nQ 2931 1769 2642 2001 \nQ 2353 2234 1838 2234 \nL 1294 2234 \nL 1294 2753 \nL 1863 2753 \nQ 2328 2753 2575 2939 \nQ 2822 3125 2822 3475 \nQ 2822 3834 2567 4026 \nQ 2313 4219 1838 4219 \nQ 1578 4219 1281 4162 \nQ 984 4106 628 3988 \nL 628 4550 \nQ 988 4650 1302 4700 \nQ 1616 4750 1894 4750 \nQ 2613 4750 3031 4423 \nQ 3450 4097 3450 3541 \nQ 3450 3153 3228 2886 \nQ 3006 2619 2597 2516 \nz\n\" transform=\"scale(0.015625)\"/>\n       </defs>\n       <use xlink:href=\"#DejaVuSans-31\"/>\n       <use xlink:href=\"#DejaVuSans-2e\" x=\"63.623047\"/>\n       <use xlink:href=\"#DejaVuSans-33\" x=\"95.410156\"/>\n      </g>\n     </g>\n    </g>\n    <g id=\"ytick_8\">\n     <g id=\"line2d_14\">\n      <g>\n       <use xlink:href=\"#m9e0a8dedf5\" x=\"30.103125\" y=\"13.575807\" style=\"stroke: #000000; stroke-width: 0.8\"/>\n      </g>\n     </g>\n     <g id=\"text_15\">\n      <!-- 1.4 -->\n      <g transform=\"translate(7.2 17.375026)scale(0.1 -0.1)\">\n       <defs>\n        <path id=\"DejaVuSans-34\" d=\"M 2419 4116 \nL 825 1625 \nL 2419 1625 \nL 2419 4116 \nz\nM 2253 4666 \nL 3047 4666 \nL 3047 1625 \nL 3713 1625 \nL 3713 1100 \nL 3047 1100 \nL 3047 0 \nL 2419 0 \nL 2419 1100 \nL 313 1100 \nL 313 1709 \nL 2253 4666 \nz\n\" transform=\"scale(0.015625)\"/>\n       </defs>\n       <use xlink:href=\"#DejaVuSans-31\"/>\n       <use xlink:href=\"#DejaVuSans-2e\" x=\"63.623047\"/>\n       <use xlink:href=\"#DejaVuSans-34\" x=\"95.410156\"/>\n      </g>\n     </g>\n    </g>\n   </g>\n   <g id=\"line2d_15\">\n    <path d=\"M 45.321307 115.650514 \nL 45.325999 113.959877 \nL 45.349458 117.142253 \nL 45.657551 126.192134 \nL 46.552117 114.954369 \nL 46.833624 113.860428 \nL 46.982197 114.85492 \nL 47.459195 115.153268 \nL 48.497642 125.893787 \nL 48.510154 125.098193 \nL 48.654035 124.203149 \nL 48.77133 124.501497 \nL 48.797916 122.114715 \nL 48.929286 123.705903 \nL 49.085679 120.722426 \nL 49.526706 124.501497 \nL 49.531398 123.705903 \nL 49.537654 123.109208 \nL 49.561113 123.904802 \nL 49.831672 121.020774 \nL 49.855131 121.816368 \nL 50.135074 125.694888 \nL 50.160097 125.49599 \nL 50.73875 126.092685 \nL 50.885759 129.772307 \nL 50.910782 128.08167 \nL 51.023384 128.976713 \nL 51.028076 128.380018 \nL 51.051535 127.484975 \nL 51.186033 127.584424 \nL 51.189161 128.181119 \nL 51.21262 128.08167 \nL 52.255759 140.711724 \nL 52.262014 143.098506 \nL 52.263578 142.800159 \nL 52.832848 142.899608 \nL 52.859435 144.590245 \nL 52.864126 147.474273 \nL 53.148761 134.844219 \nL 53.287951 135.938161 \nL 53.305154 137.131552 \nL 53.314537 136.634305 \nL 53.880679 142.800159 \nL 53.899446 143.8941 \nL 53.915085 143.595753 \nL 54.337345 142.700709 \nL 54.338909 142.800159 \nL 54.35924 144.988042 \nL 55.416455 136.932653 \nL 55.837151 137.728247 \nL 55.851227 138.324942 \nL 55.866866 138.225493 \nL 56.017003 135.341465 \nL 56.315713 131.562394 \nL 56.317277 132.656335 \nL 58.117357 145.982534 \nL 58.262802 142.203463 \nL 58.536489 141.010072 \nL 58.567768 135.540364 \nL 58.569332 136.137059 \nL 59.011923 132.755785 \nL 59.013487 132.159089 \nL 59.019743 132.656335 \nL 59.133909 131.960191 \nL 59.16988 133.35248 \nL 59.28561 126.589931 \nL 59.320017 128.479467 \nL 59.434183 127.683873 \nL 59.438875 127.882772 \nL 59.440439 129.275061 \nL 59.470154 125.49599 \nL 60.069138 126.987728 \nL 60.220839 129.076163 \nL 60.350644 128.877264 \nL 60.492962 127.683873 \nL 61.106021 126.192134 \nL 61.12166 125.694888 \nL 61.3844 125.694888 \nL 61.421934 127.584424 \nL 62.147596 124.203149 \nL 62.294606 126.888279 \nL 62.310245 127.584424 \nL 62.322756 126.391033 \nL 62.446307 125.993236 \nL 62.472893 128.479467 \nL 62.748144 130.567901 \nL 62.755964 130.269553 \nL 63.348692 125.49599 \nL 63.35182 125.595439 \nL 63.365896 123.904802 \nL 63.373715 124.799845 \nL 63.487882 123.507005 \nL 63.492574 124.004251 \nL 63.51916 125.595439 \nL 63.520724 125.39654 \nL 63.638019 125.297091 \nL 63.644275 126.391033 \nL 63.659914 124.402048 \nL 63.672425 124.988798 \nL 64.251078 131.164597 \nL 64.254206 130.567901 \nL 64.571683 132.457437 \nL 64.712437 132.05964 \nL 64.724948 133.849726 \nL 65.444354 132.258538 \nL 65.475633 133.849726 \nL 65.739937 131.761292 \nL 65.758704 130.269553 \nL 66.343612 129.175612 \nL 66.356124 130.170104 \nL 66.36238 129.076163 \nL 66.371763 129.871756 \nL 66.676729 131.363495 \nL 66.953544 133.849726 \nL 67.544708 132.855234 \nL 67.561911 133.35248 \nL 67.571295 132.556886 \nL 67.572859 132.755785 \nL 67.871569 144.789144 \nL 67.877825 144.689694 \nL 68.594103 148.269867 \nL 68.600359 146.678679 \nL 68.62851 146.977027 \nL 68.75206 146.877578 \nL 68.758316 150.159403 \nL 68.778647 148.070969 \nL 69.071101 154.236822 \nL 69.078921 153.242329 \nL 69.490233 152.247837 \nL 69.51682 153.441228 \nL 69.529332 151.651142 \nL 69.671649 148.369316 \nL 69.679469 149.065461 \nL 69.942208 144.888593 \nL 69.970359 145.584737 \nL 70.090781 147.374824 \nL 70.092345 145.982534 \nL 70.128316 147.87207 \nL 70.129879 147.87207 \nL 70.841466 142.999057 \nL 70.849286 143.098506 \nL 70.85085 143.794651 \nL 70.875873 142.60126 \nL 70.877437 142.700709 \nL 70.991603 143.99355 \nL 70.993167 142.899608 \nL 71.008806 142.700709 \nL 71.011934 143.197956 \nL 71.592151 148.767113 \nL 71.598407 149.463258 \nL 71.631249 146.479781 \nL 71.753236 147.673172 \nL 71.779822 148.170418 \nL 71.781386 147.275375 \nL 72.652494 156.225807 \nL 72.660313 155.629111 \nL 72.666569 154.336271 \nL 72.682208 155.629111 \nL 72.824526 153.640126 \nL 72.832345 154.037923 \nL 72.966843 156.424705 \nL 72.969971 156.026908 \nL 73.132619 162.491109 \nL 73.243658 161.09882 \nL 73.268681 162.093312 \nL 73.282756 163.386153 \nL 73.697197 162.789457 \nL 73.715964 164.778442 \nL 73.733167 163.286703 \nL 73.847334 162.39166 \nL 73.870793 163.485602 \nL 73.883304 162.888906 \nL 74.02093 164.082297 \nL 74.027185 165.07679 \nL 74.177322 161.993863 \nL 74.183578 163.386153 \nL 74.31964 169.353107 \nL 74.333715 168.656963 \nL 74.896729 165.176239 \nL 74.90142 165.375138 \nL 75.053121 172.038237 \nL 75.056249 171.938788 \nL 75.065633 172.833831 \nL 75.082836 169.850354 \nL 75.0844 169.949803 \nL 75.195439 169.850354 \nL 75.198567 170.148701 \nL 75.20795 167.563021 \nL 75.234537 169.452557 \nL 75.384674 164.877891 \nL 75.949252 166.568529 \nL 75.985222 164.877891 \nL 76.100952 165.772935 \nL 76.116592 163.6845 \nL 76.135359 165.574036 \nL 76.435633 158.214792 \nL 76.853201 159.905429 \nL 76.871968 160.999371 \nL 77.004902 163.087805 \nL 77.184754 162.093312 \nL 77.309868 160.104328 \nL 77.319251 160.800472 \nL 77.449057 160.203777 \nL 78.077756 167.563021 \nL 78.08714 166.966326 \nL 78.205998 164.480094 \nL 78.362391 170.148701 \nL 78.367083 170.049252 \nL 78.387414 168.358615 \nL 78.50158 168.060267 \nL 78.534423 166.866876 \nL 79.127151 160.800472 \nL 79.138098 161.596066 \nL 79.258521 158.712038 \nL 79.285108 158.811487 \nL 79.403966 158.214792 \nL 79.40553 158.712038 \nL 79.411786 159.507632 \nL 79.438372 159.209284 \nL 80.004514 156.623604 \nL 80.029537 155.927459 \nL 80.303224 162.789457 \nL 80.454925 160.004878 \nL 81.063293 157.618096 \nL 81.067984 157.816995 \nL 81.089879 159.109835 \nL 81.240016 154.137373 \nL 81.532471 150.5572 \nL 82.122071 147.971519 \nL 82.267516 151.054446 \nL 82.290975 150.457751 \nL 82.417653 149.065461 \nL 82.581866 150.258852 \nL 82.741386 146.977027 \nL 83.190233 146.678679 \nL 83.338806 149.960504 \nL 83.47174 148.966012 \nL 83.47956 149.662157 \nL 83.606238 146.181433 \nL 83.607802 146.877578 \nL 83.632824 144.789144 \nL 83.642208 144.789144 \nL 83.792345 143.297405 \nL 84.206786 141.905115 \nL 84.521135 145.087491 \nL 84.668144 147.175925 \nL 84.693167 145.485288 \nL 85.256181 144.689694 \nL 85.260872 145.584737 \nL 85.293715 145.28639 \nL 85.564274 140.811174 \nL 85.589297 141.606768 \nL 85.744126 143.595753 \nL 85.856729 147.275375 \nL 86.318087 144.689694 \nL 86.327471 144.003494 \nL 86.623053 147.772621 \nL 87.691215 139.319435 \nL 87.695907 139.418884 \nL 87.810073 140.811174 \nL 87.813201 139.91613 \nL 87.816329 139.219986 \nL 87.846044 140.612275 \nL 87.977413 140.811174 \nL 87.986797 141.407869 \nL 87.993053 141.109521 \nL 88.429388 139.518333 \nL 88.437208 139.617783 \nL 88.445028 139.91613 \nL 101.036203 141.109521 \nL 101.040895 140.512826 \nL 101.205107 138.523841 \nL 101.208235 138.62329 \nL 101.632059 137.927145 \nL 101.639879 138.126044 \nL 101.658646 137.628798 \nL 102.069959 137.33045 \nL 102.074651 136.733755 \nL 102.259194 137.131552 \nL 102.382744 135.440914 \nL 102.409331 135.639813 \nL 102.551648 136.833204 \nL 103.275746 134.74477 \nL 103.438395 136.03761 \nL 103.577584 136.03761 \nL 103.597915 136.534856 \nL 103.610427 135.739262 \nL 104.210975 136.833204 \nL 104.47997 138.225493 \nL 104.797447 134.545871 \nL 104.803703 134.74477 \nL 105.408943 133.054132 \nL 105.410507 132.556886 \nL 105.523109 132.457437 \nL 105.54344 133.253031 \nL 105.702961 131.065147 \nL 106.312893 128.877264 \nL 106.599091 130.965698 \nL 106.602219 130.170104 \nL 106.613167 130.369003 \nL 106.738281 129.47396 \nL 106.7461 129.971206 \nL 106.874342 130.7668 \nL 106.911877 129.37451 \nL 107.363851 131.562394 \nL 107.495221 130.468452 \nL 107.510861 131.164597 \nL 107.512424 131.761292 \nL 107.513988 131.661843 \nL 107.65787 131.264046 \nL 107.664125 130.567901 \nL 107.804879 131.860741 \nL 107.811135 131.462944 \nL 107.925301 131.164597 \nL 108.544616 130.7668 \nL 108.715084 133.054132 \nL 108.843326 133.153582 \nL 108.980952 129.871756 \nL 109.579936 127.783322 \nL 109.908361 127.683873 \nL 110.050678 131.661843 \nL 110.483886 133.054132 \nL 110.487013 132.755785 \nL 110.5136 130.866249 \nL 110.516728 131.065147 \nL 110.630895 134.844219 \nL 110.782596 133.35248 \nL 110.802927 133.601103 \nL 110.806055 134.64532 \nL 110.81231 134.197799 \nL 110.960883 131.562394 \nL 111.533281 130.269553 \nL 111.534845 130.468452 \nL 111.702185 132.556886 \nL 111.705313 131.960191 \nL 111.828863 131.065147 \nL 111.84763 131.960191 \nL 111.85545 131.363495 \nL 111.980564 126.391033 \nL 111.982128 126.490482 \nL 112.604571 130.866249 \nL 112.732813 130.369003 \nL 112.734376 130.468452 \nL 112.737504 131.562394 \nL 112.91892 128.181119 \nL 113.186351 130.965698 \nL 113.21763 130.070655 \nL 114.690849 126.78883 \nL 114.698669 126.888279 \nL 114.708052 126.192134 \nL 114.989559 130.866249 \nL 115.00989 130.269553 \nL 115.286705 131.065147 \nL 115.769959 132.357988 \nL 116.182835 129.47396 \nL 116.339228 129.175612 \nL 116.935084 128.479467 \nL 117.266637 130.866249 \nL 117.839034 130.567901 \nL 117.862493 131.860741 \nL 117.868749 131.065147 \nL 118.139308 133.551379 \nL 118.473988 138.026595 \nL 119.072972 129.871756 \nL 119.074536 131.363495 \nL 119.188703 136.03761 \nL 119.224673 135.540364 \nL 120.102036 140.910623 \nL 120.119239 139.021087 \nL 120.259993 141.706217 \nL 120.275632 140.811174 \nL 120.392927 139.021087 \nL 120.419513 140.214478 \nL 120.990347 138.822189 \nL 121.013806 139.319435 \nL 122.219593 136.236508 \nL 122.225849 136.733755 \nL 122.490153 137.231001 \nL 122.502664 136.634305 \nL 122.519867 138.225493 \nL 122.527687 137.33045 \nL 122.671568 138.62329 \nL 123.276808 136.733755 \nL 123.426945 134.148074 \nL 123.541111 134.197799 \nL 123.542675 134.346973 \nL 123.573954 133.054132 \nL 123.722527 132.855234 \nL 123.728783 133.153582 \nL 124.144787 135.242016 \nL 124.291796 133.750277 \nL 124.312127 133.849726 \nL 124.446625 134.844219 \nL 124.779742 138.424392 \nL 125.192618 138.722739 \nL 125.214513 138.225493 \nL 125.228589 139.617783 \nL 125.345883 138.62329 \nL 125.375598 139.418884 \nL 125.499148 139.518333 \nL 125.658668 142.203463 \nL 125.669616 141.905115 \nL 125.821317 141.507318 \nL 126.393714 140.413377 \nL 126.398406 139.518333 \nL 126.417173 139.617783 \nL 126.542287 138.921638 \nL 126.579821 140.711724 \nL 126.581385 140.612275 \nL 126.726831 137.33045 \nL 126.731522 137.529349 \nL 126.851945 138.126044 \nL 126.876968 138.822189 \nL 126.881659 138.62329 \nL 127.446237 134.74477 \nL 127.450929 135.341465 \nL 127.474388 136.137059 \nL 127.482207 135.739262 \nL 127.596374 134.844219 \nL 127.632344 135.242016 \nL 127.746511 135.043117 \nL 127.782481 133.849726 \nL 127.924799 134.148074 \nL 127.932618 133.949176 \nL 128.350187 133.551379 \nL 128.362698 134.247523 \nL 128.354878 133.451929 \nL 128.379901 133.800002 \nL 128.647333 131.661843 \nL 128.650461 131.860741 \nL 128.659844 132.556886 \nL 128.677047 131.164597 \nL 128.794342 130.965698 \nL 128.830312 132.159089 \nL 128.953862 131.960191 \nL 128.983577 130.7668 \nL 129.548155 131.462944 \nL 129.549719 131.065147 \nL 129.584125 132.656335 \nL 129.695164 131.164597 \nL 129.717059 131.661843 \nL 129.879707 133.054132 \nL 129.884399 132.755785 \nL 130.006385 132.457437 \nL 130.007949 132.556886 \nL 130.017333 133.551379 \nL 130.020461 133.451929 \nL 130.445849 132.357988 \nL 130.447413 132.457437 \nL 130.630392 128.777815 \nL 130.747687 128.877264 \nL 130.902515 127.584424 \nL 130.935358 127.882772 \nL 131.504627 129.971206 \nL 131.526522 130.66735 \nL 131.534342 130.319278 \nL 131.648509 130.170104 \nL 131.664148 130.567901 \nL 131.681351 130.170104 \nL 131.797082 129.076163 \nL 131.823668 129.37451 \nL 131.973805 130.418727 \nL 131.980061 131.065147 \nL 131.981625 131.015423 \nL 132.558714 129.275061 \nL 132.561842 129.37451 \nL 132.585301 129.971206 \nL 132.586865 129.772307 \nL 132.716671 130.02093 \nL 133.179593 126.092685 \nL 133.63626 125.39654 \nL 133.786397 126.689381 \nL 133.930278 125.49599 \nL 134.088235 125.49599 \nL 134.199273 125.098193 \nL 134.806077 124.1037 \nL 134.949958 124.700396 \nL 134.960906 123.805352 \nL 134.965598 123.904802 \nL 135.12199 124.203149 \nL 135.250232 127.186627 \nL 135.25336 126.589931 \nL 135.286203 126.689381 \nL 135.853908 126.987728 \nL 135.889878 128.578916 \nL 136.036887 124.899294 \nL 136.154182 126.092685 \nL 136.163566 127.484975 \nL 136.182333 127.087178 \nL 136.753166 126.987728 \nL 136.75473 126.888279 \nL 136.759422 127.584424 \nL 136.764113 127.484975 \nL 137.051876 126.092685 \nL 137.059696 126.291584 \nL 137.212961 128.877264 \nL 137.355278 127.584424 \nL 137.367789 127.882772 \nL 137.375609 128.578916 \nL 137.386556 127.783322 \nL 137.391248 127.783322 \nL 137.804125 125.694888 \nL 137.822892 125.794337 \nL 137.973029 125.595439 \nL 138.104399 126.192134 \nL 138.274867 121.51802 \nL 138.288942 121.915817 \nL 138.29207 122.015266 \nL 138.425004 122.015266 \nL 138.442207 121.816368 \nL 138.859776 121.120223 \nL 138.892618 120.22518 \nL 139.158486 122.711411 \nL 139.307059 122.611961 \nL 139.324262 121.020774 \nL 139.343029 121.418571 \nL 139.454068 122.214164 \nL 139.909171 124.203149 \nL 139.938885 121.816368 \nL 140.059307 122.114715 \nL 140.212572 120.324629 \nL 140.242287 120.523527 \nL 140.359581 121.915817 \nL 140.372093 121.120223 \nL 140.539433 122.114715 \nL 140.967949 122.214164 \nL 140.98046 122.114715 \nL 141.265095 119.827383 \nL 141.266659 120.026281 \nL 141.29481 121.219672 \nL 141.407412 120.921324 \nL 141.413668 121.120223 \nL 141.581008 121.120223 \nL 142.029855 122.214164 \nL 142.178428 121.617469 \nL 142.189376 121.716918 \nL 142.195632 122.214164 \nL 142.31449 122.313614 \nL 142.316054 122.214164 \nL 142.32231 123.009758 \nL 142.330129 122.512512 \nL 142.464627 122.910309 \nL 142.466191 122.114715 \nL 142.495906 123.904802 \nL 143.068303 121.915817 \nL 143.08707 122.313614 \nL 143.088634 122.015266 \nL 143.392036 124.949019 \nL 143.395164 125.794337 \nL 143.518714 123.606454 \nL 143.657903 123.805352 \nL 143.661031 123.507005 \nL 143.686054 123.705903 \nL 144.111442 121.219672 \nL 144.417972 117.937847 \nL 144.427355 118.633992 \nL 144.591568 118.932339 \nL 144.708862 118.633992 \nL 144.74796 118.733441 \nL 145.163965 118.534542 \nL 145.190552 117.440601 \nL 145.192116 117.639499 \nL 145.335997 116.495833 \nL 145.343817 116.943354 \nL 145.467367 118.435093 \nL 145.478314 117.440601 \nL 145.609684 116.943354 \nL 145.642527 119.031789 \nL 145.773896 117.838398 \nL 146.210232 115.849413 \nL 146.218052 116.048311 \nL 146.24933 117.042804 \nL 146.518326 113.363182 \nL 146.668463 114.357674 \nL 146.685666 113.760979 \nL 146.691922 113.363182 \nL 146.699741 113.412906 \nL 146.849878 112.766486 \nL 147.262755 112.567588 \nL 147.300289 111.473646 \nL 147.419148 112.26924 \nL 147.434787 111.374197 \nL 147.450426 111.62282 \nL 147.736625 116.744456 \nL 148.351248 113.661529 \nL 148.613988 111.970892 \nL 148.639011 112.865935 \nL 148.651522 112.468138 \nL 148.918953 109.783009 \nL 148.951796 110.081356 \nL 149.546088 110.678052 \nL 149.702481 113.363182 \nL 149.821339 112.865935 \nL 149.999627 110.379704 \nL 150.001191 110.578603 \nL 150.425015 110.578603 \nL 150.5861 110.280255 \nL 150.590791 110.479153 \nL 150.726853 110.479153 \nL 150.895757 109.186313 \nL 150.903577 109.285762 \nL 151.05215 111.573095 \nL 151.624547 111.374197 \nL 151.629239 110.87695 \nL 151.643314 111.175298 \nL 151.766864 110.180806 \nL 151.771556 111.075849 \nL 151.918565 114.556572 \nL 152.065574 114.258225 \nL 152.104673 112.368689 \nL 152.522241 109.484661 \nL 152.542572 110.180806 \nL 152.686453 110.479153 \nL 152.700529 111.075849 \nL 152.96796 109.783009 \nL 152.972652 109.981907 \nL 153.138428 109.783009 \nL 153.571636 108.191821 \nL 153.5732 107.744299 \nL 153.601351 108.390719 \nL 153.878166 108.788516 \nL 153.906316 108.390719 \nL 154.029867 110.180806 \nL 154.040814 112.26924 \nL 154.203462 108.887965 \nL 154.625723 107.992922 \nL 154.638234 108.092371 \nL 154.924433 109.136589 \nL 154.949456 107.296777 \nL 155.223143 111.871443 \nL 155.673554 110.87695 \nL 155.822127 107.992922 \nL 155.823691 108.092371 \nL 155.842458 108.191821 \nL 155.844022 107.893473 \nL 155.9707 105.307793 \nL 155.980083 105.506691 \nL 156.122401 104.412749 \nL 156.123965 104.810546 \nL 156.133348 103.716605 \nL 156.289741 102.324315 \nL 156.303816 101.429272 \nL 156.758919 103.02046 \nL 156.869958 104.512199 \nL 156.877778 103.517706 \nL 156.904364 102.423764 \nL 156.909056 102.722112 \nL 157.031042 100.434779 \nL 157.20151 100.33533 \nL 157.326625 101.72762 \nL 157.80675 100.136432 \nL 157.936556 100.136432 \nL 157.941248 100.733127 \nL 157.956887 100.633678 \nL 158.235266 98.246896 \nL 158.246214 101.329823 \nL 158.260289 100.136432 \nL 158.856145 100.633678 \nL 158.860837 100.534229 \nL 158.984387 98.644693 \nL 159.27215 99.340838 \nL 159.295609 100.534229 \nL 159.311248 100.33533 \nL 160.040038 95.263419 \nL 160.046293 96.257911 \nL 160.20425 99.141939 \nL 160.208942 98.843592 \nL 160.355951 102.821561 \nL 160.362207 103.915503 \nL 160.482629 103.617155 \nL 160.501396 103.119909 \nL 160.504524 103.318808 \nL 160.934604 100.534229 \nL 160.962755 100.633678 \nL 161.098816 100.832576 \nL 161.227058 99.539736 \nL 161.405346 101.130924 \nL 161.988691 99.340838 \nL 162.00433 99.937533 \nL 162.581419 93.473332 \nL 162.60957 93.77168 \nL 163.03183 95.462317 \nL 163.038086 95.06452 \nL 163.177275 96.755157 \nL 163.644889 93.77168 \nL 163.660529 94.268926 \nL 164.22667 95.860114 \nL 164.228234 95.760665 \nL 164.229798 95.462317 \nL 164.250129 97.650201 \nL 164.259513 97.550751 \nL 164.528508 94.666723 \nL 164.545711 95.362868 \nL 164.562914 95.163969 \nL 164.711487 96.059013 \nL 165.283885 91.882144 \nL 165.287013 91.981593 \nL 165.440277 92.677738 \nL 165.466864 92.37939 \nL 165.73586 91.583796 \nL 165.762446 90.589304 \nL 166.197218 88.600319 \nL 166.334844 89.395913 \nL 166.367686 88.898667 \nL 166.635118 89.694261 \nL 166.647629 88.998116 \nL 166.66796 89.197015 \nL 166.79151 91.285449 \nL 167.235665 93.274434 \nL 167.26538 94.965071 \nL 167.268508 94.268926 \nL 167.384239 93.970578 \nL 167.392058 94.169477 \nL 167.393622 94.268926 \nL 167.40457 93.77168 \nL 167.409261 93.970578 \nL 167.531248 94.368375 \nL 167.542195 95.213694 \nL 167.559398 94.268926 \nL 167.568782 94.467825 \nL 167.707971 95.263419 \nL 167.712663 95.163969 \nL 168.286624 91.384898 \nL 168.288188 91.484347 \nL 168.441453 89.296464 \nL 168.618177 89.197015 \nL 168.619741 89.346188 \nL 168.755802 86.611334 \nL 168.880917 88.202522 \nL 168.920015 87.904174 \nL 169.370426 87.406928 \nL 169.640985 85.119595 \nL 169.792686 84.324001 \nL 170.382286 82.335017 \nL 170.385414 82.633364 \nL 170.396362 83.528407 \nL 170.546499 84.721798 \nL 170.557446 84.423451 \nL 170.68256 83.031161 \nL 170.69038 83.528407 \nL 170.721659 83.031161 \nL 170.859284 86.810233 \nL 171.010985 83.727306 \nL 171.437937 85.616842 \nL 171.583382 85.716291 \nL 171.606841 85.219045 \nL 171.62248 85.716291 \nL 171.903987 86.312986 \nL 171.922754 87.10858 \nL 172.038485 86.014639 \nL 172.072891 84.423451 \nL 172.488896 84.721798 \nL 172.518611 86.213537 \nL 172.523302 85.716291 \nL 172.642161 84.423451 \nL 172.659364 84.821248 \nL 172.784478 81.439973 \nL 172.79699 81.93722 \nL 172.823576 83.428958 \nL 172.934615 83.130611 \nL 173.089444 83.428958 \nL 173.112903 82.335017 \nL 173.122286 82.533915 \nL 173.539855 81.539423 \nL 173.546111 81.638872 \nL 173.572697 80.942727 \nL 173.688428 80.942727 \nL 173.699375 81.93722 \nL 173.724398 81.638872 \nL 173.985574 81.241075 \nL 174.016853 83.428958 \nL 174.141967 83.428958 \nL 174.586122 83.23006 \nL 174.587686 83.627857 \nL 174.592378 83.130611 \nL 174.88796 88.600319 \nL 174.925494 87.804725 \nL 175.070939 83.329509 \nL 175.638645 81.83777 \nL 175.676179 81.141626 \nL 175.824752 77.660902 \nL 176.237629 79.450988 \nL 176.239193 79.152641 \nL 176.700551 82.136118 \nL 176.709935 82.832263 \nL 176.72401 82.434466 \nL 176.838177 81.042176 \nL 176.871019 81.539423 \nL 177.166601 86.511885 \nL 177.174421 86.114088 \nL 177.310483 89.992609 \nL 177.738999 86.909682 \nL 177.75151 88.401421 \nL 177.765585 87.804725 \nL 177.896955 88.152797 \nL 177.903211 88.053348 \nL 178.064295 92.777187 \nL 178.075243 91.981593 \nL 178.18941 92.279941 \nL 178.339547 88.351696 \nL 178.34111 88.550594 \nL 178.345802 89.246739 \nL 178.358314 88.053348 \nL 178.378645 88.699768 \nL 178.813416 86.909682 \nL 179.098051 86.810233 \nL 179.24506 87.009131 \nL 179.246624 86.909682 \nL 179.248188 86.511885 \nL 179.271647 87.904174 \nL 179.423348 87.605827 \nL 179.42804 88.202522 \nL 179.864375 85.716291 \nL 179.870631 85.81574 \nL 180.028588 87.009131 \nL 180.291327 86.014639 \nL 180.477435 83.926204 \nL 181.054524 84.721798 \nL 181.203097 84.025654 \nL 181.207789 84.324001 \nL 181.37982 86.511885 \nL 181.517446 84.821248 \nL 182.128941 81.83777 \nL 182.408884 77.8598 \nL 182.410448 77.95925 \nL 182.426088 78.555945 \nL 182.576225 75.870815 \nL 182.993793 76.268612 \nL 183.031327 74.478526 \nL 183.164261 75.174671 \nL 183.173645 74.826598 \nL 183.181464 74.677425 \nL 183.183028 74.776874 \nL 183.328473 77.362554 \nL 183.333165 76.56696 \nL 183.444204 76.765859 \nL 183.445768 76.666409 \nL 183.606852 73.782381 \nL 183.620928 73.98128 \nL 184.196453 71.395599 \nL 184.199581 71.693947 \nL 184.233987 74.279628 \nL 184.377868 70.500556 \nL 184.496727 70.600005 \nL 184.509238 71.693947 \nL 184.52175 71.196701 \nL 184.676578 69.008817 \nL 184.679706 69.207716 \nL 185.100403 68.909368 \nL 185.122298 69.207716 \nL 185.130117 68.511571 \nL 185.405368 64.931398 \nL 185.421008 66.224239 \nL 185.431955 65.130297 \nL 185.546122 65.925891 \nL 185.553941 65.428645 \nL 185.558633 64.235254 \nL 185.561761 64.334703 \nL 186.149798 64.036355 \nL 186.296807 68.312673 \nL 186.299935 69.804411 \nL 186.31401 68.113774 \nL 186.335905 68.412122 \nL 186.446944 65.329195 \nL 186.471967 67.218731 \nL 186.783188 74.677425 \nL 187.197629 76.368062 \nL 187.20232 73.484034 \nL 187.236727 82.931712 \nL 187.383736 77.561453 \nL 187.3853 76.666409 \nL 187.386864 76.765859 \nL 187.499466 80.743829 \nL 187.685574 90.688753 \nL 187.831019 90.589304 \nL 188.250151 85.716291 \nL 188.251715 86.511885 \nL 188.287686 87.009131 \nL 188.423747 84.721798 \nL 188.698998 75.27412 \nL 188.700562 73.98128 \nL 188.706818 77.362554 \nL 188.738097 76.368062 \nL 188.866339 74.577975 \nL 188.888234 76.169163 \nL 189.452811 79.053191 \nL 189.454375 78.854293 \nL 189.457503 79.749336 \nL 189.465323 78.357047 \nL 189.470014 78.456496 \nL 189.627971 75.27412 \nL 189.638919 77.760351 \nL 189.767161 76.069714 \nL 189.789055 77.760351 \nL 189.936065 73.98128 \nL 190.355197 73.682932 \nL 190.358325 74.478526 \nL 190.689877 81.93722 \nL 190.814992 78.754844 \nL 190.822811 80.246582 \nL 190.830631 82.434466 \nL 190.952617 85.616842 \nL 190.990151 81.241075 \nL 191.421795 81.439973 \nL 191.584444 79.25209 \nL 191.851875 77.462003 \nL 191.853439 77.95925 \nL 191.880026 79.25209 \nL 191.890973 78.754844 \nL 192.014523 74.975772 \nL 192.61038 72.390092 \nL 192.630711 74.677425 \nL 192.752697 72.986787 \nL 192.754261 73.285135 \nL 193.658211 75.473019 \nL 193.670722 74.478526 \nL 193.692617 75.174671 \nL 193.80522 75.572468 \nL 194.138336 86.213537 \nL 194.554341 81.539423 \nL 194.559033 82.732814 \nL 194.56998 83.826755 \nL 194.591875 80.743829 \nL 194.593439 80.743829 \nL 194.718553 80.346032 \nL 194.86087 86.710783 \nL 195.004752 84.125103 \nL 194.889021 87.009131 \nL 195.006316 84.423451 \nL 195.03603 81.439973 \nL 195.611555 85.119595 \nL 195.630323 87.605827 \nL 195.758565 85.219045 \nL 195.929033 86.312986 \nL 195.944672 83.23006 \nL 196.076042 81.340524 \nL 196.67659 83.528407 \nL 196.693793 84.821248 \nL 196.994067 80.445481 \nL 196.995631 80.644379 \nL 197.109797 80.743829 \nL 197.137948 80.047684 \nL 197.294341 83.627857 \nL 197.295905 83.23006 \nL 197.708781 84.025654 \nL 197.882377 81.93722 \nL 197.885505 82.434466 \nL 198.043462 80.246582 \nL 198.192035 81.340524 \nL 198.318713 84.025654 \nL 198.346864 83.826755 \nL 198.765996 83.528407 \nL 198.911441 82.732814 \nL 198.913005 83.329509 \nL 198.941156 85.616842 \nL 198.920825 82.832263 \nL 198.947412 85.119595 \nL 199.06627 87.10858 \nL 199.388439 82.235567 \nL 199.391567 82.633364 \nL 199.813827 81.241075 \nL 199.815391 81.539423 \nL 199.973348 86.760508 \nL 199.985859 84.821248 \nL 200.109409 84.423451 \nL 200.118793 83.528407 \nL 200.148507 85.020146 \nL 200.264238 87.506377 \nL 200.270494 89.097565 \nL 200.284569 86.412436 \nL 200.295517 86.611334 \nL 200.412811 88.003624 \nL 200.426886 85.517392 \nL 200.863222 85.020146 \nL 200.899192 86.312986 \nL 201.312069 81.340524 \nL 201.335528 79.948235 \nL 201.479409 80.644379 \nL 201.484101 79.948235 \nL 202.06119 82.434466 \nL 202.064318 83.727306 \nL 202.086213 82.633364 \nL 202.39587 82.931712 \nL 202.533496 84.920697 \nL 202.963576 82.136118 \nL 202.968268 82.533915 \nL 202.997982 83.627857 \nL 203.146555 83.428958 \nL 203.151247 83.23006 \nL 203.271669 85.219045 \nL 203.292 83.926204 \nL 203.43901 84.721798 \nL 203.575071 83.428958 \nL 204.163108 86.710783 \nL 204.166236 86.114088 \nL 204.199078 89.495362 \nL 204.200642 88.998116 \nL 204.651053 84.125103 \nL 205.220322 81.93722 \nL 205.240653 82.732814 \nL 205.245345 82.633364 \nL 205.397046 80.147133 \nL 205.514341 80.346032 \nL 205.686373 83.031161 \nL 206.275973 83.031161 \nL 206.296304 83.528407 \nL 206.41829 83.528407 \nL 206.588758 85.020146 \nL 206.602834 84.920697 \nL 207.315984 93.373883 \nL 207.32224 94.467825 \nL 207.355083 91.484347 \nL 207.645973 94.467825 \nL 207.794546 92.180492 \nL 207.805494 93.274434 \nL 208.374763 96.257911 \nL 208.542103 98.992765 \nL 208.556178 100.33533 \nL 208.851761 94.666723 \nL 208.856452 94.865622 \nL 209.417902 98.545244 \nL 209.436669 98.147447 \nL 209.738507 99.04249 \nL 209.757274 99.340838 \nL 209.885516 96.158462 \nL 210.35313 93.572781 \nL 210.356258 93.672231 \nL 210.770699 95.263419 \nL 210.79103 94.268926 \nL 210.79885 94.766172 \nL 210.948987 94.268926 \nL 210.956806 94.368375 \nL 211.379067 96.059013 \nL 211.408781 95.362868 \nL 211.521384 95.760665 \nL 211.549535 93.274434 \nL 211.558918 93.373883 \nL 211.857628 96.35736 \nL 211.859192 95.462317 \nL 212.009329 92.677738 \nL 212.445665 94.666723 \nL 212.45974 94.965071 \nL 212.578598 89.992609 \nL 212.59111 90.589304 \nL 212.720916 89.992609 \nL 212.725608 90.489855 \nL 212.730299 90.987101 \nL 212.880436 89.893159 \nL 212.910151 90.092058 \nL 213.491932 91.08655 \nL 213.634249 89.893159 \nL 213.776567 90.290956 \nL 213.939215 94.666723 \nL 214.09248 92.677738 \nL 214.111247 93.274434 \nL 214.685208 90.987101 \nL 215.129363 95.06452 \nL 215.146566 94.865622 \nL 215.573519 96.158462 \nL 215.581338 95.860114 \nL 215.590722 97.351853 \nL 215.612617 96.655708 \nL 215.725219 97.849099 \nL 215.750242 96.954056 \nL 215.759626 96.35736 \nL 215.762754 96.556259 \nL 215.906635 103.816054 \nL 216.041133 100.534229 \nL 216.0599 101.329823 \nL 216.177194 103.02046 \nL 216.192834 101.827069 \nL 216.213165 99.639185 \nL 216.624477 98.943041 \nL 216.635425 99.340838 \nL 216.663576 98.545244 \nL 216.804329 95.362868 \nL 216.924751 95.263419 \nL 216.926315 95.462317 \nL 216.96385 94.169477 \nL 217.697331 89.694261 \nL 217.714534 90.092058 \nL 217.978838 90.489855 \nL 217.980402 90.390406 \nL 218.014808 89.197015 \nL 218.899991 97.351853 \nL 218.91563 96.854607 \nL 219.037617 100.733127 \nL 219.183062 100.285606 \nL 219.195573 101.230373 \nL 219.21434 100.235881 \nL 219.215904 100.633678 \nL 219.339455 100.186156 \nL 219.350402 101.926518 \nL 219.366041 101.230373 \nL 219.78361 102.324315 \nL 219.808633 103.219358 \nL 219.810197 103.169634 \nL 220.229329 99.141939 \nL 220.262171 99.241388 \nL 220.833005 100.434779 \nL 220.859591 101.329823 \nL 221.133279 97.74965 \nL 221.148918 96.556259 \nL 221.167685 96.954056 \nL 221.446064 93.970578 \nL 221.457012 94.965071 \nL 221.463267 94.965071 \nL 221.466395 94.567274 \nL 222.030973 95.760665 \nL 222.032537 96.059013 \nL 222.068507 95.362868 \nL 222.206133 94.368375 \nL 222.21708 94.666723 \nL 222.517354 97.849099 \nL 222.518918 97.351853 \nL 222.939614 95.760665 \nL 222.964637 95.860114 \nL 223.386897 103.816054 \nL 223.397845 105.307793 \nL 223.413484 105.009445 \nL 223.987445 106.89898 \nL 224.015596 106.799531 \nL 224.142274 107.992922 \nL 224.151658 107.495676 \nL 224.165733 107.097879 \nL 224.170425 108.191821 \nL 224.470699 115.650514 \nL 224.620836 110.180806 \nL 225.03684 113.959877 \nL 225.071247 113.164283 \nL 225.21982 109.285762 \nL 225.509146 116.943354 \nL 225.512274 116.446108 \nL 226.101875 112.865935 \nL 226.689911 122.611961 \nL 226.702422 119.926832 \nL 226.722753 120.722426 \nL 227.140322 118.932339 \nL 227.166909 123.109208 \nL 227.31861 120.523527 \nL 227.468747 115.252717 \nL 227.587605 114.656022 \nL 227.598553 111.075849 \nL 227.736178 106.401734 \nL 227.742434 108.490168 \nL 227.754945 110.87695 \nL 227.773712 109.186313 \nL 228.202228 109.186313 \nL 228.220995 108.390719 \nL 228.222559 108.490168 \nL 228.361749 108.589618 \nL 228.368005 109.683559 \nL 228.37426 108.788516 \nL 228.511886 106.302285 \nL 228.669843 111.075849 \nL 228.813724 115.153268 \nL 228.824671 113.860428 \nL 229.248495 116.346659 \nL 229.262571 115.849413 \nL 229.403324 112.26924 \nL 229.273518 116.446108 \nL 229.40958 113.263732 \nL 229.423655 114.556572 \nL 229.425219 113.959877 \nL 229.547206 113.860428 \nL 229.872502 107.794024 \nL 230.890619 114.755471 \nL 231.511498 111.573095 \nL 231.80708 107.794024 \nL 231.943142 109.086864 \nL 231.946269 108.788516 \nL 232.393552 103.318808 \nL 232.538998 103.517706 \nL 232.576532 107.893473 \nL 232.578096 107.694574 \nL 232.853347 114.755471 \nL 232.873678 112.070341 \nL 232.9941 110.777501 \nL 233.011304 111.274747 \nL 233.017559 113.064834 \nL 233.43982 114.85492 \nL 233.442947 115.352166 \nL 233.478918 115.053819 \nL 233.625927 112.567588 \nL 233.765116 108.887965 \nL 233.776064 110.280255 \nL 233.912126 110.479153 \nL 234.071646 112.965385 \nL 234.500162 112.865935 \nL 234.506418 112.716761 \nL 234.518929 114.954369 \nL 234.529877 115.749963 \nL 234.642479 113.263732 \nL 234.680014 114.656022 \nL 234.947445 115.839468 \nL 234.970904 119.031789 \nL 235.097582 116.943354 \nL 235.122605 118.136745 \nL 235.127297 118.83289 \nL 235.128861 118.435093 \nL 235.541737 116.744456 \nL 235.562068 119.827383 \nL 235.843575 119.429586 \nL 235.863906 117.54005 \nL 235.874854 118.335644 \nL 235.995276 117.838398 \nL 236.021863 119.529035 \nL 236.148541 119.429586 \nL 236.176692 117.937847 \nL 236.178256 118.534542 \nL 236.598952 117.937847 \nL 236.631794 120.12573 \nL 236.899226 120.12573 \nL 236.921121 119.031789 \nL 236.930504 119.529035 \nL 237.080641 123.407555 \nL 237.082205 122.81086 \nL 237.216703 116.446108 \nL 237.226087 117.142253 \nL 237.654603 116.943354 \nL 237.656167 117.142253 \nL 237.668678 116.14776 \nL 237.67337 116.346659 \nL 237.798484 116.545557 \nL 237.97208 111.175298 \nL 237.973644 111.970892 \nL 238.1316 110.280255 \nL 238.708689 112.667037 \nL 238.716509 112.468138 \nL 238.72902 112.26924 \nL 239.023039 107.694574 \nL 239.033986 108.29127 \nL 239.173176 108.689067 \nL 239.310801 105.208343 \nL 239.317057 105.009445 \nL 239.33426 105.60614 \nL 239.914477 108.390719 \nL 239.93168 109.783009 \nL 239.934808 108.887965 \nL 240.818427 105.904488 \nL 240.82781 105.307793 \nL 240.984203 104.213851 \nL 241.271966 98.843592 \nL 241.286041 99.340838 \nL 241.436178 100.136432 \nL 241.850619 100.235881 \nL 241.886589 98.943041 \nL 242.147765 96.755157 \nL 242.160276 97.252404 \nL 242.322924 100.932026 \nL 242.485573 102.324315 \nL 242.901577 102.125417 \nL 243.198724 100.534229 \nL 243.209671 101.130924 \nL 243.351988 102.523214 \nL 243.378575 100.832576 \nL 244.431098 99.937533 \nL 244.56716 96.45681 \nL 244.587491 97.152954 \nL 245.031646 94.268926 \nL 245.314717 97.053505 \nL 245.489876 99.838084 \nL 246.051326 97.74965 \nL 246.05289 97.948548 \nL 246.066965 100.285606 \nL 246.090424 98.644693 \nL 246.360984 97.053505 \nL 246.390698 97.252404 \nL 246.653438 104.213851 \nL 246.689408 104.014952 \nL 247.114797 99.738635 \nL 247.566771 99.440287 \nL 247.591794 99.241388 \nL 247.724728 95.959563 \nL 247.741931 96.45681 \nL 248.186086 94.070028 \nL 248.192342 93.572781 \nL 248.461338 95.263419 \nL 248.484797 93.174984 \nL 248.489488 93.672231 \nL 248.778815 98.147447 \nL 248.79289 99.04249 \nL 249.834465 95.462317 \nL 250.569511 90.191507 \nL 250.594534 91.484347 \nL 250.739979 89.992609 \nL 251.317068 88.898667 \nL 251.335835 88.202522 \nL 251.48128 89.097565 \nL 251.493792 88.699768 \nL 252.35708 89.992609 \nL 252.391486 90.489855 \nL 252.543187 87.506377 \nL 252.544751 88.003624 \nL 253.417422 88.998116 \nL 253.434625 88.799218 \nL 253.714568 89.495362 \nL 253.716132 89.395913 \nL 253.71926 89.097565 \nL 253.741155 89.992609 \nL 254.028917 89.992609 \nL 254.033609 90.290956 \nL 254.047685 89.495362 \nL 254.616954 90.241232 \nL 254.618518 90.539579 \nL 254.638849 89.395913 \nL 254.648232 89.694261 \nL 254.776474 89.097565 \nL 254.788986 87.506377 \nL 254.79055 88.003624 \nL 254.932867 90.290956 \nL 254.937559 90.191507 \nL 255.509956 94.070028 \nL 255.514648 93.572781 \nL 255.544363 92.279941 \nL 255.533415 93.672231 \nL 255.549054 92.677738 \nL 255.697627 98.047998 \nL 255.699191 97.550751 \nL 255.836817 97.053505 \nL 256.121452 102.224866 \nL 256.129271 101.329823 \nL 256.573427 107.893473 \nL 256.600013 107.296777 \nL 256.743895 103.517706 \nL 256.75015 103.816054 \nL 256.865881 104.213851 \nL 256.870573 103.716605 \nL 256.900287 103.816054 \nL 257.017582 103.517706 \nL 257.026965 102.821561 \nL 257.047296 104.213851 \nL 257.167719 107.097879 \nL 257.632205 108.689067 \nL 257.763575 107.893473 \nL 257.951246 107.893473 \nL 258.096691 111.374197 \nL 258.213986 109.484661 \nL 258.221805 110.9764 \nL 258.820789 108.987415 \nL 258.844248 109.385212 \nL 259.117936 106.700082 \nL 259.878004 105.108894 \nL 259.885824 105.208343 \nL 259.896771 104.711097 \nL 260.014066 105.307793 \nL 260.032833 106.99843 \nL 260.053164 106.700082 \nL 260.167331 106.600633 \nL 261.074408 101.230373 \nL 261.080664 101.72762 \nL 261.396577 103.716605 \nL 261.978358 98.545244 \nL 261.987741 98.744142 \nL 262.297399 94.169477 \nL 262.902639 96.556259 \nL 263.049648 98.744142 \nL 263.944214 92.677738 \nL 264.230413 95.661216 \nL 264.233541 95.362868 \nL 264.549454 96.854607 \nL 264.551018 96.705433 \nL 265.157821 98.843592 \nL 265.282935 96.556259 \nL 265.454967 98.147447 \nL 266.050824 96.556259 \nL 266.190013 96.556259 \nL 266.351098 97.550751 \nL 266.629477 96.755157 \nL 266.659191 97.948548 \nL 267.07676 97.550751 \nL 267.083015 97.152954 \nL 267.101782 97.550751 \nL 267.230024 97.252404 \nL 267.231588 96.954056 \nL 267.23628 97.152954 \nL 267.672616 97.351853 \nL 268.301314 100.33533 \nL 268.309134 100.186156 \nL 268.460835 102.423764 \nL 268.595333 101.031475 \nL 268.610972 106.700082 \nL 269.183369 113.56208 \nL 269.355401 111.473646 \nL 269.361657 111.672544 \nL 269.488335 112.468138 \nL 269.491463 112.070341 \nL 269.505538 110.479153 \nL 269.658803 108.490168 \nL 269.791737 110.678052 \nL 269.812068 110.280255 \nL 270.262479 111.672544 \nL 270.547113 115.451616 \nL 270.856771 111.374197 \nL 271.297798 109.385212 \nL 271.304054 110.081356 \nL 271.580869 108.788516 \nL 271.743518 110.678052 \nL 271.760721 110.280255 \nL 272.334682 112.26924 \nL 272.347193 111.771994 \nL 272.350321 112.169791 \nL 272.664671 110.081356 \nL 273.715629 105.009445 \nL 273.828232 102.125417 \nL 274.42878 101.72762 \nL 274.4366 101.329823 \nL 274.444419 101.62817 \nL 274.599248 101.528721 \nL 274.915161 99.141939 \nL 275.066862 98.047998 \nL 275.814419 101.130924 \nL 277.612935 103.517706 \nL 277.769328 105.009445 \nL 277.911645 107.694574 \nL 278.2041 105.009445 \nL 278.668586 105.556416 \nL 279.114305 104.412749 \nL 279.266006 100.136432 \nL 280.17152 98.147447 \nL 280.321657 99.838084 \nL 281.222479 97.152954 \nL 281.355412 96.556259 \nL 281.360104 96.35736 \nL 281.36636 96.556259 \nL 281.973164 96.257911 \nL 282.112353 96.854607 \nL 282.409499 93.871129 \nL 283.022558 89.594812 \nL 283.15862 90.589304 \nL 283.920253 91.384898 \nL 283.921816 91.186 \nL 283.924944 91.683246 \nL 284.050058 92.279941 \nL 284.35346 94.467825 \nL 284.373791 94.070028 \nL 284.375355 94.169477 \nL 284.968084 92.180492 \nL 284.971211 92.279941 \nL 284.975903 92.578289 \nL 287.223266 97.252404 \nL 287.226394 96.854607 \nL 291.696097 81.141626 \nL 291.711736 81.042176 \nL 291.849362 83.23006 \nL 291.858746 83.031161 \nL 291.872821 84.025654 \nL 291.875949 84.025654 \nL 292.332615 85.716291 \nL 292.446782 85.616842 \nL 292.463985 84.821248 \nL 292.476497 85.219045 \nL 292.606303 85.020146 \nL 292.922216 80.843278 \nL 292.928472 81.241075 \nL 293.350732 79.152641 \nL 293.380446 77.163656 \nL 293.682284 80.942727 \nL 293.683848 80.743829 \nL 293.974739 77.263105 \nL 294.58467 82.533915 \nL 294.734807 81.241075 \nL 294.859921 85.81574 \nL 294.884944 83.23006 \nL 295.596531 93.075535 \nL 295.634065 90.788203 \nL 295.746668 89.445638 \nL 295.77951 89.893159 \nL 295.917136 95.163969 \nL 295.935903 93.174984 \nL 296.073529 98.346345 \nL 296.082912 98.047998 \nL 296.52394 95.06452 \nL 296.536451 95.661216 \nL 296.833597 88.50087 \nL 296.836725 88.799218 \nL 297.127615 90.788203 \nL 297.135435 90.589304 \nL 297.576462 89.79371 \nL 297.728163 86.511885 \nL 298.779122 87.406928 \nL 298.785378 87.009131 \nL 298.788506 87.10858 \nL 299.221713 88.50087 \nL 299.673688 97.849099 \nL 299.689328 97.053505 \nL 299.800366 95.263419 \nL 299.80975 96.755157 \nL 299.831645 99.539736 \nL 299.839465 99.340838 \nL 299.986474 97.252404 \nL 300.130355 101.230373 \nL 300.702752 105.60614 \nL 301.013974 98.943041 \nL 301.165675 98.644693 \nL 301.189134 102.025967 \nL 301.778734 121.020774 \nL 301.791245 119.529035 \nL 301.910104 114.258225 \nL 301.930435 115.650514 \nL 302.074316 120.424078 \nL 302.089955 119.429586 \nL 302.236965 145.087491 \nL 302.391793 130.7668 \nL 302.828129 148.966012 \nL 302.829693 148.866563 \nL 302.842204 150.756098 \nL 302.957935 147.474273 \nL 303.131531 157.319749 \nL 303.255081 157.021401 \nL 303.403654 145.485288 \nL 303.405218 147.87207 \nL 303.442752 152.49646 \nL 303.854065 154.037923 \nL 303.86814 158.811487 \nL 303.877524 153.441228 \nL 303.893163 154.833517 \nL 304.018277 143.695202 \nL 304.040172 144.988042 \nL 304.157467 141.407869 \nL 304.187181 135.043117 \nL 304.193437 136.733755 \nL 304.315423 133.054132 \nL 304.326371 133.650828 \nL 304.52499 141.706217 \nL 304.905024 138.921638 \nL 304.944122 137.429899 \nL 305.088003 136.335958 \nL 305.241268 143.496303 \nL 305.244396 143.098506 \nL 305.372638 138.324942 \nL 305.386713 139.617783 \nL 305.514955 138.523841 \nL 305.533722 141.606768 \nL 305.54467 140.612275 \nL 306.112375 128.08167 \nL 306.145218 130.170104 \nL 306.292227 128.877264 \nL 306.445492 129.175612 \nL 307.030401 129.971206 \nL 307.194613 124.203149 \nL 307.313471 129.125887 \nL 307.325983 129.076163 \nL 307.471428 126.092685 \nL 307.496451 126.888279 \nL 308.075104 123.009758 \nL 308.674088 127.087178 \nL 309.298095 121.418571 \nL 309.448232 116.346659 \nL 310.183277 127.087178 \nL 310.494499 123.705903 \nL 310.49919 124.203149 \nL 310.799464 118.83289 \nL 311.218597 119.628484 \nL 311.2358 119.031789 \nL 311.364042 118.534542 \nL 311.373426 117.341151 \nL 311.400012 119.926832 \nL 311.520435 118.83289 \nL 311.536074 121.120223 \nL 311.700286 120.622977 \nL 312.300834 114.85492 \nL 312.422821 115.451616 \nL 312.450971 117.042804 \nL 312.601108 114.656022 \nL 312.898254 122.413063 \nL 312.901382 122.015266 \nL 313.492547 116.048311 \nL 313.634864 118.335644 \nL 313.652067 117.738948 \nL 313.774053 116.14776 \nL 314.387113 110.379704 \nL 314.552889 105.506691 \nL 314.703026 100.733127 \nL 314.984533 97.849099 \nL 314.99548 98.644693 \nL 315.750857 98.445795 \nL 316.052695 105.407242 \nL 316.645423 104.611648 \nL 316.646987 104.3133 \nL 316.653243 104.810546 \nL 316.654807 104.512199 \nL 316.772101 101.72762 \nL 316.804944 102.224866 \nL 316.955081 100.932026 \nL 317.069247 99.141939 \nL 317.543117 98.744142 \nL 317.554065 99.639185 \nL 317.82306 99.340838 \nL 317.852775 100.036982 \nL 318.00604 98.843592 \nL 318.153049 101.230373 \nL 319.053871 94.517549 \nL 320.068859 81.241075 \nL 320.253403 83.826755 \nL 320.705377 84.224552 \nL 320.969681 83.23006 \nL 320.996268 83.727306 \nL 321.410709 87.20803 \nL 321.412272 85.915189 \nL 321.435731 87.904174 \nL 321.440423 86.511885 \nL 321.748517 83.528407 \nL 321.903345 80.346032 \nL 322.051919 84.125103 \nL 322.463231 85.915189 \nL 322.466359 84.672074 \nL 322.475743 84.821248 \nL 322.796348 82.036669 \nL 322.955868 82.931712 \nL 323.102877 79.152641 \nL 323.401587 85.119595 \nL 323.406279 84.324001 \nL 324.005263 79.749336 \nL 324.146017 75.771366 \nL 324.311793 75.075222 \nL 324.906085 79.25209 \nL 325.490994 77.561453 \nL 326.255754 77.362554 \nL 326.258882 76.56696 \nL 326.401199 79.25209 \nL 327.278562 71.594498 \nL 327.614807 71.196701 \nL 328.037067 77.760351 \nL 328.05427 76.964757 \nL 328.215355 72.191193 \nL 328.640743 79.649887 \nL 329.263186 81.141626 \nL 329.396119 80.047684 \nL 330.315708 75.27412 \nL 330.767683 78.854293 \nL 331.810822 87.904174 \nL 332.719464 78.555945 \nL 332.85709 80.942727 \nL 333.91274 72.390092 \nL 335.532969 71.29615 \nL 335.53766 71.345875 \nL 335.557991 69.605513 \nL 335.683106 70.301658 \nL 335.686233 69.804411 \nL 335.689361 69.605513 \nL 335.703437 70.699455 \nL 335.719076 70.202208 \nL 335.869213 69.903861 \nL 335.988071 70.798904 \nL 336.583927 71.495049 \nL 336.585491 71.395599 \nL 336.755959 76.765859 \nL 336.768471 76.666409 \nL 337.057797 79.152641 \nL 337.659909 73.533758 \nL 337.663037 73.98128 \nL 337.820994 65.627543 \nL 338.535708 54.787575 \nL 338.690537 62.345718 \nL 338.995503 59.362241 \nL 338.997067 59.561139 \nL 339.023653 62.743515 \nL 339.025217 62.544616 \nL 339.156587 59.561139 \nL 339.591359 55.782068 \nL 339.736804 58.268299 \nL 339.905708 55.782068 \nL 339.922911 56.080415 \nL 339.926039 57.472705 \nL 340.637626 52.201895 \nL 340.664213 53.295836 \nL 341.688585 55.185372 \nL 342.741108 47.428331 \nL 342.775514 47.925577 \nL 342.928779 48.124476 \nL 343.229053 46.135491 \nL 343.810834 49.118968 \nL 343.948459 48.323374 \nL 343.953151 48.422823 \nL 343.979738 47.328882 \nL 344.280012 43.848158 \nL 344.86492 46.931085 \nL 344.999418 48.82062 \nL 345.002546 48.323374 \nL 345.17145 45.837143 \nL 345.180834 46.23494 \nL 345.931519 50.909055 \nL 346.192694 42.953115 \nL 346.946507 37.383957 \nL 346.973094 40.367434 \nL 347.096644 35.69332 \nL 347.101336 35.892218 \nL 347.273368 34.698827 \nL 347.39379 34.997175 \nL 348.153859 24.157207 \nL 348.169498 25.947294 \nL 348.183573 25.251149 \nL 348.294612 23.560512 \nL 348.318071 24.555004 \nL 348.483847 22.566019 \nL 349.195434 19.582542 \nL 349.214201 21.372628 \nL 349.347135 16.101818 \nL 349.645845 18.389151 \nL 349.677124 16.400166 \nL 349.684943 16.698514 \n\" clip-path=\"url(#p64b63cafdb)\" style=\"fill: none; stroke: #1f77b4; stroke-width: 1.5; stroke-linecap: square\"/>\n   </g>\n   <g id=\"line2d_16\">\n    <path d=\"M 45.321307 115.650514 \nL 45.325999 117.341151 \nL 45.349458 114.187187 \nL 45.657551 104.866836 \nL 46.552117 117.091027 \nL 46.833624 118.174993 \nL 46.982197 117.198728 \nL 47.459195 116.903364 \nL 48.489823 106.482133 \nL 48.497642 105.835309 \nL 48.510154 106.702349 \nL 48.654035 107.670084 \nL 48.77133 107.349819 \nL 48.797916 109.906005 \nL 48.929286 108.223762 \nL 49.085679 111.41203 \nL 49.526706 107.461461 \nL 49.531398 108.315769 \nL 49.537654 108.953179 \nL 49.561113 108.107784 \nL 49.831672 111.19398 \nL 49.855131 110.36332 \nL 50.135074 106.249869 \nL 50.160097 106.466068 \nL 50.73875 105.818626 \nL 50.885759 101.786584 \nL 50.910782 103.688514 \nL 51.023384 102.694757 \nL 51.028076 103.362645 \nL 51.051535 104.357075 \nL 51.186033 104.247255 \nL 51.189161 103.58774 \nL 51.21262 103.69964 \nL 52.255759 89.51915 \nL 52.262014 86.546473 \nL 52.263578 86.926662 \nL 52.832848 86.800298 \nL 52.859435 84.643701 \nL 52.864126 80.914945 \nL 53.148761 97.276955 \nL 53.287951 95.993314 \nL 53.305154 94.576455 \nL 53.314537 95.172785 \nL 53.880679 87.745336 \nL 53.899446 86.359678 \nL 53.915085 86.742103 \nL 54.337345 87.884575 \nL 54.338909 87.758734 \nL 54.35924 84.973482 \nL 55.416455 95.358255 \nL 55.837151 94.406097 \nL 55.851227 93.687195 \nL 55.866866 93.809957 \nL 56.017003 97.284946 \nL 56.315713 101.707654 \nL 56.317277 100.463688 \nL 58.117357 85.156858 \nL 58.262802 90.066739 \nL 58.536489 91.557415 \nL 58.567768 98.209451 \nL 58.569332 97.508528 \nL 59.011923 101.487401 \nL 59.013487 102.170275 \nL 59.019743 101.604341 \nL 59.133909 102.400286 \nL 59.16988 100.815167 \nL 59.28561 108.507545 \nL 59.320017 106.473074 \nL 59.434183 107.346791 \nL 59.438875 107.129637 \nL 59.440439 105.606825 \nL 59.470154 109.750684 \nL 60.069138 108.153977 \nL 60.220839 105.882477 \nL 60.350644 106.102327 \nL 60.492962 107.419048 \nL 61.106021 109.04722 \nL 61.12166 109.582685 \nL 61.3844 109.582685 \nL 61.421934 107.549551 \nL 62.147596 111.236427 \nL 62.294606 108.385231 \nL 62.310245 107.635876 \nL 62.322756 108.935597 \nL 62.446307 109.36455 \nL 62.472893 106.693144 \nL 62.748144 104.390692 \nL 62.755964 104.724752 \nL 63.348692 110.033501 \nL 63.35182 109.927179 \nL 63.365896 111.736251 \nL 63.373715 110.791024 \nL 63.487882 112.164553 \nL 63.492574 111.643616 \nL 63.516033 109.95953 \nL 63.520724 110.173843 \nL 63.638019 110.280055 \nL 63.644275 109.110114 \nL 63.659914 111.253324 \nL 63.672425 110.631806 \nL 64.251078 104.060651 \nL 64.254206 104.730994 \nL 64.571683 102.61822 \nL 64.712437 103.070768 \nL 64.724948 101.033366 \nL 65.444354 102.866965 \nL 65.45061 102.868312 \nL 65.475633 101.051418 \nL 65.739937 103.457841 \nL 65.758704 105.148744 \nL 66.343612 106.368176 \nL 66.356124 105.273925 \nL 66.36238 106.489372 \nL 66.371763 105.610972 \nL 66.676729 103.951752 \nL 66.953544 101.150264 \nL 67.544708 102.295723 \nL 67.561911 101.727631 \nL 67.571295 102.639544 \nL 67.572859 102.413186 \nL 67.871569 88.458534 \nL 67.877825 88.585381 \nL 68.594103 84.018928 \nL 68.600359 86.118782 \nL 68.62851 85.737257 \nL 68.742676 85.737257 \nL 68.75206 85.866814 \nL 68.753624 85.478524 \nL 68.758316 81.58416 \nL 68.778647 84.4141 \nL 69.071101 76.22795 \nL 69.078921 77.639498 \nL 69.490233 79.017567 \nL 69.51682 77.400105 \nL 69.529332 79.879035 \nL 69.671649 84.369104 \nL 69.679469 83.451176 \nL 69.942208 88.997046 \nL 69.970359 88.11288 \nL 70.090781 85.806535 \nL 70.092345 87.623433 \nL 70.128316 85.180329 \nL 70.129879 85.180329 \nL 70.841466 91.570327 \nL 70.849286 91.446081 \nL 70.85085 90.575519 \nL 70.875873 92.071628 \nL 70.877437 91.947862 \nL 70.991603 90.337358 \nL 70.993167 91.717259 \nL 71.008806 91.967042 \nL 71.011934 91.347664 \nL 71.592151 84.377146 \nL 71.598407 83.491098 \nL 71.631249 87.470267 \nL 71.753236 85.925168 \nL 71.779822 85.280114 \nL 71.781386 86.455085 \nL 72.652494 74.758483 \nL 72.660313 75.605411 \nL 72.666569 77.432564 \nL 72.682208 75.629648 \nL 72.824526 78.426193 \nL 72.832345 77.883509 \nL 72.966843 74.556388 \nL 72.969971 75.123073 \nL 73.132619 65.893478 \nL 73.243658 68.005878 \nL 73.268681 66.519853 \nL 73.282756 64.561075 \nL 73.697197 65.474213 \nL 73.715964 62.442077 \nL 73.733167 64.759001 \nL 73.847334 66.128242 \nL 73.870793 64.470757 \nL 73.883304 65.385488 \nL 74.02093 63.565953 \nL 74.027185 62.03163 \nL 74.177322 66.795927 \nL 74.183578 64.688658 \nL 74.31964 55.424335 \nL 74.333715 56.559716 \nL 74.896729 62.200904 \nL 74.90142 61.890741 \nL 75.065633 49.976382 \nL 75.082836 54.98053 \nL 75.0844 54.817406 \nL 75.195439 54.980711 \nL 75.198567 54.491338 \nL 75.20795 58.742216 \nL 75.234537 55.699072 \nL 75.384674 63.10075 \nL 75.949252 60.469835 \nL 75.985222 63.144724 \nL 76.100952 61.75583 \nL 76.116592 65.021846 \nL 76.135359 62.127706 \nL 76.435633 73.304478 \nL 76.853201 70.862422 \nL 76.871968 69.249429 \nL 77.004902 66.143167 \nL 77.184754 67.655526 \nL 77.309868 70.648101 \nL 77.319251 69.6218 \nL 77.449057 70.507188 \nL 78.077756 59.656335 \nL 78.08714 60.607404 \nL 78.205998 64.544248 \nL 78.362391 55.674216 \nL 78.367083 55.837227 \nL 78.387414 58.60247 \nL 78.50158 59.081834 \nL 78.534423 60.988279 \nL 79.127151 70.507848 \nL 79.138098 69.336891 \nL 79.258521 73.638787 \nL 79.285108 73.494936 \nL 79.403966 74.358942 \nL 79.40553 73.643434 \nL 79.411786 72.491593 \nL 79.432117 73.650208 \nL 79.438372 72.930233 \nL 80.004514 76.689778 \nL 80.029537 77.67479 \nL 80.303224 67.820522 \nL 80.454925 72.023304 \nL 81.063293 75.51968 \nL 81.067984 75.235573 \nL 81.089879 73.38504 \nL 81.240016 80.543609 \nL 81.532471 85.474127 \nL 82.122071 88.906734 \nL 82.267516 84.891479 \nL 82.290975 85.686697 \nL 82.417653 87.53261 \nL 82.581866 85.972406 \nL 82.741386 90.295514 \nL 83.190233 90.677463 \nL 83.338806 86.488402 \nL 83.47174 87.795843 \nL 83.47956 86.887091 \nL 83.606238 91.432453 \nL 83.607802 90.548628 \nL 83.642208 93.196402 \nL 83.792345 95.064666 \nL 84.206786 96.78301 \nL 84.521135 92.883437 \nL 84.668144 90.254384 \nL 84.693167 92.421235 \nL 85.256181 93.424009 \nL 85.260872 92.304663 \nL 85.293715 92.683131 \nL 85.564274 98.312489 \nL 85.589297 97.354687 \nL 85.744126 94.929259 \nL 85.856729 90.378911 \nL 86.327471 94.550219 \nL 86.623053 89.872968 \nL 87.691215 100.75531 \nL 87.695907 100.637592 \nL 87.810073 98.986525 \nL 87.813201 100.061159 \nL 87.816329 100.889838 \nL 87.846044 99.238667 \nL 87.977413 99.000214 \nL 87.986797 98.28326 \nL 87.993053 98.643509 \nL 88.429388 100.55933 \nL 88.437208 100.441408 \nL 88.445028 100.087306 \nL 101.036203 98.666862 \nL 101.040895 99.385228 \nL 101.205107 101.766091 \nL 101.208235 101.649295 \nL 101.632059 102.467639 \nL 101.633623 102.351503 \nL 101.639879 102.235258 \nL 101.658646 102.817032 \nL 102.069959 103.164457 \nL 102.074651 103.856375 \nL 102.259194 103.397039 \nL 102.382744 105.348594 \nL 102.409331 105.121702 \nL 102.551648 103.757819 \nL 103.275746 106.171433 \nL 103.438395 104.706384 \nL 103.577584 104.706384 \nL 103.597915 104.136071 \nL 103.610427 105.052838 \nL 104.210975 103.801677 \nL 104.47997 102.18868 \nL 104.797447 106.459797 \nL 104.803703 106.234881 \nL 105.408943 108.14284 \nL 105.410507 108.69738 \nL 105.523109 108.807779 \nL 105.54344 107.925398 \nL 105.702961 110.359154 \nL 106.312893 112.754663 \nL 106.599091 110.505681 \nL 106.602219 111.375844 \nL 106.613167 111.159883 \nL 106.738281 112.133474 \nL 106.7461 111.596412 \nL 106.874342 110.734152 \nL 106.911877 112.250851 \nL 107.363851 109.890527 \nL 107.495221 111.093373 \nL 107.510861 110.33558 \nL 107.512424 109.681897 \nL 107.513988 109.791442 \nL 107.65787 110.229221 \nL 107.664125 110.992539 \nL 107.804879 109.578726 \nL 107.811135 110.016894 \nL 107.925301 110.34462 \nL 108.544616 110.780392 \nL 108.715084 108.274114 \nL 108.843326 108.163266 \nL 108.980952 111.824603 \nL 109.579936 114.084837 \nL 109.908361 114.190438 \nL 110.050678 109.953377 \nL 110.483886 108.422185 \nL 110.487013 108.754524 \nL 110.5136 110.838717 \nL 110.516728 110.621875 \nL 110.630895 106.488727 \nL 110.782596 108.177744 \nL 110.802927 107.900131 \nL 110.806055 106.731469 \nL 110.81231 107.237198 \nL 110.960883 110.184934 \nL 111.533281 111.604731 \nL 111.534845 111.38888 \nL 111.702185 109.111586 \nL 111.705313 109.77284 \nL 111.828863 110.759273 \nL 111.84763 109.780933 \nL 111.85545 110.438532 \nL 111.980564 115.872659 \nL 111.982128 115.768516 \nL 112.604571 111.182139 \nL 112.732813 111.724203 \nL 112.734376 111.616283 \nL 112.737504 110.425322 \nL 112.91892 114.110835 \nL 113.186351 111.131148 \nL 113.21763 112.107517 \nL 114.690849 115.632151 \nL 114.698669 115.527714 \nL 114.708052 116.259424 \nL 114.989559 111.377179 \nL 115.00989 112.026631 \nL 115.286705 111.163483 \nL 115.769959 109.752721 \nL 116.182835 112.937323 \nL 116.339228 113.258119 \nL 116.935084 114.004613 \nL 117.266637 111.447908 \nL 117.839034 111.772784 \nL 117.862493 110.364292 \nL 117.868749 111.238555 \nL 118.139308 108.526406 \nL 118.473988 103.531999 \nL 119.072972 112.841203 \nL 119.074536 111.233663 \nL 119.188703 106.085409 \nL 119.224673 106.653983 \nL 120.102036 100.557868 \nL 120.119239 102.813371 \nL 120.259993 99.648881 \nL 120.275632 100.724376 \nL 120.392927 102.853443 \nL 120.419513 101.449019 \nL 120.990347 103.099499 \nL 121.013806 102.517401 \nL 122.219593 106.124349 \nL 122.225849 105.556813 \nL 122.490153 104.986621 \nL 122.502664 105.673203 \nL 122.519867 103.841212 \nL 122.527687 104.880455 \nL 122.671568 103.388357 \nL 123.276808 105.583086 \nL 123.426945 108.521319 \nL 123.541111 108.465671 \nL 123.542675 108.298648 \nL 123.573954 109.743336 \nL 123.722527 109.96368 \nL 123.728783 109.633772 \nL 124.144787 107.318041 \nL 124.291796 109.002964 \nL 124.312127 108.893603 \nL 124.446625 107.783893 \nL 124.779742 103.724443 \nL 125.192618 103.376992 \nL 125.214513 103.958701 \nL 125.228589 102.334208 \nL 125.345883 103.502908 \nL 125.375598 102.572764 \nL 125.494456 102.572764 \nL 125.658668 99.281306 \nL 125.669616 99.643572 \nL 125.821317 100.122446 \nL 126.393714 101.434307 \nL 126.398406 102.496403 \nL 126.417173 102.380067 \nL 126.542287 103.199866 \nL 126.579821 101.105764 \nL 126.581385 101.224101 \nL 126.726831 105.089179 \nL 126.731522 104.860021 \nL 126.851945 104.171256 \nL 126.876968 103.363155 \nL 126.881659 103.595569 \nL 127.446237 108.119076 \nL 127.450929 107.447175 \nL 127.474388 106.546266 \nL 127.482207 106.999296 \nL 127.596374 108.012719 \nL 127.632344 107.565248 \nL 127.746511 107.789764 \nL 127.782481 109.131255 \nL 127.924799 108.799287 \nL 127.932618 109.021624 \nL 128.350187 109.465169 \nL 128.362698 108.695386 \nL 128.354878 109.578991 \nL 128.379901 109.196653 \nL 128.647333 111.568658 \nL 128.650461 111.351393 \nL 128.659844 110.594057 \nL 128.677047 112.120755 \nL 128.794342 112.337022 \nL 128.830312 111.050613 \nL 128.953862 111.26875 \nL 128.983577 112.575073 \nL 129.548155 111.820377 \nL 129.549719 112.254051 \nL 129.584125 110.519745 \nL 129.695164 112.16394 \nL 129.717059 111.626956 \nL 129.879707 110.103695 \nL 129.884399 110.433713 \nL 130.006385 110.76262 \nL 130.007949 110.653219 \nL 130.017333 109.555484 \nL 130.020461 109.6662 \nL 130.445849 110.880715 \nL 130.447413 110.771418 \nL 130.630392 114.803376 \nL 130.747687 114.697623 \nL 130.902515 116.072507 \nL 130.935358 115.759231 \nL 131.504627 113.551679 \nL 131.526522 112.802828 \nL 131.534342 113.179347 \nL 131.648509 113.340199 \nL 131.664148 112.911552 \nL 131.681351 113.341173 \nL 131.797082 114.519144 \nL 131.823668 114.203481 \nL 131.973805 113.084854 \nL 131.980061 112.387232 \nL 131.981625 112.441213 \nL 132.558714 114.329694 \nL 132.561842 114.223488 \nL 132.585301 113.585678 \nL 132.586865 113.799438 \nL 132.716671 113.532577 \nL 133.179593 117.712234 \nL 133.63626 118.434521 \nL 133.786397 117.101474 \nL 133.930278 118.346274 \nL 134.088235 118.346274 \nL 134.199273 118.756782 \nL 134.806077 119.779408 \nL 134.949958 119.171253 \nL 134.960906 120.088334 \nL 134.965598 119.987245 \nL 135.12199 119.683532 \nL 135.250232 116.635114 \nL 135.25336 117.260161 \nL 135.286203 117.156638 \nL 135.853908 116.845512 \nL 135.889878 115.178067 \nL 136.036887 119.078675 \nL 136.154182 117.852507 \nL 136.163566 116.408808 \nL 136.182333 116.827402 \nL 136.753166 116.931444 \nL 136.75473 117.035393 \nL 136.759422 116.308403 \nL 136.764113 116.413098 \nL 137.051876 117.870418 \nL 137.059696 117.664192 \nL 137.212961 114.953243 \nL 137.355278 116.327767 \nL 137.367789 116.014269 \nL 137.375609 115.280802 \nL 137.391248 116.124551 \nL 137.804125 118.322924 \nL 137.822892 118.220744 \nL 137.973029 118.426384 \nL 138.104399 117.810563 \nL 138.274867 122.603394 \nL 138.288942 122.207493 \nL 138.29207 122.108172 \nL 138.425004 122.108172 \nL 138.442207 122.306989 \nL 138.859776 123.001632 \nL 138.892618 123.889185 \nL 139.158486 121.43113 \nL 139.307059 121.534818 \nL 139.324262 123.125541 \nL 139.343029 122.731154 \nL 139.454068 121.940144 \nL 139.909171 119.943136 \nL 139.938885 122.357064 \nL 140.059307 122.059425 \nL 140.212572 123.841551 \nL 140.242287 123.645964 \nL 140.359581 122.271066 \nL 140.372093 123.064983 \nL 140.539433 122.078968 \nL 140.967949 121.979503 \nL 140.98046 122.079055 \nL 141.265095 124.357722 \nL 141.266659 124.162751 \nL 141.29481 122.988598 \nL 141.407412 123.284632 \nL 141.413668 123.088049 \nL 141.581008 123.088049 \nL 142.029855 122.003543 \nL 142.178428 122.600792 \nL 142.189376 122.502293 \nL 142.195632 122.006763 \nL 142.31449 121.907223 \nL 142.316054 122.00685 \nL 142.32231 121.210529 \nL 142.330129 121.71173 \nL 142.464627 121.313209 \nL 142.466191 122.114417 \nL 142.495906 120.314785 \nL 143.068303 122.335456 \nL 143.08707 121.938393 \nL 143.088634 122.237234 \nL 143.392036 119.296978 \nL 143.395164 118.429679 \nL 143.518714 120.683138 \nL 143.657903 120.481663 \nL 143.661031 120.784409 \nL 143.686054 120.583111 \nL 144.111442 123.103765 \nL 144.417972 126.358475 \nL 144.427355 125.687176 \nL 144.591568 125.397953 \nL 144.708862 125.687925 \nL 144.74796 125.591518 \nL 145.163965 125.784499 \nL 145.190552 126.844066 \nL 145.192116 126.653236 \nL 145.335997 127.750555 \nL 145.343817 127.326498 \nL 145.467367 125.901432 \nL 145.478314 126.863756 \nL 145.609684 127.340789 \nL 145.642527 125.337226 \nL 145.773896 126.497932 \nL 146.210232 128.412491 \nL 146.218052 128.224298 \nL 146.24933 127.279715 \nL 146.518326 130.767957 \nL 146.668463 129.844737 \nL 146.685666 130.401228 \nL 146.691922 130.770604 \nL 146.699741 130.724763 \nL 146.849878 131.324194 \nL 147.262755 131.507485 \nL 147.300289 132.510156 \nL 147.419148 131.784947 \nL 147.434787 132.606284 \nL 147.450426 132.379776 \nL 147.736625 127.636246 \nL 148.351248 130.570033 \nL 148.613988 132.134759 \nL 148.639011 131.313958 \nL 148.651522 131.681096 \nL 148.918953 134.138696 \nL 148.951796 133.870469 \nL 149.546088 133.333123 \nL 149.702481 130.88928 \nL 149.821339 131.349583 \nL 149.999627 133.637899 \nL 150.001191 133.458366 \nL 150.425015 133.458366 \nL 150.5861 133.728114 \nL 150.590791 133.548731 \nL 150.726853 133.548731 \nL 150.895757 134.716663 \nL 150.903577 134.62779 \nL 151.05215 132.58201 \nL 151.624547 132.763328 \nL 151.629239 133.215864 \nL 151.643314 132.945928 \nL 151.766864 133.847901 \nL 151.771556 133.041462 \nL 151.918565 129.859978 \nL 152.065574 130.153833 \nL 152.104673 131.915558 \nL 152.522241 134.55949 \nL 152.542572 133.936147 \nL 152.686453 133.667444 \nL 152.700529 133.128695 \nL 152.96796 134.301833 \nL 152.972652 134.123299 \nL 153.138428 134.302129 \nL 153.571636 135.7304 \nL 153.5732 135.334002 \nL 153.601351 135.906577 \nL 153.881294 136.25893 \nL 153.906316 135.906577 \nL 154.029867 137.492169 \nL 154.040814 139.342026 \nL 154.203462 142.324187 \nL 154.638234 143.179706 \nL 154.924433 144.071999 \nL 154.949456 142.499865 \nL 155.223143 146.408956 \nL 155.673554 147.258758 \nL 155.697013 148.518901 \nL 155.704832 148.435677 \nL 156.303816 141.688887 \nL 156.758919 143.021586 \nL 156.869958 144.270992 \nL 156.877778 143.438055 \nL 156.904364 142.521824 \nL 156.909056 142.771705 \nL 157.031042 140.85595 \nL 157.20151 140.772656 \nL 157.326625 141.938768 \nL 157.924045 140.606069 \nL 157.936556 140.606069 \nL 157.941248 141.105831 \nL 157.956887 141.022537 \nL 158.235266 139.023488 \nL 158.246214 141.605593 \nL 158.260289 140.606069 \nL 158.856145 141.022537 \nL 158.860837 140.939244 \nL 158.984387 142.521824 \nL 159.27215 141.94756 \nL 159.295609 140.955844 \nL 159.311248 141.122352 \nL 160.040038 145.300004 \nL 160.046293 144.499845 \nL 160.20425 142.150119 \nL 160.208942 142.397164 \nL 160.355951 139.084837 \nL 160.362207 138.150633 \nL 160.482629 138.407349 \nL 160.501396 138.83417 \nL 160.504524 138.664132 \nL 160.934604 141.040247 \nL 160.962755 140.959532 \nL 161.098816 140.792894 \nL 161.227058 141.877775 \nL 161.405346 140.556363 \nL 161.988691 142.062018 \nL 162.00433 141.567323 \nL 162.581419 146.880683 \nL 162.60957 146.653181 \nL 163.03183 145.310549 \nL 163.038086 145.630214 \nL 163.177275 144.27589 \nL 163.644889 146.689216 \nL 163.660529 146.294962 \nL 164.22667 145.02843 \nL 164.228234 145.108582 \nL 164.229798 145.348851 \nL 164.250129 143.588517 \nL 164.259513 143.670834 \nL 164.528508 146.018509 \nL 164.562914 145.463218 \nL 164.711487 146.181082 \nL 165.283885 142.83105 \nL 165.287013 142.910813 \nL 165.440277 143.469152 \nL 165.466864 143.229864 \nL 165.73586 142.591762 \nL 165.762446 141.794136 \nL 166.334844 139.56054 \nL 166.367686 139.961795 \nL 166.635118 139.322238 \nL 166.647629 139.885281 \nL 166.66796 139.725272 \nL 166.79151 138.04261 \nL 167.234102 136.00068 \nL 167.238793 135.171794 \nL 167.268508 136.424141 \nL 167.384239 136.673165 \nL 167.392058 136.507602 \nL 167.393622 136.424659 \nL 167.40457 136.83944 \nL 167.409261 136.67407 \nL 167.531248 136.342557 \nL 167.542195 135.635727 \nL 167.559398 136.42816 \nL 167.568782 136.262082 \nL 167.707971 135.596993 \nL 167.712663 135.68065 \nL 168.286624 138.857125 \nL 168.288188 138.775984 \nL 168.441453 140.562472 \nL 168.618177 140.642309 \nL 168.619741 140.522645 \nL 168.755802 142.719006 \nL 168.880917 141.467736 \nL 168.920015 141.70545 \nL 169.370426 142.100334 \nL 169.640985 143.902774 \nL 169.792686 144.52131 \nL 170.382286 146.058363 \nL 170.385414 145.831128 \nL 170.396362 145.147783 \nL 170.546499 144.229119 \nL 170.557446 144.460354 \nL 170.68256 145.534249 \nL 170.69038 145.153744 \nL 170.721659 145.535673 \nL 170.859284 142.643853 \nL 171.010985 145.067082 \nL 171.437937 143.614046 \nL 171.583382 143.536475 \nL 171.606841 143.924626 \nL 171.62248 143.537703 \nL 171.903987 143.071924 \nL 171.922754 142.446944 \nL 172.038485 143.308535 \nL 172.072891 144.548318 \nL 172.488896 144.317703 \nL 172.518611 143.159308 \nL 172.523302 143.548906 \nL 172.642161 144.558039 \nL 172.659364 144.250916 \nL 172.784478 146.872278 \nL 172.823576 145.364649 \nL 172.934615 145.593484 \nL 173.089444 145.365162 \nL 173.112903 146.204222 \nL 173.122286 146.052916 \nL 173.549238 146.960642 \nL 173.552366 146.735367 \nL 173.572697 147.26194 \nL 173.688428 147.26194 \nL 173.699375 146.511922 \nL 173.724398 146.738032 \nL 173.985574 147.039063 \nL 174.016853 145.385129 \nL 174.141967 145.385129 \nL 174.586122 145.53767 \nL 174.587686 145.233043 \nL 174.592378 145.614967 \nL 174.88796 141.378883 \nL 174.925494 142.015893 \nL 175.070939 145.544021 \nL 175.638645 146.685288 \nL 175.676179 147.212341 \nL 175.824752 149.835322 \nL 176.237629 148.515354 \nL 176.239193 148.737331 \nL 176.700551 146.516753 \nL 176.709935 145.988391 \nL 176.72401 146.29189 \nL 176.838177 147.350969 \nL 176.871019 146.981338 \nL 177.166601 143.186148 \nL 177.174421 143.498199 \nL 177.310483 140.44308 \nL 177.738999 142.926097 \nL 177.75151 141.749544 \nL 177.765585 142.225019 \nL 177.896955 141.949396 \nL 177.903211 142.028355 \nL 178.064295 138.247098 \nL 178.075243 138.900379 \nL 178.18941 138.65644 \nL 178.339547 141.859405 \nL 178.34111 141.701298 \nL 178.345802 141.146124 \nL 178.358314 142.097804 \nL 178.378645 141.584426 \nL 178.813416 143.008121 \nL 179.098051 143.086305 \nL 179.24506 142.930056 \nL 179.246624 143.008299 \nL 179.248188 143.321034 \nL 179.271647 142.226878 \nL 179.423348 142.463213 \nL 179.42804 141.99162 \nL 179.864375 143.958222 \nL 179.870631 143.88075 \nL 180.028588 142.950395 \nL 180.291327 143.732747 \nL 180.477435 145.357203 \nL 181.054524 144.74581 \nL 181.203097 145.283304 \nL 181.207789 145.053747 \nL 181.37982 143.361828 \nL 181.517446 144.686663 \nL 182.128941 146.987715 \nL 182.408884 149.971078 \nL 182.410448 149.898053 \nL 182.426088 149.459098 \nL 182.576225 151.429354 \nL 182.993793 151.141501 \nL 183.031327 152.437688 \nL 183.164261 151.939154 \nL 183.173645 152.189843 \nL 183.181464 152.296964 \nL 183.183028 152.225628 \nL 183.328473 150.36615 \nL 183.333165 150.948127 \nL 183.444204 150.803481 \nL 183.445768 150.87591 \nL 183.606852 152.964381 \nL 183.620928 152.822602 \nL 184.196453 154.667721 \nL 184.199581 154.458785 \nL 184.233987 152.630431 \nL 184.377868 155.316143 \nL 184.496727 155.246953 \nL 184.509238 154.484126 \nL 184.52175 154.832905 \nL 184.676578 156.362707 \nL 184.679706 156.225806 \nL 185.100403 156.431449 \nL 185.122298 156.226243 \nL 185.130117 156.706078 \nL 185.405368 159.150284 \nL 185.421008 158.285861 \nL 185.431955 159.023978 \nL 185.546122 158.491299 \nL 185.553941 158.826093 \nL 185.558633 159.625149 \nL 185.561761 159.558983 \nL 186.149798 159.757619 \nL 186.296807 156.905969 \nL 186.299935 155.884638 \nL 186.334341 157.057008 \nL 186.335905 156.853046 \nL 186.446944 158.965127 \nL 186.471967 157.695148 \nL 186.783188 152.559063 \nL 187.197629 151.347958 \nL 187.20232 153.429193 \nL 187.236727 146.587382 \nL 187.383736 150.630085 \nL 187.3853 151.284419 \nL 187.386864 151.212192 \nL 187.499466 148.306142 \nL 187.685574 140.751565 \nL 187.831019 140.836185 \nL 188.250151 144.762602 \nL 188.251715 144.145261 \nL 188.287686 143.757086 \nL 188.423747 145.542881 \nL 188.698998 152.676835 \nL 188.700562 153.604436 \nL 188.706818 151.189034 \nL 188.738097 151.914916 \nL 188.866339 153.209433 \nL 188.888234 152.073749 \nL 189.452811 149.989856 \nL 189.454375 150.136538 \nL 189.457503 149.477442 \nL 189.465323 150.505448 \nL 189.470014 150.432539 \nL 189.627971 152.76907 \nL 189.638919 150.98606 \nL 189.767161 152.220713 \nL 189.789055 150.999766 \nL 189.936065 153.741912 \nL 190.355197 153.953814 \nL 190.358325 153.389966 \nL 190.689877 148.073276 \nL 190.814992 150.456889 \nL 190.822811 149.360566 \nL 190.830631 147.730119 \nL 190.952617 145.32652 \nL 190.990151 148.697904 \nL 191.421795 148.549066 \nL 191.584444 150.188713 \nL 191.851875 151.508502 \nL 191.853439 151.146723 \nL 191.880026 150.20111 \nL 191.887845 151.151431 \nL 191.890973 150.570104 \nL 192.014523 153.329688 \nL 192.61038 155.173191 \nL 192.630711 153.569771 \nL 192.752697 154.774653 \nL 192.754261 154.564629 \nL 193.658211 153.021124 \nL 193.670722 153.732946 \nL 193.692617 153.236872 \nL 193.80522 152.952373 \nL 194.138336 145.150397 \nL 194.554341 148.777241 \nL 194.559033 147.883573 \nL 194.56998 147.05496 \nL 194.591875 149.381359 \nL 194.593439 149.381359 \nL 194.718553 149.677471 \nL 194.86087 144.88092 \nL 195.004752 146.894094 \nL 194.889021 144.649611 \nL 195.006316 146.666379 \nL 195.03603 148.936329 \nL 195.611555 146.184061 \nL 195.630323 144.272608 \nL 195.758565 146.142475 \nL 195.929033 145.300947 \nL 195.944672 147.674661 \nL 196.076042 149.106459 \nL 196.67659 147.471972 \nL 196.693793 146.490235 \nL 196.994067 149.836707 \nL 196.995631 149.689152 \nL 197.109797 149.615266 \nL 197.137948 150.132198 \nL 197.294341 147.47073 \nL 197.295905 147.772918 \nL 197.708781 147.170349 \nL 197.882377 148.753109 \nL 197.885505 148.380148 \nL 198.043462 150.021464 \nL 198.192035 149.211265 \nL 198.318713 147.20235 \nL 198.346864 147.354098 \nL 198.765996 147.58104 \nL 198.911441 148.18486 \nL 198.913005 147.734699 \nL 198.941156 145.998185 \nL 198.920825 148.114964 \nL 198.947412 146.382528 \nL 199.06627 144.85486 \nL 199.388439 148.600482 \nL 199.391567 148.301553 \nL 199.813827 149.350927 \nL 199.815391 149.128398 \nL 199.973348 145.172971 \nL 199.985859 146.675233 \nL 200.109409 146.979982 \nL 200.118793 147.663263 \nL 200.148507 146.53368 \nL 200.264238 144.61519 \nL 200.270494 143.368319 \nL 200.284569 145.483361 \nL 200.295517 145.329454 \nL 200.412811 144.248431 \nL 200.426886 146.199405 \nL 200.863222 146.582243 \nL 200.899192 145.589283 \nL 201.312069 149.396707 \nL 201.335528 150.434006 \nL 201.479409 149.920062 \nL 201.484101 150.43667 \nL 202.06119 148.601181 \nL 202.064318 147.62894 \nL 202.086213 148.459053 \nL 202.39587 148.234363 \nL 202.533496 146.730198 \nL 202.963576 148.863661 \nL 202.971395 148.341417 \nL 202.997982 147.741446 \nL 203.151247 148.043002 \nL 203.271669 146.535714 \nL 203.292 147.525225 \nL 203.43901 146.920332 \nL 203.575071 147.909195 \nL 204.163108 145.423422 \nL 204.166236 145.88668 \nL 204.199078 143.273458 \nL 204.200642 143.66776 \nL 204.651053 147.513642 \nL 205.220322 149.178439 \nL 205.240653 148.58247 \nL 205.245345 148.657348 \nL 205.397046 150.521595 \nL 205.514341 150.37471 \nL 205.686373 148.388832 \nL 206.275973 148.388832 \nL 206.296304 148.013658 \nL 206.41829 148.013658 \nL 206.588758 146.881886 \nL 206.602834 146.958053 \nL 207.183051 142.39149 \nL 207.32224 139.505698 \nL 207.342571 141.536912 \nL 207.353519 141.536912 \nL 207.355083 141.938381 \nL 207.645973 139.531072 \nL 207.794546 141.413856 \nL 207.805494 140.529418 \nL 208.374763 138.093651 \nL 208.542103 135.801547 \nL 208.556178 134.654314 \nL 208.851761 139.53646 \nL 208.856452 139.372616 \nL 209.417902 136.327426 \nL 209.436669 136.665275 \nL 209.738507 135.906988 \nL 209.757274 135.652596 \nL 209.885516 138.362141 \nL 210.35313 140.516664 \nL 210.356258 140.435474 \nL 210.770699 139.135419 \nL 210.79103 139.958134 \nL 210.79885 139.54973 \nL 210.948987 139.959474 \nL 210.956806 139.877845 \nL 211.379067 138.489065 \nL 211.408781 139.068097 \nL 211.521384 138.738777 \nL 211.549535 140.803489 \nL 211.558918 140.722505 \nL 211.857628 138.276418 \nL 211.859192 139.023104 \nL 212.009329 141.329744 \nL 212.445665 139.715218 \nL 212.45974 139.469533 \nL 212.578598 143.552082 \nL 212.59111 143.078579 \nL 212.720916 143.554192 \nL 212.725608 143.159672 \nL 212.730299 142.763636 \nL 212.880436 143.63827 \nL 212.910151 143.480587 \nL 213.491932 142.690962 \nL 213.634249 143.643672 \nL 213.776567 143.328315 \nL 213.939215 139.846069 \nL 214.09248 141.48209 \nL 214.111247 140.998393 \nL 214.685208 142.859288 \nL 215.129363 139.600798 \nL 215.146566 139.764848 \nL 215.573519 138.70019 \nL 215.581338 138.94839 \nL 215.590722 137.706673 \nL 215.612617 138.291296 \nL 215.725219 137.294609 \nL 215.750242 138.047369 \nL 215.759626 138.546879 \nL 215.762754 138.381161 \nL 215.906635 132.322947 \nL 216.041133 135.210774 \nL 216.0599 134.5261 \nL 216.213165 132.207199 \nL 216.624477 132.812517 \nL 216.635425 132.468545 \nL 216.663576 133.1582 \nL 216.804329 135.90122 \nL 216.924751 135.984791 \nL 216.926315 135.817781 \nL 216.96385 136.901977 \nL 217.697331 140.61448 \nL 217.714534 140.294722 \nL 217.978838 139.973983 \nL 217.981966 140.134784 \nL 218.014808 141.015404 \nL 218.899991 134.43911 \nL 218.91563 134.863148 \nL 219.037617 131.566672 \nL 219.183062 131.958671 \nL 219.195573 131.132529 \nL 219.21434 132.006494 \nL 219.215904 131.659449 \nL 219.339455 132.051124 \nL 219.350402 130.529656 \nL 219.366041 131.146562 \nL 219.78361 130.184568 \nL 219.792993 129.831653 \nL 219.810197 130.052991 \nL 220.234021 134.412275 \nL 220.262171 133.726419 \nL 220.833005 134.755203 \nL 220.859591 135.526792 \nL 221.133279 132.440438 \nL 221.148918 131.411653 \nL 221.167685 131.754582 \nL 221.446064 129.18262 \nL 221.457012 130.039941 \nL 221.463267 130.039941 \nL 221.466395 129.697012 \nL 222.030973 130.725797 \nL 222.032537 130.982993 \nL 222.068507 130.382869 \nL 222.206133 129.525548 \nL 222.21708 129.782744 \nL 222.517354 132.52617 \nL 222.518918 132.09751 \nL 222.939614 130.725797 \nL 222.964637 130.811529 \nL 223.386897 137.670093 \nL 223.394717 138.613146 \nL 223.413484 138.012182 \nL 224.015596 136.290608 \nL 224.170425 138.209214 \nL 224.320562 143.520229 \nL 224.470699 142.301308 \nL 224.620836 147.094689 \nL 225.03684 143.887411 \nL 225.071247 144.581813 \nL 225.21982 147.919948 \nL 225.509146 141.355582 \nL 225.512274 141.800576 \nL 226.101875 144.990847 \nL 226.689911 136.365644 \nL 226.702422 138.874653 \nL 226.722753 138.153647 \nL 227.140322 139.807197 \nL 227.166909 135.967011 \nL 227.31861 138.392229 \nL 227.468747 143.19283 \nL 227.587605 143.71828 \nL 227.598553 146.831463 \nL 227.736178 150.77047 \nL 227.742434 150.20807 \nL 227.773712 153.414555 \nL 228.202228 153.414555 \nL 228.222559 154.144168 \nL 228.361749 154.22476 \nL 228.368005 155.111269 \nL 228.37426 154.385943 \nL 228.511886 152.371149 \nL 228.669843 156.239553 \nL 228.813724 152.91688 \nL 228.824671 154.001171 \nL 229.248495 151.938902 \nL 229.262571 152.360592 \nL 229.403324 155.400684 \nL 229.273518 151.859163 \nL 229.40958 154.586092 \nL 229.423655 153.516856 \nL 229.425219 154.0145 \nL 229.547206 154.09702 \nL 229.872502 159.038779 \nL 230.588781 162.87761 \nL 230.593473 162.329206 \nL 230.890619 160.130611 \nL 231.511498 162.686712 \nL 231.80708 165.653098 \nL 231.941578 164.74348 \nL 231.943142 164.819851 \nL 231.944705 164.514366 \nL 231.946269 164.590737 \nL 232.393552 160.39031 \nL 232.538998 160.543053 \nL 232.576532 163.903394 \nL 232.578096 163.750652 \nL 232.9941 170.085006 \nL 233.011304 169.711297 \nL 233.017559 168.360766 \nL 233.442947 166.603114 \nL 233.478918 166.836091 \nL 233.765116 171.583812 \nL 233.776064 170.552792 \nL 233.912126 170.404058 \nL 234.071646 168.53114 \nL 234.500162 168.607203 \nL 234.506418 168.721202 \nL 234.518929 167.005932 \nL 234.529877 166.387084 \nL 234.642479 168.334163 \nL 234.680014 167.264248 \nL 234.947445 166.346185 \nL 234.970904 163.836228 \nL 235.097582 165.512732 \nL 235.122605 164.568995 \nL 235.127297 164.011884 \nL 235.128861 164.331686 \nL 235.541737 165.686156 \nL 235.562068 163.236541 \nL 235.843575 163.559073 \nL 235.863906 165.079985 \nL 235.874854 164.447618 \nL 235.995276 164.84557 \nL 236.021863 163.491018 \nL 236.148541 163.571436 \nL 236.176692 164.774104 \nL 236.178256 164.298225 \nL 236.598952 164.776566 \nL 236.631794 163.030252 \nL 236.899226 163.030252 \nL 236.921121 163.918999 \nL 236.930504 163.518078 \nL 237.080641 160.352822 \nL 237.082205 160.851907 \nL 237.216703 166.147433 \nL 237.226087 165.599906 \nL 237.654603 165.757281 \nL 237.656167 165.600175 \nL 237.668678 166.38705 \nL 237.67337 166.231018 \nL 237.798484 166.07472 \nL 237.97208 170.272684 \nL 237.973644 169.674575 \nL 238.1316 170.949935 \nL 238.708689 169.157281 \nL 238.716509 169.308689 \nL 238.72902 169.459843 \nL 239.173176 173.482366 \nL 239.310801 170.939123 \nL 239.317057 170.793795 \nL 239.33426 171.229779 \nL 239.914477 173.264374 \nL 239.93168 174.281671 \nL 239.934808 173.627694 \nL 240.818427 171.447771 \nL 240.82781 171.011787 \nL 240.984203 170.212482 \nL 241.271966 166.288621 \nL 241.286041 166.651942 \nL 241.436178 167.233254 \nL 241.850619 167.305918 \nL 241.886589 166.361285 \nL 242.147765 164.762675 \nL 242.160276 165.125996 \nL 242.322924 167.814567 \nL 242.485573 168.831864 \nL 242.901577 168.686536 \nL 243.198724 167.523911 \nL 243.209671 167.959895 \nL 243.351988 168.977192 \nL 243.378575 167.741903 \nL 244.431098 167.087926 \nL 244.56716 164.544683 \nL 244.587491 165.053332 \nL 245.031646 162.946073 \nL 245.306897 164.835339 \nL 245.314717 164.690011 \nL 245.489876 162.652208 \nL 246.051326 164.214686 \nL 246.05289 164.06835 \nL 246.066965 162.038065 \nL 246.090424 163.266457 \nL 246.360984 164.447349 \nL 246.390698 164.302464 \nL 246.653438 159.102697 \nL 246.689408 159.257355 \nL 247.114797 162.558711 \nL 247.566771 162.781945 \nL 247.591794 162.930412 \nL 247.724728 165.365602 \nL 247.741931 165.004607 \nL 248.192342 167.096171 \nL 248.461338 165.890023 \nL 248.484797 167.397738 \nL 248.489488 167.044613 \nL 248.778815 163.830885 \nL 248.79289 163.169961 \nL 249.834465 165.827392 \nL 250.566383 169.562165 \nL 250.569511 169.493158 \nL 250.710265 171.011315 \nL 250.727468 171.079845 \nL 250.733723 170.737197 \nL 250.739979 171.011526 \nL 251.317068 171.763615 \nL 251.335835 172.238196 \nL 251.48128 171.631275 \nL 251.493792 171.902874 \nL 252.35708 171.022874 \nL 252.391486 170.681036 \nL 252.543187 172.731216 \nL 252.544751 172.395871 \nL 253.417422 171.722628 \nL 253.434625 171.858306 \nL 253.714568 171.384159 \nL 253.716132 171.452257 \nL 253.71926 171.656396 \nL 253.741155 171.045385 \nL 254.028917 171.045385 \nL 254.033609 170.840833 \nL 254.047685 171.38833 \nL 254.616954 170.877605 \nL 254.618518 170.672138 \nL 254.638849 171.459012 \nL 254.648232 171.254934 \nL 254.776474 171.664134 \nL 254.788986 172.750327 \nL 254.79055 172.415019 \nL 254.932867 170.866728 \nL 254.937559 170.935234 \nL 255.509956 168.265544 \nL 255.514648 168.617997 \nL 255.544363 169.530229 \nL 255.533415 168.548828 \nL 255.549054 169.252015 \nL 255.697627 165.473442 \nL 255.699191 165.837225 \nL 255.836817 166.199571 \nL 256.121452 162.434891 \nL 256.129271 163.111782 \nL 256.587502 157.684147 \nL 256.596885 156.265484 \nL 256.600013 156.424259 \nL 256.711052 158.960487 \nL 256.75015 158.728889 \nL 256.865881 158.420092 \nL 256.870573 158.807341 \nL 256.900287 158.730769 \nL 257.017582 158.962364 \nL 257.026965 159.501442 \nL 257.047296 158.426468 \nL 257.167719 156.180494 \nL 257.951246 154.269092 \nL 258.213986 158.607508 \nL 258.221805 157.421386 \nL 258.820789 159.022684 \nL 258.844248 158.707726 \nL 259.002205 159.892733 \nL 259.117936 158.956446 \nL 259.885824 160.281836 \nL 260.021885 158.112832 \nL 260.045344 158.505676 \nL 260.046908 158.58382 \nL 260.0516 158.232137 \nL 260.053164 158.349691 \nL 260.167331 158.427964 \nL 261.074408 162.651225 \nL 261.080664 162.277116 \nL 261.396577 160.7697 \nL 261.978358 164.739457 \nL 261.987741 164.593072 \nL 262.297399 167.965256 \nL 262.902639 166.265461 \nL 263.049648 164.68112 \nL 263.944214 169.097351 \nL 264.230413 167.002473 \nL 264.233541 167.21689 \nL 264.549454 166.147325 \nL 264.551018 166.255546 \nL 265.157821 164.706215 \nL 265.282935 166.391943 \nL 265.454967 165.237588 \nL 266.050824 166.40365 \nL 266.190013 166.40365 \nL 266.351098 165.684039 \nL 266.629477 166.264277 \nL 266.645116 166.048059 \nL 266.659191 165.397227 \nL 267.07676 165.688259 \nL 267.083015 165.978372 \nL 267.101782 165.689004 \nL 267.231588 166.123655 \nL 267.23628 165.979285 \nL 267.672616 165.834688 \nL 268.301314 163.663244 \nL 268.309134 163.774467 \nL 268.460835 162.108125 \nL 268.595333 163.161034 \nL 268.610972 158.911251 \nL 269.344454 152.352913 \nL 269.361657 152.76685 \nL 269.488335 152.108867 \nL 269.491463 152.439861 \nL 269.505538 153.757542 \nL 269.658803 155.386024 \nL 269.791737 153.62429 \nL 269.812068 153.95048 \nL 270.262479 152.812616 \nL 270.547113 149.665249 \nL 270.856771 153.118015 \nL 271.297798 154.757972 \nL 271.304054 154.193506 \nL 271.580869 155.245213 \nL 271.759157 157.170419 \nL 271.760721 157.090516 \nL 272.334682 155.49113 \nL 272.347193 155.897688 \nL 272.350321 155.573803 \nL 272.664671 157.27257 \nL 273.710938 161.177979 \nL 273.715629 161.024695 \nL 273.828232 163.247305 \nL 274.42878 163.546717 \nL 274.4366 163.845166 \nL 274.444419 163.622048 \nL 274.599248 163.6966 \nL 274.915161 165.478001 \nL 275.066862 166.280762 \nL 275.814419 164.035213 \nL 277.612935 162.253523 \nL 277.769328 161.118335 \nL 277.911645 159.045502 \nL 278.2041 161.159831 \nL 278.668586 160.738198 \nL 279.114305 161.6229 \nL 279.266006 164.897459 \nL 280.17152 166.366537 \nL 280.321657 165.130928 \nL 281.352285 167.392432 \nL 281.360104 167.67872 \nL 281.36636 167.535914 \nL 281.973164 167.75046 \nL 282.112353 167.322379 \nL 282.409499 169.472904 \nL 283.15862 173.138532 \nL 283.920253 172.596838 \nL 283.921816 172.733097 \nL 283.924944 172.392974 \nL 284.050058 171.982829 \nL 284.204887 170.953762 \nL 284.345641 171.161978 \nL 284.373791 171.717061 \nL 284.375355 171.647872 \nL 284.975903 173.169238 \nL 287.226394 176.376652 \nL 291.707045 187.439752 \nL 291.711736 187.800548 \nL 291.858746 189.237311 \nL 291.875949 188.639554 \nL 292.332615 187.615747 \nL 292.446782 187.676744 \nL 292.463985 188.16366 \nL 292.476497 187.921324 \nL 292.606303 188.042857 \nL 292.779898 189.255499 \nL 292.90814 187.520905 \nL 292.928472 187.581831 \nL 293.350732 188.841636 \nL 293.380446 190.018739 \nL 293.682284 187.788727 \nL 293.683848 187.908422 \nL 293.974739 189.98734 \nL 294.58467 186.894784 \nL 294.734807 187.680829 \nL 294.859921 184.917113 \nL 294.884944 186.521766 \nL 295.596531 180.403407 \nL 295.634065 181.902123 \nL 295.746668 182.771414 \nL 295.77951 182.489547 \nL 295.917136 179.063829 \nL 295.935903 180.396064 \nL 296.073529 176.986061 \nL 296.082912 177.190901 \nL 296.52394 179.228887 \nL 296.536451 178.829344 \nL 296.833597 183.641413 \nL 296.836725 183.451922 \nL 297.127615 182.185752 \nL 297.135435 182.314664 \nL 297.576462 182.828134 \nL 297.728163 184.926378 \nL 298.779122 184.365642 \nL 298.785378 184.616141 \nL 298.788506 184.553991 \nL 299.221713 183.679242 \nL 299.673688 177.73856 \nL 299.689328 178.281339 \nL 299.800366 179.494887 \nL 299.80975 178.495558 \nL 299.831645 176.595249 \nL 299.839465 176.735342 \nL 299.986474 178.170612 \nL 300.130355 175.466018 \nL 300.702752 172.399942 \nL 301.001462 167.92438 \nL 301.013974 168.285313 \nL 301.165675 168.501012 \nL 301.189134 166.043713 \nL 301.778734 152.744272 \nL 301.791245 154.028668 \nL 301.910104 158.507928 \nL 301.930435 157.377803 \nL 302.074316 153.434263 \nL 302.089955 154.285088 \nL 302.236965 131.104229 \nL 302.391793 146.449946 \nL 302.828129 129.073428 \nL 302.829693 129.182755 \nL 302.842204 127.104526 \nL 302.957935 130.777384 \nL 303.131531 119.874894 \nL 303.255081 120.242223 \nL 303.403654 133.616354 \nL 303.405218 131.090551 \nL 303.442752 126.068843 \nL 303.854065 124.32034 \nL 303.86814 118.732516 \nL 303.877524 125.163976 \nL 303.893163 123.604538 \nL 304.018277 136.53193 \nL 304.040172 135.195442 \nL 304.157467 138.947247 \nL 304.187181 145.387348 \nL 304.193437 143.778351 \nL 304.315423 147.336003 \nL 304.326371 146.778724 \nL 304.52499 139.213814 \nL 304.905024 142.031832 \nL 304.944122 143.501513 \nL 305.088003 144.564099 \nL 305.241268 137.667532 \nL 305.244396 138.076598 \nL 305.372638 142.966443 \nL 305.386713 141.699287 \nL 305.514955 142.782367 \nL 305.533722 139.74772 \nL 305.54467 140.748337 \nL 306.112375 152.941462 \nL 306.145218 151.087765 \nL 306.292227 152.256662 \nL 306.445492 151.989965 \nL 307.030401 151.276845 \nL 307.194613 156.459442 \nL 307.313471 152.229892 \nL 307.325983 152.274398 \nL 307.471428 154.943536 \nL 307.496451 154.250797 \nL 308.075104 157.652064 \nL 308.674088 154.16247 \nL 309.298095 159.096401 \nL 309.448232 163.322613 \nL 310.183277 154.748364 \nL 310.494499 157.700164 \nL 310.49919 157.277563 \nL 310.799464 161.854714 \nL 311.218597 161.207663 \nL 311.2358 161.696314 \nL 311.364042 162.101412 \nL 311.373426 163.069457 \nL 311.400012 160.980653 \nL 311.520435 161.878761 \nL 311.536074 160.018729 \nL 311.700286 160.431192 \nL 312.300834 165.190978 \nL 312.422821 164.722419 \nL 312.450971 163.466549 \nL 312.601108 165.366495 \nL 312.890435 159.586081 \nL 312.898254 159.171228 \nL 312.901382 159.504565 \nL 313.492547 164.487118 \nL 313.634864 162.670487 \nL 313.652067 163.156128 \nL 313.774053 164.435171 \nL 314.387113 169.008402 \nL 314.540378 172.349192 \nL 314.552889 172.060009 \nL 314.703026 168.589815 \nL 314.984533 166.49324 \nL 314.99548 167.071605 \nL 315.750857 166.927014 \nL 316.052695 171.987714 \nL 316.645423 171.409348 \nL 316.646987 171.192461 \nL 316.653243 171.553939 \nL 316.654807 171.337052 \nL 316.772101 169.312772 \nL 316.804944 169.674251 \nL 316.955081 168.734407 \nL 317.069247 167.433084 \nL 317.543117 167.143901 \nL 317.554065 167.794562 \nL 317.82306 167.577675 \nL 317.852775 168.083745 \nL 318.00604 167.216197 \nL 318.153049 168.951294 \nL 319.053871 164.071333 \nL 320.253403 152.540167 \nL 320.705377 152.245351 \nL 320.969681 152.984605 \nL 320.996268 152.617742 \nL 321.410709 150.040076 \nL 321.412272 151.022929 \nL 321.435731 149.532913 \nL 321.440423 150.594123 \nL 321.748517 152.84679 \nL 321.903345 155.198149 \nL 322.051919 152.452998 \nL 322.356884 153.486477 \nL 322.463231 153.191197 \nL 322.466359 154.115814 \nL 322.475743 154.006042 \nL 322.776017 152.537439 \nL 322.788528 152.831159 \nL 322.796348 153.270481 \nL 322.955868 152.613489 \nL 323.102877 155.403798 \nL 323.401587 151.060572 \nL 323.406279 151.657548 \nL 324.005263 155.04595 \nL 324.146017 157.912531 \nL 324.311793 158.399589 \nL 324.906085 155.49208 \nL 325.490994 156.70534 \nL 326.255754 156.8463 \nL 326.258882 157.409315 \nL 326.401199 155.520226 \nL 327.278562 160.999833 \nL 327.614807 161.269543 \nL 328.037067 156.832075 \nL 328.05427 157.395957 \nL 328.215355 160.731292 \nL 328.640743 155.656126 \nL 329.263186 154.584931 \nL 329.396119 155.379215 \nL 330.315708 158.817015 \nL 330.767683 156.320974 \nL 331.810822 149.863762 \nL 332.719464 156.897919 \nL 332.85709 155.197697 \nL 333.91274 161.342303 \nL 335.532969 162.084781 \nL 335.53766 162.052325 \nL 335.557991 163.223121 \nL 335.683106 162.760022 \nL 335.686233 163.092269 \nL 335.689361 163.22477 \nL 335.703437 162.495538 \nL 335.719076 162.828684 \nL 335.869213 163.028001 \nL 335.988071 162.431326 \nL 336.583927 161.964263 \nL 336.585491 162.031321 \nL 336.755959 158.41279 \nL 336.768471 158.482846 \nL 337.057797 156.742843 \nL 337.659909 160.711512 \nL 337.663037 160.405487 \nL 337.820994 166.052228 \nL 338.535708 172.935617 \nL 338.690537 168.362645 \nL 338.995503 170.237274 \nL 338.997067 170.114448 \nL 339.023653 168.130469 \nL 339.003322 170.114997 \nL 339.025217 168.256207 \nL 339.156587 170.139668 \nL 339.591359 172.476246 \nL 339.736804 170.978613 \nL 339.905708 172.496754 \nL 339.922911 172.317436 \nL 339.926039 171.477154 \nL 340.637626 174.657076 \nL 340.664213 174.014091 \nL 341.688585 172.89527 \nL 342.741108 177.547349 \nL 342.775514 177.264467 \nL 342.928779 177.150941 \nL 343.229053 178.287703 \nL 343.810834 176.604937 \nL 343.948459 177.062596 \nL 343.953151 177.005691 \nL 343.979738 177.632058 \nL 344.280012 179.607717 \nL 344.86492 177.895206 \nL 344.994726 176.821103 \nL 345.002546 177.107213 \nL 345.17145 178.529467 \nL 345.180834 178.305673 \nL 345.931519 175.660986 \nL 346.192694 180.211945 \nL 346.946507 183.285488 \nL 346.973094 181.694212 \nL 347.096644 184.22977 \nL 347.101336 184.12509 \nL 347.273368 184.753964 \nL 347.39379 184.597939 \nL 348.153859 190.220549 \nL 348.169498 189.344853 \nL 348.183573 189.689172 \nL 348.294612 190.521784 \nL 348.318071 190.037097 \nL 348.483847 191.012409 \nL 349.195434 192.457564 \nL 349.214201 191.603876 \nL 349.347135 194.138182 \nL 349.645845 193.073188 \nL 349.677124 194.008393 \nL 349.684943 193.86924 \n\" clip-path=\"url(#p64b63cafdb)\" style=\"fill: none; stroke: #ff7f0e; stroke-width: 1.5; stroke-linecap: square\"/>\n   </g>\n   <g id=\"patch_3\">\n    <path d=\"M 30.103125 203.04 \nL 30.103125 7.2 \n\" style=\"fill: none; stroke: #000000; stroke-width: 0.8; stroke-linejoin: miter; stroke-linecap: square\"/>\n   </g>\n   <g id=\"patch_4\">\n    <path d=\"M 364.903125 203.04 \nL 364.903125 7.2 \n\" style=\"fill: none; stroke: #000000; stroke-width: 0.8; stroke-linejoin: miter; stroke-linecap: square\"/>\n   </g>\n   <g id=\"patch_5\">\n    <path d=\"M 30.103125 203.04 \nL 364.903125 203.04 \n\" style=\"fill: none; stroke: #000000; stroke-width: 0.8; stroke-linejoin: miter; stroke-linecap: square\"/>\n   </g>\n   <g id=\"patch_6\">\n    <path d=\"M 30.103125 7.2 \nL 364.903125 7.2 \n\" style=\"fill: none; stroke: #000000; stroke-width: 0.8; stroke-linejoin: miter; stroke-linecap: square\"/>\n   </g>\n   <g id=\"legend_1\">\n    <g id=\"patch_7\">\n     <path d=\"M 37.103125 44.55625 \nL 170.507813 44.55625 \nQ 172.507813 44.55625 172.507813 42.55625 \nL 172.507813 14.2 \nQ 172.507813 12.2 170.507813 12.2 \nL 37.103125 12.2 \nQ 35.103125 12.2 35.103125 14.2 \nL 35.103125 42.55625 \nQ 35.103125 44.55625 37.103125 44.55625 \nz\n\" style=\"fill: #ffffff; opacity: 0.8; stroke: #cccccc; stroke-linejoin: miter\"/>\n    </g>\n    <g id=\"line2d_17\">\n     <path d=\"M 39.103125 20.298437 \nL 49.103125 20.298437 \nL 59.103125 20.298437 \n\" style=\"fill: none; stroke: #1f77b4; stroke-width: 1.5; stroke-linecap: square\"/>\n    </g>\n    <g id=\"text_16\">\n     <!-- Actual Returns -->\n     <g transform=\"translate(67.103125 23.798437)scale(0.1 -0.1)\">\n      <defs>\n       <path id=\"DejaVuSans-41\" d=\"M 2188 4044 \nL 1331 1722 \nL 3047 1722 \nL 2188 4044 \nz\nM 1831 4666 \nL 2547 4666 \nL 4325 0 \nL 3669 0 \nL 3244 1197 \nL 1141 1197 \nL 716 0 \nL 50 0 \nL 1831 4666 \nz\n\" transform=\"scale(0.015625)\"/>\n       <path id=\"DejaVuSans-63\" d=\"M 3122 3366 \nL 3122 2828 \nQ 2878 2963 2633 3030 \nQ 2388 3097 2138 3097 \nQ 1578 3097 1268 2742 \nQ 959 2388 959 1747 \nQ 959 1106 1268 751 \nQ 1578 397 2138 397 \nQ 2388 397 2633 464 \nQ 2878 531 3122 666 \nL 3122 134 \nQ 2881 22 2623 -34 \nQ 2366 -91 2075 -91 \nQ 1284 -91 818 406 \nQ 353 903 353 1747 \nQ 353 2603 823 3093 \nQ 1294 3584 2113 3584 \nQ 2378 3584 2631 3529 \nQ 2884 3475 3122 3366 \nz\n\" transform=\"scale(0.015625)\"/>\n       <path id=\"DejaVuSans-75\" d=\"M 544 1381 \nL 544 3500 \nL 1119 3500 \nL 1119 1403 \nQ 1119 906 1312 657 \nQ 1506 409 1894 409 \nQ 2359 409 2629 706 \nQ 2900 1003 2900 1516 \nL 2900 3500 \nL 3475 3500 \nL 3475 0 \nL 2900 0 \nL 2900 538 \nQ 2691 219 2414 64 \nQ 2138 -91 1772 -91 \nQ 1169 -91 856 284 \nQ 544 659 544 1381 \nz\nM 1991 3584 \nL 1991 3584 \nz\n\" transform=\"scale(0.015625)\"/>\n       <path id=\"DejaVuSans-6c\" d=\"M 603 4863 \nL 1178 4863 \nL 1178 0 \nL 603 0 \nL 603 4863 \nz\n\" transform=\"scale(0.015625)\"/>\n       <path id=\"DejaVuSans-20\" transform=\"scale(0.015625)\"/>\n       <path id=\"DejaVuSans-52\" d=\"M 2841 2188 \nQ 3044 2119 3236 1894 \nQ 3428 1669 3622 1275 \nL 4263 0 \nL 3584 0 \nL 2988 1197 \nQ 2756 1666 2539 1819 \nQ 2322 1972 1947 1972 \nL 1259 1972 \nL 1259 0 \nL 628 0 \nL 628 4666 \nL 2053 4666 \nQ 2853 4666 3247 4331 \nQ 3641 3997 3641 3322 \nQ 3641 2881 3436 2590 \nQ 3231 2300 2841 2188 \nz\nM 1259 4147 \nL 1259 2491 \nL 2053 2491 \nQ 2509 2491 2742 2702 \nQ 2975 2913 2975 3322 \nQ 2975 3731 2742 3939 \nQ 2509 4147 2053 4147 \nL 1259 4147 \nz\n\" transform=\"scale(0.015625)\"/>\n       <path id=\"DejaVuSans-72\" d=\"M 2631 2963 \nQ 2534 3019 2420 3045 \nQ 2306 3072 2169 3072 \nQ 1681 3072 1420 2755 \nQ 1159 2438 1159 1844 \nL 1159 0 \nL 581 0 \nL 581 3500 \nL 1159 3500 \nL 1159 2956 \nQ 1341 3275 1631 3429 \nQ 1922 3584 2338 3584 \nQ 2397 3584 2469 3576 \nQ 2541 3569 2628 3553 \nL 2631 2963 \nz\n\" transform=\"scale(0.015625)\"/>\n       <path id=\"DejaVuSans-6e\" d=\"M 3513 2113 \nL 3513 0 \nL 2938 0 \nL 2938 2094 \nQ 2938 2591 2744 2837 \nQ 2550 3084 2163 3084 \nQ 1697 3084 1428 2787 \nQ 1159 2491 1159 1978 \nL 1159 0 \nL 581 0 \nL 581 3500 \nL 1159 3500 \nL 1159 2956 \nQ 1366 3272 1645 3428 \nQ 1925 3584 2291 3584 \nQ 2894 3584 3203 3211 \nQ 3513 2838 3513 2113 \nz\n\" transform=\"scale(0.015625)\"/>\n       <path id=\"DejaVuSans-73\" d=\"M 2834 3397 \nL 2834 2853 \nQ 2591 2978 2328 3040 \nQ 2066 3103 1784 3103 \nQ 1356 3103 1142 2972 \nQ 928 2841 928 2578 \nQ 928 2378 1081 2264 \nQ 1234 2150 1697 2047 \nL 1894 2003 \nQ 2506 1872 2764 1633 \nQ 3022 1394 3022 966 \nQ 3022 478 2636 193 \nQ 2250 -91 1575 -91 \nQ 1294 -91 989 -36 \nQ 684 19 347 128 \nL 347 722 \nQ 666 556 975 473 \nQ 1284 391 1588 391 \nQ 1994 391 2212 530 \nQ 2431 669 2431 922 \nQ 2431 1156 2273 1281 \nQ 2116 1406 1581 1522 \nL 1381 1569 \nQ 847 1681 609 1914 \nQ 372 2147 372 2553 \nQ 372 3047 722 3315 \nQ 1072 3584 1716 3584 \nQ 2034 3584 2315 3537 \nQ 2597 3491 2834 3397 \nz\n\" transform=\"scale(0.015625)\"/>\n      </defs>\n      <use xlink:href=\"#DejaVuSans-41\"/>\n      <use xlink:href=\"#DejaVuSans-63\" x=\"66.658203\"/>\n      <use xlink:href=\"#DejaVuSans-74\" x=\"121.638672\"/>\n      <use xlink:href=\"#DejaVuSans-75\" x=\"160.847656\"/>\n      <use xlink:href=\"#DejaVuSans-61\" x=\"224.226562\"/>\n      <use xlink:href=\"#DejaVuSans-6c\" x=\"285.505859\"/>\n      <use xlink:href=\"#DejaVuSans-20\" x=\"313.289062\"/>\n      <use xlink:href=\"#DejaVuSans-52\" x=\"345.076172\"/>\n      <use xlink:href=\"#DejaVuSans-65\" x=\"410.058594\"/>\n      <use xlink:href=\"#DejaVuSans-74\" x=\"471.582031\"/>\n      <use xlink:href=\"#DejaVuSans-75\" x=\"510.791016\"/>\n      <use xlink:href=\"#DejaVuSans-72\" x=\"574.169922\"/>\n      <use xlink:href=\"#DejaVuSans-6e\" x=\"613.533203\"/>\n      <use xlink:href=\"#DejaVuSans-73\" x=\"676.912109\"/>\n     </g>\n    </g>\n    <g id=\"line2d_18\">\n     <path d=\"M 39.103125 34.976562 \nL 49.103125 34.976562 \nL 59.103125 34.976562 \n\" style=\"fill: none; stroke: #ff7f0e; stroke-width: 1.5; stroke-linecap: square\"/>\n    </g>\n    <g id=\"text_17\">\n     <!-- DT Strategy Returns -->\n     <g transform=\"translate(67.103125 38.476562)scale(0.1 -0.1)\">\n      <defs>\n       <path id=\"DejaVuSans-44\" d=\"M 1259 4147 \nL 1259 519 \nL 2022 519 \nQ 2988 519 3436 956 \nQ 3884 1394 3884 2338 \nQ 3884 3275 3436 3711 \nQ 2988 4147 2022 4147 \nL 1259 4147 \nz\nM 628 4666 \nL 1925 4666 \nQ 3281 4666 3915 4102 \nQ 4550 3538 4550 2338 \nQ 4550 1131 3912 565 \nQ 3275 0 1925 0 \nL 628 0 \nL 628 4666 \nz\n\" transform=\"scale(0.015625)\"/>\n       <path id=\"DejaVuSans-54\" d=\"M -19 4666 \nL 3928 4666 \nL 3928 4134 \nL 2272 4134 \nL 2272 0 \nL 1638 0 \nL 1638 4134 \nL -19 4134 \nL -19 4666 \nz\n\" transform=\"scale(0.015625)\"/>\n       <path id=\"DejaVuSans-53\" d=\"M 3425 4513 \nL 3425 3897 \nQ 3066 4069 2747 4153 \nQ 2428 4238 2131 4238 \nQ 1616 4238 1336 4038 \nQ 1056 3838 1056 3469 \nQ 1056 3159 1242 3001 \nQ 1428 2844 1947 2747 \nL 2328 2669 \nQ 3034 2534 3370 2195 \nQ 3706 1856 3706 1288 \nQ 3706 609 3251 259 \nQ 2797 -91 1919 -91 \nQ 1588 -91 1214 -16 \nQ 841 59 441 206 \nL 441 856 \nQ 825 641 1194 531 \nQ 1563 422 1919 422 \nQ 2459 422 2753 634 \nQ 3047 847 3047 1241 \nQ 3047 1584 2836 1778 \nQ 2625 1972 2144 2069 \nL 1759 2144 \nQ 1053 2284 737 2584 \nQ 422 2884 422 3419 \nQ 422 4038 858 4394 \nQ 1294 4750 2059 4750 \nQ 2388 4750 2728 4690 \nQ 3069 4631 3425 4513 \nz\n\" transform=\"scale(0.015625)\"/>\n       <path id=\"DejaVuSans-67\" d=\"M 2906 1791 \nQ 2906 2416 2648 2759 \nQ 2391 3103 1925 3103 \nQ 1463 3103 1205 2759 \nQ 947 2416 947 1791 \nQ 947 1169 1205 825 \nQ 1463 481 1925 481 \nQ 2391 481 2648 825 \nQ 2906 1169 2906 1791 \nz\nM 3481 434 \nQ 3481 -459 3084 -895 \nQ 2688 -1331 1869 -1331 \nQ 1566 -1331 1297 -1286 \nQ 1028 -1241 775 -1147 \nL 775 -588 \nQ 1028 -725 1275 -790 \nQ 1522 -856 1778 -856 \nQ 2344 -856 2625 -561 \nQ 2906 -266 2906 331 \nL 2906 616 \nQ 2728 306 2450 153 \nQ 2172 0 1784 0 \nQ 1141 0 747 490 \nQ 353 981 353 1791 \nQ 353 2603 747 3093 \nQ 1141 3584 1784 3584 \nQ 2172 3584 2450 3431 \nQ 2728 3278 2906 2969 \nL 2906 3500 \nL 3481 3500 \nL 3481 434 \nz\n\" transform=\"scale(0.015625)\"/>\n       <path id=\"DejaVuSans-79\" d=\"M 2059 -325 \nQ 1816 -950 1584 -1140 \nQ 1353 -1331 966 -1331 \nL 506 -1331 \nL 506 -850 \nL 844 -850 \nQ 1081 -850 1212 -737 \nQ 1344 -625 1503 -206 \nL 1606 56 \nL 191 3500 \nL 800 3500 \nL 1894 763 \nL 2988 3500 \nL 3597 3500 \nL 2059 -325 \nz\n\" transform=\"scale(0.015625)\"/>\n      </defs>\n      <use xlink:href=\"#DejaVuSans-44\"/>\n      <use xlink:href=\"#DejaVuSans-54\" x=\"77.001953\"/>\n      <use xlink:href=\"#DejaVuSans-20\" x=\"138.085938\"/>\n      <use xlink:href=\"#DejaVuSans-53\" x=\"169.873047\"/>\n      <use xlink:href=\"#DejaVuSans-74\" x=\"233.349609\"/>\n      <use xlink:href=\"#DejaVuSans-72\" x=\"272.558594\"/>\n      <use xlink:href=\"#DejaVuSans-61\" x=\"313.671875\"/>\n      <use xlink:href=\"#DejaVuSans-74\" x=\"374.951172\"/>\n      <use xlink:href=\"#DejaVuSans-65\" x=\"414.160156\"/>\n      <use xlink:href=\"#DejaVuSans-67\" x=\"475.683594\"/>\n      <use xlink:href=\"#DejaVuSans-79\" x=\"539.160156\"/>\n      <use xlink:href=\"#DejaVuSans-20\" x=\"598.339844\"/>\n      <use xlink:href=\"#DejaVuSans-52\" x=\"630.126953\"/>\n      <use xlink:href=\"#DejaVuSans-65\" x=\"695.109375\"/>\n      <use xlink:href=\"#DejaVuSans-74\" x=\"756.632812\"/>\n      <use xlink:href=\"#DejaVuSans-75\" x=\"795.841797\"/>\n      <use xlink:href=\"#DejaVuSans-72\" x=\"859.220703\"/>\n      <use xlink:href=\"#DejaVuSans-6e\" x=\"898.583984\"/>\n      <use xlink:href=\"#DejaVuSans-73\" x=\"961.962891\"/>\n     </g>\n    </g>\n   </g>\n  </g>\n </g>\n <defs>\n  <clipPath id=\"p64b63cafdb\">\n   <rect x=\"30.103125\" y=\"7.2\" width=\"334.8\" height=\"195.84\"/>\n  </clipPath>\n </defs>\n</svg>\n",
      "text/plain": [
       "<Figure size 432x288 with 1 Axes>"
      ]
     },
     "metadata": {
      "needs_background": "light"
     },
     "output_type": "display_data"
    }
   ],
   "source": [
    "# Plot the actual returns versus the strategy returns\n",
    "(1 + predictions_dt[['Actual Returns', 'DT Strategy Returns']]).cumprod().plot()\n"
   ]
  },
  {
   "cell_type": "markdown",
   "metadata": {},
   "source": [
    "---\n",
    "## Evaluate a New Machine Learning Classifier\n"
   ]
  },
  {
   "cell_type": "markdown",
   "metadata": {},
   "source": [
    "### Step 1:  Import a new classifier: `AdaBoost` "
   ]
  },
  {
   "cell_type": "code",
   "execution_count": 87,
   "metadata": {},
   "outputs": [],
   "source": [
    "# Import a new classifier from SKLearn\n",
    "from sklearn.ensemble import AdaBoostClassifier\n",
    "\n",
    "# Initiate the model instance\n",
    "ada_model = AdaBoostClassifier()\n"
   ]
  },
  {
   "cell_type": "markdown",
   "metadata": {},
   "source": [
    "### Step 2: Using the original training data as the baseline model, fit another model with the new classifier."
   ]
  },
  {
   "cell_type": "code",
   "execution_count": 88,
   "metadata": {},
   "outputs": [
    {
     "data": {
      "text/plain": [
       "array([ 1., -1., -1., -1., -1., -1., -1., -1., -1., -1.])"
      ]
     },
     "execution_count": 88,
     "metadata": {},
     "output_type": "execute_result"
    }
   ],
   "source": [
    "# Fit the model using the training data\n",
    "model =  ada_model.fit(X_train_scaled, y_train)\n",
    "\n",
    "# Use the testing dataset to generate the predictions for the new model\n",
    "pred =  model.predict(X_test_scaled)\n",
    "\n",
    "# Review the model's predicted values\n",
    "pred[:10]\n",
    "\n"
   ]
  },
  {
   "cell_type": "markdown",
   "metadata": {},
   "source": [
    "### Step 3: Backtest the new model to evaluate its performance. "
   ]
  },
  {
   "cell_type": "code",
   "execution_count": 89,
   "metadata": {},
   "outputs": [
    {
     "name": "stdout",
     "output_type": "stream",
     "text": [
      "              precision    recall  f1-score   support\n",
      "\n",
      "        -1.0       0.44      0.08      0.13      1804\n",
      "         1.0       0.56      0.92      0.70      2288\n",
      "\n",
      "    accuracy                           0.55      4092\n",
      "   macro avg       0.50      0.50      0.41      4092\n",
      "weighted avg       0.51      0.55      0.45      4092\n",
      "\n"
     ]
    }
   ],
   "source": [
    "# Use a classification report to evaluate the model using the predictions and testing data\n",
    "ada_training_report =  classification_report(y_test, pred)\n",
    "\n",
    "# Print the classification report\n",
    "print (ada_training_report)\n"
   ]
  },
  {
   "cell_type": "code",
   "execution_count": 90,
   "metadata": {},
   "outputs": [
    {
     "ename": "KeyError",
     "evalue": "'Predicted'",
     "output_type": "error",
     "traceback": [
      "\u001b[0;31m---------------------------------------------------------------------------\u001b[0m",
      "\u001b[0;31mKeyError\u001b[0m                                  Traceback (most recent call last)",
      "File \u001b[0;32m/opt/miniconda3/lib/python3.9/site-packages/pandas/core/indexes/base.py:3621\u001b[0m, in \u001b[0;36mIndex.get_loc\u001b[0;34m(self, key, method, tolerance)\u001b[0m\n\u001b[1;32m   3620\u001b[0m \u001b[39mtry\u001b[39;00m:\n\u001b[0;32m-> 3621\u001b[0m     \u001b[39mreturn\u001b[39;00m \u001b[39mself\u001b[39;49m\u001b[39m.\u001b[39;49m_engine\u001b[39m.\u001b[39;49mget_loc(casted_key)\n\u001b[1;32m   3622\u001b[0m \u001b[39mexcept\u001b[39;00m \u001b[39mKeyError\u001b[39;00m \u001b[39mas\u001b[39;00m err:\n",
      "File \u001b[0;32m/opt/miniconda3/lib/python3.9/site-packages/pandas/_libs/index.pyx:136\u001b[0m, in \u001b[0;36mpandas._libs.index.IndexEngine.get_loc\u001b[0;34m()\u001b[0m\n",
      "File \u001b[0;32m/opt/miniconda3/lib/python3.9/site-packages/pandas/_libs/index.pyx:163\u001b[0m, in \u001b[0;36mpandas._libs.index.IndexEngine.get_loc\u001b[0;34m()\u001b[0m\n",
      "File \u001b[0;32mpandas/_libs/hashtable_class_helper.pxi:5198\u001b[0m, in \u001b[0;36mpandas._libs.hashtable.PyObjectHashTable.get_item\u001b[0;34m()\u001b[0m\n",
      "File \u001b[0;32mpandas/_libs/hashtable_class_helper.pxi:5206\u001b[0m, in \u001b[0;36mpandas._libs.hashtable.PyObjectHashTable.get_item\u001b[0;34m()\u001b[0m\n",
      "\u001b[0;31mKeyError\u001b[0m: 'Predicted'",
      "\nThe above exception was the direct cause of the following exception:\n",
      "\u001b[0;31mKeyError\u001b[0m                                  Traceback (most recent call last)",
      "\u001b[1;32m/Users/michaeldionne/Documents/GitHub/Fintech-Workspace/Module 14/Module-14-Challenge/machine_learning_trading_bot.ipynb Cell 51\u001b[0m in \u001b[0;36m<cell line: 11>\u001b[0;34m()\u001b[0m\n\u001b[1;32m      <a href='vscode-notebook-cell:/Users/michaeldionne/Documents/GitHub/Fintech-Workspace/Module%2014/Module-14-Challenge/machine_learning_trading_bot.ipynb#Y106sZmlsZQ%3D%3D?line=7'>8</a>\u001b[0m predictions_ada[\u001b[39m'\u001b[39m\u001b[39mActual Returns\u001b[39m\u001b[39m'\u001b[39m] \u001b[39m=\u001b[39m  signals_df[\u001b[39m'\u001b[39m\u001b[39mActual Returns\u001b[39m\u001b[39m'\u001b[39m]\n\u001b[1;32m     <a href='vscode-notebook-cell:/Users/michaeldionne/Documents/GitHub/Fintech-Workspace/Module%2014/Module-14-Challenge/machine_learning_trading_bot.ipynb#Y106sZmlsZQ%3D%3D?line=9'>10</a>\u001b[0m \u001b[39m# Add the strategy returns to the DataFrame\u001b[39;00m\n\u001b[0;32m---> <a href='vscode-notebook-cell:/Users/michaeldionne/Documents/GitHub/Fintech-Workspace/Module%2014/Module-14-Challenge/machine_learning_trading_bot.ipynb#Y106sZmlsZQ%3D%3D?line=10'>11</a>\u001b[0m predictions_ada[\u001b[39m'\u001b[39m\u001b[39mDT Strategy Returns\u001b[39m\u001b[39m'\u001b[39m] \u001b[39m=\u001b[39m predictions_ada[\u001b[39m'\u001b[39m\u001b[39mActual Returns\u001b[39m\u001b[39m'\u001b[39m] \u001b[39m*\u001b[39m predictions_ada[\u001b[39m'\u001b[39;49m\u001b[39mPredicted\u001b[39;49m\u001b[39m'\u001b[39;49m]\n\u001b[1;32m     <a href='vscode-notebook-cell:/Users/michaeldionne/Documents/GitHub/Fintech-Workspace/Module%2014/Module-14-Challenge/machine_learning_trading_bot.ipynb#Y106sZmlsZQ%3D%3D?line=12'>13</a>\u001b[0m \u001b[39m# Review the DataFrame\u001b[39;00m\n\u001b[1;32m     <a href='vscode-notebook-cell:/Users/michaeldionne/Documents/GitHub/Fintech-Workspace/Module%2014/Module-14-Challenge/machine_learning_trading_bot.ipynb#Y106sZmlsZQ%3D%3D?line=13'>14</a>\u001b[0m predictions_ada\u001b[39m.\u001b[39mhead()\n",
      "File \u001b[0;32m/opt/miniconda3/lib/python3.9/site-packages/pandas/core/frame.py:3505\u001b[0m, in \u001b[0;36mDataFrame.__getitem__\u001b[0;34m(self, key)\u001b[0m\n\u001b[1;32m   3503\u001b[0m \u001b[39mif\u001b[39;00m \u001b[39mself\u001b[39m\u001b[39m.\u001b[39mcolumns\u001b[39m.\u001b[39mnlevels \u001b[39m>\u001b[39m \u001b[39m1\u001b[39m:\n\u001b[1;32m   3504\u001b[0m     \u001b[39mreturn\u001b[39;00m \u001b[39mself\u001b[39m\u001b[39m.\u001b[39m_getitem_multilevel(key)\n\u001b[0;32m-> 3505\u001b[0m indexer \u001b[39m=\u001b[39m \u001b[39mself\u001b[39;49m\u001b[39m.\u001b[39;49mcolumns\u001b[39m.\u001b[39;49mget_loc(key)\n\u001b[1;32m   3506\u001b[0m \u001b[39mif\u001b[39;00m is_integer(indexer):\n\u001b[1;32m   3507\u001b[0m     indexer \u001b[39m=\u001b[39m [indexer]\n",
      "File \u001b[0;32m/opt/miniconda3/lib/python3.9/site-packages/pandas/core/indexes/base.py:3623\u001b[0m, in \u001b[0;36mIndex.get_loc\u001b[0;34m(self, key, method, tolerance)\u001b[0m\n\u001b[1;32m   3621\u001b[0m     \u001b[39mreturn\u001b[39;00m \u001b[39mself\u001b[39m\u001b[39m.\u001b[39m_engine\u001b[39m.\u001b[39mget_loc(casted_key)\n\u001b[1;32m   3622\u001b[0m \u001b[39mexcept\u001b[39;00m \u001b[39mKeyError\u001b[39;00m \u001b[39mas\u001b[39;00m err:\n\u001b[0;32m-> 3623\u001b[0m     \u001b[39mraise\u001b[39;00m \u001b[39mKeyError\u001b[39;00m(key) \u001b[39mfrom\u001b[39;00m \u001b[39merr\u001b[39;00m\n\u001b[1;32m   3624\u001b[0m \u001b[39mexcept\u001b[39;00m \u001b[39mTypeError\u001b[39;00m:\n\u001b[1;32m   3625\u001b[0m     \u001b[39m# If we have a listlike key, _check_indexing_error will raise\u001b[39;00m\n\u001b[1;32m   3626\u001b[0m     \u001b[39m#  InvalidIndexError. Otherwise we fall through and re-raise\u001b[39;00m\n\u001b[1;32m   3627\u001b[0m     \u001b[39m#  the TypeError.\u001b[39;00m\n\u001b[1;32m   3628\u001b[0m     \u001b[39mself\u001b[39m\u001b[39m.\u001b[39m_check_indexing_error(key)\n",
      "\u001b[0;31mKeyError\u001b[0m: 'Predicted'"
     ]
    }
   ],
   "source": [
    "# Create a new empty predictions DataFrame.\n",
    "predictions_ada =  pd.DataFrame(index=X_test.index)\n",
    "\n",
    "# Create a predictions DataFrame\n",
    "predictions_ada['ADA Predicted'] = pred\n",
    "\n",
    "# Add the actual returns to the DataFrame\n",
    "predictions_ada['Actual Returns'] =  signals_df['Actual Returns']\n",
    "\n",
    "# Add the strategy returns to the DataFrame\n",
    "predictions_ada['DT Strategy Returns'] = predictions_ada['Actual Returns'] * predictions_ada['Predicted']\n",
    "\n",
    "# Review the DataFrame\n",
    "predictions_ada.head()\n",
    "\n"
   ]
  }
 ],
 "metadata": {
  "kernelspec": {
   "display_name": "Python 3.9.12 ('base')",
   "language": "python",
   "name": "python3"
  },
  "language_info": {
   "codemirror_mode": {
    "name": "ipython",
    "version": 3
   },
   "file_extension": ".py",
   "mimetype": "text/x-python",
   "name": "python",
   "nbconvert_exporter": "python",
   "pygments_lexer": "ipython3",
   "version": "3.9.12"
  },
  "vscode": {
   "interpreter": {
    "hash": "3d597f4c481aa0f25dceb95d2a0067e73c0966dcbd003d741d821a7208527ecf"
   }
  }
 },
 "nbformat": 4,
 "nbformat_minor": 4
}
